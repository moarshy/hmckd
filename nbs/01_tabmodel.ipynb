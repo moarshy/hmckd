{
 "cells": [
  {
   "cell_type": "code",
   "execution_count": null,
   "metadata": {},
   "outputs": [],
   "source": [
    "# default_exp utils_tab"
   ]
  },
  {
   "cell_type": "code",
   "execution_count": null,
   "metadata": {},
   "outputs": [
    {
     "name": "stdout",
     "output_type": "stream",
     "text": [
      "Drive already mounted at /content/drive; to attempt to forcibly remount, call drive.mount(\"/content/drive\", force_remount=True).\n"
     ]
    }
   ],
   "source": [
    "#hide\n",
    "#all_ignoretest\n",
    "from google.colab import drive\n",
    "drive.mount('/content/drive')"
   ]
  },
  {
   "cell_type": "code",
   "execution_count": null,
   "metadata": {},
   "outputs": [
    {
     "name": "stdout",
     "output_type": "stream",
     "text": [
      "Requirement already satisfied: einops in /usr/local/lib/python3.7/dist-packages (0.3.2)\n"
     ]
    }
   ],
   "source": [
    "#hide\n",
    "!pip install fastai -Uqq\n",
    "!pip install einops"
   ]
  },
  {
   "cell_type": "code",
   "execution_count": null,
   "metadata": {},
   "outputs": [
    {
     "name": "stdout",
     "output_type": "stream",
     "text": [
      "/content/drive/MyDrive/colab_notebooks/hmckd\n"
     ]
    }
   ],
   "source": [
    "#hide\n",
    "%cd '/content/drive/MyDrive/colab_notebooks/hmckd'\n",
    "!pip3 install -e . -q"
   ]
  },
  {
   "cell_type": "markdown",
   "metadata": {},
   "source": [
    "# Building Simple TabularModel\n",
    "> In this notebook, we will build different TabularModels to tackle the task"
   ]
  },
  {
   "cell_type": "code",
   "execution_count": null,
   "metadata": {},
   "outputs": [],
   "source": [
    "#hide\n",
    "from nbdev import * \n",
    "import seaborn as sns\n",
    "from hmckd.utils import get_features, baseline_df, get_tabpandas_dls, med2como\n",
    "from fastai.tabular.all import *\n",
    "from sklearn.metrics import accuracy_score, confusion_matrix"
   ]
  },
  {
   "cell_type": "code",
   "execution_count": null,
   "metadata": {},
   "outputs": [],
   "source": [
    "#exporti\n",
    "from fastai.tabular.all import *\n",
    "from hmckd.utils import get_features, baseline_df, get_tabpandas_dls, med2como\n",
    "\n",
    "def timept_df(features:dict, timept=200, maxtimept=650):\n",
    "\n",
    "    'prepares datapoints for a given timepoint'\n",
    "  \n",
    "    d = None\n",
    "    for k,v in features.items():\n",
    "        df = v[(v['time']!=0)]\n",
    "        df = v[(v['time']<maxtimept)]\n",
    "        allpat = list(v.id.unique())\n",
    "        \n",
    "        pair = []\n",
    "        for pat in allpat:\n",
    "            pattime = df[df['id']==pat]['time'].values\n",
    "            pair.append((pat, min(pattime, key=lambda x:abs(x-timept))))\n",
    "\n",
    "        value = []\n",
    "        for pat, time in pair:\n",
    "            value.append((pat, df[(df['id']==pat)&(df['time']==time)]['value'].values[0]))\n",
    "\n",
    "        if d is None:\n",
    "          d = pd.DataFrame(value).rename(columns={0:'id', 1:f\"{k}_{timept}\"})\n",
    "        else:\n",
    "          d = d.merge(pd.DataFrame(value).rename(columns={0:'id', 1:f\"{k}_{timept}\"}), on='id')\n",
    "\n",
    "    return d\n",
    "\n",
    "\n",
    "def prepare_df_nsetpoints(features, train_df, maxtimept, timepoints:list):\n",
    "    \n",
    "    \"prepares a single dataframe for ntimepoint model based on given time points\"\n",
    "\n",
    "    bdf = baseline_df(features, train_df)\n",
    "    \n",
    "    for pt in timepoints: \n",
    "        bdf = bdf.merge(timept_df(features, pt), on='id')\n",
    "\n",
    "    cont_col = ['ldl', 'creatinine', 'glucose', 'sbp', 'dbp', 'hgb']\n",
    "    cont_cols = []\n",
    "    for pt in timepoints:\n",
    "        for col in cont_col:\n",
    "            cont_cols.append(f\"{col}_{pt}\")\n",
    "    for col in cont_col: cont_cols.append(col)\n",
    "    cont_cols.append('age')\n",
    "    return bdf, cont_cols\n",
    "\n",
    "\n",
    "def prepare_df_firstnpoints(features, train_df, n_points=6, maxtimept=650):\n",
    "    'prepares dataframe for first n-points model'\n",
    "    tups = []\n",
    "    feats = ['hgb', 'ldl', 'glucose', 'creatinine', 'sbp', 'dbp']\n",
    "    for i in range(300):\n",
    "        pts = [i]\n",
    "        for k in feats:\n",
    "            pat = features[k][features[k]['id'] == i]\n",
    "            pat = pat[pat['time'] <maxtimept]\n",
    "            pat = list(pat['value'].values)\n",
    "\n",
    "            for j in range(n_points):\n",
    "                if j < len(pat): pts.append(pat[j])\n",
    "                else: pts.append(np.NaN)\n",
    "\n",
    "        tups.append(pts)\n",
    "\n",
    "    cols = ['id']\n",
    "    for feat in feats:\n",
    "        for i in range(n_points):\n",
    "            cols.append(f\"{feat}_{i}\")\n",
    "\n",
    "    df = pd.DataFrame(tups, columns=cols)\n",
    "    df = train_df[['id', 'race', 'gender', 'age', 'fold', 'Stage_Progress']].merge(df, on='id')\n",
    "    \n",
    "    cont_cols = cols[1:]\n",
    "    cont_cols.append('age')\n",
    "\n",
    "    return df, cont_cols"
   ]
  },
  {
   "cell_type": "markdown",
   "metadata": {},
   "source": [
    "## n_setpoints TabularModel "
   ]
  },
  {
   "cell_type": "markdown",
   "metadata": {},
   "source": [
    "### 2_setpoints TabularModel"
   ]
  },
  {
   "cell_type": "code",
   "execution_count": null,
   "metadata": {},
   "outputs": [
    {
     "data": {
      "text/plain": [
       "(-10.0, 750.0)"
      ]
     },
     "execution_count": null,
     "metadata": {},
     "output_type": "execute_result"
    },
    {
     "data": {
      "image/png": "[encoded data removed]",
      "text/plain": [
       "<Figure size 720x720 with 1 Axes>"
      ]
     },
     "metadata": {
      "needs_background": "light"
     },
     "output_type": "display_data"
    }
   ],
   "source": [
    "#hide_input\n",
    "plt.figure(figsize=(10,10))\n",
    "plt.scatter(range(1,10), [0 for e in range(1, 10)], marker='*', linewidths=3)\n",
    "plt.scatter(range(1,10), [200+random.randint(-50, 50) for e in range(1, 10)], marker='*', linewidths=3)\n",
    "plt.scatter(range(1,10), [400+random.randint(-50, 50) for e in range(1, 10)], marker='*', linewidths=3)\n",
    "\n",
    "plt.hlines(200, 0, 10)\n",
    "plt.hlines(400, 0, 10)\n",
    "plt.xlim(1,10)\n",
    "plt.ylim(-10,750)"
   ]
  },
  {
   "cell_type": "markdown",
   "metadata": {},
   "source": [
    "For our n_setpoints TabularModel, we will take data points from lab meaurements at baseline and `n` other given time points. Example a 2_setpoints model would consist of \n",
    "\n",
    "1. Baseline lab measurements\n",
    "2. lab measurement that is closes to 200 days from baseline \n",
    "3. lab measurement that is closes to 400 days from baseline\n",
    "4. also demographic features\n",
    "\n",
    "The second and third setpoint can be a hyperparameter.\n",
    "\n",
    "In setting up our problem as above, one of the potential issue we would face is that the same measurement could be used for both setpoint1 and setpoint2."
   ]
  },
  {
   "cell_type": "code",
   "execution_count": null,
   "metadata": {},
   "outputs": [
    {
     "data": {
      "text/plain": [
       "TabularModel(\n",
       "  (embeds): ModuleList(\n",
       "    (0): Embedding(6, 4)\n",
       "    (1): Embedding(3, 3)\n",
       "  )\n",
       "  (emb_drop): Dropout(p=0.0, inplace=False)\n",
       "  (bn_cont): BatchNorm1d(19, eps=1e-05, momentum=0.1, affine=True, track_running_stats=True)\n",
       "  (layers): Sequential(\n",
       "    (0): LinBnDrop(\n",
       "      (0): Linear(in_features=26, out_features=100, bias=False)\n",
       "      (1): ReLU(inplace=True)\n",
       "      (2): BatchNorm1d(100, eps=1e-05, momentum=0.1, affine=True, track_running_stats=True)\n",
       "    )\n",
       "    (1): LinBnDrop(\n",
       "      (0): Linear(in_features=100, out_features=50, bias=False)\n",
       "      (1): ReLU(inplace=True)\n",
       "      (2): BatchNorm1d(50, eps=1e-05, momentum=0.1, affine=True, track_running_stats=True)\n",
       "    )\n",
       "    (2): LinBnDrop(\n",
       "      (0): Linear(in_features=50, out_features=2, bias=True)\n",
       "    )\n",
       "  )\n",
       ")"
      ]
     },
     "execution_count": null,
     "metadata": {},
     "output_type": "execute_result"
    }
   ],
   "source": [
    "#hide_input\n",
    "df = pd.read_csv('data/train_df_5f.csv')\n",
    "features = get_features(\"data/dataScienceTask/\")\n",
    "tp1 = 200\n",
    "tp2 = 400\n",
    "df, cont_names = prepare_df_nsetpoints(features, df, 650, [tp1, tp2])\n",
    "procs = [Categorify, FillMissing, Normalize]\n",
    "cat_names = ['race', 'gender']\n",
    "y_names = 'Stage_Progress'\n",
    "dls, tabdf = get_tabpandas_dls(0, df, procs, cat_names, cont_names, y_names, 32)\n",
    "emb_szs = get_emb_sz(tabdf)\n",
    "cont_len = len(tabdf.cont_names)\n",
    "learn = tabular_learner(dls, [100,50])\n",
    "learn.model"
   ]
  },
  {
   "cell_type": "markdown",
   "metadata": {},
   "source": [
    "The above `TabularModel` is what we will use. \n",
    "\n",
    "> - The categorical features are put through an embedding layer (EL). \n",
    "> - The outputs from EL are but through  a dropout layer and a batchnorm layer before concatenating them with the continuous features\n",
    "> - The concatenated outputs are then put through two linear layers of size 100 and 50 respectively. The linear layers are followed by a non-linear layer and a batchnorm layer. \n",
    "> - The outputs are then put through a final linear layer with 2 outputs.\n",
    "> - Loss function of Choice : CrossEntropy"
   ]
  },
  {
   "cell_type": "code",
   "execution_count": null,
   "metadata": {},
   "outputs": [
    {
     "name": "stdout",
     "output_type": "stream",
     "text": [
      "Our continuous columns are\n",
      "['ldl_200', 'creatinine_200', 'glucose_200', 'sbp_200', 'dbp_200', 'hgb_200', 'ldl_400', 'creatinine_400', 'glucose_400', 'sbp_400', 'dbp_400', 'hgb_400', 'ldl', 'creatinine', 'glucose', 'sbp', 'dbp', 'hgb', 'age']\n"
     ]
    }
   ],
   "source": [
    "#hide_input\n",
    "print('Our continuous columns are')\n",
    "print(dls.cont_names)"
   ]
  },
  {
   "cell_type": "code",
   "execution_count": null,
   "metadata": {},
   "outputs": [
    {
     "name": "stdout",
     "output_type": "stream",
     "text": [
      "Our categorical columns are\n",
      "['race', 'gender']\n"
     ]
    }
   ],
   "source": [
    "#hide_input\n",
    "print('Our categorical columns are')\n",
    "print(dls.cat_names)"
   ]
  },
  {
   "cell_type": "code",
   "execution_count": null,
   "metadata": {},
   "outputs": [
    {
     "data": {
      "text/html": [
       "<table border=\"1\" class=\"dataframe\">\n",
       "  <thead>\n",
       "    <tr style=\"text-align: left;\">\n",
       "      <th>epoch</th>\n",
       "      <th>train_loss</th>\n",
       "      <th>valid_loss</th>\n",
       "      <th>accuracy</th>\n",
       "      <th>time</th>\n",
       "    </tr>\n",
       "  </thead>\n",
       "  <tbody>\n",
       "    <tr>\n",
       "      <td>0</td>\n",
       "      <td>0.848630</td>\n",
       "      <td>0.695082</td>\n",
       "      <td>0.450000</td>\n",
       "      <td>00:00</td>\n",
       "    </tr>\n",
       "    <tr>\n",
       "      <td>1</td>\n",
       "      <td>0.796306</td>\n",
       "      <td>0.695542</td>\n",
       "      <td>0.483333</td>\n",
       "      <td>00:00</td>\n",
       "    </tr>\n",
       "    <tr>\n",
       "      <td>2</td>\n",
       "      <td>0.731381</td>\n",
       "      <td>0.702863</td>\n",
       "      <td>0.566667</td>\n",
       "      <td>00:00</td>\n",
       "    </tr>\n",
       "    <tr>\n",
       "      <td>3</td>\n",
       "      <td>0.673676</td>\n",
       "      <td>0.721346</td>\n",
       "      <td>0.583333</td>\n",
       "      <td>00:00</td>\n",
       "    </tr>\n",
       "    <tr>\n",
       "      <td>4</td>\n",
       "      <td>0.626684</td>\n",
       "      <td>0.732684</td>\n",
       "      <td>0.533333</td>\n",
       "      <td>00:00</td>\n",
       "    </tr>\n",
       "    <tr>\n",
       "      <td>5</td>\n",
       "      <td>0.582758</td>\n",
       "      <td>0.746799</td>\n",
       "      <td>0.550000</td>\n",
       "      <td>00:00</td>\n",
       "    </tr>\n",
       "    <tr>\n",
       "      <td>6</td>\n",
       "      <td>0.547800</td>\n",
       "      <td>0.757333</td>\n",
       "      <td>0.550000</td>\n",
       "      <td>00:00</td>\n",
       "    </tr>\n",
       "    <tr>\n",
       "      <td>7</td>\n",
       "      <td>0.518444</td>\n",
       "      <td>0.777254</td>\n",
       "      <td>0.566667</td>\n",
       "      <td>00:00</td>\n",
       "    </tr>\n",
       "    <tr>\n",
       "      <td>8</td>\n",
       "      <td>0.489694</td>\n",
       "      <td>0.789100</td>\n",
       "      <td>0.566667</td>\n",
       "      <td>00:00</td>\n",
       "    </tr>\n",
       "    <tr>\n",
       "      <td>9</td>\n",
       "      <td>0.468017</td>\n",
       "      <td>0.800497</td>\n",
       "      <td>0.566667</td>\n",
       "      <td>00:00</td>\n",
       "    </tr>\n",
       "  </tbody>\n",
       "</table>"
      ],
      "text/plain": [
       "<IPython.core.display.HTML object>"
      ]
     },
     "metadata": {},
     "output_type": "display_data"
    },
    {
     "name": "stdout",
     "output_type": "stream",
     "text": [
      "Better model found at epoch 0 with accuracy value: 0.44999998807907104.\n",
      "Better model found at epoch 1 with accuracy value: 0.4833333194255829.\n",
      "Better model found at epoch 2 with accuracy value: 0.5666666626930237.\n",
      "Better model found at epoch 3 with accuracy value: 0.5833333134651184.\n"
     ]
    },
    {
     "data": {
      "text/html": [
       "<table border=\"1\" class=\"dataframe\">\n",
       "  <thead>\n",
       "    <tr style=\"text-align: left;\">\n",
       "      <th>epoch</th>\n",
       "      <th>train_loss</th>\n",
       "      <th>valid_loss</th>\n",
       "      <th>accuracy</th>\n",
       "      <th>time</th>\n",
       "    </tr>\n",
       "  </thead>\n",
       "  <tbody>\n",
       "    <tr>\n",
       "      <td>0</td>\n",
       "      <td>0.772686</td>\n",
       "      <td>0.713322</td>\n",
       "      <td>0.416667</td>\n",
       "      <td>00:00</td>\n",
       "    </tr>\n",
       "    <tr>\n",
       "      <td>1</td>\n",
       "      <td>0.746465</td>\n",
       "      <td>0.692439</td>\n",
       "      <td>0.483333</td>\n",
       "      <td>00:00</td>\n",
       "    </tr>\n",
       "    <tr>\n",
       "      <td>2</td>\n",
       "      <td>0.692738</td>\n",
       "      <td>0.660222</td>\n",
       "      <td>0.633333</td>\n",
       "      <td>00:00</td>\n",
       "    </tr>\n",
       "    <tr>\n",
       "      <td>3</td>\n",
       "      <td>0.645060</td>\n",
       "      <td>0.631006</td>\n",
       "      <td>0.650000</td>\n",
       "      <td>00:00</td>\n",
       "    </tr>\n",
       "    <tr>\n",
       "      <td>4</td>\n",
       "      <td>0.600507</td>\n",
       "      <td>0.608429</td>\n",
       "      <td>0.700000</td>\n",
       "      <td>00:00</td>\n",
       "    </tr>\n",
       "    <tr>\n",
       "      <td>5</td>\n",
       "      <td>0.561336</td>\n",
       "      <td>0.595536</td>\n",
       "      <td>0.716667</td>\n",
       "      <td>00:00</td>\n",
       "    </tr>\n",
       "    <tr>\n",
       "      <td>6</td>\n",
       "      <td>0.529714</td>\n",
       "      <td>0.597725</td>\n",
       "      <td>0.700000</td>\n",
       "      <td>00:00</td>\n",
       "    </tr>\n",
       "    <tr>\n",
       "      <td>7</td>\n",
       "      <td>0.501743</td>\n",
       "      <td>0.607610</td>\n",
       "      <td>0.683333</td>\n",
       "      <td>00:00</td>\n",
       "    </tr>\n",
       "    <tr>\n",
       "      <td>8</td>\n",
       "      <td>0.478078</td>\n",
       "      <td>0.609018</td>\n",
       "      <td>0.683333</td>\n",
       "      <td>00:00</td>\n",
       "    </tr>\n",
       "    <tr>\n",
       "      <td>9</td>\n",
       "      <td>0.457244</td>\n",
       "      <td>0.615238</td>\n",
       "      <td>0.683333</td>\n",
       "      <td>00:00</td>\n",
       "    </tr>\n",
       "  </tbody>\n",
       "</table>"
      ],
      "text/plain": [
       "<IPython.core.display.HTML object>"
      ]
     },
     "metadata": {},
     "output_type": "display_data"
    },
    {
     "name": "stdout",
     "output_type": "stream",
     "text": [
      "Better model found at epoch 0 with accuracy value: 0.4166666567325592.\n",
      "Better model found at epoch 1 with accuracy value: 0.4833333194255829.\n",
      "Better model found at epoch 2 with accuracy value: 0.6333333253860474.\n",
      "Better model found at epoch 3 with accuracy value: 0.6499999761581421.\n",
      "Better model found at epoch 4 with accuracy value: 0.699999988079071.\n",
      "Better model found at epoch 5 with accuracy value: 0.7166666388511658.\n"
     ]
    },
    {
     "data": {
      "text/html": [
       "<table border=\"1\" class=\"dataframe\">\n",
       "  <thead>\n",
       "    <tr style=\"text-align: left;\">\n",
       "      <th>epoch</th>\n",
       "      <th>train_loss</th>\n",
       "      <th>valid_loss</th>\n",
       "      <th>accuracy</th>\n",
       "      <th>time</th>\n",
       "    </tr>\n",
       "  </thead>\n",
       "  <tbody>\n",
       "    <tr>\n",
       "      <td>0</td>\n",
       "      <td>0.843739</td>\n",
       "      <td>0.689632</td>\n",
       "      <td>0.450000</td>\n",
       "      <td>00:00</td>\n",
       "    </tr>\n",
       "    <tr>\n",
       "      <td>1</td>\n",
       "      <td>0.789989</td>\n",
       "      <td>0.672301</td>\n",
       "      <td>0.600000</td>\n",
       "      <td>00:00</td>\n",
       "    </tr>\n",
       "    <tr>\n",
       "      <td>2</td>\n",
       "      <td>0.719832</td>\n",
       "      <td>0.646446</td>\n",
       "      <td>0.666667</td>\n",
       "      <td>00:00</td>\n",
       "    </tr>\n",
       "    <tr>\n",
       "      <td>3</td>\n",
       "      <td>0.665611</td>\n",
       "      <td>0.617601</td>\n",
       "      <td>0.733333</td>\n",
       "      <td>00:00</td>\n",
       "    </tr>\n",
       "    <tr>\n",
       "      <td>4</td>\n",
       "      <td>0.618701</td>\n",
       "      <td>0.597012</td>\n",
       "      <td>0.750000</td>\n",
       "      <td>00:00</td>\n",
       "    </tr>\n",
       "    <tr>\n",
       "      <td>5</td>\n",
       "      <td>0.580264</td>\n",
       "      <td>0.588511</td>\n",
       "      <td>0.733333</td>\n",
       "      <td>00:00</td>\n",
       "    </tr>\n",
       "    <tr>\n",
       "      <td>6</td>\n",
       "      <td>0.548592</td>\n",
       "      <td>0.580789</td>\n",
       "      <td>0.750000</td>\n",
       "      <td>00:00</td>\n",
       "    </tr>\n",
       "    <tr>\n",
       "      <td>7</td>\n",
       "      <td>0.526793</td>\n",
       "      <td>0.574359</td>\n",
       "      <td>0.750000</td>\n",
       "      <td>00:00</td>\n",
       "    </tr>\n",
       "    <tr>\n",
       "      <td>8</td>\n",
       "      <td>0.503210</td>\n",
       "      <td>0.572458</td>\n",
       "      <td>0.750000</td>\n",
       "      <td>00:00</td>\n",
       "    </tr>\n",
       "    <tr>\n",
       "      <td>9</td>\n",
       "      <td>0.480350</td>\n",
       "      <td>0.573292</td>\n",
       "      <td>0.750000</td>\n",
       "      <td>00:00</td>\n",
       "    </tr>\n",
       "  </tbody>\n",
       "</table>"
      ],
      "text/plain": [
       "<IPython.core.display.HTML object>"
      ]
     },
     "metadata": {},
     "output_type": "display_data"
    },
    {
     "name": "stdout",
     "output_type": "stream",
     "text": [
      "Better model found at epoch 0 with accuracy value: 0.44999998807907104.\n",
      "Better model found at epoch 1 with accuracy value: 0.6000000238418579.\n",
      "Better model found at epoch 2 with accuracy value: 0.6666666865348816.\n",
      "Better model found at epoch 3 with accuracy value: 0.7333333492279053.\n",
      "Better model found at epoch 4 with accuracy value: 0.75.\n"
     ]
    },
    {
     "data": {
      "text/html": [
       "<table border=\"1\" class=\"dataframe\">\n",
       "  <thead>\n",
       "    <tr style=\"text-align: left;\">\n",
       "      <th>epoch</th>\n",
       "      <th>train_loss</th>\n",
       "      <th>valid_loss</th>\n",
       "      <th>accuracy</th>\n",
       "      <th>time</th>\n",
       "    </tr>\n",
       "  </thead>\n",
       "  <tbody>\n",
       "    <tr>\n",
       "      <td>0</td>\n",
       "      <td>0.802771</td>\n",
       "      <td>0.674621</td>\n",
       "      <td>0.683333</td>\n",
       "      <td>00:00</td>\n",
       "    </tr>\n",
       "    <tr>\n",
       "      <td>1</td>\n",
       "      <td>0.765556</td>\n",
       "      <td>0.650463</td>\n",
       "      <td>0.700000</td>\n",
       "      <td>00:00</td>\n",
       "    </tr>\n",
       "    <tr>\n",
       "      <td>2</td>\n",
       "      <td>0.719222</td>\n",
       "      <td>0.616026</td>\n",
       "      <td>0.816667</td>\n",
       "      <td>00:00</td>\n",
       "    </tr>\n",
       "    <tr>\n",
       "      <td>3</td>\n",
       "      <td>0.667411</td>\n",
       "      <td>0.577607</td>\n",
       "      <td>0.816667</td>\n",
       "      <td>00:00</td>\n",
       "    </tr>\n",
       "    <tr>\n",
       "      <td>4</td>\n",
       "      <td>0.627100</td>\n",
       "      <td>0.543146</td>\n",
       "      <td>0.800000</td>\n",
       "      <td>00:00</td>\n",
       "    </tr>\n",
       "    <tr>\n",
       "      <td>5</td>\n",
       "      <td>0.591630</td>\n",
       "      <td>0.522729</td>\n",
       "      <td>0.800000</td>\n",
       "      <td>00:00</td>\n",
       "    </tr>\n",
       "    <tr>\n",
       "      <td>6</td>\n",
       "      <td>0.560290</td>\n",
       "      <td>0.520871</td>\n",
       "      <td>0.766667</td>\n",
       "      <td>00:00</td>\n",
       "    </tr>\n",
       "    <tr>\n",
       "      <td>7</td>\n",
       "      <td>0.535792</td>\n",
       "      <td>0.521166</td>\n",
       "      <td>0.750000</td>\n",
       "      <td>00:00</td>\n",
       "    </tr>\n",
       "    <tr>\n",
       "      <td>8</td>\n",
       "      <td>0.517434</td>\n",
       "      <td>0.519738</td>\n",
       "      <td>0.733333</td>\n",
       "      <td>00:00</td>\n",
       "    </tr>\n",
       "    <tr>\n",
       "      <td>9</td>\n",
       "      <td>0.498846</td>\n",
       "      <td>0.519288</td>\n",
       "      <td>0.750000</td>\n",
       "      <td>00:00</td>\n",
       "    </tr>\n",
       "  </tbody>\n",
       "</table>"
      ],
      "text/plain": [
       "<IPython.core.display.HTML object>"
      ]
     },
     "metadata": {},
     "output_type": "display_data"
    },
    {
     "name": "stdout",
     "output_type": "stream",
     "text": [
      "Better model found at epoch 0 with accuracy value: 0.6833333373069763.\n",
      "Better model found at epoch 1 with accuracy value: 0.699999988079071.\n",
      "Better model found at epoch 2 with accuracy value: 0.8166666626930237.\n"
     ]
    }
   ],
   "source": [
    "#hide_output\n",
    "train_df = df[df['fold']!= 4].reset_index(drop=True)\n",
    "test_df = df[df['fold']== 4].reset_index(drop=True)\n",
    "for i in range(4):\n",
    "    dls, tabdf = get_tabpandas_dls(i, train_df, procs, cat_names, cont_names, y_names, 32)\n",
    "    emb_szs = get_emb_sz(tabdf)\n",
    "    learn = tabular_learner(dls, [100,50], \n",
    "                            metrics=accuracy, \n",
    "                            cbs=[SaveModelCallback(monitor='accuracy', \n",
    "                                                   fname=f'tab_3pt_{i}')])\n",
    "    \n",
    "    learn.fit_one_cycle(10, 0.002)"
   ]
  },
  {
   "cell_type": "code",
   "execution_count": null,
   "metadata": {},
   "outputs": [
    {
     "name": "stderr",
     "output_type": "stream",
     "text": [
      "/usr/local/lib/python3.7/dist-packages/fastai/learner.py:56: UserWarning: Saved filed doesn't contain an optimizer state.\n",
      "  elif with_opt: warn(\"Saved filed doesn't contain an optimizer state.\")\n"
     ]
    },
    {
     "data": {
      "text/html": [
       ""
      ],
      "text/plain": [
       "<IPython.core.display.HTML object>"
      ]
     },
     "metadata": {},
     "output_type": "display_data"
    },
    {
     "name": "stderr",
     "output_type": "stream",
     "text": [
      "/usr/local/lib/python3.7/dist-packages/fastai/learner.py:56: UserWarning: Saved filed doesn't contain an optimizer state.\n",
      "  elif with_opt: warn(\"Saved filed doesn't contain an optimizer state.\")\n"
     ]
    },
    {
     "data": {
      "text/html": [
       ""
      ],
      "text/plain": [
       "<IPython.core.display.HTML object>"
      ]
     },
     "metadata": {},
     "output_type": "display_data"
    },
    {
     "name": "stderr",
     "output_type": "stream",
     "text": [
      "/usr/local/lib/python3.7/dist-packages/fastai/learner.py:56: UserWarning: Saved filed doesn't contain an optimizer state.\n",
      "  elif with_opt: warn(\"Saved filed doesn't contain an optimizer state.\")\n"
     ]
    },
    {
     "data": {
      "text/html": [
       ""
      ],
      "text/plain": [
       "<IPython.core.display.HTML object>"
      ]
     },
     "metadata": {},
     "output_type": "display_data"
    },
    {
     "name": "stderr",
     "output_type": "stream",
     "text": [
      "/usr/local/lib/python3.7/dist-packages/fastai/learner.py:56: UserWarning: Saved filed doesn't contain an optimizer state.\n",
      "  elif with_opt: warn(\"Saved filed doesn't contain an optimizer state.\")\n"
     ]
    },
    {
     "data": {
      "text/html": [
       ""
      ],
      "text/plain": [
       "<IPython.core.display.HTML object>"
      ]
     },
     "metadata": {},
     "output_type": "display_data"
    }
   ],
   "source": [
    "#hide_output\n",
    "test_dl = dls.test_dl(test_df)\n",
    "preds = []\n",
    "for i in range(4):\n",
    "    dls, tabdf = get_tabpandas_dls(i, train_df, procs, cat_names, cont_names, y_names, 32)\n",
    "    emb_szs = get_emb_sz(tabdf)\n",
    "    learn = tabular_learner(dls, [100,50], \n",
    "                        metrics=accuracy, \n",
    "                        cbs=[SaveModelCallback(monitor='accuracy')])\n",
    "    \n",
    "    learn.load(f'tab_3pt_{i}')\n",
    "    pred, y_pred, y_true = learn.get_preds(dl=test_dl, with_decoded=True)\n",
    "    preds.append(pred)\n",
    "  \n",
    "y_true = test_dl.y.values\n",
    "y_pred = np.array(torch.argmax(torch.stack(preds).mean(0),1))"
   ]
  },
  {
   "cell_type": "code",
   "execution_count": null,
   "metadata": {},
   "outputs": [
    {
     "name": "stdout",
     "output_type": "stream",
     "text": [
      "5-fold accuracy score: 0.68\n"
     ]
    }
   ],
   "source": [
    "#hide_input\n",
    "print(f'5-fold accuracy score: {accuracy_score(y_true, y_pred):.2f}')"
   ]
  },
  {
   "cell_type": "code",
   "execution_count": null,
   "metadata": {},
   "outputs": [
    {
     "data": {
      "text/plain": [
       "<matplotlib.axes._subplots.AxesSubplot at 0x7f4885319c90>"
      ]
     },
     "execution_count": null,
     "metadata": {},
     "output_type": "execute_result"
    },
    {
     "data": {
      "image/png": "[encoded data removed]",
      "text/plain": [
       "<Figure size 432x288 with 2 Axes>"
      ]
     },
     "metadata": {
      "needs_background": "light"
     },
     "output_type": "display_data"
    }
   ],
   "source": [
    "#hide_input\n",
    "sns.heatmap(confusion_matrix(y_true, y_pred), annot=True, cmap='Blues')"
   ]
  },
  {
   "cell_type": "markdown",
   "metadata": {},
   "source": [
    "Next, we will use weighted loss to account for class imbalance"
   ]
  },
  {
   "cell_type": "code",
   "execution_count": null,
   "metadata": {},
   "outputs": [
    {
     "data": {
      "text/html": [
       "<table border=\"1\" class=\"dataframe\">\n",
       "  <thead>\n",
       "    <tr style=\"text-align: left;\">\n",
       "      <th>epoch</th>\n",
       "      <th>train_loss</th>\n",
       "      <th>valid_loss</th>\n",
       "      <th>accuracy</th>\n",
       "      <th>time</th>\n",
       "    </tr>\n",
       "  </thead>\n",
       "  <tbody>\n",
       "    <tr>\n",
       "      <td>0</td>\n",
       "      <td>0.701219</td>\n",
       "      <td>0.679191</td>\n",
       "      <td>0.583333</td>\n",
       "      <td>00:00</td>\n",
       "    </tr>\n",
       "    <tr>\n",
       "      <td>1</td>\n",
       "      <td>0.671742</td>\n",
       "      <td>0.670855</td>\n",
       "      <td>0.566667</td>\n",
       "      <td>00:00</td>\n",
       "    </tr>\n",
       "    <tr>\n",
       "      <td>2</td>\n",
       "      <td>0.629049</td>\n",
       "      <td>0.668468</td>\n",
       "      <td>0.600000</td>\n",
       "      <td>00:00</td>\n",
       "    </tr>\n",
       "    <tr>\n",
       "      <td>3</td>\n",
       "      <td>0.591758</td>\n",
       "      <td>0.672649</td>\n",
       "      <td>0.600000</td>\n",
       "      <td>00:00</td>\n",
       "    </tr>\n",
       "    <tr>\n",
       "      <td>4</td>\n",
       "      <td>0.555224</td>\n",
       "      <td>0.675184</td>\n",
       "      <td>0.650000</td>\n",
       "      <td>00:00</td>\n",
       "    </tr>\n",
       "    <tr>\n",
       "      <td>5</td>\n",
       "      <td>0.524813</td>\n",
       "      <td>0.671959</td>\n",
       "      <td>0.616667</td>\n",
       "      <td>00:00</td>\n",
       "    </tr>\n",
       "    <tr>\n",
       "      <td>6</td>\n",
       "      <td>0.496456</td>\n",
       "      <td>0.686371</td>\n",
       "      <td>0.616667</td>\n",
       "      <td>00:00</td>\n",
       "    </tr>\n",
       "    <tr>\n",
       "      <td>7</td>\n",
       "      <td>0.469527</td>\n",
       "      <td>0.704988</td>\n",
       "      <td>0.616667</td>\n",
       "      <td>00:00</td>\n",
       "    </tr>\n",
       "    <tr>\n",
       "      <td>8</td>\n",
       "      <td>0.447863</td>\n",
       "      <td>0.722853</td>\n",
       "      <td>0.600000</td>\n",
       "      <td>00:00</td>\n",
       "    </tr>\n",
       "    <tr>\n",
       "      <td>9</td>\n",
       "      <td>0.428814</td>\n",
       "      <td>0.727894</td>\n",
       "      <td>0.600000</td>\n",
       "      <td>00:00</td>\n",
       "    </tr>\n",
       "  </tbody>\n",
       "</table>"
      ],
      "text/plain": [
       "<IPython.core.display.HTML object>"
      ]
     },
     "metadata": {},
     "output_type": "display_data"
    },
    {
     "name": "stdout",
     "output_type": "stream",
     "text": [
      "Better model found at epoch 0 with accuracy value: 0.5833333134651184.\n",
      "Better model found at epoch 2 with accuracy value: 0.6000000238418579.\n",
      "Better model found at epoch 4 with accuracy value: 0.6499999761581421.\n"
     ]
    },
    {
     "data": {
      "text/html": [
       "<table border=\"1\" class=\"dataframe\">\n",
       "  <thead>\n",
       "    <tr style=\"text-align: left;\">\n",
       "      <th>epoch</th>\n",
       "      <th>train_loss</th>\n",
       "      <th>valid_loss</th>\n",
       "      <th>accuracy</th>\n",
       "      <th>time</th>\n",
       "    </tr>\n",
       "  </thead>\n",
       "  <tbody>\n",
       "    <tr>\n",
       "      <td>0</td>\n",
       "      <td>0.806629</td>\n",
       "      <td>0.709167</td>\n",
       "      <td>0.316667</td>\n",
       "      <td>00:00</td>\n",
       "    </tr>\n",
       "    <tr>\n",
       "      <td>1</td>\n",
       "      <td>0.748526</td>\n",
       "      <td>0.691933</td>\n",
       "      <td>0.400000</td>\n",
       "      <td>00:00</td>\n",
       "    </tr>\n",
       "    <tr>\n",
       "      <td>2</td>\n",
       "      <td>0.686122</td>\n",
       "      <td>0.655657</td>\n",
       "      <td>0.483333</td>\n",
       "      <td>00:00</td>\n",
       "    </tr>\n",
       "    <tr>\n",
       "      <td>3</td>\n",
       "      <td>0.633804</td>\n",
       "      <td>0.632912</td>\n",
       "      <td>0.600000</td>\n",
       "      <td>00:00</td>\n",
       "    </tr>\n",
       "    <tr>\n",
       "      <td>4</td>\n",
       "      <td>0.593563</td>\n",
       "      <td>0.633651</td>\n",
       "      <td>0.533333</td>\n",
       "      <td>00:00</td>\n",
       "    </tr>\n",
       "    <tr>\n",
       "      <td>5</td>\n",
       "      <td>0.560868</td>\n",
       "      <td>0.646675</td>\n",
       "      <td>0.533333</td>\n",
       "      <td>00:00</td>\n",
       "    </tr>\n",
       "    <tr>\n",
       "      <td>6</td>\n",
       "      <td>0.531512</td>\n",
       "      <td>0.638015</td>\n",
       "      <td>0.583333</td>\n",
       "      <td>00:00</td>\n",
       "    </tr>\n",
       "    <tr>\n",
       "      <td>7</td>\n",
       "      <td>0.507237</td>\n",
       "      <td>0.634170</td>\n",
       "      <td>0.633333</td>\n",
       "      <td>00:00</td>\n",
       "    </tr>\n",
       "    <tr>\n",
       "      <td>8</td>\n",
       "      <td>0.483268</td>\n",
       "      <td>0.638986</td>\n",
       "      <td>0.616667</td>\n",
       "      <td>00:00</td>\n",
       "    </tr>\n",
       "    <tr>\n",
       "      <td>9</td>\n",
       "      <td>0.464959</td>\n",
       "      <td>0.640331</td>\n",
       "      <td>0.633333</td>\n",
       "      <td>00:00</td>\n",
       "    </tr>\n",
       "  </tbody>\n",
       "</table>"
      ],
      "text/plain": [
       "<IPython.core.display.HTML object>"
      ]
     },
     "metadata": {},
     "output_type": "display_data"
    },
    {
     "name": "stdout",
     "output_type": "stream",
     "text": [
      "Better model found at epoch 0 with accuracy value: 0.3166666626930237.\n",
      "Better model found at epoch 1 with accuracy value: 0.4000000059604645.\n",
      "Better model found at epoch 2 with accuracy value: 0.4833333194255829.\n",
      "Better model found at epoch 3 with accuracy value: 0.6000000238418579.\n",
      "Better model found at epoch 7 with accuracy value: 0.6333333253860474.\n"
     ]
    },
    {
     "data": {
      "text/html": [
       "<table border=\"1\" class=\"dataframe\">\n",
       "  <thead>\n",
       "    <tr style=\"text-align: left;\">\n",
       "      <th>epoch</th>\n",
       "      <th>train_loss</th>\n",
       "      <th>valid_loss</th>\n",
       "      <th>accuracy</th>\n",
       "      <th>time</th>\n",
       "    </tr>\n",
       "  </thead>\n",
       "  <tbody>\n",
       "    <tr>\n",
       "      <td>0</td>\n",
       "      <td>0.664896</td>\n",
       "      <td>0.691256</td>\n",
       "      <td>0.650000</td>\n",
       "      <td>00:00</td>\n",
       "    </tr>\n",
       "    <tr>\n",
       "      <td>1</td>\n",
       "      <td>0.658007</td>\n",
       "      <td>0.680893</td>\n",
       "      <td>0.683333</td>\n",
       "      <td>00:00</td>\n",
       "    </tr>\n",
       "    <tr>\n",
       "      <td>2</td>\n",
       "      <td>0.624746</td>\n",
       "      <td>0.663815</td>\n",
       "      <td>0.666667</td>\n",
       "      <td>00:00</td>\n",
       "    </tr>\n",
       "    <tr>\n",
       "      <td>3</td>\n",
       "      <td>0.592678</td>\n",
       "      <td>0.637736</td>\n",
       "      <td>0.700000</td>\n",
       "      <td>00:00</td>\n",
       "    </tr>\n",
       "    <tr>\n",
       "      <td>4</td>\n",
       "      <td>0.563741</td>\n",
       "      <td>0.621774</td>\n",
       "      <td>0.716667</td>\n",
       "      <td>00:00</td>\n",
       "    </tr>\n",
       "    <tr>\n",
       "      <td>5</td>\n",
       "      <td>0.535052</td>\n",
       "      <td>0.600277</td>\n",
       "      <td>0.733333</td>\n",
       "      <td>00:00</td>\n",
       "    </tr>\n",
       "    <tr>\n",
       "      <td>6</td>\n",
       "      <td>0.509712</td>\n",
       "      <td>0.588355</td>\n",
       "      <td>0.750000</td>\n",
       "      <td>00:00</td>\n",
       "    </tr>\n",
       "    <tr>\n",
       "      <td>7</td>\n",
       "      <td>0.484468</td>\n",
       "      <td>0.579488</td>\n",
       "      <td>0.766667</td>\n",
       "      <td>00:00</td>\n",
       "    </tr>\n",
       "    <tr>\n",
       "      <td>8</td>\n",
       "      <td>0.463993</td>\n",
       "      <td>0.584282</td>\n",
       "      <td>0.766667</td>\n",
       "      <td>00:00</td>\n",
       "    </tr>\n",
       "    <tr>\n",
       "      <td>9</td>\n",
       "      <td>0.447789</td>\n",
       "      <td>0.577547</td>\n",
       "      <td>0.783333</td>\n",
       "      <td>00:00</td>\n",
       "    </tr>\n",
       "  </tbody>\n",
       "</table>"
      ],
      "text/plain": [
       "<IPython.core.display.HTML object>"
      ]
     },
     "metadata": {},
     "output_type": "display_data"
    },
    {
     "name": "stdout",
     "output_type": "stream",
     "text": [
      "Better model found at epoch 0 with accuracy value: 0.6499999761581421.\n",
      "Better model found at epoch 1 with accuracy value: 0.6833333373069763.\n",
      "Better model found at epoch 3 with accuracy value: 0.699999988079071.\n",
      "Better model found at epoch 4 with accuracy value: 0.7166666388511658.\n",
      "Better model found at epoch 5 with accuracy value: 0.7333333492279053.\n",
      "Better model found at epoch 6 with accuracy value: 0.75.\n",
      "Better model found at epoch 7 with accuracy value: 0.7666666507720947.\n",
      "Better model found at epoch 9 with accuracy value: 0.7833333611488342.\n"
     ]
    },
    {
     "data": {
      "text/html": [
       "<table border=\"1\" class=\"dataframe\">\n",
       "  <thead>\n",
       "    <tr style=\"text-align: left;\">\n",
       "      <th>epoch</th>\n",
       "      <th>train_loss</th>\n",
       "      <th>valid_loss</th>\n",
       "      <th>accuracy</th>\n",
       "      <th>time</th>\n",
       "    </tr>\n",
       "  </thead>\n",
       "  <tbody>\n",
       "    <tr>\n",
       "      <td>0</td>\n",
       "      <td>0.739634</td>\n",
       "      <td>0.674765</td>\n",
       "      <td>0.683333</td>\n",
       "      <td>00:00</td>\n",
       "    </tr>\n",
       "    <tr>\n",
       "      <td>1</td>\n",
       "      <td>0.719099</td>\n",
       "      <td>0.654495</td>\n",
       "      <td>0.750000</td>\n",
       "      <td>00:00</td>\n",
       "    </tr>\n",
       "    <tr>\n",
       "      <td>2</td>\n",
       "      <td>0.674675</td>\n",
       "      <td>0.629575</td>\n",
       "      <td>0.783333</td>\n",
       "      <td>00:00</td>\n",
       "    </tr>\n",
       "    <tr>\n",
       "      <td>3</td>\n",
       "      <td>0.631966</td>\n",
       "      <td>0.596639</td>\n",
       "      <td>0.700000</td>\n",
       "      <td>00:00</td>\n",
       "    </tr>\n",
       "    <tr>\n",
       "      <td>4</td>\n",
       "      <td>0.590776</td>\n",
       "      <td>0.583020</td>\n",
       "      <td>0.733333</td>\n",
       "      <td>00:00</td>\n",
       "    </tr>\n",
       "    <tr>\n",
       "      <td>5</td>\n",
       "      <td>0.559492</td>\n",
       "      <td>0.578434</td>\n",
       "      <td>0.733333</td>\n",
       "      <td>00:00</td>\n",
       "    </tr>\n",
       "    <tr>\n",
       "      <td>6</td>\n",
       "      <td>0.534014</td>\n",
       "      <td>0.571681</td>\n",
       "      <td>0.766667</td>\n",
       "      <td>00:00</td>\n",
       "    </tr>\n",
       "    <tr>\n",
       "      <td>7</td>\n",
       "      <td>0.507470</td>\n",
       "      <td>0.567998</td>\n",
       "      <td>0.766667</td>\n",
       "      <td>00:00</td>\n",
       "    </tr>\n",
       "    <tr>\n",
       "      <td>8</td>\n",
       "      <td>0.488091</td>\n",
       "      <td>0.569946</td>\n",
       "      <td>0.766667</td>\n",
       "      <td>00:00</td>\n",
       "    </tr>\n",
       "    <tr>\n",
       "      <td>9</td>\n",
       "      <td>0.474296</td>\n",
       "      <td>0.571853</td>\n",
       "      <td>0.766667</td>\n",
       "      <td>00:00</td>\n",
       "    </tr>\n",
       "  </tbody>\n",
       "</table>"
      ],
      "text/plain": [
       "<IPython.core.display.HTML object>"
      ]
     },
     "metadata": {},
     "output_type": "display_data"
    },
    {
     "name": "stdout",
     "output_type": "stream",
     "text": [
      "Better model found at epoch 0 with accuracy value: 0.6833333373069763.\n",
      "Better model found at epoch 1 with accuracy value: 0.75.\n",
      "Better model found at epoch 2 with accuracy value: 0.7833333611488342.\n"
     ]
    }
   ],
   "source": [
    "#hide_output\n",
    "for i in range(4):\n",
    "    dls, tabdf = get_tabpandas_dls(i, train_df, procs, cat_names, cont_names, y_names, 32)\n",
    "    emb_szs = get_emb_sz(tabdf)\n",
    "    learn = tabular_learner(dls, [100,50], \n",
    "                            metrics=accuracy, \n",
    "                            cbs=[SaveModelCallback(monitor='accuracy', \n",
    "                                                   fname=f'tab_3pt_wl_{i}')])\n",
    "    learn.loss_func = CrossEntropyLossFlat(weight=tensor([0.67, 1.33]))\n",
    "    \n",
    "    learn.fit_one_cycle(10, 0.002)"
   ]
  },
  {
   "cell_type": "code",
   "execution_count": null,
   "metadata": {},
   "outputs": [
    {
     "name": "stderr",
     "output_type": "stream",
     "text": [
      "/usr/local/lib/python3.7/dist-packages/fastai/learner.py:56: UserWarning: Saved filed doesn't contain an optimizer state.\n",
      "  elif with_opt: warn(\"Saved filed doesn't contain an optimizer state.\")\n"
     ]
    },
    {
     "data": {
      "text/html": [
       ""
      ],
      "text/plain": [
       "<IPython.core.display.HTML object>"
      ]
     },
     "metadata": {},
     "output_type": "display_data"
    },
    {
     "name": "stderr",
     "output_type": "stream",
     "text": [
      "/usr/local/lib/python3.7/dist-packages/fastai/learner.py:56: UserWarning: Saved filed doesn't contain an optimizer state.\n",
      "  elif with_opt: warn(\"Saved filed doesn't contain an optimizer state.\")\n"
     ]
    },
    {
     "data": {
      "text/html": [
       ""
      ],
      "text/plain": [
       "<IPython.core.display.HTML object>"
      ]
     },
     "metadata": {},
     "output_type": "display_data"
    },
    {
     "name": "stderr",
     "output_type": "stream",
     "text": [
      "/usr/local/lib/python3.7/dist-packages/fastai/learner.py:56: UserWarning: Saved filed doesn't contain an optimizer state.\n",
      "  elif with_opt: warn(\"Saved filed doesn't contain an optimizer state.\")\n"
     ]
    },
    {
     "data": {
      "text/html": [
       ""
      ],
      "text/plain": [
       "<IPython.core.display.HTML object>"
      ]
     },
     "metadata": {},
     "output_type": "display_data"
    },
    {
     "name": "stderr",
     "output_type": "stream",
     "text": [
      "/usr/local/lib/python3.7/dist-packages/fastai/learner.py:56: UserWarning: Saved filed doesn't contain an optimizer state.\n",
      "  elif with_opt: warn(\"Saved filed doesn't contain an optimizer state.\")\n"
     ]
    },
    {
     "data": {
      "text/html": [
       ""
      ],
      "text/plain": [
       "<IPython.core.display.HTML object>"
      ]
     },
     "metadata": {},
     "output_type": "display_data"
    }
   ],
   "source": [
    "#hide_output\n",
    "test_dl = dls.test_dl(test_df)\n",
    "preds = []\n",
    "for i in range(4):\n",
    "    dls, tabdf = get_tabpandas_dls(i, train_df, procs, cat_names, cont_names, y_names, 32)\n",
    "    emb_szs = get_emb_sz(tabdf)\n",
    "    learn = tabular_learner(dls, [100,50], \n",
    "                        metrics=accuracy, \n",
    "                        cbs=[SaveModelCallback(monitor='accuracy')])\n",
    "    \n",
    "    learn.load(f'tab_3pt_wl_{i}')\n",
    "    pred, y_pred, y_true = learn.get_preds(dl=test_dl, with_decoded=True)\n",
    "    preds.append(pred)\n",
    "  \n",
    "y_true = test_dl.y.values\n",
    "y_pred = np.array(torch.argmax(torch.stack(preds).mean(0),1))"
   ]
  },
  {
   "cell_type": "code",
   "execution_count": null,
   "metadata": {},
   "outputs": [
    {
     "name": "stdout",
     "output_type": "stream",
     "text": [
      "5-fold accuracy score: 0.60\n"
     ]
    }
   ],
   "source": [
    "#hide_input\n",
    "print(f'5-fold accuracy score: {accuracy_score(y_true, y_pred):.2f}')"
   ]
  },
  {
   "cell_type": "code",
   "execution_count": null,
   "metadata": {},
   "outputs": [
    {
     "data": {
      "text/plain": [
       "<matplotlib.axes._subplots.AxesSubplot at 0x7f487c9c0590>"
      ]
     },
     "execution_count": null,
     "metadata": {},
     "output_type": "execute_result"
    },
    {
     "data": {
      "image/png": "[encoded data removed]",
      "text/plain": [
       "<Figure size 432x288 with 2 Axes>"
      ]
     },
     "metadata": {
      "needs_background": "light"
     },
     "output_type": "display_data"
    }
   ],
   "source": [
    "#hide_input\n",
    "sns.heatmap(confusion_matrix(y_true, y_pred), annot=True, cmap='Blues')"
   ]
  },
  {
   "cell_type": "markdown",
   "metadata": {},
   "source": [
    "### 5_setpoints Model"
   ]
  },
  {
   "cell_type": "code",
   "execution_count": null,
   "metadata": {},
   "outputs": [
    {
     "data": {
      "text/plain": [
       "(-10.0, 750.0)"
      ]
     },
     "execution_count": null,
     "metadata": {},
     "output_type": "execute_result"
    },
    {
     "data": {
      "image/png": "[encoded data removed]",
      "text/plain": [
       "<Figure size 720x720 with 1 Axes>"
      ]
     },
     "metadata": {
      "needs_background": "light"
     },
     "output_type": "display_data"
    }
   ],
   "source": [
    "#hide_input\n",
    "plt.figure(figsize=(10,10))\n",
    "plt.scatter(range(1,10), [0 for e in range(1, 10)], marker='*', linewidths=3)\n",
    "plt.scatter(range(1,10), [100+random.randint(-50, 50) for e in range(1, 10)], marker='*', linewidths=3)\n",
    "plt.scatter(range(1,10), [200+random.randint(-50, 50) for e in range(1, 10)], marker='*', linewidths=3)\n",
    "plt.scatter(range(1,10), [300+random.randint(-50, 50) for e in range(1, 10)], marker='*', linewidths=3)\n",
    "plt.scatter(range(1,10), [400+random.randint(-50, 50) for e in range(1, 10)], marker='*', linewidths=3)\n",
    "plt.scatter(range(1,10), [500+random.randint(-50, 50) for e in range(1, 10)], marker='*', linewidths=3)\n",
    "\n",
    "plt.hlines(100, 0, 10)\n",
    "plt.hlines(200, 0, 10)\n",
    "plt.hlines(300, 0, 10)\n",
    "plt.hlines(400, 0, 10)\n",
    "plt.hlines(500, 0, 10)\n",
    "plt.xlim(1,10)\n",
    "plt.ylim(-10,750)"
   ]
  },
  {
   "cell_type": "markdown",
   "metadata": {},
   "source": [
    "In our 5-point model, we will take data from baseline and 5 other setpoints"
   ]
  },
  {
   "cell_type": "code",
   "execution_count": null,
   "metadata": {},
   "outputs": [],
   "source": [
    "#hide_input\n",
    "df = pd.read_csv('data/train_df_5f.csv')\n",
    "df, cont_names = prepare_df_nsetpoints(features, df, 650, [100,200,300,400,500])\n",
    "procs = [Categorify, FillMissing, Normalize]\n",
    "y_names = 'Stage_Progress'\n",
    "y_block = CategoryBlock()\n",
    "cat_names = ['race', 'gender']"
   ]
  },
  {
   "cell_type": "code",
   "execution_count": null,
   "metadata": {},
   "outputs": [
    {
     "data": {
      "text/html": [
       "<table border=\"1\" class=\"dataframe\">\n",
       "  <thead>\n",
       "    <tr style=\"text-align: left;\">\n",
       "      <th>epoch</th>\n",
       "      <th>train_loss</th>\n",
       "      <th>valid_loss</th>\n",
       "      <th>accuracy</th>\n",
       "      <th>time</th>\n",
       "    </tr>\n",
       "  </thead>\n",
       "  <tbody>\n",
       "    <tr>\n",
       "      <td>0</td>\n",
       "      <td>0.737882</td>\n",
       "      <td>0.702061</td>\n",
       "      <td>0.466667</td>\n",
       "      <td>00:00</td>\n",
       "    </tr>\n",
       "    <tr>\n",
       "      <td>1</td>\n",
       "      <td>0.704778</td>\n",
       "      <td>0.707629</td>\n",
       "      <td>0.516667</td>\n",
       "      <td>00:00</td>\n",
       "    </tr>\n",
       "    <tr>\n",
       "      <td>2</td>\n",
       "      <td>0.659468</td>\n",
       "      <td>0.698057</td>\n",
       "      <td>0.500000</td>\n",
       "      <td>00:00</td>\n",
       "    </tr>\n",
       "    <tr>\n",
       "      <td>3</td>\n",
       "      <td>0.604138</td>\n",
       "      <td>0.696613</td>\n",
       "      <td>0.583333</td>\n",
       "      <td>00:00</td>\n",
       "    </tr>\n",
       "    <tr>\n",
       "      <td>4</td>\n",
       "      <td>0.555308</td>\n",
       "      <td>0.705366</td>\n",
       "      <td>0.566667</td>\n",
       "      <td>00:00</td>\n",
       "    </tr>\n",
       "    <tr>\n",
       "      <td>5</td>\n",
       "      <td>0.508945</td>\n",
       "      <td>0.735752</td>\n",
       "      <td>0.550000</td>\n",
       "      <td>00:00</td>\n",
       "    </tr>\n",
       "    <tr>\n",
       "      <td>6</td>\n",
       "      <td>0.481325</td>\n",
       "      <td>0.755927</td>\n",
       "      <td>0.583333</td>\n",
       "      <td>00:00</td>\n",
       "    </tr>\n",
       "    <tr>\n",
       "      <td>7</td>\n",
       "      <td>0.455238</td>\n",
       "      <td>0.766587</td>\n",
       "      <td>0.583333</td>\n",
       "      <td>00:00</td>\n",
       "    </tr>\n",
       "    <tr>\n",
       "      <td>8</td>\n",
       "      <td>0.425406</td>\n",
       "      <td>0.776708</td>\n",
       "      <td>0.600000</td>\n",
       "      <td>00:00</td>\n",
       "    </tr>\n",
       "    <tr>\n",
       "      <td>9</td>\n",
       "      <td>0.406458</td>\n",
       "      <td>0.794865</td>\n",
       "      <td>0.600000</td>\n",
       "      <td>00:00</td>\n",
       "    </tr>\n",
       "  </tbody>\n",
       "</table>"
      ],
      "text/plain": [
       "<IPython.core.display.HTML object>"
      ]
     },
     "metadata": {},
     "output_type": "display_data"
    },
    {
     "name": "stdout",
     "output_type": "stream",
     "text": [
      "Better model found at epoch 0 with accuracy value: 0.46666666865348816.\n",
      "Better model found at epoch 1 with accuracy value: 0.5166666507720947.\n",
      "Better model found at epoch 3 with accuracy value: 0.5833333134651184.\n",
      "Better model found at epoch 8 with accuracy value: 0.6000000238418579.\n"
     ]
    },
    {
     "data": {
      "text/html": [
       "<table border=\"1\" class=\"dataframe\">\n",
       "  <thead>\n",
       "    <tr style=\"text-align: left;\">\n",
       "      <th>epoch</th>\n",
       "      <th>train_loss</th>\n",
       "      <th>valid_loss</th>\n",
       "      <th>accuracy</th>\n",
       "      <th>time</th>\n",
       "    </tr>\n",
       "  </thead>\n",
       "  <tbody>\n",
       "    <tr>\n",
       "      <td>0</td>\n",
       "      <td>0.760652</td>\n",
       "      <td>0.695216</td>\n",
       "      <td>0.566667</td>\n",
       "      <td>00:00</td>\n",
       "    </tr>\n",
       "    <tr>\n",
       "      <td>1</td>\n",
       "      <td>0.736235</td>\n",
       "      <td>0.667832</td>\n",
       "      <td>0.633333</td>\n",
       "      <td>00:00</td>\n",
       "    </tr>\n",
       "    <tr>\n",
       "      <td>2</td>\n",
       "      <td>0.686886</td>\n",
       "      <td>0.647336</td>\n",
       "      <td>0.633333</td>\n",
       "      <td>00:00</td>\n",
       "    </tr>\n",
       "    <tr>\n",
       "      <td>3</td>\n",
       "      <td>0.635129</td>\n",
       "      <td>0.629098</td>\n",
       "      <td>0.650000</td>\n",
       "      <td>00:00</td>\n",
       "    </tr>\n",
       "    <tr>\n",
       "      <td>4</td>\n",
       "      <td>0.587338</td>\n",
       "      <td>0.634972</td>\n",
       "      <td>0.700000</td>\n",
       "      <td>00:00</td>\n",
       "    </tr>\n",
       "    <tr>\n",
       "      <td>5</td>\n",
       "      <td>0.553900</td>\n",
       "      <td>0.643378</td>\n",
       "      <td>0.650000</td>\n",
       "      <td>00:00</td>\n",
       "    </tr>\n",
       "    <tr>\n",
       "      <td>6</td>\n",
       "      <td>0.513413</td>\n",
       "      <td>0.661433</td>\n",
       "      <td>0.683333</td>\n",
       "      <td>00:00</td>\n",
       "    </tr>\n",
       "    <tr>\n",
       "      <td>7</td>\n",
       "      <td>0.482701</td>\n",
       "      <td>0.677322</td>\n",
       "      <td>0.666667</td>\n",
       "      <td>00:00</td>\n",
       "    </tr>\n",
       "    <tr>\n",
       "      <td>8</td>\n",
       "      <td>0.454860</td>\n",
       "      <td>0.688247</td>\n",
       "      <td>0.666667</td>\n",
       "      <td>00:00</td>\n",
       "    </tr>\n",
       "    <tr>\n",
       "      <td>9</td>\n",
       "      <td>0.433550</td>\n",
       "      <td>0.689679</td>\n",
       "      <td>0.666667</td>\n",
       "      <td>00:00</td>\n",
       "    </tr>\n",
       "  </tbody>\n",
       "</table>"
      ],
      "text/plain": [
       "<IPython.core.display.HTML object>"
      ]
     },
     "metadata": {},
     "output_type": "display_data"
    },
    {
     "name": "stdout",
     "output_type": "stream",
     "text": [
      "Better model found at epoch 0 with accuracy value: 0.5666666626930237.\n",
      "Better model found at epoch 1 with accuracy value: 0.6333333253860474.\n",
      "Better model found at epoch 3 with accuracy value: 0.6499999761581421.\n",
      "Better model found at epoch 4 with accuracy value: 0.699999988079071.\n"
     ]
    },
    {
     "data": {
      "text/html": [
       "<table border=\"1\" class=\"dataframe\">\n",
       "  <thead>\n",
       "    <tr style=\"text-align: left;\">\n",
       "      <th>epoch</th>\n",
       "      <th>train_loss</th>\n",
       "      <th>valid_loss</th>\n",
       "      <th>accuracy</th>\n",
       "      <th>time</th>\n",
       "    </tr>\n",
       "  </thead>\n",
       "  <tbody>\n",
       "    <tr>\n",
       "      <td>0</td>\n",
       "      <td>0.748359</td>\n",
       "      <td>0.689725</td>\n",
       "      <td>0.600000</td>\n",
       "      <td>00:00</td>\n",
       "    </tr>\n",
       "    <tr>\n",
       "      <td>1</td>\n",
       "      <td>0.709047</td>\n",
       "      <td>0.661484</td>\n",
       "      <td>0.600000</td>\n",
       "      <td>00:00</td>\n",
       "    </tr>\n",
       "    <tr>\n",
       "      <td>2</td>\n",
       "      <td>0.668588</td>\n",
       "      <td>0.620406</td>\n",
       "      <td>0.683333</td>\n",
       "      <td>00:00</td>\n",
       "    </tr>\n",
       "    <tr>\n",
       "      <td>3</td>\n",
       "      <td>0.625773</td>\n",
       "      <td>0.592090</td>\n",
       "      <td>0.683333</td>\n",
       "      <td>00:00</td>\n",
       "    </tr>\n",
       "    <tr>\n",
       "      <td>4</td>\n",
       "      <td>0.582649</td>\n",
       "      <td>0.561495</td>\n",
       "      <td>0.700000</td>\n",
       "      <td>00:00</td>\n",
       "    </tr>\n",
       "    <tr>\n",
       "      <td>5</td>\n",
       "      <td>0.538360</td>\n",
       "      <td>0.525601</td>\n",
       "      <td>0.750000</td>\n",
       "      <td>00:00</td>\n",
       "    </tr>\n",
       "    <tr>\n",
       "      <td>6</td>\n",
       "      <td>0.503588</td>\n",
       "      <td>0.499965</td>\n",
       "      <td>0.783333</td>\n",
       "      <td>00:00</td>\n",
       "    </tr>\n",
       "    <tr>\n",
       "      <td>7</td>\n",
       "      <td>0.471320</td>\n",
       "      <td>0.480078</td>\n",
       "      <td>0.816667</td>\n",
       "      <td>00:00</td>\n",
       "    </tr>\n",
       "    <tr>\n",
       "      <td>8</td>\n",
       "      <td>0.446799</td>\n",
       "      <td>0.471819</td>\n",
       "      <td>0.833333</td>\n",
       "      <td>00:00</td>\n",
       "    </tr>\n",
       "    <tr>\n",
       "      <td>9</td>\n",
       "      <td>0.428210</td>\n",
       "      <td>0.468601</td>\n",
       "      <td>0.833333</td>\n",
       "      <td>00:00</td>\n",
       "    </tr>\n",
       "  </tbody>\n",
       "</table>"
      ],
      "text/plain": [
       "<IPython.core.display.HTML object>"
      ]
     },
     "metadata": {},
     "output_type": "display_data"
    },
    {
     "name": "stdout",
     "output_type": "stream",
     "text": [
      "Better model found at epoch 0 with accuracy value: 0.6000000238418579.\n",
      "Better model found at epoch 2 with accuracy value: 0.6833333373069763.\n",
      "Better model found at epoch 4 with accuracy value: 0.699999988079071.\n",
      "Better model found at epoch 5 with accuracy value: 0.75.\n",
      "Better model found at epoch 6 with accuracy value: 0.7833333611488342.\n",
      "Better model found at epoch 7 with accuracy value: 0.8166666626930237.\n",
      "Better model found at epoch 8 with accuracy value: 0.8333333134651184.\n"
     ]
    },
    {
     "data": {
      "text/html": [
       "<table border=\"1\" class=\"dataframe\">\n",
       "  <thead>\n",
       "    <tr style=\"text-align: left;\">\n",
       "      <th>epoch</th>\n",
       "      <th>train_loss</th>\n",
       "      <th>valid_loss</th>\n",
       "      <th>accuracy</th>\n",
       "      <th>time</th>\n",
       "    </tr>\n",
       "  </thead>\n",
       "  <tbody>\n",
       "    <tr>\n",
       "      <td>0</td>\n",
       "      <td>0.697860</td>\n",
       "      <td>0.652859</td>\n",
       "      <td>0.683333</td>\n",
       "      <td>00:00</td>\n",
       "    </tr>\n",
       "    <tr>\n",
       "      <td>1</td>\n",
       "      <td>0.689738</td>\n",
       "      <td>0.641320</td>\n",
       "      <td>0.683333</td>\n",
       "      <td>00:00</td>\n",
       "    </tr>\n",
       "    <tr>\n",
       "      <td>2</td>\n",
       "      <td>0.645485</td>\n",
       "      <td>0.617554</td>\n",
       "      <td>0.733333</td>\n",
       "      <td>00:00</td>\n",
       "    </tr>\n",
       "    <tr>\n",
       "      <td>3</td>\n",
       "      <td>0.603425</td>\n",
       "      <td>0.596349</td>\n",
       "      <td>0.700000</td>\n",
       "      <td>00:00</td>\n",
       "    </tr>\n",
       "    <tr>\n",
       "      <td>4</td>\n",
       "      <td>0.554625</td>\n",
       "      <td>0.578000</td>\n",
       "      <td>0.683333</td>\n",
       "      <td>00:00</td>\n",
       "    </tr>\n",
       "    <tr>\n",
       "      <td>5</td>\n",
       "      <td>0.514672</td>\n",
       "      <td>0.561546</td>\n",
       "      <td>0.716667</td>\n",
       "      <td>00:00</td>\n",
       "    </tr>\n",
       "    <tr>\n",
       "      <td>6</td>\n",
       "      <td>0.486413</td>\n",
       "      <td>0.544441</td>\n",
       "      <td>0.700000</td>\n",
       "      <td>00:00</td>\n",
       "    </tr>\n",
       "    <tr>\n",
       "      <td>7</td>\n",
       "      <td>0.457621</td>\n",
       "      <td>0.544504</td>\n",
       "      <td>0.700000</td>\n",
       "      <td>00:00</td>\n",
       "    </tr>\n",
       "    <tr>\n",
       "      <td>8</td>\n",
       "      <td>0.434993</td>\n",
       "      <td>0.544624</td>\n",
       "      <td>0.683333</td>\n",
       "      <td>00:00</td>\n",
       "    </tr>\n",
       "    <tr>\n",
       "      <td>9</td>\n",
       "      <td>0.412028</td>\n",
       "      <td>0.545824</td>\n",
       "      <td>0.700000</td>\n",
       "      <td>00:00</td>\n",
       "    </tr>\n",
       "  </tbody>\n",
       "</table>"
      ],
      "text/plain": [
       "<IPython.core.display.HTML object>"
      ]
     },
     "metadata": {},
     "output_type": "display_data"
    },
    {
     "name": "stdout",
     "output_type": "stream",
     "text": [
      "Better model found at epoch 0 with accuracy value: 0.6833333373069763.\n",
      "Better model found at epoch 2 with accuracy value: 0.7333333492279053.\n"
     ]
    }
   ],
   "source": [
    "#hide_output\n",
    "train_df = df[df['fold']!= 4].reset_index(drop=True)\n",
    "test_df = df[df['fold']== 4].reset_index(drop=True)\n",
    "\n",
    "for i in range(4):\n",
    "    dls, tabdf = get_tabpandas_dls(i, train_df, procs, cat_names, cont_names, y_names, 32)\n",
    "    emb_szs = get_emb_sz(tabdf)\n",
    "    learn = tabular_learner(dls, [100,50], \n",
    "                            metrics=accuracy, \n",
    "                            cbs=[SaveModelCallback(monitor='accuracy', \n",
    "                                                   fname=f'tab_6pt_{i}')])\n",
    "    \n",
    "    learn.fit_one_cycle(10, 0.002)"
   ]
  },
  {
   "cell_type": "code",
   "execution_count": null,
   "metadata": {},
   "outputs": [
    {
     "name": "stderr",
     "output_type": "stream",
     "text": [
      "/usr/local/lib/python3.7/dist-packages/fastai/learner.py:56: UserWarning: Saved filed doesn't contain an optimizer state.\n",
      "  elif with_opt: warn(\"Saved filed doesn't contain an optimizer state.\")\n"
     ]
    },
    {
     "data": {
      "text/html": [
       ""
      ],
      "text/plain": [
       "<IPython.core.display.HTML object>"
      ]
     },
     "metadata": {},
     "output_type": "display_data"
    },
    {
     "name": "stderr",
     "output_type": "stream",
     "text": [
      "/usr/local/lib/python3.7/dist-packages/fastai/learner.py:56: UserWarning: Saved filed doesn't contain an optimizer state.\n",
      "  elif with_opt: warn(\"Saved filed doesn't contain an optimizer state.\")\n"
     ]
    },
    {
     "data": {
      "text/html": [
       ""
      ],
      "text/plain": [
       "<IPython.core.display.HTML object>"
      ]
     },
     "metadata": {},
     "output_type": "display_data"
    },
    {
     "name": "stderr",
     "output_type": "stream",
     "text": [
      "/usr/local/lib/python3.7/dist-packages/fastai/learner.py:56: UserWarning: Saved filed doesn't contain an optimizer state.\n",
      "  elif with_opt: warn(\"Saved filed doesn't contain an optimizer state.\")\n"
     ]
    },
    {
     "data": {
      "text/html": [
       ""
      ],
      "text/plain": [
       "<IPython.core.display.HTML object>"
      ]
     },
     "metadata": {},
     "output_type": "display_data"
    },
    {
     "name": "stderr",
     "output_type": "stream",
     "text": [
      "/usr/local/lib/python3.7/dist-packages/fastai/learner.py:56: UserWarning: Saved filed doesn't contain an optimizer state.\n",
      "  elif with_opt: warn(\"Saved filed doesn't contain an optimizer state.\")\n"
     ]
    },
    {
     "data": {
      "text/html": [
       ""
      ],
      "text/plain": [
       "<IPython.core.display.HTML object>"
      ]
     },
     "metadata": {},
     "output_type": "display_data"
    }
   ],
   "source": [
    "#hide_output\n",
    "test_dl = dls.test_dl(test_df)\n",
    "preds = []\n",
    "for i in range(4):\n",
    "    dls, tabdf = get_tabpandas_dls(i, train_df, procs, cat_names, cont_names, y_names, 32)\n",
    "    emb_szs = get_emb_sz(tabdf)\n",
    "    learn = tabular_learner(dls, [100,50], \n",
    "                        metrics=accuracy, \n",
    "                        cbs=[SaveModelCallback(monitor='accuracy')])\n",
    "    \n",
    "    learn.load(f'tab_6pt_{i}')\n",
    "    pred, y_pred, y_true = learn.get_preds(dl=test_dl, with_decoded=True)\n",
    "    preds.append(pred)\n",
    "  \n",
    "y_true = test_dl.y.values\n",
    "y_pred = np.array(torch.argmax(torch.stack(preds).mean(0),1))"
   ]
  },
  {
   "cell_type": "code",
   "execution_count": null,
   "metadata": {},
   "outputs": [
    {
     "name": "stdout",
     "output_type": "stream",
     "text": [
      "5-fold accuracy score: 0.65\n"
     ]
    }
   ],
   "source": [
    "#hide_input\n",
    "print(f'5-fold accuracy score: {accuracy_score(y_true, y_pred):.2f}')"
   ]
  },
  {
   "cell_type": "code",
   "execution_count": null,
   "metadata": {},
   "outputs": [
    {
     "data": {
      "text/plain": [
       "<matplotlib.axes._subplots.AxesSubplot at 0x7f487c761a50>"
      ]
     },
     "execution_count": null,
     "metadata": {},
     "output_type": "execute_result"
    },
    {
     "data": {
      "image/png": "[encoded data removed]",
      "text/plain": [
       "<Figure size 432x288 with 2 Axes>"
      ]
     },
     "metadata": {
      "needs_background": "light"
     },
     "output_type": "display_data"
    }
   ],
   "source": [
    "#hide_input\n",
    "sns.heatmap(confusion_matrix(y_true, y_pred), annot=True, cmap='Blues')"
   ]
  },
  {
   "cell_type": "markdown",
   "metadata": {},
   "source": [
    "## first_n_points Model"
   ]
  },
  {
   "cell_type": "markdown",
   "metadata": {},
   "source": [
    "Next, we will build a model which takes the first n-points including baseline to use in our classification task"
   ]
  },
  {
   "cell_type": "code",
   "execution_count": null,
   "metadata": {},
   "outputs": [],
   "source": [
    "#hide_input\n",
    "df = pd.read_csv('data/train_df_5f.csv')\n",
    "df, cont_names = prepare_df_firstnpoints(features, df, 6)\n",
    "procs = [Categorify, FillMissing, Normalize]\n",
    "y_names = 'Stage_Progress'\n",
    "y_block = CategoryBlock()\n",
    "cat_names = ['race', 'gender']"
   ]
  },
  {
   "cell_type": "code",
   "execution_count": null,
   "metadata": {},
   "outputs": [
    {
     "data": {
      "text/html": [
       "<table border=\"1\" class=\"dataframe\">\n",
       "  <thead>\n",
       "    <tr style=\"text-align: left;\">\n",
       "      <th>epoch</th>\n",
       "      <th>train_loss</th>\n",
       "      <th>valid_loss</th>\n",
       "      <th>accuracy</th>\n",
       "      <th>time</th>\n",
       "    </tr>\n",
       "  </thead>\n",
       "  <tbody>\n",
       "    <tr>\n",
       "      <td>0</td>\n",
       "      <td>0.739089</td>\n",
       "      <td>0.710199</td>\n",
       "      <td>0.333333</td>\n",
       "      <td>00:00</td>\n",
       "    </tr>\n",
       "    <tr>\n",
       "      <td>1</td>\n",
       "      <td>0.716533</td>\n",
       "      <td>0.707176</td>\n",
       "      <td>0.383333</td>\n",
       "      <td>00:00</td>\n",
       "    </tr>\n",
       "    <tr>\n",
       "      <td>2</td>\n",
       "      <td>0.667715</td>\n",
       "      <td>0.688033</td>\n",
       "      <td>0.516667</td>\n",
       "      <td>00:00</td>\n",
       "    </tr>\n",
       "    <tr>\n",
       "      <td>3</td>\n",
       "      <td>0.615131</td>\n",
       "      <td>0.675629</td>\n",
       "      <td>0.650000</td>\n",
       "      <td>00:00</td>\n",
       "    </tr>\n",
       "    <tr>\n",
       "      <td>4</td>\n",
       "      <td>0.566585</td>\n",
       "      <td>0.661852</td>\n",
       "      <td>0.666667</td>\n",
       "      <td>00:00</td>\n",
       "    </tr>\n",
       "    <tr>\n",
       "      <td>5</td>\n",
       "      <td>0.523075</td>\n",
       "      <td>0.648932</td>\n",
       "      <td>0.650000</td>\n",
       "      <td>00:00</td>\n",
       "    </tr>\n",
       "    <tr>\n",
       "      <td>6</td>\n",
       "      <td>0.483937</td>\n",
       "      <td>0.650957</td>\n",
       "      <td>0.666667</td>\n",
       "      <td>00:00</td>\n",
       "    </tr>\n",
       "    <tr>\n",
       "      <td>7</td>\n",
       "      <td>0.451819</td>\n",
       "      <td>0.673219</td>\n",
       "      <td>0.666667</td>\n",
       "      <td>00:00</td>\n",
       "    </tr>\n",
       "    <tr>\n",
       "      <td>8</td>\n",
       "      <td>0.420258</td>\n",
       "      <td>0.685617</td>\n",
       "      <td>0.666667</td>\n",
       "      <td>00:00</td>\n",
       "    </tr>\n",
       "    <tr>\n",
       "      <td>9</td>\n",
       "      <td>0.396324</td>\n",
       "      <td>0.698901</td>\n",
       "      <td>0.666667</td>\n",
       "      <td>00:00</td>\n",
       "    </tr>\n",
       "  </tbody>\n",
       "</table>"
      ],
      "text/plain": [
       "<IPython.core.display.HTML object>"
      ]
     },
     "metadata": {},
     "output_type": "display_data"
    },
    {
     "name": "stdout",
     "output_type": "stream",
     "text": [
      "Better model found at epoch 0 with accuracy value: 0.3333333432674408.\n",
      "Better model found at epoch 1 with accuracy value: 0.38333332538604736.\n",
      "Better model found at epoch 2 with accuracy value: 0.5166666507720947.\n",
      "Better model found at epoch 3 with accuracy value: 0.6499999761581421.\n",
      "Better model found at epoch 4 with accuracy value: 0.6666666865348816.\n"
     ]
    },
    {
     "data": {
      "text/html": [
       "<table border=\"1\" class=\"dataframe\">\n",
       "  <thead>\n",
       "    <tr style=\"text-align: left;\">\n",
       "      <th>epoch</th>\n",
       "      <th>train_loss</th>\n",
       "      <th>valid_loss</th>\n",
       "      <th>accuracy</th>\n",
       "      <th>time</th>\n",
       "    </tr>\n",
       "  </thead>\n",
       "  <tbody>\n",
       "    <tr>\n",
       "      <td>0</td>\n",
       "      <td>0.794546</td>\n",
       "      <td>0.706745</td>\n",
       "      <td>0.416667</td>\n",
       "      <td>00:00</td>\n",
       "    </tr>\n",
       "    <tr>\n",
       "      <td>1</td>\n",
       "      <td>0.735466</td>\n",
       "      <td>0.701532</td>\n",
       "      <td>0.416667</td>\n",
       "      <td>00:00</td>\n",
       "    </tr>\n",
       "    <tr>\n",
       "      <td>2</td>\n",
       "      <td>0.677444</td>\n",
       "      <td>0.683003</td>\n",
       "      <td>0.533333</td>\n",
       "      <td>00:00</td>\n",
       "    </tr>\n",
       "    <tr>\n",
       "      <td>3</td>\n",
       "      <td>0.621692</td>\n",
       "      <td>0.660616</td>\n",
       "      <td>0.550000</td>\n",
       "      <td>00:00</td>\n",
       "    </tr>\n",
       "    <tr>\n",
       "      <td>4</td>\n",
       "      <td>0.570734</td>\n",
       "      <td>0.636769</td>\n",
       "      <td>0.633333</td>\n",
       "      <td>00:00</td>\n",
       "    </tr>\n",
       "    <tr>\n",
       "      <td>5</td>\n",
       "      <td>0.528091</td>\n",
       "      <td>0.623977</td>\n",
       "      <td>0.650000</td>\n",
       "      <td>00:00</td>\n",
       "    </tr>\n",
       "    <tr>\n",
       "      <td>6</td>\n",
       "      <td>0.488981</td>\n",
       "      <td>0.634561</td>\n",
       "      <td>0.633333</td>\n",
       "      <td>00:00</td>\n",
       "    </tr>\n",
       "    <tr>\n",
       "      <td>7</td>\n",
       "      <td>0.455879</td>\n",
       "      <td>0.640268</td>\n",
       "      <td>0.633333</td>\n",
       "      <td>00:00</td>\n",
       "    </tr>\n",
       "    <tr>\n",
       "      <td>8</td>\n",
       "      <td>0.428766</td>\n",
       "      <td>0.635466</td>\n",
       "      <td>0.650000</td>\n",
       "      <td>00:00</td>\n",
       "    </tr>\n",
       "    <tr>\n",
       "      <td>9</td>\n",
       "      <td>0.403881</td>\n",
       "      <td>0.638228</td>\n",
       "      <td>0.616667</td>\n",
       "      <td>00:00</td>\n",
       "    </tr>\n",
       "  </tbody>\n",
       "</table>"
      ],
      "text/plain": [
       "<IPython.core.display.HTML object>"
      ]
     },
     "metadata": {},
     "output_type": "display_data"
    },
    {
     "name": "stdout",
     "output_type": "stream",
     "text": [
      "Better model found at epoch 0 with accuracy value: 0.4166666567325592.\n",
      "Better model found at epoch 2 with accuracy value: 0.5333333611488342.\n",
      "Better model found at epoch 3 with accuracy value: 0.550000011920929.\n",
      "Better model found at epoch 4 with accuracy value: 0.6333333253860474.\n",
      "Better model found at epoch 5 with accuracy value: 0.6499999761581421.\n"
     ]
    },
    {
     "data": {
      "text/html": [
       "<table border=\"1\" class=\"dataframe\">\n",
       "  <thead>\n",
       "    <tr style=\"text-align: left;\">\n",
       "      <th>epoch</th>\n",
       "      <th>train_loss</th>\n",
       "      <th>valid_loss</th>\n",
       "      <th>accuracy</th>\n",
       "      <th>time</th>\n",
       "    </tr>\n",
       "  </thead>\n",
       "  <tbody>\n",
       "    <tr>\n",
       "      <td>0</td>\n",
       "      <td>0.775056</td>\n",
       "      <td>0.675321</td>\n",
       "      <td>0.620690</td>\n",
       "      <td>00:00</td>\n",
       "    </tr>\n",
       "    <tr>\n",
       "      <td>1</td>\n",
       "      <td>0.736663</td>\n",
       "      <td>0.667881</td>\n",
       "      <td>0.620690</td>\n",
       "      <td>00:00</td>\n",
       "    </tr>\n",
       "    <tr>\n",
       "      <td>2</td>\n",
       "      <td>0.669322</td>\n",
       "      <td>0.658269</td>\n",
       "      <td>0.637931</td>\n",
       "      <td>00:00</td>\n",
       "    </tr>\n",
       "    <tr>\n",
       "      <td>3</td>\n",
       "      <td>0.614659</td>\n",
       "      <td>0.655204</td>\n",
       "      <td>0.637931</td>\n",
       "      <td>00:00</td>\n",
       "    </tr>\n",
       "    <tr>\n",
       "      <td>4</td>\n",
       "      <td>0.558846</td>\n",
       "      <td>0.663042</td>\n",
       "      <td>0.655172</td>\n",
       "      <td>00:00</td>\n",
       "    </tr>\n",
       "    <tr>\n",
       "      <td>5</td>\n",
       "      <td>0.512230</td>\n",
       "      <td>0.674755</td>\n",
       "      <td>0.706897</td>\n",
       "      <td>00:00</td>\n",
       "    </tr>\n",
       "    <tr>\n",
       "      <td>6</td>\n",
       "      <td>0.477181</td>\n",
       "      <td>0.685325</td>\n",
       "      <td>0.724138</td>\n",
       "      <td>00:00</td>\n",
       "    </tr>\n",
       "    <tr>\n",
       "      <td>7</td>\n",
       "      <td>0.443657</td>\n",
       "      <td>0.701227</td>\n",
       "      <td>0.655172</td>\n",
       "      <td>00:00</td>\n",
       "    </tr>\n",
       "    <tr>\n",
       "      <td>8</td>\n",
       "      <td>0.415130</td>\n",
       "      <td>0.717555</td>\n",
       "      <td>0.637931</td>\n",
       "      <td>00:00</td>\n",
       "    </tr>\n",
       "    <tr>\n",
       "      <td>9</td>\n",
       "      <td>0.387288</td>\n",
       "      <td>0.730664</td>\n",
       "      <td>0.637931</td>\n",
       "      <td>00:00</td>\n",
       "    </tr>\n",
       "  </tbody>\n",
       "</table>"
      ],
      "text/plain": [
       "<IPython.core.display.HTML object>"
      ]
     },
     "metadata": {},
     "output_type": "display_data"
    },
    {
     "name": "stdout",
     "output_type": "stream",
     "text": [
      "Better model found at epoch 0 with accuracy value: 0.6206896305084229.\n",
      "Better model found at epoch 2 with accuracy value: 0.6379310488700867.\n",
      "Better model found at epoch 4 with accuracy value: 0.6551724076271057.\n",
      "Better model found at epoch 5 with accuracy value: 0.7068965435028076.\n",
      "Better model found at epoch 6 with accuracy value: 0.7241379022598267.\n"
     ]
    },
    {
     "data": {
      "text/html": [
       "<table border=\"1\" class=\"dataframe\">\n",
       "  <thead>\n",
       "    <tr style=\"text-align: left;\">\n",
       "      <th>epoch</th>\n",
       "      <th>train_loss</th>\n",
       "      <th>valid_loss</th>\n",
       "      <th>accuracy</th>\n",
       "      <th>time</th>\n",
       "    </tr>\n",
       "  </thead>\n",
       "  <tbody>\n",
       "    <tr>\n",
       "      <td>0</td>\n",
       "      <td>0.767071</td>\n",
       "      <td>0.659154</td>\n",
       "      <td>0.661017</td>\n",
       "      <td>00:00</td>\n",
       "    </tr>\n",
       "    <tr>\n",
       "      <td>1</td>\n",
       "      <td>0.735392</td>\n",
       "      <td>0.642110</td>\n",
       "      <td>0.661017</td>\n",
       "      <td>00:00</td>\n",
       "    </tr>\n",
       "    <tr>\n",
       "      <td>2</td>\n",
       "      <td>0.670187</td>\n",
       "      <td>0.618823</td>\n",
       "      <td>0.728814</td>\n",
       "      <td>00:00</td>\n",
       "    </tr>\n",
       "    <tr>\n",
       "      <td>3</td>\n",
       "      <td>0.608593</td>\n",
       "      <td>0.603835</td>\n",
       "      <td>0.711864</td>\n",
       "      <td>00:00</td>\n",
       "    </tr>\n",
       "    <tr>\n",
       "      <td>4</td>\n",
       "      <td>0.551765</td>\n",
       "      <td>0.610540</td>\n",
       "      <td>0.694915</td>\n",
       "      <td>00:00</td>\n",
       "    </tr>\n",
       "    <tr>\n",
       "      <td>5</td>\n",
       "      <td>0.515610</td>\n",
       "      <td>0.631601</td>\n",
       "      <td>0.728814</td>\n",
       "      <td>00:00</td>\n",
       "    </tr>\n",
       "    <tr>\n",
       "      <td>6</td>\n",
       "      <td>0.472895</td>\n",
       "      <td>0.646577</td>\n",
       "      <td>0.677966</td>\n",
       "      <td>00:00</td>\n",
       "    </tr>\n",
       "    <tr>\n",
       "      <td>7</td>\n",
       "      <td>0.442312</td>\n",
       "      <td>0.652440</td>\n",
       "      <td>0.677966</td>\n",
       "      <td>00:00</td>\n",
       "    </tr>\n",
       "    <tr>\n",
       "      <td>8</td>\n",
       "      <td>0.411817</td>\n",
       "      <td>0.657421</td>\n",
       "      <td>0.677966</td>\n",
       "      <td>00:00</td>\n",
       "    </tr>\n",
       "    <tr>\n",
       "      <td>9</td>\n",
       "      <td>0.390703</td>\n",
       "      <td>0.668140</td>\n",
       "      <td>0.677966</td>\n",
       "      <td>00:00</td>\n",
       "    </tr>\n",
       "  </tbody>\n",
       "</table>"
      ],
      "text/plain": [
       "<IPython.core.display.HTML object>"
      ]
     },
     "metadata": {},
     "output_type": "display_data"
    },
    {
     "name": "stdout",
     "output_type": "stream",
     "text": [
      "Better model found at epoch 0 with accuracy value: 0.6610169410705566.\n",
      "Better model found at epoch 2 with accuracy value: 0.7288135886192322.\n"
     ]
    }
   ],
   "source": [
    "#hide_output\n",
    "train_df = df[df['fold']!= 4].reset_index(drop=True)\n",
    "train_df = train_df[~train_df['id'].isin([281, 134, 7])].reset_index(drop=True)\n",
    "test_df = df[df['fold']== 4].reset_index(drop=True)\n",
    "#cat_names.remove('creatinine_2_na')\n",
    "\n",
    "for i in range(4):\n",
    "\n",
    "    dls, tabdf = get_tabpandas_dls(i, train_df, procs, cat_names, cont_names, y_names, 32)\n",
    "    emb_szs = get_emb_sz(tabdf)\n",
    "    learn = tabular_learner(dls, [100,50], \n",
    "                            metrics=accuracy, \n",
    "                            cbs=[SaveModelCallback(monitor='accuracy', \n",
    "                                                   fname=f'tab_fnpt_{i}')])\n",
    "    \n",
    "    learn.fit_one_cycle(10, 0.002)"
   ]
  },
  {
   "cell_type": "code",
   "execution_count": null,
   "metadata": {},
   "outputs": [
    {
     "name": "stderr",
     "output_type": "stream",
     "text": [
      "/usr/local/lib/python3.7/dist-packages/fastai/learner.py:56: UserWarning: Saved filed doesn't contain an optimizer state.\n",
      "  elif with_opt: warn(\"Saved filed doesn't contain an optimizer state.\")\n"
     ]
    },
    {
     "data": {
      "text/html": [
       ""
      ],
      "text/plain": [
       "<IPython.core.display.HTML object>"
      ]
     },
     "metadata": {},
     "output_type": "display_data"
    },
    {
     "name": "stderr",
     "output_type": "stream",
     "text": [
      "/usr/local/lib/python3.7/dist-packages/fastai/learner.py:56: UserWarning: Saved filed doesn't contain an optimizer state.\n",
      "  elif with_opt: warn(\"Saved filed doesn't contain an optimizer state.\")\n"
     ]
    },
    {
     "data": {
      "text/html": [
       ""
      ],
      "text/plain": [
       "<IPython.core.display.HTML object>"
      ]
     },
     "metadata": {},
     "output_type": "display_data"
    },
    {
     "name": "stderr",
     "output_type": "stream",
     "text": [
      "/usr/local/lib/python3.7/dist-packages/fastai/learner.py:56: UserWarning: Saved filed doesn't contain an optimizer state.\n",
      "  elif with_opt: warn(\"Saved filed doesn't contain an optimizer state.\")\n"
     ]
    },
    {
     "data": {
      "text/html": [
       ""
      ],
      "text/plain": [
       "<IPython.core.display.HTML object>"
      ]
     },
     "metadata": {},
     "output_type": "display_data"
    },
    {
     "name": "stderr",
     "output_type": "stream",
     "text": [
      "/usr/local/lib/python3.7/dist-packages/fastai/learner.py:56: UserWarning: Saved filed doesn't contain an optimizer state.\n",
      "  elif with_opt: warn(\"Saved filed doesn't contain an optimizer state.\")\n"
     ]
    },
    {
     "data": {
      "text/html": [
       ""
      ],
      "text/plain": [
       "<IPython.core.display.HTML object>"
      ]
     },
     "metadata": {},
     "output_type": "display_data"
    }
   ],
   "source": [
    "#hide_output\n",
    "test_df = test_df[~test_df['id'].isin([299,67,255])].reset_index(drop=True)\n",
    "test_dl = dls.test_dl(test_df)\n",
    "preds = []\n",
    "for i in range(4):\n",
    "    dls, tabdf = get_tabpandas_dls(i, train_df, procs, cat_names, cont_names, y_names, 32)\n",
    "    emb_szs = get_emb_sz(tabdf)\n",
    "    learn = tabular_learner(dls, [100,50], \n",
    "                        metrics=accuracy, \n",
    "                        cbs=[SaveModelCallback(monitor='accuracy')])\n",
    "    \n",
    "    learn.load(f'tab_fnpt_{i}')\n",
    "    pred, y_pred = learn.get_preds(dl=test_dl)\n",
    "    preds.append(pred)\n",
    "  \n",
    "y_true = test_dl.y.values\n",
    "y_pred = np.array(torch.argmax(torch.stack(preds).mean(0),1))"
   ]
  },
  {
   "cell_type": "code",
   "execution_count": null,
   "metadata": {},
   "outputs": [
    {
     "name": "stdout",
     "output_type": "stream",
     "text": [
      "5-fold accuracy score: 0.70\n"
     ]
    }
   ],
   "source": [
    "#hide_input\n",
    "print(f'5-fold accuracy score: {accuracy_score(y_true, y_pred):.2f}')"
   ]
  },
  {
   "cell_type": "code",
   "execution_count": null,
   "metadata": {},
   "outputs": [
    {
     "data": {
      "text/plain": [
       "<matplotlib.axes._subplots.AxesSubplot at 0x7f487c739d50>"
      ]
     },
     "execution_count": null,
     "metadata": {},
     "output_type": "execute_result"
    },
    {
     "data": {
      "image/png": "[encoded data removed]",
      "text/plain": [
       "<Figure size 432x288 with 2 Axes>"
      ]
     },
     "metadata": {
      "needs_background": "light"
     },
     "output_type": "display_data"
    }
   ],
   "source": [
    "#hide_input\n",
    "sns.heatmap(confusion_matrix(y_true, y_pred), annot=True, cmap='Blues')"
   ]
  },
  {
   "cell_type": "markdown",
   "metadata": {},
   "source": [
    "## Does including medication data help?"
   ]
  },
  {
   "cell_type": "code",
   "execution_count": null,
   "metadata": {},
   "outputs": [],
   "source": [
    "#hide_input\n",
    "meds = pd.read_csv('data/dataScienceTask/T_meds.csv')\n",
    "meds = meds[meds['end_day'] < 650]\n",
    "meddf = pd.DataFrame(columns=med2como.keys())\n",
    "meddf['id'] = range(0,300)"
   ]
  },
  {
   "cell_type": "code",
   "execution_count": null,
   "metadata": {},
   "outputs": [],
   "source": [
    "#hide_input\n",
    "for i in range(300):\n",
    "    pat = meds[meds['id']==i]\n",
    "    med = pd.DataFrame(columns=list(med2como.keys()))\n",
    "    medstatus = {e:0 for e in pat['drug'].unique()}\n",
    "\n",
    "    for drug in pat['drug'].unique():\n",
    "        doses = pat[pat['drug']==drug]['daily_dosage'].values\n",
    "        \n",
    "        inidose = doses[0]\n",
    "        change = 1\n",
    "        \n",
    "        for dose in doses[1:]:\n",
    "            if dose>inidose:\n",
    "                change = 2\n",
    "\n",
    "        meddf.loc[i,drug] = change"
   ]
  },
  {
   "cell_type": "code",
   "execution_count": null,
   "metadata": {},
   "outputs": [
    {
     "data": {
      "text/html": [
       "<div>\n",
       "<style scoped>\n",
       "    .dataframe tbody tr th:only-of-type {\n",
       "        vertical-align: middle;\n",
       "    }\n",
       "\n",
       "    .dataframe tbody tr th {\n",
       "        vertical-align: top;\n",
       "    }\n",
       "\n",
       "    .dataframe thead th {\n",
       "        text-align: right;\n",
       "    }\n",
       "</style>\n",
       "<table border=\"1\" class=\"dataframe\">\n",
       "  <thead>\n",
       "    <tr style=\"text-align: right;\">\n",
       "      <th></th>\n",
       "      <th>atorvastatin</th>\n",
       "      <th>losartan</th>\n",
       "      <th>metformin</th>\n",
       "      <th>rosuvastatin</th>\n",
       "      <th>pravastatin</th>\n",
       "      <th>carvedilol</th>\n",
       "      <th>valsartan</th>\n",
       "      <th>metoprolol</th>\n",
       "      <th>simvastatin</th>\n",
       "      <th>bisoprolol</th>\n",
       "      <th>atenolol</th>\n",
       "      <th>lovastatin</th>\n",
       "      <th>olmesartan</th>\n",
       "      <th>irbesartan</th>\n",
       "      <th>canagliflozin</th>\n",
       "      <th>dapagliflozin</th>\n",
       "      <th>telmisartan</th>\n",
       "      <th>labetalol</th>\n",
       "      <th>nebivolol</th>\n",
       "      <th>pitavastatin</th>\n",
       "      <th>propranolol</th>\n",
       "      <th>id</th>\n",
       "    </tr>\n",
       "  </thead>\n",
       "  <tbody>\n",
       "    <tr>\n",
       "      <th>0</th>\n",
       "      <td>1</td>\n",
       "      <td>1</td>\n",
       "      <td>1</td>\n",
       "      <td>0</td>\n",
       "      <td>0</td>\n",
       "      <td>0</td>\n",
       "      <td>0</td>\n",
       "      <td>0</td>\n",
       "      <td>0</td>\n",
       "      <td>0</td>\n",
       "      <td>0</td>\n",
       "      <td>0</td>\n",
       "      <td>0</td>\n",
       "      <td>0</td>\n",
       "      <td>0</td>\n",
       "      <td>0</td>\n",
       "      <td>0</td>\n",
       "      <td>0</td>\n",
       "      <td>0</td>\n",
       "      <td>0</td>\n",
       "      <td>0</td>\n",
       "      <td>0</td>\n",
       "    </tr>\n",
       "    <tr>\n",
       "      <th>1</th>\n",
       "      <td>2</td>\n",
       "      <td>0</td>\n",
       "      <td>0</td>\n",
       "      <td>0</td>\n",
       "      <td>0</td>\n",
       "      <td>0</td>\n",
       "      <td>0</td>\n",
       "      <td>0</td>\n",
       "      <td>0</td>\n",
       "      <td>0</td>\n",
       "      <td>0</td>\n",
       "      <td>0</td>\n",
       "      <td>0</td>\n",
       "      <td>0</td>\n",
       "      <td>0</td>\n",
       "      <td>0</td>\n",
       "      <td>0</td>\n",
       "      <td>0</td>\n",
       "      <td>0</td>\n",
       "      <td>0</td>\n",
       "      <td>0</td>\n",
       "      <td>1</td>\n",
       "    </tr>\n",
       "    <tr>\n",
       "      <th>2</th>\n",
       "      <td>0</td>\n",
       "      <td>0</td>\n",
       "      <td>0</td>\n",
       "      <td>1</td>\n",
       "      <td>0</td>\n",
       "      <td>0</td>\n",
       "      <td>0</td>\n",
       "      <td>0</td>\n",
       "      <td>0</td>\n",
       "      <td>0</td>\n",
       "      <td>0</td>\n",
       "      <td>0</td>\n",
       "      <td>0</td>\n",
       "      <td>0</td>\n",
       "      <td>0</td>\n",
       "      <td>0</td>\n",
       "      <td>0</td>\n",
       "      <td>0</td>\n",
       "      <td>0</td>\n",
       "      <td>0</td>\n",
       "      <td>0</td>\n",
       "      <td>2</td>\n",
       "    </tr>\n",
       "    <tr>\n",
       "      <th>3</th>\n",
       "      <td>1</td>\n",
       "      <td>0</td>\n",
       "      <td>0</td>\n",
       "      <td>0</td>\n",
       "      <td>0</td>\n",
       "      <td>0</td>\n",
       "      <td>0</td>\n",
       "      <td>0</td>\n",
       "      <td>0</td>\n",
       "      <td>0</td>\n",
       "      <td>0</td>\n",
       "      <td>0</td>\n",
       "      <td>0</td>\n",
       "      <td>0</td>\n",
       "      <td>0</td>\n",
       "      <td>0</td>\n",
       "      <td>0</td>\n",
       "      <td>0</td>\n",
       "      <td>0</td>\n",
       "      <td>0</td>\n",
       "      <td>0</td>\n",
       "      <td>3</td>\n",
       "    </tr>\n",
       "    <tr>\n",
       "      <th>4</th>\n",
       "      <td>0</td>\n",
       "      <td>1</td>\n",
       "      <td>1</td>\n",
       "      <td>0</td>\n",
       "      <td>1</td>\n",
       "      <td>0</td>\n",
       "      <td>0</td>\n",
       "      <td>0</td>\n",
       "      <td>0</td>\n",
       "      <td>0</td>\n",
       "      <td>0</td>\n",
       "      <td>0</td>\n",
       "      <td>0</td>\n",
       "      <td>0</td>\n",
       "      <td>0</td>\n",
       "      <td>0</td>\n",
       "      <td>0</td>\n",
       "      <td>0</td>\n",
       "      <td>0</td>\n",
       "      <td>0</td>\n",
       "      <td>0</td>\n",
       "      <td>4</td>\n",
       "    </tr>\n",
       "  </tbody>\n",
       "</table>\n",
       "</div>"
      ],
      "text/plain": [
       "   atorvastatin  losartan  metformin  ...  pitavastatin  propranolol  id\n",
       "0             1         1          1  ...             0            0   0\n",
       "1             2         0          0  ...             0            0   1\n",
       "2             0         0          0  ...             0            0   2\n",
       "3             1         0          0  ...             0            0   3\n",
       "4             0         1          1  ...             0            0   4\n",
       "\n",
       "[5 rows x 22 columns]"
      ]
     },
     "execution_count": null,
     "metadata": {},
     "output_type": "execute_result"
    }
   ],
   "source": [
    "#hide_input\n",
    "meddf = meddf.fillna(0)\n",
    "med_cat_cols = list(meddf.columns[:-1])\n",
    "meddf.head(5)"
   ]
  },
  {
   "cell_type": "markdown",
   "metadata": {},
   "source": [
    "In the above, `0` means the patient is not on the medicine, `1` means the patient is on the medicine and dosage was not increased at any point during the study and `2` means the patient is on the medicine and the dosage was increased during the study period. "
   ]
  },
  {
   "cell_type": "code",
   "execution_count": null,
   "metadata": {},
   "outputs": [],
   "source": [
    "#hide_input\n",
    "df = pd.read_csv('data/train_df_5f.csv')\n",
    "features = get_features(\"data/dataScienceTask/\")\n",
    "tp1 = 200\n",
    "tp2 = 400\n",
    "df, cont_names = prepare_df_nsetpoints(features, df, 650, [tp1, tp2])\n",
    "df = df.merge(meddf, on='id')\n",
    "procs = [Categorify, FillMissing, Normalize]\n",
    "cat_names = ['race', 'gender']+med_cat_cols\n",
    "y_names = 'Stage_Progress'"
   ]
  },
  {
   "cell_type": "code",
   "execution_count": null,
   "metadata": {},
   "outputs": [
    {
     "data": {
      "text/html": [
       "<table border=\"1\" class=\"dataframe\">\n",
       "  <thead>\n",
       "    <tr style=\"text-align: left;\">\n",
       "      <th>epoch</th>\n",
       "      <th>train_loss</th>\n",
       "      <th>valid_loss</th>\n",
       "      <th>accuracy</th>\n",
       "      <th>time</th>\n",
       "    </tr>\n",
       "  </thead>\n",
       "  <tbody>\n",
       "    <tr>\n",
       "      <td>0</td>\n",
       "      <td>0.772610</td>\n",
       "      <td>0.702374</td>\n",
       "      <td>0.383333</td>\n",
       "      <td>00:00</td>\n",
       "    </tr>\n",
       "    <tr>\n",
       "      <td>1</td>\n",
       "      <td>0.741543</td>\n",
       "      <td>0.694802</td>\n",
       "      <td>0.466667</td>\n",
       "      <td>00:00</td>\n",
       "    </tr>\n",
       "    <tr>\n",
       "      <td>2</td>\n",
       "      <td>0.664141</td>\n",
       "      <td>0.680751</td>\n",
       "      <td>0.533333</td>\n",
       "      <td>00:00</td>\n",
       "    </tr>\n",
       "    <tr>\n",
       "      <td>3</td>\n",
       "      <td>0.607426</td>\n",
       "      <td>0.663641</td>\n",
       "      <td>0.633333</td>\n",
       "      <td>00:00</td>\n",
       "    </tr>\n",
       "    <tr>\n",
       "      <td>4</td>\n",
       "      <td>0.558463</td>\n",
       "      <td>0.652130</td>\n",
       "      <td>0.683333</td>\n",
       "      <td>00:00</td>\n",
       "    </tr>\n",
       "    <tr>\n",
       "      <td>5</td>\n",
       "      <td>0.514805</td>\n",
       "      <td>0.654555</td>\n",
       "      <td>0.666667</td>\n",
       "      <td>00:00</td>\n",
       "    </tr>\n",
       "    <tr>\n",
       "      <td>6</td>\n",
       "      <td>0.480408</td>\n",
       "      <td>0.667615</td>\n",
       "      <td>0.650000</td>\n",
       "      <td>00:00</td>\n",
       "    </tr>\n",
       "    <tr>\n",
       "      <td>7</td>\n",
       "      <td>0.451349</td>\n",
       "      <td>0.686592</td>\n",
       "      <td>0.683333</td>\n",
       "      <td>00:00</td>\n",
       "    </tr>\n",
       "    <tr>\n",
       "      <td>8</td>\n",
       "      <td>0.427077</td>\n",
       "      <td>0.715436</td>\n",
       "      <td>0.683333</td>\n",
       "      <td>00:00</td>\n",
       "    </tr>\n",
       "    <tr>\n",
       "      <td>9</td>\n",
       "      <td>0.405901</td>\n",
       "      <td>0.724255</td>\n",
       "      <td>0.683333</td>\n",
       "      <td>00:00</td>\n",
       "    </tr>\n",
       "  </tbody>\n",
       "</table>"
      ],
      "text/plain": [
       "<IPython.core.display.HTML object>"
      ]
     },
     "metadata": {},
     "output_type": "display_data"
    },
    {
     "name": "stdout",
     "output_type": "stream",
     "text": [
      "Better model found at epoch 0 with accuracy value: 0.38333332538604736.\n",
      "Better model found at epoch 1 with accuracy value: 0.46666666865348816.\n",
      "Better model found at epoch 2 with accuracy value: 0.5333333611488342.\n",
      "Better model found at epoch 3 with accuracy value: 0.6333333253860474.\n",
      "Better model found at epoch 4 with accuracy value: 0.6833333373069763.\n"
     ]
    },
    {
     "data": {
      "text/html": [
       "<table border=\"1\" class=\"dataframe\">\n",
       "  <thead>\n",
       "    <tr style=\"text-align: left;\">\n",
       "      <th>epoch</th>\n",
       "      <th>train_loss</th>\n",
       "      <th>valid_loss</th>\n",
       "      <th>accuracy</th>\n",
       "      <th>time</th>\n",
       "    </tr>\n",
       "  </thead>\n",
       "  <tbody>\n",
       "    <tr>\n",
       "      <td>0</td>\n",
       "      <td>0.720504</td>\n",
       "      <td>0.684683</td>\n",
       "      <td>0.583333</td>\n",
       "      <td>00:00</td>\n",
       "    </tr>\n",
       "    <tr>\n",
       "      <td>1</td>\n",
       "      <td>0.685674</td>\n",
       "      <td>0.684024</td>\n",
       "      <td>0.583333</td>\n",
       "      <td>00:00</td>\n",
       "    </tr>\n",
       "    <tr>\n",
       "      <td>2</td>\n",
       "      <td>0.637900</td>\n",
       "      <td>0.671664</td>\n",
       "      <td>0.616667</td>\n",
       "      <td>00:00</td>\n",
       "    </tr>\n",
       "    <tr>\n",
       "      <td>3</td>\n",
       "      <td>0.590621</td>\n",
       "      <td>0.648025</td>\n",
       "      <td>0.683333</td>\n",
       "      <td>00:00</td>\n",
       "    </tr>\n",
       "    <tr>\n",
       "      <td>4</td>\n",
       "      <td>0.549945</td>\n",
       "      <td>0.630204</td>\n",
       "      <td>0.716667</td>\n",
       "      <td>00:00</td>\n",
       "    </tr>\n",
       "    <tr>\n",
       "      <td>5</td>\n",
       "      <td>0.517541</td>\n",
       "      <td>0.626764</td>\n",
       "      <td>0.683333</td>\n",
       "      <td>00:00</td>\n",
       "    </tr>\n",
       "    <tr>\n",
       "      <td>6</td>\n",
       "      <td>0.486333</td>\n",
       "      <td>0.642517</td>\n",
       "      <td>0.666667</td>\n",
       "      <td>00:00</td>\n",
       "    </tr>\n",
       "    <tr>\n",
       "      <td>7</td>\n",
       "      <td>0.456344</td>\n",
       "      <td>0.653914</td>\n",
       "      <td>0.666667</td>\n",
       "      <td>00:00</td>\n",
       "    </tr>\n",
       "    <tr>\n",
       "      <td>8</td>\n",
       "      <td>0.434685</td>\n",
       "      <td>0.664120</td>\n",
       "      <td>0.650000</td>\n",
       "      <td>00:00</td>\n",
       "    </tr>\n",
       "    <tr>\n",
       "      <td>9</td>\n",
       "      <td>0.412782</td>\n",
       "      <td>0.674347</td>\n",
       "      <td>0.650000</td>\n",
       "      <td>00:00</td>\n",
       "    </tr>\n",
       "  </tbody>\n",
       "</table>"
      ],
      "text/plain": [
       "<IPython.core.display.HTML object>"
      ]
     },
     "metadata": {},
     "output_type": "display_data"
    },
    {
     "name": "stdout",
     "output_type": "stream",
     "text": [
      "Better model found at epoch 0 with accuracy value: 0.5833333134651184.\n",
      "Better model found at epoch 2 with accuracy value: 0.6166666746139526.\n",
      "Better model found at epoch 3 with accuracy value: 0.6833333373069763.\n",
      "Better model found at epoch 4 with accuracy value: 0.7166666388511658.\n"
     ]
    },
    {
     "data": {
      "text/html": [
       "<table border=\"1\" class=\"dataframe\">\n",
       "  <thead>\n",
       "    <tr style=\"text-align: left;\">\n",
       "      <th>epoch</th>\n",
       "      <th>train_loss</th>\n",
       "      <th>valid_loss</th>\n",
       "      <th>accuracy</th>\n",
       "      <th>time</th>\n",
       "    </tr>\n",
       "  </thead>\n",
       "  <tbody>\n",
       "    <tr>\n",
       "      <td>0</td>\n",
       "      <td>0.750803</td>\n",
       "      <td>0.693002</td>\n",
       "      <td>0.566667</td>\n",
       "      <td>00:00</td>\n",
       "    </tr>\n",
       "    <tr>\n",
       "      <td>1</td>\n",
       "      <td>0.714205</td>\n",
       "      <td>0.677168</td>\n",
       "      <td>0.633333</td>\n",
       "      <td>00:00</td>\n",
       "    </tr>\n",
       "    <tr>\n",
       "      <td>2</td>\n",
       "      <td>0.653280</td>\n",
       "      <td>0.646879</td>\n",
       "      <td>0.700000</td>\n",
       "      <td>00:00</td>\n",
       "    </tr>\n",
       "    <tr>\n",
       "      <td>3</td>\n",
       "      <td>0.603945</td>\n",
       "      <td>0.617327</td>\n",
       "      <td>0.716667</td>\n",
       "      <td>00:00</td>\n",
       "    </tr>\n",
       "    <tr>\n",
       "      <td>4</td>\n",
       "      <td>0.551350</td>\n",
       "      <td>0.596257</td>\n",
       "      <td>0.733333</td>\n",
       "      <td>00:00</td>\n",
       "    </tr>\n",
       "    <tr>\n",
       "      <td>5</td>\n",
       "      <td>0.516918</td>\n",
       "      <td>0.579279</td>\n",
       "      <td>0.716667</td>\n",
       "      <td>00:00</td>\n",
       "    </tr>\n",
       "    <tr>\n",
       "      <td>6</td>\n",
       "      <td>0.485936</td>\n",
       "      <td>0.566017</td>\n",
       "      <td>0.716667</td>\n",
       "      <td>00:00</td>\n",
       "    </tr>\n",
       "    <tr>\n",
       "      <td>7</td>\n",
       "      <td>0.456292</td>\n",
       "      <td>0.567056</td>\n",
       "      <td>0.666667</td>\n",
       "      <td>00:00</td>\n",
       "    </tr>\n",
       "    <tr>\n",
       "      <td>8</td>\n",
       "      <td>0.436264</td>\n",
       "      <td>0.567728</td>\n",
       "      <td>0.666667</td>\n",
       "      <td>00:00</td>\n",
       "    </tr>\n",
       "    <tr>\n",
       "      <td>9</td>\n",
       "      <td>0.418616</td>\n",
       "      <td>0.572448</td>\n",
       "      <td>0.650000</td>\n",
       "      <td>00:00</td>\n",
       "    </tr>\n",
       "  </tbody>\n",
       "</table>"
      ],
      "text/plain": [
       "<IPython.core.display.HTML object>"
      ]
     },
     "metadata": {},
     "output_type": "display_data"
    },
    {
     "name": "stdout",
     "output_type": "stream",
     "text": [
      "Better model found at epoch 0 with accuracy value: 0.5666666626930237.\n",
      "Better model found at epoch 1 with accuracy value: 0.6333333253860474.\n",
      "Better model found at epoch 2 with accuracy value: 0.699999988079071.\n",
      "Better model found at epoch 3 with accuracy value: 0.7166666388511658.\n",
      "Better model found at epoch 4 with accuracy value: 0.7333333492279053.\n"
     ]
    },
    {
     "data": {
      "text/html": [
       "<table border=\"1\" class=\"dataframe\">\n",
       "  <thead>\n",
       "    <tr style=\"text-align: left;\">\n",
       "      <th>epoch</th>\n",
       "      <th>train_loss</th>\n",
       "      <th>valid_loss</th>\n",
       "      <th>accuracy</th>\n",
       "      <th>time</th>\n",
       "    </tr>\n",
       "  </thead>\n",
       "  <tbody>\n",
       "    <tr>\n",
       "      <td>0</td>\n",
       "      <td>0.744684</td>\n",
       "      <td>0.682757</td>\n",
       "      <td>0.716667</td>\n",
       "      <td>00:00</td>\n",
       "    </tr>\n",
       "    <tr>\n",
       "      <td>1</td>\n",
       "      <td>0.713337</td>\n",
       "      <td>0.681678</td>\n",
       "      <td>0.616667</td>\n",
       "      <td>00:00</td>\n",
       "    </tr>\n",
       "    <tr>\n",
       "      <td>2</td>\n",
       "      <td>0.676132</td>\n",
       "      <td>0.672464</td>\n",
       "      <td>0.566667</td>\n",
       "      <td>00:00</td>\n",
       "    </tr>\n",
       "    <tr>\n",
       "      <td>3</td>\n",
       "      <td>0.640843</td>\n",
       "      <td>0.649547</td>\n",
       "      <td>0.683333</td>\n",
       "      <td>00:00</td>\n",
       "    </tr>\n",
       "    <tr>\n",
       "      <td>4</td>\n",
       "      <td>0.601676</td>\n",
       "      <td>0.623653</td>\n",
       "      <td>0.700000</td>\n",
       "      <td>00:00</td>\n",
       "    </tr>\n",
       "    <tr>\n",
       "      <td>5</td>\n",
       "      <td>0.562288</td>\n",
       "      <td>0.602642</td>\n",
       "      <td>0.716667</td>\n",
       "      <td>00:00</td>\n",
       "    </tr>\n",
       "    <tr>\n",
       "      <td>6</td>\n",
       "      <td>0.536302</td>\n",
       "      <td>0.586730</td>\n",
       "      <td>0.683333</td>\n",
       "      <td>00:00</td>\n",
       "    </tr>\n",
       "    <tr>\n",
       "      <td>7</td>\n",
       "      <td>0.507059</td>\n",
       "      <td>0.577992</td>\n",
       "      <td>0.700000</td>\n",
       "      <td>00:00</td>\n",
       "    </tr>\n",
       "    <tr>\n",
       "      <td>8</td>\n",
       "      <td>0.483991</td>\n",
       "      <td>0.573808</td>\n",
       "      <td>0.700000</td>\n",
       "      <td>00:00</td>\n",
       "    </tr>\n",
       "    <tr>\n",
       "      <td>9</td>\n",
       "      <td>0.463147</td>\n",
       "      <td>0.569076</td>\n",
       "      <td>0.700000</td>\n",
       "      <td>00:00</td>\n",
       "    </tr>\n",
       "  </tbody>\n",
       "</table>"
      ],
      "text/plain": [
       "<IPython.core.display.HTML object>"
      ]
     },
     "metadata": {},
     "output_type": "display_data"
    },
    {
     "name": "stdout",
     "output_type": "stream",
     "text": [
      "Better model found at epoch 0 with accuracy value: 0.7166666388511658.\n"
     ]
    }
   ],
   "source": [
    "#hide_output\n",
    "train_df = df[df['fold']!= 4].reset_index(drop=True)\n",
    "test_df = df[df['fold']== 4].reset_index(drop=True)\n",
    "\n",
    "for i in range(4):\n",
    "    dls, tabdf = get_tabpandas_dls(i, train_df, procs, cat_names, cont_names, y_names, 32)\n",
    "    emb_szs = get_emb_sz(tabdf)\n",
    "    learn = tabular_learner(dls, [100,50], \n",
    "                            metrics=accuracy, \n",
    "                            cbs=[SaveModelCallback(monitor='accuracy', \n",
    "                                                   fname=f'tab_3pt_meds_{i}')])\n",
    "    \n",
    "    learn.fit_one_cycle(10, 0.002)"
   ]
  },
  {
   "cell_type": "code",
   "execution_count": null,
   "metadata": {},
   "outputs": [],
   "source": [
    "#hide\n",
    "categorical_dims = {o:len(i) for o,i in dls.train.categorify.classes.items()}\n",
    "test_cats = dict(test_df[list(categorical_dims.keys())].nunique())\n",
    "test_cats = {k:v+1 for k, v in test_cats.items()}"
   ]
  },
  {
   "cell_type": "code",
   "execution_count": null,
   "metadata": {},
   "outputs": [
    {
     "name": "stdout",
     "output_type": "stream",
     "text": [
      "carvedilol\n",
      "valsartan\n",
      "metoprolol\n",
      "propranolol\n"
     ]
    }
   ],
   "source": [
    "#hide\n",
    "for k, v in categorical_dims.items():\n",
    "    if test_cats[k] > v:\n",
    "        print(f'{k}')"
   ]
  },
  {
   "cell_type": "code",
   "execution_count": null,
   "metadata": {},
   "outputs": [],
   "source": [
    "#hide\n",
    "test_df = test_df[test_df['metoprolol'] != 2]\n",
    "test_df = test_df[test_df['simvastatin'] != 2].reset_index(drop=True)"
   ]
  },
  {
   "cell_type": "code",
   "execution_count": null,
   "metadata": {},
   "outputs": [
    {
     "name": "stderr",
     "output_type": "stream",
     "text": [
      "/usr/local/lib/python3.7/dist-packages/fastai/learner.py:56: UserWarning: Saved filed doesn't contain an optimizer state.\n",
      "  elif with_opt: warn(\"Saved filed doesn't contain an optimizer state.\")\n"
     ]
    },
    {
     "data": {
      "text/html": [
       ""
      ],
      "text/plain": [
       "<IPython.core.display.HTML object>"
      ]
     },
     "metadata": {},
     "output_type": "display_data"
    },
    {
     "name": "stderr",
     "output_type": "stream",
     "text": [
      "/usr/local/lib/python3.7/dist-packages/fastai/learner.py:56: UserWarning: Saved filed doesn't contain an optimizer state.\n",
      "  elif with_opt: warn(\"Saved filed doesn't contain an optimizer state.\")\n"
     ]
    },
    {
     "data": {
      "text/html": [
       ""
      ],
      "text/plain": [
       "<IPython.core.display.HTML object>"
      ]
     },
     "metadata": {},
     "output_type": "display_data"
    },
    {
     "name": "stderr",
     "output_type": "stream",
     "text": [
      "/usr/local/lib/python3.7/dist-packages/fastai/learner.py:56: UserWarning: Saved filed doesn't contain an optimizer state.\n",
      "  elif with_opt: warn(\"Saved filed doesn't contain an optimizer state.\")\n"
     ]
    },
    {
     "data": {
      "text/html": [
       ""
      ],
      "text/plain": [
       "<IPython.core.display.HTML object>"
      ]
     },
     "metadata": {},
     "output_type": "display_data"
    },
    {
     "name": "stderr",
     "output_type": "stream",
     "text": [
      "/usr/local/lib/python3.7/dist-packages/fastai/learner.py:56: UserWarning: Saved filed doesn't contain an optimizer state.\n",
      "  elif with_opt: warn(\"Saved filed doesn't contain an optimizer state.\")\n"
     ]
    },
    {
     "data": {
      "text/html": [
       ""
      ],
      "text/plain": [
       "<IPython.core.display.HTML object>"
      ]
     },
     "metadata": {},
     "output_type": "display_data"
    }
   ],
   "source": [
    "#hide_output\n",
    "test_dl = dls.test_dl(test_df)\n",
    "\n",
    "preds = []\n",
    "for i in range(4):\n",
    "    dls, tabdf = get_tabpandas_dls(i, train_df, procs, cat_names, cont_names, y_names, 32)\n",
    "    emb_szs = get_emb_sz(tabdf)\n",
    "    learn = tabular_learner(dls, [100,50], \n",
    "                        metrics=accuracy, \n",
    "                        cbs=[SaveModelCallback(monitor='accuracy')])\n",
    "    \n",
    "    learn.load(f'tab_3pt_meds_{i}')\n",
    "    pred, y_true = learn.get_preds(dl=test_dl)\n",
    "    preds.append(pred)\n",
    "\n",
    "y_true = test_dl.y.values\n",
    "y_pred = np.array(torch.argmax(torch.stack(preds).mean(0),1))"
   ]
  },
  {
   "cell_type": "code",
   "execution_count": null,
   "metadata": {},
   "outputs": [
    {
     "name": "stdout",
     "output_type": "stream",
     "text": [
      "5-fold accuracy score: 0.64\n"
     ]
    }
   ],
   "source": [
    "#hide_input\n",
    "print(f'5-fold accuracy score: {accuracy_score(y_true, y_pred):.2f}')"
   ]
  },
  {
   "cell_type": "code",
   "execution_count": null,
   "metadata": {},
   "outputs": [
    {
     "data": {
      "text/plain": [
       "<matplotlib.axes._subplots.AxesSubplot at 0x7f487c73a090>"
      ]
     },
     "execution_count": null,
     "metadata": {},
     "output_type": "execute_result"
    },
    {
     "data": {
      "image/png": "[encoded data removed]",
      "text/plain": [
       "<Figure size 432x288 with 2 Axes>"
      ]
     },
     "metadata": {
      "needs_background": "light"
     },
     "output_type": "display_data"
    }
   ],
   "source": [
    "#hide_input\n",
    "sns.heatmap(confusion_matrix(y_true, y_pred), annot=True, cmap='Blues')"
   ]
  }
 ],
 "metadata": {
  "kernelspec": {
   "display_name": "Python 3",
   "name": "python3"
  }
 },
 "nbformat": 4,
 "nbformat_minor": 0
}
