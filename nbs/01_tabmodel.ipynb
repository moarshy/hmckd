{
 "cells": [
  {
   "cell_type": "code",
   "execution_count": null,
   "metadata": {},
   "outputs": [],
   "source": [
    "# default_exp utils_tab"
   ]
  },
  {
   "cell_type": "code",
   "execution_count": null,
   "metadata": {},
   "outputs": [
    {
     "name": "stdout",
     "output_type": "stream",
     "text": [
      "Drive already mounted at /content/drive; to attempt to forcibly remount, call drive.mount(\"/content/drive\", force_remount=True).\n"
     ]
    }
   ],
   "source": [
    "#hide\n",
    "#all_ignoretest\n",
    "from google.colab import drive\n",
    "drive.mount('/content/drive')"
   ]
  },
  {
   "cell_type": "code",
   "execution_count": null,
   "metadata": {},
   "outputs": [
    {
     "name": "stdout",
     "output_type": "stream",
     "text": [
      "Requirement already satisfied: einops in /usr/local/lib/python3.7/dist-packages (0.3.2)\n"
     ]
    }
   ],
   "source": [
    "#hide\n",
    "!pip install fastai -Uqq\n",
    "!pip install einops"
   ]
  },
  {
   "cell_type": "code",
   "execution_count": null,
   "metadata": {},
   "outputs": [
    {
     "name": "stdout",
     "output_type": "stream",
     "text": [
      "/content/drive/MyDrive/colab_notebooks/hmckd\n"
     ]
    }
   ],
   "source": [
    "#hide\n",
    "%cd '/content/drive/MyDrive/colab_notebooks/hmckd'\n",
    "!pip3 install -e . -q"
   ]
  },
  {
   "cell_type": "markdown",
   "metadata": {},
   "source": [
    "# Building Simple TabularModel\n",
    "> In this notebook, we will build different TabularModels to tackle the task"
   ]
  },
  {
   "cell_type": "code",
   "execution_count": null,
   "metadata": {},
   "outputs": [],
   "source": [
    "#hide\n",
    "from nbdev import * \n",
    "import seaborn as sns\n",
    "from hmckd.utils import get_features, baseline_df, get_tabpandas_dls, med2como\n",
    "from fastai.tabular.all import *\n",
    "from sklearn.metrics import accuracy_score, confusion_matrix"
   ]
  },
  {
   "cell_type": "code",
   "execution_count": null,
   "metadata": {},
   "outputs": [],
   "source": [
    "#exporti\n",
    "from fastai.tabular.all import *\n",
    "from hmckd.utils import get_features, baseline_df, get_tabpandas_dls, med2como\n",
    "\n",
    "def timept_df(features:dict, timept=200, maxtimept=650):\n",
    "\n",
    "    'prepares datapoints for a given timepoint'\n",
    "  \n",
    "    d = None\n",
    "    for k,v in features.items():\n",
    "        df = v[(v['time']!=0)]\n",
    "        df = v[(v['time']<maxtimept)]\n",
    "        allpat = list(v.id.unique())\n",
    "        \n",
    "        pair = []\n",
    "        for pat in allpat:\n",
    "            pattime = df[df['id']==pat]['time'].values\n",
    "            pair.append((pat, min(pattime, key=lambda x:abs(x-timept))))\n",
    "\n",
    "        value = []\n",
    "        for pat, time in pair:\n",
    "            value.append((pat, df[(df['id']==pat)&(df['time']==time)]['value'].values[0]))\n",
    "\n",
    "        if d is None:\n",
    "          d = pd.DataFrame(value).rename(columns={0:'id', 1:f\"{k}_{timept}\"})\n",
    "        else:\n",
    "          d = d.merge(pd.DataFrame(value).rename(columns={0:'id', 1:f\"{k}_{timept}\"}), on='id')\n",
    "\n",
    "    return d\n",
    "\n",
    "\n",
    "def prepare_df_nsetpoints(features, train_df, maxtimept, timepoints:list):\n",
    "    \n",
    "    \"prepares a single dataframe for ntimepoint model based on given time points\"\n",
    "\n",
    "    bdf = baseline_df(features, train_df)\n",
    "    \n",
    "    for pt in timepoints: \n",
    "        bdf = bdf.merge(timept_df(features, pt), on='id')\n",
    "\n",
    "    cont_col = ['ldl', 'creatinine', 'glucose', 'sbp', 'dbp', 'hgb']\n",
    "    cont_cols = []\n",
    "    for pt in timepoints:\n",
    "        for col in cont_col:\n",
    "            cont_cols.append(f\"{col}_{pt}\")\n",
    "    for col in cont_col: cont_cols.append(col)\n",
    "    cont_cols.append('age')\n",
    "    return bdf, cont_cols\n",
    "\n",
    "\n",
    "def prepare_df_firstnpoints(features, train_df, n_points=6, maxtimept=650):\n",
    "    'prepares dataframe for first n-points model'\n",
    "    tups = []\n",
    "    feats = ['hgb', 'ldl', 'glucose', 'creatinine', 'sbp', 'dbp']\n",
    "    for i in range(300):\n",
    "        pts = [i]\n",
    "        for k in feats:\n",
    "            pat = features[k][features[k]['id'] == i]\n",
    "            pat = pat[pat['time'] <maxtimept]\n",
    "            pat = list(pat['value'].values)\n",
    "\n",
    "            for j in range(n_points):\n",
    "                if j < len(pat): pts.append(pat[j])\n",
    "                else: pts.append(np.NaN)\n",
    "\n",
    "        tups.append(pts)\n",
    "\n",
    "    cols = ['id']\n",
    "    for feat in feats:\n",
    "        for i in range(n_points):\n",
    "            cols.append(f\"{feat}_{i}\")\n",
    "\n",
    "    df = pd.DataFrame(tups, columns=cols)\n",
    "    df = train_df[['id', 'race', 'gender', 'age', 'fold', 'Stage_Progress']].merge(df, on='id')\n",
    "    \n",
    "    cont_cols = cols[1:]\n",
    "    cont_cols.append('age')\n",
    "\n",
    "    return df, cont_cols"
   ]
  },
  {
   "cell_type": "markdown",
   "metadata": {},
   "source": [
    "## n_setpoints TabularModel "
   ]
  },
  {
   "cell_type": "markdown",
   "metadata": {},
   "source": [
    "### 2_setpoints TabularModel"
   ]
  },
  {
   "cell_type": "code",
   "execution_count": null,
   "metadata": {},
   "outputs": [
    {
     "data": {
      "text/plain": [
       "Text(0.5, 1.0, 'Figure 1: Depicting lab measurement inputs for 2_setpoints TabularModel')"
      ]
     },
     "execution_count": null,
     "metadata": {},
     "output_type": "execute_result"
    },
    {
     "data": {
      "image/png": "[encoded data removed]",
      "text/plain": [
       "<Figure size 720x720 with 1 Axes>"
      ]
     },
     "metadata": {
      "needs_background": "light"
     },
     "output_type": "display_data"
    }
   ],
   "source": [
    "#hide_input\n",
    "plt.figure(figsize=(10,10))\n",
    "plt.scatter(range(1,10), [0 for e in range(1, 10)], marker='*', linewidths=3)\n",
    "plt.scatter(range(1,10), [200+random.randint(-50, 50) for e in range(1, 10)], marker='*', linewidths=3)\n",
    "plt.scatter(range(1,10), [400+random.randint(-50, 50) for e in range(1, 10)], marker='*', linewidths=3)\n",
    "\n",
    "plt.hlines(200, 0, 10)\n",
    "plt.hlines(400, 0, 10)\n",
    "plt.xlim(1,10)\n",
    "plt.ylim(-10,750)\n",
    "plt.title(\"Figure 1: Depicting lab measurement inputs for 2_setpoints TabularModel\")"
   ]
  },
  {
   "cell_type": "markdown",
   "metadata": {},
   "source": [
    "For our n_setpoints TabularModel, we will take lab meaurements data points from  baseline and `n` other given time points. Example a 2_setpoints model would consist of \n",
    "\n",
    "1. Baseline lab measurements\n",
    "2. lab measurement that is closes to 200 days from baseline \n",
    "3. lab measurement that is closes to 400 days from baseline\n",
    "4. also demographic features\n",
    "\n",
    "The second and third setpoint can be a hyperparameter.\n",
    "\n",
    "In setting up our problem as above, one of the potential issue we would face is that the same measurement could be used for both setpoint1 and setpoint2."
   ]
  },
  {
   "cell_type": "code",
   "execution_count": null,
   "metadata": {},
   "outputs": [
    {
     "data": {
      "text/plain": [
       "TabularModel(\n",
       "  (embeds): ModuleList(\n",
       "    (0): Embedding(6, 4)\n",
       "    (1): Embedding(3, 3)\n",
       "  )\n",
       "  (emb_drop): Dropout(p=0.0, inplace=False)\n",
       "  (bn_cont): BatchNorm1d(19, eps=1e-05, momentum=0.1, affine=True, track_running_stats=True)\n",
       "  (layers): Sequential(\n",
       "    (0): LinBnDrop(\n",
       "      (0): Linear(in_features=26, out_features=100, bias=False)\n",
       "      (1): ReLU(inplace=True)\n",
       "      (2): BatchNorm1d(100, eps=1e-05, momentum=0.1, affine=True, track_running_stats=True)\n",
       "    )\n",
       "    (1): LinBnDrop(\n",
       "      (0): Linear(in_features=100, out_features=50, bias=False)\n",
       "      (1): ReLU(inplace=True)\n",
       "      (2): BatchNorm1d(50, eps=1e-05, momentum=0.1, affine=True, track_running_stats=True)\n",
       "    )\n",
       "    (2): LinBnDrop(\n",
       "      (0): Linear(in_features=50, out_features=2, bias=True)\n",
       "    )\n",
       "  )\n",
       ")"
      ]
     },
     "execution_count": null,
     "metadata": {},
     "output_type": "execute_result"
    }
   ],
   "source": [
    "#hide_input\n",
    "df = pd.read_csv('data/train_df_5f.csv')\n",
    "features = get_features(\"data/dataScienceTask/\")\n",
    "tp1 = 200\n",
    "tp2 = 400\n",
    "df, cont_names = prepare_df_nsetpoints(features, df, 650, [tp1, tp2])\n",
    "procs = [Categorify, FillMissing, Normalize]\n",
    "cat_names = ['race', 'gender']\n",
    "y_names = 'Stage_Progress'\n",
    "dls, tabdf = get_tabpandas_dls(0, df, procs, cat_names, cont_names, y_names, 32)\n",
    "emb_szs = get_emb_sz(tabdf)\n",
    "cont_len = len(tabdf.cont_names)\n",
    "learn = tabular_learner(dls, [100,50])\n",
    "learn.model"
   ]
  },
  {
   "cell_type": "markdown",
   "metadata": {},
   "source": [
    "The above `TabularModel` is what we will use. \n",
    "\n",
    "> - The categorical features are put through an embedding layer (EL). \n",
    "> - The outputs from EL are but through  a dropout layer and a batchnorm layer before concatenating them with the continuous features\n",
    "> - The concatenated outputs are then put through two linear layers of size 100 and 50 respectively. The linear layers are followed by a non-linear layer and a batchnorm layer. \n",
    "> - The outputs are then put through a final linear layer with 2 outputs.\n",
    "> - Loss function of Choice : CrossEntropy"
   ]
  },
  {
   "cell_type": "code",
   "execution_count": null,
   "metadata": {},
   "outputs": [
    {
     "name": "stdout",
     "output_type": "stream",
     "text": [
      "Our continuous columns are\n",
      "['ldl_200', 'creatinine_200', 'glucose_200', 'sbp_200', 'dbp_200', 'hgb_200', 'ldl_400', 'creatinine_400', 'glucose_400', 'sbp_400', 'dbp_400', 'hgb_400', 'ldl', 'creatinine', 'glucose', 'sbp', 'dbp', 'hgb', 'age']\n"
     ]
    }
   ],
   "source": [
    "#hide_input\n",
    "print('Our continuous columns are')\n",
    "print(dls.cont_names)"
   ]
  },
  {
   "cell_type": "code",
   "execution_count": null,
   "metadata": {},
   "outputs": [
    {
     "name": "stdout",
     "output_type": "stream",
     "text": [
      "Our categorical columns are\n",
      "['race', 'gender']\n"
     ]
    }
   ],
   "source": [
    "#hide_input\n",
    "print('Our categorical columns are')\n",
    "print(dls.cat_names)"
   ]
  },
  {
   "cell_type": "code",
   "execution_count": null,
   "metadata": {},
   "outputs": [
    {
     "data": {
      "text/html": [
       "<table border=\"1\" class=\"dataframe\">\n",
       "  <thead>\n",
       "    <tr style=\"text-align: left;\">\n",
       "      <th>epoch</th>\n",
       "      <th>train_loss</th>\n",
       "      <th>valid_loss</th>\n",
       "      <th>accuracy</th>\n",
       "      <th>time</th>\n",
       "    </tr>\n",
       "  </thead>\n",
       "  <tbody>\n",
       "    <tr>\n",
       "      <td>0</td>\n",
       "      <td>0.892934</td>\n",
       "      <td>0.739335</td>\n",
       "      <td>0.350000</td>\n",
       "      <td>00:00</td>\n",
       "    </tr>\n",
       "    <tr>\n",
       "      <td>1</td>\n",
       "      <td>0.813197</td>\n",
       "      <td>0.747954</td>\n",
       "      <td>0.333333</td>\n",
       "      <td>00:00</td>\n",
       "    </tr>\n",
       "    <tr>\n",
       "      <td>2</td>\n",
       "      <td>0.752412</td>\n",
       "      <td>0.751872</td>\n",
       "      <td>0.316667</td>\n",
       "      <td>00:00</td>\n",
       "    </tr>\n",
       "    <tr>\n",
       "      <td>3</td>\n",
       "      <td>0.683389</td>\n",
       "      <td>0.761968</td>\n",
       "      <td>0.516667</td>\n",
       "      <td>00:00</td>\n",
       "    </tr>\n",
       "    <tr>\n",
       "      <td>4</td>\n",
       "      <td>0.626243</td>\n",
       "      <td>0.774659</td>\n",
       "      <td>0.550000</td>\n",
       "      <td>00:00</td>\n",
       "    </tr>\n",
       "    <tr>\n",
       "      <td>5</td>\n",
       "      <td>0.583679</td>\n",
       "      <td>0.797419</td>\n",
       "      <td>0.550000</td>\n",
       "      <td>00:00</td>\n",
       "    </tr>\n",
       "    <tr>\n",
       "      <td>6</td>\n",
       "      <td>0.548005</td>\n",
       "      <td>0.803389</td>\n",
       "      <td>0.583333</td>\n",
       "      <td>00:00</td>\n",
       "    </tr>\n",
       "    <tr>\n",
       "      <td>7</td>\n",
       "      <td>0.519826</td>\n",
       "      <td>0.830706</td>\n",
       "      <td>0.583333</td>\n",
       "      <td>00:00</td>\n",
       "    </tr>\n",
       "    <tr>\n",
       "      <td>8</td>\n",
       "      <td>0.495339</td>\n",
       "      <td>0.841488</td>\n",
       "      <td>0.600000</td>\n",
       "      <td>00:00</td>\n",
       "    </tr>\n",
       "    <tr>\n",
       "      <td>9</td>\n",
       "      <td>0.471010</td>\n",
       "      <td>0.848521</td>\n",
       "      <td>0.600000</td>\n",
       "      <td>00:00</td>\n",
       "    </tr>\n",
       "  </tbody>\n",
       "</table>"
      ],
      "text/plain": [
       "<IPython.core.display.HTML object>"
      ]
     },
     "metadata": {},
     "output_type": "display_data"
    },
    {
     "name": "stdout",
     "output_type": "stream",
     "text": [
      "Better model found at epoch 0 with accuracy value: 0.3499999940395355.\n",
      "Better model found at epoch 3 with accuracy value: 0.5166666507720947.\n",
      "Better model found at epoch 4 with accuracy value: 0.550000011920929.\n",
      "Better model found at epoch 6 with accuracy value: 0.5833333134651184.\n",
      "Better model found at epoch 8 with accuracy value: 0.6000000238418579.\n"
     ]
    },
    {
     "data": {
      "text/html": [
       "<table border=\"1\" class=\"dataframe\">\n",
       "  <thead>\n",
       "    <tr style=\"text-align: left;\">\n",
       "      <th>epoch</th>\n",
       "      <th>train_loss</th>\n",
       "      <th>valid_loss</th>\n",
       "      <th>accuracy</th>\n",
       "      <th>time</th>\n",
       "    </tr>\n",
       "  </thead>\n",
       "  <tbody>\n",
       "    <tr>\n",
       "      <td>0</td>\n",
       "      <td>0.710120</td>\n",
       "      <td>0.672903</td>\n",
       "      <td>0.583333</td>\n",
       "      <td>00:00</td>\n",
       "    </tr>\n",
       "    <tr>\n",
       "      <td>1</td>\n",
       "      <td>0.682742</td>\n",
       "      <td>0.653054</td>\n",
       "      <td>0.616667</td>\n",
       "      <td>00:00</td>\n",
       "    </tr>\n",
       "    <tr>\n",
       "      <td>2</td>\n",
       "      <td>0.649505</td>\n",
       "      <td>0.627754</td>\n",
       "      <td>0.716667</td>\n",
       "      <td>00:00</td>\n",
       "    </tr>\n",
       "    <tr>\n",
       "      <td>3</td>\n",
       "      <td>0.619092</td>\n",
       "      <td>0.610917</td>\n",
       "      <td>0.683333</td>\n",
       "      <td>00:00</td>\n",
       "    </tr>\n",
       "    <tr>\n",
       "      <td>4</td>\n",
       "      <td>0.579167</td>\n",
       "      <td>0.588706</td>\n",
       "      <td>0.700000</td>\n",
       "      <td>00:00</td>\n",
       "    </tr>\n",
       "    <tr>\n",
       "      <td>5</td>\n",
       "      <td>0.549068</td>\n",
       "      <td>0.578389</td>\n",
       "      <td>0.683333</td>\n",
       "      <td>00:00</td>\n",
       "    </tr>\n",
       "    <tr>\n",
       "      <td>6</td>\n",
       "      <td>0.519168</td>\n",
       "      <td>0.575759</td>\n",
       "      <td>0.700000</td>\n",
       "      <td>00:00</td>\n",
       "    </tr>\n",
       "    <tr>\n",
       "      <td>7</td>\n",
       "      <td>0.493905</td>\n",
       "      <td>0.578991</td>\n",
       "      <td>0.700000</td>\n",
       "      <td>00:00</td>\n",
       "    </tr>\n",
       "    <tr>\n",
       "      <td>8</td>\n",
       "      <td>0.472807</td>\n",
       "      <td>0.580991</td>\n",
       "      <td>0.700000</td>\n",
       "      <td>00:00</td>\n",
       "    </tr>\n",
       "    <tr>\n",
       "      <td>9</td>\n",
       "      <td>0.455541</td>\n",
       "      <td>0.584567</td>\n",
       "      <td>0.683333</td>\n",
       "      <td>00:00</td>\n",
       "    </tr>\n",
       "  </tbody>\n",
       "</table>"
      ],
      "text/plain": [
       "<IPython.core.display.HTML object>"
      ]
     },
     "metadata": {},
     "output_type": "display_data"
    },
    {
     "name": "stdout",
     "output_type": "stream",
     "text": [
      "Better model found at epoch 0 with accuracy value: 0.5833333134651184.\n",
      "Better model found at epoch 1 with accuracy value: 0.6166666746139526.\n",
      "Better model found at epoch 2 with accuracy value: 0.7166666388511658.\n"
     ]
    },
    {
     "data": {
      "text/html": [
       "<table border=\"1\" class=\"dataframe\">\n",
       "  <thead>\n",
       "    <tr style=\"text-align: left;\">\n",
       "      <th>epoch</th>\n",
       "      <th>train_loss</th>\n",
       "      <th>valid_loss</th>\n",
       "      <th>accuracy</th>\n",
       "      <th>time</th>\n",
       "    </tr>\n",
       "  </thead>\n",
       "  <tbody>\n",
       "    <tr>\n",
       "      <td>0</td>\n",
       "      <td>0.682891</td>\n",
       "      <td>0.694236</td>\n",
       "      <td>0.566667</td>\n",
       "      <td>00:00</td>\n",
       "    </tr>\n",
       "    <tr>\n",
       "      <td>1</td>\n",
       "      <td>0.667372</td>\n",
       "      <td>0.674243</td>\n",
       "      <td>0.616667</td>\n",
       "      <td>00:00</td>\n",
       "    </tr>\n",
       "    <tr>\n",
       "      <td>2</td>\n",
       "      <td>0.640276</td>\n",
       "      <td>0.657442</td>\n",
       "      <td>0.633333</td>\n",
       "      <td>00:00</td>\n",
       "    </tr>\n",
       "    <tr>\n",
       "      <td>3</td>\n",
       "      <td>0.603598</td>\n",
       "      <td>0.640649</td>\n",
       "      <td>0.616667</td>\n",
       "      <td>00:00</td>\n",
       "    </tr>\n",
       "    <tr>\n",
       "      <td>4</td>\n",
       "      <td>0.571253</td>\n",
       "      <td>0.626638</td>\n",
       "      <td>0.666667</td>\n",
       "      <td>00:00</td>\n",
       "    </tr>\n",
       "    <tr>\n",
       "      <td>5</td>\n",
       "      <td>0.549553</td>\n",
       "      <td>0.628485</td>\n",
       "      <td>0.650000</td>\n",
       "      <td>00:00</td>\n",
       "    </tr>\n",
       "    <tr>\n",
       "      <td>6</td>\n",
       "      <td>0.522426</td>\n",
       "      <td>0.632641</td>\n",
       "      <td>0.633333</td>\n",
       "      <td>00:00</td>\n",
       "    </tr>\n",
       "    <tr>\n",
       "      <td>7</td>\n",
       "      <td>0.503146</td>\n",
       "      <td>0.636370</td>\n",
       "      <td>0.633333</td>\n",
       "      <td>00:00</td>\n",
       "    </tr>\n",
       "    <tr>\n",
       "      <td>8</td>\n",
       "      <td>0.482821</td>\n",
       "      <td>0.643610</td>\n",
       "      <td>0.633333</td>\n",
       "      <td>00:00</td>\n",
       "    </tr>\n",
       "    <tr>\n",
       "      <td>9</td>\n",
       "      <td>0.468565</td>\n",
       "      <td>0.642365</td>\n",
       "      <td>0.633333</td>\n",
       "      <td>00:00</td>\n",
       "    </tr>\n",
       "  </tbody>\n",
       "</table>"
      ],
      "text/plain": [
       "<IPython.core.display.HTML object>"
      ]
     },
     "metadata": {},
     "output_type": "display_data"
    },
    {
     "name": "stdout",
     "output_type": "stream",
     "text": [
      "Better model found at epoch 0 with accuracy value: 0.5666666626930237.\n",
      "Better model found at epoch 1 with accuracy value: 0.6166666746139526.\n",
      "Better model found at epoch 2 with accuracy value: 0.6333333253860474.\n",
      "Better model found at epoch 4 with accuracy value: 0.6666666865348816.\n"
     ]
    },
    {
     "data": {
      "text/html": [
       "<table border=\"1\" class=\"dataframe\">\n",
       "  <thead>\n",
       "    <tr style=\"text-align: left;\">\n",
       "      <th>epoch</th>\n",
       "      <th>train_loss</th>\n",
       "      <th>valid_loss</th>\n",
       "      <th>accuracy</th>\n",
       "      <th>time</th>\n",
       "    </tr>\n",
       "  </thead>\n",
       "  <tbody>\n",
       "    <tr>\n",
       "      <td>0</td>\n",
       "      <td>0.795797</td>\n",
       "      <td>0.765124</td>\n",
       "      <td>0.333333</td>\n",
       "      <td>00:00</td>\n",
       "    </tr>\n",
       "    <tr>\n",
       "      <td>1</td>\n",
       "      <td>0.770453</td>\n",
       "      <td>0.763999</td>\n",
       "      <td>0.333333</td>\n",
       "      <td>00:00</td>\n",
       "    </tr>\n",
       "    <tr>\n",
       "      <td>2</td>\n",
       "      <td>0.725870</td>\n",
       "      <td>0.732737</td>\n",
       "      <td>0.400000</td>\n",
       "      <td>00:00</td>\n",
       "    </tr>\n",
       "    <tr>\n",
       "      <td>3</td>\n",
       "      <td>0.684856</td>\n",
       "      <td>0.694411</td>\n",
       "      <td>0.516667</td>\n",
       "      <td>00:00</td>\n",
       "    </tr>\n",
       "    <tr>\n",
       "      <td>4</td>\n",
       "      <td>0.640115</td>\n",
       "      <td>0.662005</td>\n",
       "      <td>0.633333</td>\n",
       "      <td>00:00</td>\n",
       "    </tr>\n",
       "    <tr>\n",
       "      <td>5</td>\n",
       "      <td>0.597210</td>\n",
       "      <td>0.636186</td>\n",
       "      <td>0.666667</td>\n",
       "      <td>00:00</td>\n",
       "    </tr>\n",
       "    <tr>\n",
       "      <td>6</td>\n",
       "      <td>0.569988</td>\n",
       "      <td>0.623920</td>\n",
       "      <td>0.716667</td>\n",
       "      <td>00:00</td>\n",
       "    </tr>\n",
       "    <tr>\n",
       "      <td>7</td>\n",
       "      <td>0.540470</td>\n",
       "      <td>0.615325</td>\n",
       "      <td>0.716667</td>\n",
       "      <td>00:00</td>\n",
       "    </tr>\n",
       "    <tr>\n",
       "      <td>8</td>\n",
       "      <td>0.516287</td>\n",
       "      <td>0.612280</td>\n",
       "      <td>0.700000</td>\n",
       "      <td>00:00</td>\n",
       "    </tr>\n",
       "    <tr>\n",
       "      <td>9</td>\n",
       "      <td>0.494441</td>\n",
       "      <td>0.621002</td>\n",
       "      <td>0.700000</td>\n",
       "      <td>00:00</td>\n",
       "    </tr>\n",
       "  </tbody>\n",
       "</table>"
      ],
      "text/plain": [
       "<IPython.core.display.HTML object>"
      ]
     },
     "metadata": {},
     "output_type": "display_data"
    },
    {
     "name": "stdout",
     "output_type": "stream",
     "text": [
      "Better model found at epoch 0 with accuracy value: 0.3333333432674408.\n",
      "Better model found at epoch 2 with accuracy value: 0.4000000059604645.\n",
      "Better model found at epoch 3 with accuracy value: 0.5166666507720947.\n",
      "Better model found at epoch 4 with accuracy value: 0.6333333253860474.\n",
      "Better model found at epoch 5 with accuracy value: 0.6666666865348816.\n",
      "Better model found at epoch 6 with accuracy value: 0.7166666388511658.\n"
     ]
    }
   ],
   "source": [
    "#hide_output\n",
    "train_df = df[df['fold']!= 4].reset_index(drop=True)\n",
    "test_df = df[df['fold']== 4].reset_index(drop=True)\n",
    "for i in range(4):\n",
    "    dls, tabdf = get_tabpandas_dls(i, train_df, procs, cat_names, cont_names, y_names, 32)\n",
    "    emb_szs = get_emb_sz(tabdf)\n",
    "    learn = tabular_learner(dls, [100,50], \n",
    "                            metrics=accuracy, \n",
    "                            cbs=[SaveModelCallback(monitor='accuracy', \n",
    "                                                   fname=f'tab_3pt_{i}')])\n",
    "    \n",
    "    learn.fit_one_cycle(10, 0.002)"
   ]
  },
  {
   "cell_type": "code",
   "execution_count": null,
   "metadata": {},
   "outputs": [
    {
     "name": "stderr",
     "output_type": "stream",
     "text": [
      "/usr/local/lib/python3.7/dist-packages/fastai/learner.py:56: UserWarning: Saved filed doesn't contain an optimizer state.\n",
      "  elif with_opt: warn(\"Saved filed doesn't contain an optimizer state.\")\n"
     ]
    },
    {
     "data": {
      "text/html": [
       ""
      ],
      "text/plain": [
       "<IPython.core.display.HTML object>"
      ]
     },
     "metadata": {},
     "output_type": "display_data"
    },
    {
     "name": "stderr",
     "output_type": "stream",
     "text": [
      "/usr/local/lib/python3.7/dist-packages/fastai/learner.py:56: UserWarning: Saved filed doesn't contain an optimizer state.\n",
      "  elif with_opt: warn(\"Saved filed doesn't contain an optimizer state.\")\n"
     ]
    },
    {
     "data": {
      "text/html": [
       ""
      ],
      "text/plain": [
       "<IPython.core.display.HTML object>"
      ]
     },
     "metadata": {},
     "output_type": "display_data"
    },
    {
     "name": "stderr",
     "output_type": "stream",
     "text": [
      "/usr/local/lib/python3.7/dist-packages/fastai/learner.py:56: UserWarning: Saved filed doesn't contain an optimizer state.\n",
      "  elif with_opt: warn(\"Saved filed doesn't contain an optimizer state.\")\n"
     ]
    },
    {
     "data": {
      "text/html": [
       ""
      ],
      "text/plain": [
       "<IPython.core.display.HTML object>"
      ]
     },
     "metadata": {},
     "output_type": "display_data"
    },
    {
     "name": "stderr",
     "output_type": "stream",
     "text": [
      "/usr/local/lib/python3.7/dist-packages/fastai/learner.py:56: UserWarning: Saved filed doesn't contain an optimizer state.\n",
      "  elif with_opt: warn(\"Saved filed doesn't contain an optimizer state.\")\n"
     ]
    },
    {
     "data": {
      "text/html": [
       ""
      ],
      "text/plain": [
       "<IPython.core.display.HTML object>"
      ]
     },
     "metadata": {},
     "output_type": "display_data"
    }
   ],
   "source": [
    "#hide_output\n",
    "test_dl = dls.test_dl(test_df)\n",
    "preds = []\n",
    "for i in range(4):\n",
    "    dls, tabdf = get_tabpandas_dls(i, train_df, procs, cat_names, cont_names, y_names, 32)\n",
    "    emb_szs = get_emb_sz(tabdf)\n",
    "    learn = tabular_learner(dls, [100,50], \n",
    "                        metrics=accuracy, \n",
    "                        cbs=[SaveModelCallback(monitor='accuracy')])\n",
    "    \n",
    "    learn.load(f'tab_3pt_{i}')\n",
    "    pred, y_pred, y_true = learn.get_preds(dl=test_dl, with_decoded=True)\n",
    "    preds.append(pred)\n",
    "  \n",
    "y_true = test_dl.y.values\n",
    "y_pred = np.array(torch.argmax(torch.stack(preds).mean(0),1))"
   ]
  },
  {
   "cell_type": "code",
   "execution_count": null,
   "metadata": {},
   "outputs": [
    {
     "name": "stdout",
     "output_type": "stream",
     "text": [
      "5-fold accuracy score: 0.72\n"
     ]
    }
   ],
   "source": [
    "#hide_input\n",
    "print(f'5-fold accuracy score: {accuracy_score(y_true, y_pred):.2f}')"
   ]
  },
  {
   "cell_type": "code",
   "execution_count": null,
   "metadata": {},
   "outputs": [
    {
     "data": {
      "text/plain": [
       "<matplotlib.axes._subplots.AxesSubplot at 0x7f15042975d0>"
      ]
     },
     "execution_count": null,
     "metadata": {},
     "output_type": "execute_result"
    },
    {
     "data": {
      "image/png": "[encoded data removed]",
      "text/plain": [
       "<Figure size 432x288 with 2 Axes>"
      ]
     },
     "metadata": {
      "needs_background": "light"
     },
     "output_type": "display_data"
    }
   ],
   "source": [
    "#hide_input\n",
    "sns.heatmap(confusion_matrix(y_true, y_pred), annot=True, cmap='Blues')"
   ]
  },
  {
   "cell_type": "markdown",
   "metadata": {},
   "source": [
    "Next, we will use weighted loss to account for class imbalance"
   ]
  },
  {
   "cell_type": "code",
   "execution_count": null,
   "metadata": {},
   "outputs": [
    {
     "data": {
      "text/html": [
       "<table border=\"1\" class=\"dataframe\">\n",
       "  <thead>\n",
       "    <tr style=\"text-align: left;\">\n",
       "      <th>epoch</th>\n",
       "      <th>train_loss</th>\n",
       "      <th>valid_loss</th>\n",
       "      <th>accuracy</th>\n",
       "      <th>time</th>\n",
       "    </tr>\n",
       "  </thead>\n",
       "  <tbody>\n",
       "    <tr>\n",
       "      <td>0</td>\n",
       "      <td>0.805911</td>\n",
       "      <td>0.689526</td>\n",
       "      <td>0.566667</td>\n",
       "      <td>00:00</td>\n",
       "    </tr>\n",
       "    <tr>\n",
       "      <td>1</td>\n",
       "      <td>0.755587</td>\n",
       "      <td>0.684138</td>\n",
       "      <td>0.683333</td>\n",
       "      <td>00:00</td>\n",
       "    </tr>\n",
       "    <tr>\n",
       "      <td>2</td>\n",
       "      <td>0.684403</td>\n",
       "      <td>0.681028</td>\n",
       "      <td>0.533333</td>\n",
       "      <td>00:00</td>\n",
       "    </tr>\n",
       "    <tr>\n",
       "      <td>3</td>\n",
       "      <td>0.625263</td>\n",
       "      <td>0.688284</td>\n",
       "      <td>0.516667</td>\n",
       "      <td>00:00</td>\n",
       "    </tr>\n",
       "    <tr>\n",
       "      <td>4</td>\n",
       "      <td>0.572699</td>\n",
       "      <td>0.692457</td>\n",
       "      <td>0.566667</td>\n",
       "      <td>00:00</td>\n",
       "    </tr>\n",
       "    <tr>\n",
       "      <td>5</td>\n",
       "      <td>0.538933</td>\n",
       "      <td>0.712302</td>\n",
       "      <td>0.533333</td>\n",
       "      <td>00:00</td>\n",
       "    </tr>\n",
       "    <tr>\n",
       "      <td>6</td>\n",
       "      <td>0.510298</td>\n",
       "      <td>0.728526</td>\n",
       "      <td>0.516667</td>\n",
       "      <td>00:00</td>\n",
       "    </tr>\n",
       "    <tr>\n",
       "      <td>7</td>\n",
       "      <td>0.484844</td>\n",
       "      <td>0.743840</td>\n",
       "      <td>0.533333</td>\n",
       "      <td>00:00</td>\n",
       "    </tr>\n",
       "    <tr>\n",
       "      <td>8</td>\n",
       "      <td>0.472128</td>\n",
       "      <td>0.758646</td>\n",
       "      <td>0.533333</td>\n",
       "      <td>00:00</td>\n",
       "    </tr>\n",
       "    <tr>\n",
       "      <td>9</td>\n",
       "      <td>0.454356</td>\n",
       "      <td>0.766602</td>\n",
       "      <td>0.533333</td>\n",
       "      <td>00:00</td>\n",
       "    </tr>\n",
       "  </tbody>\n",
       "</table>"
      ],
      "text/plain": [
       "<IPython.core.display.HTML object>"
      ]
     },
     "metadata": {},
     "output_type": "display_data"
    },
    {
     "name": "stdout",
     "output_type": "stream",
     "text": [
      "Better model found at epoch 0 with accuracy value: 0.5666666626930237.\n",
      "Better model found at epoch 1 with accuracy value: 0.6833333373069763.\n"
     ]
    },
    {
     "data": {
      "text/html": [
       "<table border=\"1\" class=\"dataframe\">\n",
       "  <thead>\n",
       "    <tr style=\"text-align: left;\">\n",
       "      <th>epoch</th>\n",
       "      <th>train_loss</th>\n",
       "      <th>valid_loss</th>\n",
       "      <th>accuracy</th>\n",
       "      <th>time</th>\n",
       "    </tr>\n",
       "  </thead>\n",
       "  <tbody>\n",
       "    <tr>\n",
       "      <td>0</td>\n",
       "      <td>0.740439</td>\n",
       "      <td>0.683479</td>\n",
       "      <td>0.450000</td>\n",
       "      <td>00:00</td>\n",
       "    </tr>\n",
       "    <tr>\n",
       "      <td>1</td>\n",
       "      <td>0.728768</td>\n",
       "      <td>0.670492</td>\n",
       "      <td>0.566667</td>\n",
       "      <td>00:00</td>\n",
       "    </tr>\n",
       "    <tr>\n",
       "      <td>2</td>\n",
       "      <td>0.684698</td>\n",
       "      <td>0.645090</td>\n",
       "      <td>0.616667</td>\n",
       "      <td>00:00</td>\n",
       "    </tr>\n",
       "    <tr>\n",
       "      <td>3</td>\n",
       "      <td>0.642509</td>\n",
       "      <td>0.625980</td>\n",
       "      <td>0.650000</td>\n",
       "      <td>00:00</td>\n",
       "    </tr>\n",
       "    <tr>\n",
       "      <td>4</td>\n",
       "      <td>0.605587</td>\n",
       "      <td>0.608067</td>\n",
       "      <td>0.683333</td>\n",
       "      <td>00:00</td>\n",
       "    </tr>\n",
       "    <tr>\n",
       "      <td>5</td>\n",
       "      <td>0.567949</td>\n",
       "      <td>0.597596</td>\n",
       "      <td>0.716667</td>\n",
       "      <td>00:00</td>\n",
       "    </tr>\n",
       "    <tr>\n",
       "      <td>6</td>\n",
       "      <td>0.533862</td>\n",
       "      <td>0.605315</td>\n",
       "      <td>0.666667</td>\n",
       "      <td>00:00</td>\n",
       "    </tr>\n",
       "    <tr>\n",
       "      <td>7</td>\n",
       "      <td>0.506669</td>\n",
       "      <td>0.617612</td>\n",
       "      <td>0.650000</td>\n",
       "      <td>00:00</td>\n",
       "    </tr>\n",
       "    <tr>\n",
       "      <td>8</td>\n",
       "      <td>0.484463</td>\n",
       "      <td>0.629058</td>\n",
       "      <td>0.600000</td>\n",
       "      <td>00:00</td>\n",
       "    </tr>\n",
       "    <tr>\n",
       "      <td>9</td>\n",
       "      <td>0.462991</td>\n",
       "      <td>0.635122</td>\n",
       "      <td>0.583333</td>\n",
       "      <td>00:00</td>\n",
       "    </tr>\n",
       "  </tbody>\n",
       "</table>"
      ],
      "text/plain": [
       "<IPython.core.display.HTML object>"
      ]
     },
     "metadata": {},
     "output_type": "display_data"
    },
    {
     "name": "stdout",
     "output_type": "stream",
     "text": [
      "Better model found at epoch 0 with accuracy value: 0.44999998807907104.\n",
      "Better model found at epoch 1 with accuracy value: 0.5666666626930237.\n",
      "Better model found at epoch 2 with accuracy value: 0.6166666746139526.\n",
      "Better model found at epoch 3 with accuracy value: 0.6499999761581421.\n",
      "Better model found at epoch 4 with accuracy value: 0.6833333373069763.\n",
      "Better model found at epoch 5 with accuracy value: 0.7166666388511658.\n"
     ]
    },
    {
     "data": {
      "text/html": [
       "<table border=\"1\" class=\"dataframe\">\n",
       "  <thead>\n",
       "    <tr style=\"text-align: left;\">\n",
       "      <th>epoch</th>\n",
       "      <th>train_loss</th>\n",
       "      <th>valid_loss</th>\n",
       "      <th>accuracy</th>\n",
       "      <th>time</th>\n",
       "    </tr>\n",
       "  </thead>\n",
       "  <tbody>\n",
       "    <tr>\n",
       "      <td>0</td>\n",
       "      <td>0.693974</td>\n",
       "      <td>0.686679</td>\n",
       "      <td>0.516667</td>\n",
       "      <td>00:00</td>\n",
       "    </tr>\n",
       "    <tr>\n",
       "      <td>1</td>\n",
       "      <td>0.667157</td>\n",
       "      <td>0.683788</td>\n",
       "      <td>0.600000</td>\n",
       "      <td>00:00</td>\n",
       "    </tr>\n",
       "    <tr>\n",
       "      <td>2</td>\n",
       "      <td>0.640347</td>\n",
       "      <td>0.682758</td>\n",
       "      <td>0.616667</td>\n",
       "      <td>00:00</td>\n",
       "    </tr>\n",
       "    <tr>\n",
       "      <td>3</td>\n",
       "      <td>0.603936</td>\n",
       "      <td>0.683654</td>\n",
       "      <td>0.616667</td>\n",
       "      <td>00:00</td>\n",
       "    </tr>\n",
       "    <tr>\n",
       "      <td>4</td>\n",
       "      <td>0.582698</td>\n",
       "      <td>0.686945</td>\n",
       "      <td>0.650000</td>\n",
       "      <td>00:00</td>\n",
       "    </tr>\n",
       "    <tr>\n",
       "      <td>5</td>\n",
       "      <td>0.552227</td>\n",
       "      <td>0.693994</td>\n",
       "      <td>0.600000</td>\n",
       "      <td>00:00</td>\n",
       "    </tr>\n",
       "    <tr>\n",
       "      <td>6</td>\n",
       "      <td>0.525359</td>\n",
       "      <td>0.701947</td>\n",
       "      <td>0.600000</td>\n",
       "      <td>00:00</td>\n",
       "    </tr>\n",
       "    <tr>\n",
       "      <td>7</td>\n",
       "      <td>0.500965</td>\n",
       "      <td>0.712076</td>\n",
       "      <td>0.616667</td>\n",
       "      <td>00:00</td>\n",
       "    </tr>\n",
       "    <tr>\n",
       "      <td>8</td>\n",
       "      <td>0.485971</td>\n",
       "      <td>0.718798</td>\n",
       "      <td>0.616667</td>\n",
       "      <td>00:00</td>\n",
       "    </tr>\n",
       "    <tr>\n",
       "      <td>9</td>\n",
       "      <td>0.469336</td>\n",
       "      <td>0.724087</td>\n",
       "      <td>0.633333</td>\n",
       "      <td>00:00</td>\n",
       "    </tr>\n",
       "  </tbody>\n",
       "</table>"
      ],
      "text/plain": [
       "<IPython.core.display.HTML object>"
      ]
     },
     "metadata": {},
     "output_type": "display_data"
    },
    {
     "name": "stdout",
     "output_type": "stream",
     "text": [
      "Better model found at epoch 0 with accuracy value: 0.5166666507720947.\n",
      "Better model found at epoch 1 with accuracy value: 0.6000000238418579.\n",
      "Better model found at epoch 2 with accuracy value: 0.6166666746139526.\n",
      "Better model found at epoch 4 with accuracy value: 0.6499999761581421.\n"
     ]
    },
    {
     "data": {
      "text/html": [
       "<table border=\"1\" class=\"dataframe\">\n",
       "  <thead>\n",
       "    <tr style=\"text-align: left;\">\n",
       "      <th>epoch</th>\n",
       "      <th>train_loss</th>\n",
       "      <th>valid_loss</th>\n",
       "      <th>accuracy</th>\n",
       "      <th>time</th>\n",
       "    </tr>\n",
       "  </thead>\n",
       "  <tbody>\n",
       "    <tr>\n",
       "      <td>0</td>\n",
       "      <td>0.773542</td>\n",
       "      <td>0.701805</td>\n",
       "      <td>0.500000</td>\n",
       "      <td>00:00</td>\n",
       "    </tr>\n",
       "    <tr>\n",
       "      <td>1</td>\n",
       "      <td>0.734839</td>\n",
       "      <td>0.686301</td>\n",
       "      <td>0.633333</td>\n",
       "      <td>00:00</td>\n",
       "    </tr>\n",
       "    <tr>\n",
       "      <td>2</td>\n",
       "      <td>0.696993</td>\n",
       "      <td>0.657625</td>\n",
       "      <td>0.683333</td>\n",
       "      <td>00:00</td>\n",
       "    </tr>\n",
       "    <tr>\n",
       "      <td>3</td>\n",
       "      <td>0.651663</td>\n",
       "      <td>0.627570</td>\n",
       "      <td>0.700000</td>\n",
       "      <td>00:00</td>\n",
       "    </tr>\n",
       "    <tr>\n",
       "      <td>4</td>\n",
       "      <td>0.606814</td>\n",
       "      <td>0.608523</td>\n",
       "      <td>0.733333</td>\n",
       "      <td>00:00</td>\n",
       "    </tr>\n",
       "    <tr>\n",
       "      <td>5</td>\n",
       "      <td>0.573388</td>\n",
       "      <td>0.582369</td>\n",
       "      <td>0.716667</td>\n",
       "      <td>00:00</td>\n",
       "    </tr>\n",
       "    <tr>\n",
       "      <td>6</td>\n",
       "      <td>0.542613</td>\n",
       "      <td>0.565478</td>\n",
       "      <td>0.700000</td>\n",
       "      <td>00:00</td>\n",
       "    </tr>\n",
       "    <tr>\n",
       "      <td>7</td>\n",
       "      <td>0.521545</td>\n",
       "      <td>0.560523</td>\n",
       "      <td>0.716667</td>\n",
       "      <td>00:00</td>\n",
       "    </tr>\n",
       "    <tr>\n",
       "      <td>8</td>\n",
       "      <td>0.499566</td>\n",
       "      <td>0.557723</td>\n",
       "      <td>0.716667</td>\n",
       "      <td>00:00</td>\n",
       "    </tr>\n",
       "    <tr>\n",
       "      <td>9</td>\n",
       "      <td>0.483343</td>\n",
       "      <td>0.560154</td>\n",
       "      <td>0.700000</td>\n",
       "      <td>00:00</td>\n",
       "    </tr>\n",
       "  </tbody>\n",
       "</table>"
      ],
      "text/plain": [
       "<IPython.core.display.HTML object>"
      ]
     },
     "metadata": {},
     "output_type": "display_data"
    },
    {
     "name": "stdout",
     "output_type": "stream",
     "text": [
      "Better model found at epoch 0 with accuracy value: 0.5.\n",
      "Better model found at epoch 1 with accuracy value: 0.6333333253860474.\n",
      "Better model found at epoch 2 with accuracy value: 0.6833333373069763.\n",
      "Better model found at epoch 3 with accuracy value: 0.699999988079071.\n",
      "Better model found at epoch 4 with accuracy value: 0.7333333492279053.\n"
     ]
    }
   ],
   "source": [
    "#hide_output\n",
    "for i in range(4):\n",
    "    dls, tabdf = get_tabpandas_dls(i, train_df, procs, cat_names, cont_names, y_names, 32)\n",
    "    emb_szs = get_emb_sz(tabdf)\n",
    "    learn = tabular_learner(dls, [100,50], \n",
    "                            metrics=accuracy, \n",
    "                            cbs=[SaveModelCallback(monitor='accuracy', \n",
    "                                                   fname=f'tab_3pt_wl_{i}')])\n",
    "    learn.loss_func = CrossEntropyLossFlat(weight=tensor([0.67, 1.33]))\n",
    "    \n",
    "    learn.fit_one_cycle(10, 0.002)"
   ]
  },
  {
   "cell_type": "code",
   "execution_count": null,
   "metadata": {},
   "outputs": [
    {
     "name": "stderr",
     "output_type": "stream",
     "text": [
      "/usr/local/lib/python3.7/dist-packages/fastai/learner.py:56: UserWarning: Saved filed doesn't contain an optimizer state.\n",
      "  elif with_opt: warn(\"Saved filed doesn't contain an optimizer state.\")\n"
     ]
    },
    {
     "data": {
      "text/html": [
       ""
      ],
      "text/plain": [
       "<IPython.core.display.HTML object>"
      ]
     },
     "metadata": {},
     "output_type": "display_data"
    },
    {
     "name": "stderr",
     "output_type": "stream",
     "text": [
      "/usr/local/lib/python3.7/dist-packages/fastai/learner.py:56: UserWarning: Saved filed doesn't contain an optimizer state.\n",
      "  elif with_opt: warn(\"Saved filed doesn't contain an optimizer state.\")\n"
     ]
    },
    {
     "data": {
      "text/html": [
       ""
      ],
      "text/plain": [
       "<IPython.core.display.HTML object>"
      ]
     },
     "metadata": {},
     "output_type": "display_data"
    },
    {
     "name": "stderr",
     "output_type": "stream",
     "text": [
      "/usr/local/lib/python3.7/dist-packages/fastai/learner.py:56: UserWarning: Saved filed doesn't contain an optimizer state.\n",
      "  elif with_opt: warn(\"Saved filed doesn't contain an optimizer state.\")\n"
     ]
    },
    {
     "data": {
      "text/html": [
       ""
      ],
      "text/plain": [
       "<IPython.core.display.HTML object>"
      ]
     },
     "metadata": {},
     "output_type": "display_data"
    },
    {
     "name": "stderr",
     "output_type": "stream",
     "text": [
      "/usr/local/lib/python3.7/dist-packages/fastai/learner.py:56: UserWarning: Saved filed doesn't contain an optimizer state.\n",
      "  elif with_opt: warn(\"Saved filed doesn't contain an optimizer state.\")\n"
     ]
    },
    {
     "data": {
      "text/html": [
       ""
      ],
      "text/plain": [
       "<IPython.core.display.HTML object>"
      ]
     },
     "metadata": {},
     "output_type": "display_data"
    }
   ],
   "source": [
    "#hide_output\n",
    "test_dl = dls.test_dl(test_df)\n",
    "preds = []\n",
    "for i in range(4):\n",
    "    dls, tabdf = get_tabpandas_dls(i, train_df, procs, cat_names, cont_names, y_names, 32)\n",
    "    emb_szs = get_emb_sz(tabdf)\n",
    "    learn = tabular_learner(dls, [100,50], \n",
    "                        metrics=accuracy, \n",
    "                        cbs=[SaveModelCallback(monitor='accuracy')])\n",
    "    \n",
    "    learn.load(f'tab_3pt_wl_{i}')\n",
    "    pred, y_pred, y_true = learn.get_preds(dl=test_dl, with_decoded=True)\n",
    "    preds.append(pred)\n",
    "  \n",
    "y_true = test_dl.y.values\n",
    "y_pred = np.array(torch.argmax(torch.stack(preds).mean(0),1))"
   ]
  },
  {
   "cell_type": "code",
   "execution_count": null,
   "metadata": {},
   "outputs": [
    {
     "name": "stdout",
     "output_type": "stream",
     "text": [
      "5-fold accuracy score: 0.63\n"
     ]
    }
   ],
   "source": [
    "#hide_input\n",
    "print(f'5-fold accuracy score: {accuracy_score(y_true, y_pred):.2f}')"
   ]
  },
  {
   "cell_type": "code",
   "execution_count": null,
   "metadata": {},
   "outputs": [
    {
     "data": {
      "text/plain": [
       "<matplotlib.axes._subplots.AxesSubplot at 0x7f14fb94f4d0>"
      ]
     },
     "execution_count": null,
     "metadata": {},
     "output_type": "execute_result"
    },
    {
     "data": {
      "image/png": "[encoded data removed]",
      "text/plain": [
       "<Figure size 432x288 with 2 Axes>"
      ]
     },
     "metadata": {
      "needs_background": "light"
     },
     "output_type": "display_data"
    }
   ],
   "source": [
    "#hide_input\n",
    "sns.heatmap(confusion_matrix(y_true, y_pred), annot=True, cmap='Blues')"
   ]
  },
  {
   "cell_type": "markdown",
   "metadata": {},
   "source": [
    "### 5_setpoints TabularModel"
   ]
  },
  {
   "cell_type": "code",
   "execution_count": null,
   "metadata": {},
   "outputs": [
    {
     "data": {
      "text/plain": [
       "Text(0.5, 1.0, 'Figure 2: Depicting lab measurement inputs for 5_setpoints TabularModel')"
      ]
     },
     "execution_count": null,
     "metadata": {},
     "output_type": "execute_result"
    },
    {
     "data": {
      "image/png": "[encoded data removed]",
      "text/plain": [
       "<Figure size 720x720 with 1 Axes>"
      ]
     },
     "metadata": {
      "needs_background": "light"
     },
     "output_type": "display_data"
    }
   ],
   "source": [
    "#hide_input\n",
    "plt.figure(figsize=(10,10))\n",
    "plt.scatter(range(1,10), [0 for e in range(1, 10)], marker='*', linewidths=3)\n",
    "plt.scatter(range(1,10), [100+random.randint(-50, 50) for e in range(1, 10)], marker='*', linewidths=3)\n",
    "plt.scatter(range(1,10), [200+random.randint(-50, 50) for e in range(1, 10)], marker='*', linewidths=3)\n",
    "plt.scatter(range(1,10), [300+random.randint(-50, 50) for e in range(1, 10)], marker='*', linewidths=3)\n",
    "plt.scatter(range(1,10), [400+random.randint(-50, 50) for e in range(1, 10)], marker='*', linewidths=3)\n",
    "plt.scatter(range(1,10), [500+random.randint(-50, 50) for e in range(1, 10)], marker='*', linewidths=3)\n",
    "\n",
    "plt.hlines(100, 0, 10)\n",
    "plt.hlines(200, 0, 10)\n",
    "plt.hlines(300, 0, 10)\n",
    "plt.hlines(400, 0, 10)\n",
    "plt.hlines(500, 0, 10)\n",
    "plt.xlim(1,10)\n",
    "plt.ylim(-10,750)\n",
    "plt.title(\"Figure 2: Depicting lab measurement inputs for 5_setpoints TabularModel\")"
   ]
  },
  {
   "cell_type": "markdown",
   "metadata": {},
   "source": [
    "In our 5-point model, we will take data from baseline and 5 other setpoints as shown in `Figure-2` above."
   ]
  },
  {
   "cell_type": "code",
   "execution_count": null,
   "metadata": {},
   "outputs": [],
   "source": [
    "#hide_input\n",
    "df = pd.read_csv('data/train_df_5f.csv')\n",
    "df, cont_names = prepare_df_nsetpoints(features, df, 650, [100,200,300,400,500])\n",
    "procs = [Categorify, FillMissing, Normalize]\n",
    "y_names = 'Stage_Progress'\n",
    "y_block = CategoryBlock()\n",
    "cat_names = ['race', 'gender']"
   ]
  },
  {
   "cell_type": "code",
   "execution_count": null,
   "metadata": {},
   "outputs": [
    {
     "data": {
      "text/html": [
       "<table border=\"1\" class=\"dataframe\">\n",
       "  <thead>\n",
       "    <tr style=\"text-align: left;\">\n",
       "      <th>epoch</th>\n",
       "      <th>train_loss</th>\n",
       "      <th>valid_loss</th>\n",
       "      <th>accuracy</th>\n",
       "      <th>time</th>\n",
       "    </tr>\n",
       "  </thead>\n",
       "  <tbody>\n",
       "    <tr>\n",
       "      <td>0</td>\n",
       "      <td>0.774519</td>\n",
       "      <td>0.701423</td>\n",
       "      <td>0.450000</td>\n",
       "      <td>00:00</td>\n",
       "    </tr>\n",
       "    <tr>\n",
       "      <td>1</td>\n",
       "      <td>0.753023</td>\n",
       "      <td>0.680508</td>\n",
       "      <td>0.566667</td>\n",
       "      <td>00:00</td>\n",
       "    </tr>\n",
       "    <tr>\n",
       "      <td>2</td>\n",
       "      <td>0.688860</td>\n",
       "      <td>0.666480</td>\n",
       "      <td>0.583333</td>\n",
       "      <td>00:00</td>\n",
       "    </tr>\n",
       "    <tr>\n",
       "      <td>3</td>\n",
       "      <td>0.637570</td>\n",
       "      <td>0.654578</td>\n",
       "      <td>0.633333</td>\n",
       "      <td>00:00</td>\n",
       "    </tr>\n",
       "    <tr>\n",
       "      <td>4</td>\n",
       "      <td>0.585074</td>\n",
       "      <td>0.637203</td>\n",
       "      <td>0.633333</td>\n",
       "      <td>00:00</td>\n",
       "    </tr>\n",
       "    <tr>\n",
       "      <td>5</td>\n",
       "      <td>0.542358</td>\n",
       "      <td>0.633834</td>\n",
       "      <td>0.666667</td>\n",
       "      <td>00:00</td>\n",
       "    </tr>\n",
       "    <tr>\n",
       "      <td>6</td>\n",
       "      <td>0.508753</td>\n",
       "      <td>0.643325</td>\n",
       "      <td>0.683333</td>\n",
       "      <td>00:00</td>\n",
       "    </tr>\n",
       "    <tr>\n",
       "      <td>7</td>\n",
       "      <td>0.479363</td>\n",
       "      <td>0.652896</td>\n",
       "      <td>0.683333</td>\n",
       "      <td>00:00</td>\n",
       "    </tr>\n",
       "    <tr>\n",
       "      <td>8</td>\n",
       "      <td>0.452565</td>\n",
       "      <td>0.652868</td>\n",
       "      <td>0.666667</td>\n",
       "      <td>00:00</td>\n",
       "    </tr>\n",
       "    <tr>\n",
       "      <td>9</td>\n",
       "      <td>0.432720</td>\n",
       "      <td>0.656690</td>\n",
       "      <td>0.666667</td>\n",
       "      <td>00:00</td>\n",
       "    </tr>\n",
       "  </tbody>\n",
       "</table>"
      ],
      "text/plain": [
       "<IPython.core.display.HTML object>"
      ]
     },
     "metadata": {},
     "output_type": "display_data"
    },
    {
     "name": "stdout",
     "output_type": "stream",
     "text": [
      "Better model found at epoch 0 with accuracy value: 0.44999998807907104.\n",
      "Better model found at epoch 1 with accuracy value: 0.5666666626930237.\n",
      "Better model found at epoch 2 with accuracy value: 0.5833333134651184.\n",
      "Better model found at epoch 3 with accuracy value: 0.6333333253860474.\n",
      "Better model found at epoch 5 with accuracy value: 0.6666666865348816.\n",
      "Better model found at epoch 6 with accuracy value: 0.6833333373069763.\n"
     ]
    },
    {
     "data": {
      "text/html": [
       "<table border=\"1\" class=\"dataframe\">\n",
       "  <thead>\n",
       "    <tr style=\"text-align: left;\">\n",
       "      <th>epoch</th>\n",
       "      <th>train_loss</th>\n",
       "      <th>valid_loss</th>\n",
       "      <th>accuracy</th>\n",
       "      <th>time</th>\n",
       "    </tr>\n",
       "  </thead>\n",
       "  <tbody>\n",
       "    <tr>\n",
       "      <td>0</td>\n",
       "      <td>0.705520</td>\n",
       "      <td>0.669474</td>\n",
       "      <td>0.666667</td>\n",
       "      <td>00:00</td>\n",
       "    </tr>\n",
       "    <tr>\n",
       "      <td>1</td>\n",
       "      <td>0.680634</td>\n",
       "      <td>0.654169</td>\n",
       "      <td>0.766667</td>\n",
       "      <td>00:00</td>\n",
       "    </tr>\n",
       "    <tr>\n",
       "      <td>2</td>\n",
       "      <td>0.644747</td>\n",
       "      <td>0.641737</td>\n",
       "      <td>0.716667</td>\n",
       "      <td>00:00</td>\n",
       "    </tr>\n",
       "    <tr>\n",
       "      <td>3</td>\n",
       "      <td>0.600378</td>\n",
       "      <td>0.630439</td>\n",
       "      <td>0.666667</td>\n",
       "      <td>00:00</td>\n",
       "    </tr>\n",
       "    <tr>\n",
       "      <td>4</td>\n",
       "      <td>0.564984</td>\n",
       "      <td>0.615931</td>\n",
       "      <td>0.666667</td>\n",
       "      <td>00:00</td>\n",
       "    </tr>\n",
       "    <tr>\n",
       "      <td>5</td>\n",
       "      <td>0.526300</td>\n",
       "      <td>0.617447</td>\n",
       "      <td>0.683333</td>\n",
       "      <td>00:00</td>\n",
       "    </tr>\n",
       "    <tr>\n",
       "      <td>6</td>\n",
       "      <td>0.492485</td>\n",
       "      <td>0.634984</td>\n",
       "      <td>0.700000</td>\n",
       "      <td>00:00</td>\n",
       "    </tr>\n",
       "    <tr>\n",
       "      <td>7</td>\n",
       "      <td>0.463777</td>\n",
       "      <td>0.639000</td>\n",
       "      <td>0.716667</td>\n",
       "      <td>00:00</td>\n",
       "    </tr>\n",
       "    <tr>\n",
       "      <td>8</td>\n",
       "      <td>0.441898</td>\n",
       "      <td>0.649357</td>\n",
       "      <td>0.716667</td>\n",
       "      <td>00:00</td>\n",
       "    </tr>\n",
       "    <tr>\n",
       "      <td>9</td>\n",
       "      <td>0.421732</td>\n",
       "      <td>0.654617</td>\n",
       "      <td>0.716667</td>\n",
       "      <td>00:00</td>\n",
       "    </tr>\n",
       "  </tbody>\n",
       "</table>"
      ],
      "text/plain": [
       "<IPython.core.display.HTML object>"
      ]
     },
     "metadata": {},
     "output_type": "display_data"
    },
    {
     "name": "stdout",
     "output_type": "stream",
     "text": [
      "Better model found at epoch 0 with accuracy value: 0.6666666865348816.\n",
      "Better model found at epoch 1 with accuracy value: 0.7666666507720947.\n"
     ]
    },
    {
     "data": {
      "text/html": [
       "<table border=\"1\" class=\"dataframe\">\n",
       "  <thead>\n",
       "    <tr style=\"text-align: left;\">\n",
       "      <th>epoch</th>\n",
       "      <th>train_loss</th>\n",
       "      <th>valid_loss</th>\n",
       "      <th>accuracy</th>\n",
       "      <th>time</th>\n",
       "    </tr>\n",
       "  </thead>\n",
       "  <tbody>\n",
       "    <tr>\n",
       "      <td>0</td>\n",
       "      <td>0.767777</td>\n",
       "      <td>0.696516</td>\n",
       "      <td>0.500000</td>\n",
       "      <td>00:00</td>\n",
       "    </tr>\n",
       "    <tr>\n",
       "      <td>1</td>\n",
       "      <td>0.716402</td>\n",
       "      <td>0.697073</td>\n",
       "      <td>0.466667</td>\n",
       "      <td>00:00</td>\n",
       "    </tr>\n",
       "    <tr>\n",
       "      <td>2</td>\n",
       "      <td>0.673233</td>\n",
       "      <td>0.676587</td>\n",
       "      <td>0.633333</td>\n",
       "      <td>00:00</td>\n",
       "    </tr>\n",
       "    <tr>\n",
       "      <td>3</td>\n",
       "      <td>0.620892</td>\n",
       "      <td>0.649611</td>\n",
       "      <td>0.666667</td>\n",
       "      <td>00:00</td>\n",
       "    </tr>\n",
       "    <tr>\n",
       "      <td>4</td>\n",
       "      <td>0.582324</td>\n",
       "      <td>0.624537</td>\n",
       "      <td>0.666667</td>\n",
       "      <td>00:00</td>\n",
       "    </tr>\n",
       "    <tr>\n",
       "      <td>5</td>\n",
       "      <td>0.541229</td>\n",
       "      <td>0.613309</td>\n",
       "      <td>0.666667</td>\n",
       "      <td>00:00</td>\n",
       "    </tr>\n",
       "    <tr>\n",
       "      <td>6</td>\n",
       "      <td>0.509410</td>\n",
       "      <td>0.600611</td>\n",
       "      <td>0.666667</td>\n",
       "      <td>00:00</td>\n",
       "    </tr>\n",
       "    <tr>\n",
       "      <td>7</td>\n",
       "      <td>0.480528</td>\n",
       "      <td>0.597768</td>\n",
       "      <td>0.666667</td>\n",
       "      <td>00:00</td>\n",
       "    </tr>\n",
       "    <tr>\n",
       "      <td>8</td>\n",
       "      <td>0.456688</td>\n",
       "      <td>0.594330</td>\n",
       "      <td>0.716667</td>\n",
       "      <td>00:00</td>\n",
       "    </tr>\n",
       "    <tr>\n",
       "      <td>9</td>\n",
       "      <td>0.435660</td>\n",
       "      <td>0.592204</td>\n",
       "      <td>0.716667</td>\n",
       "      <td>00:00</td>\n",
       "    </tr>\n",
       "  </tbody>\n",
       "</table>"
      ],
      "text/plain": [
       "<IPython.core.display.HTML object>"
      ]
     },
     "metadata": {},
     "output_type": "display_data"
    },
    {
     "name": "stdout",
     "output_type": "stream",
     "text": [
      "Better model found at epoch 0 with accuracy value: 0.5.\n",
      "Better model found at epoch 2 with accuracy value: 0.6333333253860474.\n",
      "Better model found at epoch 3 with accuracy value: 0.6666666865348816.\n",
      "Better model found at epoch 8 with accuracy value: 0.7166666388511658.\n"
     ]
    },
    {
     "data": {
      "text/html": [
       "<table border=\"1\" class=\"dataframe\">\n",
       "  <thead>\n",
       "    <tr style=\"text-align: left;\">\n",
       "      <th>epoch</th>\n",
       "      <th>train_loss</th>\n",
       "      <th>valid_loss</th>\n",
       "      <th>accuracy</th>\n",
       "      <th>time</th>\n",
       "    </tr>\n",
       "  </thead>\n",
       "  <tbody>\n",
       "    <tr>\n",
       "      <td>0</td>\n",
       "      <td>0.858663</td>\n",
       "      <td>0.691884</td>\n",
       "      <td>0.450000</td>\n",
       "      <td>00:00</td>\n",
       "    </tr>\n",
       "    <tr>\n",
       "      <td>1</td>\n",
       "      <td>0.805599</td>\n",
       "      <td>0.658128</td>\n",
       "      <td>0.683333</td>\n",
       "      <td>00:00</td>\n",
       "    </tr>\n",
       "    <tr>\n",
       "      <td>2</td>\n",
       "      <td>0.736306</td>\n",
       "      <td>0.613906</td>\n",
       "      <td>0.783333</td>\n",
       "      <td>00:00</td>\n",
       "    </tr>\n",
       "    <tr>\n",
       "      <td>3</td>\n",
       "      <td>0.682557</td>\n",
       "      <td>0.577067</td>\n",
       "      <td>0.783333</td>\n",
       "      <td>00:00</td>\n",
       "    </tr>\n",
       "    <tr>\n",
       "      <td>4</td>\n",
       "      <td>0.639757</td>\n",
       "      <td>0.554359</td>\n",
       "      <td>0.733333</td>\n",
       "      <td>00:00</td>\n",
       "    </tr>\n",
       "    <tr>\n",
       "      <td>5</td>\n",
       "      <td>0.596399</td>\n",
       "      <td>0.542007</td>\n",
       "      <td>0.750000</td>\n",
       "      <td>00:00</td>\n",
       "    </tr>\n",
       "    <tr>\n",
       "      <td>6</td>\n",
       "      <td>0.562597</td>\n",
       "      <td>0.525834</td>\n",
       "      <td>0.750000</td>\n",
       "      <td>00:00</td>\n",
       "    </tr>\n",
       "    <tr>\n",
       "      <td>7</td>\n",
       "      <td>0.531178</td>\n",
       "      <td>0.520089</td>\n",
       "      <td>0.733333</td>\n",
       "      <td>00:00</td>\n",
       "    </tr>\n",
       "    <tr>\n",
       "      <td>8</td>\n",
       "      <td>0.501184</td>\n",
       "      <td>0.523456</td>\n",
       "      <td>0.733333</td>\n",
       "      <td>00:00</td>\n",
       "    </tr>\n",
       "    <tr>\n",
       "      <td>9</td>\n",
       "      <td>0.480789</td>\n",
       "      <td>0.523531</td>\n",
       "      <td>0.733333</td>\n",
       "      <td>00:00</td>\n",
       "    </tr>\n",
       "  </tbody>\n",
       "</table>"
      ],
      "text/plain": [
       "<IPython.core.display.HTML object>"
      ]
     },
     "metadata": {},
     "output_type": "display_data"
    },
    {
     "name": "stdout",
     "output_type": "stream",
     "text": [
      "Better model found at epoch 0 with accuracy value: 0.44999998807907104.\n",
      "Better model found at epoch 1 with accuracy value: 0.6833333373069763.\n",
      "Better model found at epoch 2 with accuracy value: 0.7833333611488342.\n"
     ]
    }
   ],
   "source": [
    "#hide_output\n",
    "train_df = df[df['fold']!= 4].reset_index(drop=True)\n",
    "test_df = df[df['fold']== 4].reset_index(drop=True)\n",
    "\n",
    "for i in range(4):\n",
    "    dls, tabdf = get_tabpandas_dls(i, train_df, procs, cat_names, cont_names, y_names, 32)\n",
    "    emb_szs = get_emb_sz(tabdf)\n",
    "    learn = tabular_learner(dls, [100,50], \n",
    "                            metrics=accuracy, \n",
    "                            cbs=[SaveModelCallback(monitor='accuracy', \n",
    "                                                   fname=f'tab_6pt_{i}')])\n",
    "    \n",
    "    learn.fit_one_cycle(10, 0.002)"
   ]
  },
  {
   "cell_type": "code",
   "execution_count": null,
   "metadata": {},
   "outputs": [
    {
     "name": "stderr",
     "output_type": "stream",
     "text": [
      "/usr/local/lib/python3.7/dist-packages/fastai/learner.py:56: UserWarning: Saved filed doesn't contain an optimizer state.\n",
      "  elif with_opt: warn(\"Saved filed doesn't contain an optimizer state.\")\n"
     ]
    },
    {
     "data": {
      "text/html": [
       ""
      ],
      "text/plain": [
       "<IPython.core.display.HTML object>"
      ]
     },
     "metadata": {},
     "output_type": "display_data"
    },
    {
     "name": "stderr",
     "output_type": "stream",
     "text": [
      "/usr/local/lib/python3.7/dist-packages/fastai/learner.py:56: UserWarning: Saved filed doesn't contain an optimizer state.\n",
      "  elif with_opt: warn(\"Saved filed doesn't contain an optimizer state.\")\n"
     ]
    },
    {
     "data": {
      "text/html": [
       ""
      ],
      "text/plain": [
       "<IPython.core.display.HTML object>"
      ]
     },
     "metadata": {},
     "output_type": "display_data"
    },
    {
     "name": "stderr",
     "output_type": "stream",
     "text": [
      "/usr/local/lib/python3.7/dist-packages/fastai/learner.py:56: UserWarning: Saved filed doesn't contain an optimizer state.\n",
      "  elif with_opt: warn(\"Saved filed doesn't contain an optimizer state.\")\n"
     ]
    },
    {
     "data": {
      "text/html": [
       ""
      ],
      "text/plain": [
       "<IPython.core.display.HTML object>"
      ]
     },
     "metadata": {},
     "output_type": "display_data"
    },
    {
     "name": "stderr",
     "output_type": "stream",
     "text": [
      "/usr/local/lib/python3.7/dist-packages/fastai/learner.py:56: UserWarning: Saved filed doesn't contain an optimizer state.\n",
      "  elif with_opt: warn(\"Saved filed doesn't contain an optimizer state.\")\n"
     ]
    },
    {
     "data": {
      "text/html": [
       ""
      ],
      "text/plain": [
       "<IPython.core.display.HTML object>"
      ]
     },
     "metadata": {},
     "output_type": "display_data"
    }
   ],
   "source": [
    "#hide_output\n",
    "test_dl = dls.test_dl(test_df)\n",
    "preds = []\n",
    "for i in range(4):\n",
    "    dls, tabdf = get_tabpandas_dls(i, train_df, procs, cat_names, cont_names, y_names, 32)\n",
    "    emb_szs = get_emb_sz(tabdf)\n",
    "    learn = tabular_learner(dls, [100,50], \n",
    "                        metrics=accuracy, \n",
    "                        cbs=[SaveModelCallback(monitor='accuracy')])\n",
    "    \n",
    "    learn.load(f'tab_6pt_{i}')\n",
    "    pred, y_pred, y_true = learn.get_preds(dl=test_dl, with_decoded=True)\n",
    "    preds.append(pred)\n",
    "  \n",
    "y_true = test_dl.y.values\n",
    "y_pred = np.array(torch.argmax(torch.stack(preds).mean(0),1))"
   ]
  },
  {
   "cell_type": "code",
   "execution_count": null,
   "metadata": {},
   "outputs": [
    {
     "name": "stdout",
     "output_type": "stream",
     "text": [
      "5-fold accuracy score: 0.63\n"
     ]
    }
   ],
   "source": [
    "#hide_input\n",
    "print(f'5-fold accuracy score: {accuracy_score(y_true, y_pred):.2f}')"
   ]
  },
  {
   "cell_type": "code",
   "execution_count": null,
   "metadata": {},
   "outputs": [
    {
     "data": {
      "text/plain": [
       "<matplotlib.axes._subplots.AxesSubplot at 0x7f14fb78fed0>"
      ]
     },
     "execution_count": null,
     "metadata": {},
     "output_type": "execute_result"
    },
    {
     "data": {
      "image/png": "[encoded data removed]",
      "text/plain": [
       "<Figure size 432x288 with 2 Axes>"
      ]
     },
     "metadata": {
      "needs_background": "light"
     },
     "output_type": "display_data"
    }
   ],
   "source": [
    "#hide_input\n",
    "sns.heatmap(confusion_matrix(y_true, y_pred), annot=True, cmap='Blues')"
   ]
  },
  {
   "cell_type": "markdown",
   "metadata": {},
   "source": [
    "## first_n_points Model"
   ]
  },
  {
   "cell_type": "markdown",
   "metadata": {},
   "source": [
    "Next, we will build a model which takes the first n-points including baseline to use in our classification task\n",
    "> - if there are fewer than `n_points` for the patient's lab measurement, a `nan` value is used\n",
    "> - like before demographic features are also included "
   ]
  },
  {
   "cell_type": "code",
   "execution_count": null,
   "metadata": {},
   "outputs": [],
   "source": [
    "#hide_input\n",
    "df = pd.read_csv('data/train_df_5f.csv')\n",
    "df, cont_names = prepare_df_firstnpoints(features, df, 6)\n",
    "procs = [Categorify, FillMissing, Normalize]\n",
    "y_names = 'Stage_Progress'\n",
    "y_block = CategoryBlock()\n",
    "cat_names = ['race', 'gender']"
   ]
  },
  {
   "cell_type": "code",
   "execution_count": null,
   "metadata": {},
   "outputs": [
    {
     "data": {
      "text/html": [
       "<table border=\"1\" class=\"dataframe\">\n",
       "  <thead>\n",
       "    <tr style=\"text-align: left;\">\n",
       "      <th>epoch</th>\n",
       "      <th>train_loss</th>\n",
       "      <th>valid_loss</th>\n",
       "      <th>accuracy</th>\n",
       "      <th>time</th>\n",
       "    </tr>\n",
       "  </thead>\n",
       "  <tbody>\n",
       "    <tr>\n",
       "      <td>0</td>\n",
       "      <td>0.741136</td>\n",
       "      <td>0.689558</td>\n",
       "      <td>0.533333</td>\n",
       "      <td>00:00</td>\n",
       "    </tr>\n",
       "    <tr>\n",
       "      <td>1</td>\n",
       "      <td>0.707249</td>\n",
       "      <td>0.671133</td>\n",
       "      <td>0.616667</td>\n",
       "      <td>00:00</td>\n",
       "    </tr>\n",
       "    <tr>\n",
       "      <td>2</td>\n",
       "      <td>0.650710</td>\n",
       "      <td>0.646243</td>\n",
       "      <td>0.666667</td>\n",
       "      <td>00:00</td>\n",
       "    </tr>\n",
       "    <tr>\n",
       "      <td>3</td>\n",
       "      <td>0.589468</td>\n",
       "      <td>0.631737</td>\n",
       "      <td>0.666667</td>\n",
       "      <td>00:00</td>\n",
       "    </tr>\n",
       "    <tr>\n",
       "      <td>4</td>\n",
       "      <td>0.547460</td>\n",
       "      <td>0.637279</td>\n",
       "      <td>0.666667</td>\n",
       "      <td>00:00</td>\n",
       "    </tr>\n",
       "    <tr>\n",
       "      <td>5</td>\n",
       "      <td>0.505830</td>\n",
       "      <td>0.642642</td>\n",
       "      <td>0.666667</td>\n",
       "      <td>00:00</td>\n",
       "    </tr>\n",
       "    <tr>\n",
       "      <td>6</td>\n",
       "      <td>0.466378</td>\n",
       "      <td>0.656326</td>\n",
       "      <td>0.683333</td>\n",
       "      <td>00:00</td>\n",
       "    </tr>\n",
       "    <tr>\n",
       "      <td>7</td>\n",
       "      <td>0.432177</td>\n",
       "      <td>0.673741</td>\n",
       "      <td>0.666667</td>\n",
       "      <td>00:00</td>\n",
       "    </tr>\n",
       "    <tr>\n",
       "      <td>8</td>\n",
       "      <td>0.406747</td>\n",
       "      <td>0.692059</td>\n",
       "      <td>0.666667</td>\n",
       "      <td>00:00</td>\n",
       "    </tr>\n",
       "    <tr>\n",
       "      <td>9</td>\n",
       "      <td>0.385638</td>\n",
       "      <td>0.705416</td>\n",
       "      <td>0.666667</td>\n",
       "      <td>00:00</td>\n",
       "    </tr>\n",
       "  </tbody>\n",
       "</table>"
      ],
      "text/plain": [
       "<IPython.core.display.HTML object>"
      ]
     },
     "metadata": {},
     "output_type": "display_data"
    },
    {
     "name": "stdout",
     "output_type": "stream",
     "text": [
      "Better model found at epoch 0 with accuracy value: 0.5333333611488342.\n",
      "Better model found at epoch 1 with accuracy value: 0.6166666746139526.\n",
      "Better model found at epoch 2 with accuracy value: 0.6666666865348816.\n",
      "Better model found at epoch 6 with accuracy value: 0.6833333373069763.\n"
     ]
    },
    {
     "data": {
      "text/html": [
       "<table border=\"1\" class=\"dataframe\">\n",
       "  <thead>\n",
       "    <tr style=\"text-align: left;\">\n",
       "      <th>epoch</th>\n",
       "      <th>train_loss</th>\n",
       "      <th>valid_loss</th>\n",
       "      <th>accuracy</th>\n",
       "      <th>time</th>\n",
       "    </tr>\n",
       "  </thead>\n",
       "  <tbody>\n",
       "    <tr>\n",
       "      <td>0</td>\n",
       "      <td>0.880211</td>\n",
       "      <td>0.716025</td>\n",
       "      <td>0.300000</td>\n",
       "      <td>00:00</td>\n",
       "    </tr>\n",
       "    <tr>\n",
       "      <td>1</td>\n",
       "      <td>0.821364</td>\n",
       "      <td>0.704879</td>\n",
       "      <td>0.383333</td>\n",
       "      <td>00:00</td>\n",
       "    </tr>\n",
       "    <tr>\n",
       "      <td>2</td>\n",
       "      <td>0.753429</td>\n",
       "      <td>0.674999</td>\n",
       "      <td>0.616667</td>\n",
       "      <td>00:00</td>\n",
       "    </tr>\n",
       "    <tr>\n",
       "      <td>3</td>\n",
       "      <td>0.676136</td>\n",
       "      <td>0.652580</td>\n",
       "      <td>0.616667</td>\n",
       "      <td>00:00</td>\n",
       "    </tr>\n",
       "    <tr>\n",
       "      <td>4</td>\n",
       "      <td>0.613891</td>\n",
       "      <td>0.633815</td>\n",
       "      <td>0.650000</td>\n",
       "      <td>00:00</td>\n",
       "    </tr>\n",
       "    <tr>\n",
       "      <td>5</td>\n",
       "      <td>0.563741</td>\n",
       "      <td>0.612717</td>\n",
       "      <td>0.683333</td>\n",
       "      <td>00:00</td>\n",
       "    </tr>\n",
       "    <tr>\n",
       "      <td>6</td>\n",
       "      <td>0.520151</td>\n",
       "      <td>0.598647</td>\n",
       "      <td>0.700000</td>\n",
       "      <td>00:00</td>\n",
       "    </tr>\n",
       "    <tr>\n",
       "      <td>7</td>\n",
       "      <td>0.481719</td>\n",
       "      <td>0.604795</td>\n",
       "      <td>0.683333</td>\n",
       "      <td>00:00</td>\n",
       "    </tr>\n",
       "    <tr>\n",
       "      <td>8</td>\n",
       "      <td>0.454832</td>\n",
       "      <td>0.609346</td>\n",
       "      <td>0.683333</td>\n",
       "      <td>00:00</td>\n",
       "    </tr>\n",
       "    <tr>\n",
       "      <td>9</td>\n",
       "      <td>0.429383</td>\n",
       "      <td>0.614036</td>\n",
       "      <td>0.683333</td>\n",
       "      <td>00:00</td>\n",
       "    </tr>\n",
       "  </tbody>\n",
       "</table>"
      ],
      "text/plain": [
       "<IPython.core.display.HTML object>"
      ]
     },
     "metadata": {},
     "output_type": "display_data"
    },
    {
     "name": "stdout",
     "output_type": "stream",
     "text": [
      "Better model found at epoch 0 with accuracy value: 0.30000001192092896.\n",
      "Better model found at epoch 1 with accuracy value: 0.38333332538604736.\n",
      "Better model found at epoch 2 with accuracy value: 0.6166666746139526.\n",
      "Better model found at epoch 4 with accuracy value: 0.6499999761581421.\n",
      "Better model found at epoch 5 with accuracy value: 0.6833333373069763.\n",
      "Better model found at epoch 6 with accuracy value: 0.699999988079071.\n"
     ]
    },
    {
     "data": {
      "text/html": [
       "<table border=\"1\" class=\"dataframe\">\n",
       "  <thead>\n",
       "    <tr style=\"text-align: left;\">\n",
       "      <th>epoch</th>\n",
       "      <th>train_loss</th>\n",
       "      <th>valid_loss</th>\n",
       "      <th>accuracy</th>\n",
       "      <th>time</th>\n",
       "    </tr>\n",
       "  </thead>\n",
       "  <tbody>\n",
       "    <tr>\n",
       "      <td>0</td>\n",
       "      <td>0.756820</td>\n",
       "      <td>0.672055</td>\n",
       "      <td>0.689655</td>\n",
       "      <td>00:00</td>\n",
       "    </tr>\n",
       "    <tr>\n",
       "      <td>1</td>\n",
       "      <td>0.719120</td>\n",
       "      <td>0.649689</td>\n",
       "      <td>0.689655</td>\n",
       "      <td>00:00</td>\n",
       "    </tr>\n",
       "    <tr>\n",
       "      <td>2</td>\n",
       "      <td>0.651320</td>\n",
       "      <td>0.636831</td>\n",
       "      <td>0.689655</td>\n",
       "      <td>00:00</td>\n",
       "    </tr>\n",
       "    <tr>\n",
       "      <td>3</td>\n",
       "      <td>0.595654</td>\n",
       "      <td>0.634778</td>\n",
       "      <td>0.689655</td>\n",
       "      <td>00:00</td>\n",
       "    </tr>\n",
       "    <tr>\n",
       "      <td>4</td>\n",
       "      <td>0.544180</td>\n",
       "      <td>0.652206</td>\n",
       "      <td>0.706897</td>\n",
       "      <td>00:00</td>\n",
       "    </tr>\n",
       "    <tr>\n",
       "      <td>5</td>\n",
       "      <td>0.499605</td>\n",
       "      <td>0.683102</td>\n",
       "      <td>0.724138</td>\n",
       "      <td>00:00</td>\n",
       "    </tr>\n",
       "    <tr>\n",
       "      <td>6</td>\n",
       "      <td>0.463057</td>\n",
       "      <td>0.724025</td>\n",
       "      <td>0.706897</td>\n",
       "      <td>00:00</td>\n",
       "    </tr>\n",
       "    <tr>\n",
       "      <td>7</td>\n",
       "      <td>0.428465</td>\n",
       "      <td>0.753284</td>\n",
       "      <td>0.706897</td>\n",
       "      <td>00:00</td>\n",
       "    </tr>\n",
       "    <tr>\n",
       "      <td>8</td>\n",
       "      <td>0.403125</td>\n",
       "      <td>0.767622</td>\n",
       "      <td>0.672414</td>\n",
       "      <td>00:00</td>\n",
       "    </tr>\n",
       "    <tr>\n",
       "      <td>9</td>\n",
       "      <td>0.383209</td>\n",
       "      <td>0.785481</td>\n",
       "      <td>0.672414</td>\n",
       "      <td>00:00</td>\n",
       "    </tr>\n",
       "  </tbody>\n",
       "</table>"
      ],
      "text/plain": [
       "<IPython.core.display.HTML object>"
      ]
     },
     "metadata": {},
     "output_type": "display_data"
    },
    {
     "name": "stdout",
     "output_type": "stream",
     "text": [
      "Better model found at epoch 0 with accuracy value: 0.6896551847457886.\n",
      "Better model found at epoch 4 with accuracy value: 0.7068965435028076.\n",
      "Better model found at epoch 5 with accuracy value: 0.7241379022598267.\n"
     ]
    },
    {
     "data": {
      "text/html": [
       "<table border=\"1\" class=\"dataframe\">\n",
       "  <thead>\n",
       "    <tr style=\"text-align: left;\">\n",
       "      <th>epoch</th>\n",
       "      <th>train_loss</th>\n",
       "      <th>valid_loss</th>\n",
       "      <th>accuracy</th>\n",
       "      <th>time</th>\n",
       "    </tr>\n",
       "  </thead>\n",
       "  <tbody>\n",
       "    <tr>\n",
       "      <td>0</td>\n",
       "      <td>0.775990</td>\n",
       "      <td>0.663568</td>\n",
       "      <td>0.711864</td>\n",
       "      <td>00:00</td>\n",
       "    </tr>\n",
       "    <tr>\n",
       "      <td>1</td>\n",
       "      <td>0.736575</td>\n",
       "      <td>0.645534</td>\n",
       "      <td>0.728814</td>\n",
       "      <td>00:00</td>\n",
       "    </tr>\n",
       "    <tr>\n",
       "      <td>2</td>\n",
       "      <td>0.680508</td>\n",
       "      <td>0.620641</td>\n",
       "      <td>0.728814</td>\n",
       "      <td>00:00</td>\n",
       "    </tr>\n",
       "    <tr>\n",
       "      <td>3</td>\n",
       "      <td>0.630429</td>\n",
       "      <td>0.606930</td>\n",
       "      <td>0.694915</td>\n",
       "      <td>00:00</td>\n",
       "    </tr>\n",
       "    <tr>\n",
       "      <td>4</td>\n",
       "      <td>0.580006</td>\n",
       "      <td>0.595090</td>\n",
       "      <td>0.711864</td>\n",
       "      <td>00:00</td>\n",
       "    </tr>\n",
       "    <tr>\n",
       "      <td>5</td>\n",
       "      <td>0.543590</td>\n",
       "      <td>0.593439</td>\n",
       "      <td>0.694915</td>\n",
       "      <td>00:00</td>\n",
       "    </tr>\n",
       "    <tr>\n",
       "      <td>6</td>\n",
       "      <td>0.503424</td>\n",
       "      <td>0.593484</td>\n",
       "      <td>0.694915</td>\n",
       "      <td>00:00</td>\n",
       "    </tr>\n",
       "    <tr>\n",
       "      <td>7</td>\n",
       "      <td>0.474635</td>\n",
       "      <td>0.598364</td>\n",
       "      <td>0.728814</td>\n",
       "      <td>00:00</td>\n",
       "    </tr>\n",
       "    <tr>\n",
       "      <td>8</td>\n",
       "      <td>0.447163</td>\n",
       "      <td>0.599571</td>\n",
       "      <td>0.711864</td>\n",
       "      <td>00:00</td>\n",
       "    </tr>\n",
       "    <tr>\n",
       "      <td>9</td>\n",
       "      <td>0.426370</td>\n",
       "      <td>0.602783</td>\n",
       "      <td>0.694915</td>\n",
       "      <td>00:00</td>\n",
       "    </tr>\n",
       "  </tbody>\n",
       "</table>"
      ],
      "text/plain": [
       "<IPython.core.display.HTML object>"
      ]
     },
     "metadata": {},
     "output_type": "display_data"
    },
    {
     "name": "stdout",
     "output_type": "stream",
     "text": [
      "Better model found at epoch 0 with accuracy value: 0.7118644118309021.\n",
      "Better model found at epoch 1 with accuracy value: 0.7288135886192322.\n"
     ]
    }
   ],
   "source": [
    "#hide_output\n",
    "train_df = df[df['fold']!= 4].reset_index(drop=True)\n",
    "train_df = train_df[~train_df['id'].isin([281, 134, 7])].reset_index(drop=True)\n",
    "test_df = df[df['fold']== 4].reset_index(drop=True)\n",
    "\n",
    "for i in range(4):\n",
    "\n",
    "    dls, tabdf = get_tabpandas_dls(i, train_df, procs, cat_names, cont_names, y_names, 32)\n",
    "    emb_szs = get_emb_sz(tabdf)\n",
    "    learn = tabular_learner(dls, [100,50], \n",
    "                            metrics=accuracy, \n",
    "                            cbs=[SaveModelCallback(monitor='accuracy', \n",
    "                                                   fname=f'tab_fnpt_{i}')])\n",
    "    \n",
    "    learn.fit_one_cycle(10, 0.002)"
   ]
  },
  {
   "cell_type": "code",
   "execution_count": null,
   "metadata": {},
   "outputs": [
    {
     "name": "stderr",
     "output_type": "stream",
     "text": [
      "/usr/local/lib/python3.7/dist-packages/fastai/learner.py:56: UserWarning: Saved filed doesn't contain an optimizer state.\n",
      "  elif with_opt: warn(\"Saved filed doesn't contain an optimizer state.\")\n"
     ]
    },
    {
     "data": {
      "text/html": [
       ""
      ],
      "text/plain": [
       "<IPython.core.display.HTML object>"
      ]
     },
     "metadata": {},
     "output_type": "display_data"
    },
    {
     "name": "stderr",
     "output_type": "stream",
     "text": [
      "/usr/local/lib/python3.7/dist-packages/fastai/learner.py:56: UserWarning: Saved filed doesn't contain an optimizer state.\n",
      "  elif with_opt: warn(\"Saved filed doesn't contain an optimizer state.\")\n"
     ]
    },
    {
     "data": {
      "text/html": [
       ""
      ],
      "text/plain": [
       "<IPython.core.display.HTML object>"
      ]
     },
     "metadata": {},
     "output_type": "display_data"
    },
    {
     "name": "stderr",
     "output_type": "stream",
     "text": [
      "/usr/local/lib/python3.7/dist-packages/fastai/learner.py:56: UserWarning: Saved filed doesn't contain an optimizer state.\n",
      "  elif with_opt: warn(\"Saved filed doesn't contain an optimizer state.\")\n"
     ]
    },
    {
     "data": {
      "text/html": [
       ""
      ],
      "text/plain": [
       "<IPython.core.display.HTML object>"
      ]
     },
     "metadata": {},
     "output_type": "display_data"
    },
    {
     "name": "stderr",
     "output_type": "stream",
     "text": [
      "/usr/local/lib/python3.7/dist-packages/fastai/learner.py:56: UserWarning: Saved filed doesn't contain an optimizer state.\n",
      "  elif with_opt: warn(\"Saved filed doesn't contain an optimizer state.\")\n"
     ]
    },
    {
     "data": {
      "text/html": [
       ""
      ],
      "text/plain": [
       "<IPython.core.display.HTML object>"
      ]
     },
     "metadata": {},
     "output_type": "display_data"
    }
   ],
   "source": [
    "#hide_output\n",
    "test_df = test_df[~test_df['id'].isin([299,67,255])].reset_index(drop=True)\n",
    "test_dl = dls.test_dl(test_df)\n",
    "preds = []\n",
    "for i in range(4):\n",
    "    dls, tabdf = get_tabpandas_dls(i, train_df, procs, cat_names, cont_names, y_names, 32)\n",
    "    emb_szs = get_emb_sz(tabdf)\n",
    "    learn = tabular_learner(dls, [100,50], \n",
    "                        metrics=accuracy, \n",
    "                        cbs=[SaveModelCallback(monitor='accuracy')])\n",
    "    \n",
    "    learn.load(f'tab_fnpt_{i}')\n",
    "    pred, y_pred = learn.get_preds(dl=test_dl)\n",
    "    preds.append(pred)\n",
    "  \n",
    "y_true = test_dl.y.values\n",
    "y_pred = np.array(torch.argmax(torch.stack(preds).mean(0),1))"
   ]
  },
  {
   "cell_type": "code",
   "execution_count": null,
   "metadata": {},
   "outputs": [
    {
     "name": "stdout",
     "output_type": "stream",
     "text": [
      "5-fold accuracy score: 0.70\n"
     ]
    }
   ],
   "source": [
    "#hide_input\n",
    "print(f'5-fold accuracy score: {accuracy_score(y_true, y_pred):.2f}')"
   ]
  },
  {
   "cell_type": "code",
   "execution_count": null,
   "metadata": {},
   "outputs": [
    {
     "data": {
      "text/plain": [
       "<matplotlib.axes._subplots.AxesSubplot at 0x7f14fb4fd110>"
      ]
     },
     "execution_count": null,
     "metadata": {},
     "output_type": "execute_result"
    },
    {
     "data": {
      "image/png": "[encoded data removed]",
      "text/plain": [
       "<Figure size 432x288 with 2 Axes>"
      ]
     },
     "metadata": {
      "needs_background": "light"
     },
     "output_type": "display_data"
    }
   ],
   "source": [
    "#hide_input\n",
    "sns.heatmap(confusion_matrix(y_true, y_pred), annot=True, cmap='Blues')"
   ]
  },
  {
   "cell_type": "code",
   "execution_count": null,
   "metadata": {},
   "outputs": [
    {
     "name": "stdout",
     "output_type": "stream",
     "text": [
      "Our continuous columns for the first_n_points model\n",
      "['hgb_0', 'hgb_1', 'hgb_2', 'hgb_3', 'hgb_4', 'hgb_5', 'ldl_0', 'ldl_1', 'ldl_2', 'ldl_3', 'ldl_4', 'ldl_5', 'glucose_0', 'glucose_1', 'glucose_2', 'glucose_3', 'glucose_4', 'glucose_5', 'creatinine_0', 'creatinine_1', 'creatinine_2', 'creatinine_3', 'creatinine_4', 'creatinine_5', 'sbp_0', 'sbp_1', 'sbp_2', 'sbp_3', 'sbp_4', 'sbp_5', 'dbp_0', 'dbp_1', 'dbp_2', 'dbp_3', 'dbp_4', 'dbp_5', 'age']\n"
     ]
    }
   ],
   "source": [
    "#hide_input\n",
    "print('Our continuous columns for the first_n_points model')\n",
    "print(dls.cont_names)"
   ]
  },
  {
   "cell_type": "markdown",
   "metadata": {},
   "source": [
    "## Does including medication data help?"
   ]
  },
  {
   "cell_type": "code",
   "execution_count": null,
   "metadata": {},
   "outputs": [],
   "source": [
    "#hide_input\n",
    "meds = pd.read_csv('data/dataScienceTask/T_meds.csv')\n",
    "meds = meds[meds['end_day'] < 650]\n",
    "meddf = pd.DataFrame(columns=med2como.keys())\n",
    "meddf['id'] = range(0,300)"
   ]
  },
  {
   "cell_type": "code",
   "execution_count": null,
   "metadata": {},
   "outputs": [],
   "source": [
    "#hide_input\n",
    "for i in range(300):\n",
    "    pat = meds[meds['id']==i]\n",
    "    med = pd.DataFrame(columns=list(med2como.keys()))\n",
    "    medstatus = {e:0 for e in pat['drug'].unique()}\n",
    "\n",
    "    for drug in pat['drug'].unique():\n",
    "        doses = pat[pat['drug']==drug]['daily_dosage'].values\n",
    "        \n",
    "        inidose = doses[0]\n",
    "        change = 1\n",
    "        \n",
    "        for dose in doses[1:]:\n",
    "            if dose>inidose:\n",
    "                change = 2\n",
    "\n",
    "        meddf.loc[i,drug] = change"
   ]
  },
  {
   "cell_type": "code",
   "execution_count": null,
   "metadata": {},
   "outputs": [
    {
     "data": {
      "text/html": [
       "<div>\n",
       "<style scoped>\n",
       "    .dataframe tbody tr th:only-of-type {\n",
       "        vertical-align: middle;\n",
       "    }\n",
       "\n",
       "    .dataframe tbody tr th {\n",
       "        vertical-align: top;\n",
       "    }\n",
       "\n",
       "    .dataframe thead th {\n",
       "        text-align: right;\n",
       "    }\n",
       "</style>\n",
       "<table border=\"1\" class=\"dataframe\">\n",
       "  <thead>\n",
       "    <tr style=\"text-align: right;\">\n",
       "      <th></th>\n",
       "      <th>atorvastatin</th>\n",
       "      <th>losartan</th>\n",
       "      <th>metformin</th>\n",
       "      <th>rosuvastatin</th>\n",
       "      <th>pravastatin</th>\n",
       "      <th>carvedilol</th>\n",
       "      <th>valsartan</th>\n",
       "      <th>metoprolol</th>\n",
       "      <th>simvastatin</th>\n",
       "      <th>bisoprolol</th>\n",
       "      <th>atenolol</th>\n",
       "      <th>lovastatin</th>\n",
       "      <th>olmesartan</th>\n",
       "      <th>irbesartan</th>\n",
       "      <th>canagliflozin</th>\n",
       "      <th>dapagliflozin</th>\n",
       "      <th>telmisartan</th>\n",
       "      <th>labetalol</th>\n",
       "      <th>nebivolol</th>\n",
       "      <th>pitavastatin</th>\n",
       "      <th>propranolol</th>\n",
       "      <th>id</th>\n",
       "    </tr>\n",
       "  </thead>\n",
       "  <tbody>\n",
       "    <tr>\n",
       "      <th>0</th>\n",
       "      <td>1</td>\n",
       "      <td>1</td>\n",
       "      <td>1</td>\n",
       "      <td>0</td>\n",
       "      <td>0</td>\n",
       "      <td>0</td>\n",
       "      <td>0</td>\n",
       "      <td>0</td>\n",
       "      <td>0</td>\n",
       "      <td>0</td>\n",
       "      <td>0</td>\n",
       "      <td>0</td>\n",
       "      <td>0</td>\n",
       "      <td>0</td>\n",
       "      <td>0</td>\n",
       "      <td>0</td>\n",
       "      <td>0</td>\n",
       "      <td>0</td>\n",
       "      <td>0</td>\n",
       "      <td>0</td>\n",
       "      <td>0</td>\n",
       "      <td>0</td>\n",
       "    </tr>\n",
       "    <tr>\n",
       "      <th>1</th>\n",
       "      <td>2</td>\n",
       "      <td>0</td>\n",
       "      <td>0</td>\n",
       "      <td>0</td>\n",
       "      <td>0</td>\n",
       "      <td>0</td>\n",
       "      <td>0</td>\n",
       "      <td>0</td>\n",
       "      <td>0</td>\n",
       "      <td>0</td>\n",
       "      <td>0</td>\n",
       "      <td>0</td>\n",
       "      <td>0</td>\n",
       "      <td>0</td>\n",
       "      <td>0</td>\n",
       "      <td>0</td>\n",
       "      <td>0</td>\n",
       "      <td>0</td>\n",
       "      <td>0</td>\n",
       "      <td>0</td>\n",
       "      <td>0</td>\n",
       "      <td>1</td>\n",
       "    </tr>\n",
       "    <tr>\n",
       "      <th>2</th>\n",
       "      <td>0</td>\n",
       "      <td>0</td>\n",
       "      <td>0</td>\n",
       "      <td>1</td>\n",
       "      <td>0</td>\n",
       "      <td>0</td>\n",
       "      <td>0</td>\n",
       "      <td>0</td>\n",
       "      <td>0</td>\n",
       "      <td>0</td>\n",
       "      <td>0</td>\n",
       "      <td>0</td>\n",
       "      <td>0</td>\n",
       "      <td>0</td>\n",
       "      <td>0</td>\n",
       "      <td>0</td>\n",
       "      <td>0</td>\n",
       "      <td>0</td>\n",
       "      <td>0</td>\n",
       "      <td>0</td>\n",
       "      <td>0</td>\n",
       "      <td>2</td>\n",
       "    </tr>\n",
       "    <tr>\n",
       "      <th>3</th>\n",
       "      <td>1</td>\n",
       "      <td>0</td>\n",
       "      <td>0</td>\n",
       "      <td>0</td>\n",
       "      <td>0</td>\n",
       "      <td>0</td>\n",
       "      <td>0</td>\n",
       "      <td>0</td>\n",
       "      <td>0</td>\n",
       "      <td>0</td>\n",
       "      <td>0</td>\n",
       "      <td>0</td>\n",
       "      <td>0</td>\n",
       "      <td>0</td>\n",
       "      <td>0</td>\n",
       "      <td>0</td>\n",
       "      <td>0</td>\n",
       "      <td>0</td>\n",
       "      <td>0</td>\n",
       "      <td>0</td>\n",
       "      <td>0</td>\n",
       "      <td>3</td>\n",
       "    </tr>\n",
       "    <tr>\n",
       "      <th>4</th>\n",
       "      <td>0</td>\n",
       "      <td>1</td>\n",
       "      <td>1</td>\n",
       "      <td>0</td>\n",
       "      <td>1</td>\n",
       "      <td>0</td>\n",
       "      <td>0</td>\n",
       "      <td>0</td>\n",
       "      <td>0</td>\n",
       "      <td>0</td>\n",
       "      <td>0</td>\n",
       "      <td>0</td>\n",
       "      <td>0</td>\n",
       "      <td>0</td>\n",
       "      <td>0</td>\n",
       "      <td>0</td>\n",
       "      <td>0</td>\n",
       "      <td>0</td>\n",
       "      <td>0</td>\n",
       "      <td>0</td>\n",
       "      <td>0</td>\n",
       "      <td>4</td>\n",
       "    </tr>\n",
       "  </tbody>\n",
       "</table>\n",
       "</div>"
      ],
      "text/plain": [
       "   atorvastatin  losartan  metformin  ...  pitavastatin  propranolol  id\n",
       "0             1         1          1  ...             0            0   0\n",
       "1             2         0          0  ...             0            0   1\n",
       "2             0         0          0  ...             0            0   2\n",
       "3             1         0          0  ...             0            0   3\n",
       "4             0         1          1  ...             0            0   4\n",
       "\n",
       "[5 rows x 22 columns]"
      ]
     },
     "execution_count": null,
     "metadata": {},
     "output_type": "execute_result"
    }
   ],
   "source": [
    "#hide_input\n",
    "meddf = meddf.fillna(0)\n",
    "med_cat_cols = list(meddf.columns[:-1])\n",
    "meddf.head(5)"
   ]
  },
  {
   "cell_type": "markdown",
   "metadata": {},
   "source": [
    "In the above, `0` means the patient is not on the medicine, `1` means the patient is on the medicine and dosage was not increased at any point during the study and `2` means the patient is on the medicine and the dosage was increased during the study period. "
   ]
  },
  {
   "cell_type": "code",
   "execution_count": null,
   "metadata": {},
   "outputs": [],
   "source": [
    "#hide_input\n",
    "df = pd.read_csv('data/train_df_5f.csv')\n",
    "features = get_features(\"data/dataScienceTask/\")\n",
    "tp1 = 200\n",
    "tp2 = 400\n",
    "df, cont_names = prepare_df_nsetpoints(features, df, 650, [tp1, tp2])\n",
    "df = df.merge(meddf, on='id')\n",
    "procs = [Categorify, FillMissing, Normalize]\n",
    "cat_names = ['race', 'gender']+med_cat_cols\n",
    "y_names = 'Stage_Progress'"
   ]
  },
  {
   "cell_type": "code",
   "execution_count": null,
   "metadata": {},
   "outputs": [
    {
     "data": {
      "text/html": [
       "<table border=\"1\" class=\"dataframe\">\n",
       "  <thead>\n",
       "    <tr style=\"text-align: left;\">\n",
       "      <th>epoch</th>\n",
       "      <th>train_loss</th>\n",
       "      <th>valid_loss</th>\n",
       "      <th>accuracy</th>\n",
       "      <th>time</th>\n",
       "    </tr>\n",
       "  </thead>\n",
       "  <tbody>\n",
       "    <tr>\n",
       "      <td>0</td>\n",
       "      <td>0.682613</td>\n",
       "      <td>0.682963</td>\n",
       "      <td>0.583333</td>\n",
       "      <td>00:00</td>\n",
       "    </tr>\n",
       "    <tr>\n",
       "      <td>1</td>\n",
       "      <td>0.650674</td>\n",
       "      <td>0.669167</td>\n",
       "      <td>0.633333</td>\n",
       "      <td>00:00</td>\n",
       "    </tr>\n",
       "    <tr>\n",
       "      <td>2</td>\n",
       "      <td>0.610098</td>\n",
       "      <td>0.653609</td>\n",
       "      <td>0.633333</td>\n",
       "      <td>00:00</td>\n",
       "    </tr>\n",
       "    <tr>\n",
       "      <td>3</td>\n",
       "      <td>0.567937</td>\n",
       "      <td>0.631412</td>\n",
       "      <td>0.683333</td>\n",
       "      <td>00:00</td>\n",
       "    </tr>\n",
       "    <tr>\n",
       "      <td>4</td>\n",
       "      <td>0.524001</td>\n",
       "      <td>0.625726</td>\n",
       "      <td>0.700000</td>\n",
       "      <td>00:00</td>\n",
       "    </tr>\n",
       "    <tr>\n",
       "      <td>5</td>\n",
       "      <td>0.489478</td>\n",
       "      <td>0.631751</td>\n",
       "      <td>0.733333</td>\n",
       "      <td>00:00</td>\n",
       "    </tr>\n",
       "    <tr>\n",
       "      <td>6</td>\n",
       "      <td>0.457855</td>\n",
       "      <td>0.653281</td>\n",
       "      <td>0.766667</td>\n",
       "      <td>00:00</td>\n",
       "    </tr>\n",
       "    <tr>\n",
       "      <td>7</td>\n",
       "      <td>0.431463</td>\n",
       "      <td>0.674943</td>\n",
       "      <td>0.683333</td>\n",
       "      <td>00:00</td>\n",
       "    </tr>\n",
       "    <tr>\n",
       "      <td>8</td>\n",
       "      <td>0.409854</td>\n",
       "      <td>0.716213</td>\n",
       "      <td>0.683333</td>\n",
       "      <td>00:00</td>\n",
       "    </tr>\n",
       "    <tr>\n",
       "      <td>9</td>\n",
       "      <td>0.395368</td>\n",
       "      <td>0.729356</td>\n",
       "      <td>0.666667</td>\n",
       "      <td>00:00</td>\n",
       "    </tr>\n",
       "  </tbody>\n",
       "</table>"
      ],
      "text/plain": [
       "<IPython.core.display.HTML object>"
      ]
     },
     "metadata": {},
     "output_type": "display_data"
    },
    {
     "name": "stdout",
     "output_type": "stream",
     "text": [
      "Better model found at epoch 0 with accuracy value: 0.5833333134651184.\n",
      "Better model found at epoch 1 with accuracy value: 0.6333333253860474.\n",
      "Better model found at epoch 3 with accuracy value: 0.6833333373069763.\n",
      "Better model found at epoch 4 with accuracy value: 0.699999988079071.\n",
      "Better model found at epoch 5 with accuracy value: 0.7333333492279053.\n",
      "Better model found at epoch 6 with accuracy value: 0.7666666507720947.\n"
     ]
    },
    {
     "data": {
      "text/html": [
       "<table border=\"1\" class=\"dataframe\">\n",
       "  <thead>\n",
       "    <tr style=\"text-align: left;\">\n",
       "      <th>epoch</th>\n",
       "      <th>train_loss</th>\n",
       "      <th>valid_loss</th>\n",
       "      <th>accuracy</th>\n",
       "      <th>time</th>\n",
       "    </tr>\n",
       "  </thead>\n",
       "  <tbody>\n",
       "    <tr>\n",
       "      <td>0</td>\n",
       "      <td>0.770469</td>\n",
       "      <td>0.714404</td>\n",
       "      <td>0.333333</td>\n",
       "      <td>00:00</td>\n",
       "    </tr>\n",
       "    <tr>\n",
       "      <td>1</td>\n",
       "      <td>0.712393</td>\n",
       "      <td>0.724456</td>\n",
       "      <td>0.333333</td>\n",
       "      <td>00:00</td>\n",
       "    </tr>\n",
       "    <tr>\n",
       "      <td>2</td>\n",
       "      <td>0.663812</td>\n",
       "      <td>0.719299</td>\n",
       "      <td>0.383333</td>\n",
       "      <td>00:00</td>\n",
       "    </tr>\n",
       "    <tr>\n",
       "      <td>3</td>\n",
       "      <td>0.615037</td>\n",
       "      <td>0.707220</td>\n",
       "      <td>0.450000</td>\n",
       "      <td>00:00</td>\n",
       "    </tr>\n",
       "    <tr>\n",
       "      <td>4</td>\n",
       "      <td>0.569804</td>\n",
       "      <td>0.692252</td>\n",
       "      <td>0.500000</td>\n",
       "      <td>00:00</td>\n",
       "    </tr>\n",
       "    <tr>\n",
       "      <td>5</td>\n",
       "      <td>0.538199</td>\n",
       "      <td>0.659599</td>\n",
       "      <td>0.633333</td>\n",
       "      <td>00:00</td>\n",
       "    </tr>\n",
       "    <tr>\n",
       "      <td>6</td>\n",
       "      <td>0.499519</td>\n",
       "      <td>0.629686</td>\n",
       "      <td>0.633333</td>\n",
       "      <td>00:00</td>\n",
       "    </tr>\n",
       "    <tr>\n",
       "      <td>7</td>\n",
       "      <td>0.469135</td>\n",
       "      <td>0.613055</td>\n",
       "      <td>0.600000</td>\n",
       "      <td>00:00</td>\n",
       "    </tr>\n",
       "    <tr>\n",
       "      <td>8</td>\n",
       "      <td>0.445122</td>\n",
       "      <td>0.602163</td>\n",
       "      <td>0.600000</td>\n",
       "      <td>00:00</td>\n",
       "    </tr>\n",
       "    <tr>\n",
       "      <td>9</td>\n",
       "      <td>0.423587</td>\n",
       "      <td>0.600605</td>\n",
       "      <td>0.633333</td>\n",
       "      <td>00:00</td>\n",
       "    </tr>\n",
       "  </tbody>\n",
       "</table>"
      ],
      "text/plain": [
       "<IPython.core.display.HTML object>"
      ]
     },
     "metadata": {},
     "output_type": "display_data"
    },
    {
     "name": "stdout",
     "output_type": "stream",
     "text": [
      "Better model found at epoch 0 with accuracy value: 0.3333333432674408.\n",
      "Better model found at epoch 2 with accuracy value: 0.38333332538604736.\n",
      "Better model found at epoch 3 with accuracy value: 0.44999998807907104.\n",
      "Better model found at epoch 4 with accuracy value: 0.5.\n",
      "Better model found at epoch 5 with accuracy value: 0.6333333253860474.\n"
     ]
    },
    {
     "data": {
      "text/html": [
       "<table border=\"1\" class=\"dataframe\">\n",
       "  <thead>\n",
       "    <tr style=\"text-align: left;\">\n",
       "      <th>epoch</th>\n",
       "      <th>train_loss</th>\n",
       "      <th>valid_loss</th>\n",
       "      <th>accuracy</th>\n",
       "      <th>time</th>\n",
       "    </tr>\n",
       "  </thead>\n",
       "  <tbody>\n",
       "    <tr>\n",
       "      <td>0</td>\n",
       "      <td>0.775533</td>\n",
       "      <td>0.679681</td>\n",
       "      <td>0.616667</td>\n",
       "      <td>00:00</td>\n",
       "    </tr>\n",
       "    <tr>\n",
       "      <td>1</td>\n",
       "      <td>0.746001</td>\n",
       "      <td>0.658132</td>\n",
       "      <td>0.633333</td>\n",
       "      <td>00:00</td>\n",
       "    </tr>\n",
       "    <tr>\n",
       "      <td>2</td>\n",
       "      <td>0.695338</td>\n",
       "      <td>0.642165</td>\n",
       "      <td>0.650000</td>\n",
       "      <td>00:00</td>\n",
       "    </tr>\n",
       "    <tr>\n",
       "      <td>3</td>\n",
       "      <td>0.650189</td>\n",
       "      <td>0.615037</td>\n",
       "      <td>0.666667</td>\n",
       "      <td>00:00</td>\n",
       "    </tr>\n",
       "    <tr>\n",
       "      <td>4</td>\n",
       "      <td>0.604270</td>\n",
       "      <td>0.590700</td>\n",
       "      <td>0.666667</td>\n",
       "      <td>00:00</td>\n",
       "    </tr>\n",
       "    <tr>\n",
       "      <td>5</td>\n",
       "      <td>0.565815</td>\n",
       "      <td>0.564207</td>\n",
       "      <td>0.716667</td>\n",
       "      <td>00:00</td>\n",
       "    </tr>\n",
       "    <tr>\n",
       "      <td>6</td>\n",
       "      <td>0.537949</td>\n",
       "      <td>0.549263</td>\n",
       "      <td>0.816667</td>\n",
       "      <td>00:00</td>\n",
       "    </tr>\n",
       "    <tr>\n",
       "      <td>7</td>\n",
       "      <td>0.516117</td>\n",
       "      <td>0.541262</td>\n",
       "      <td>0.816667</td>\n",
       "      <td>00:00</td>\n",
       "    </tr>\n",
       "    <tr>\n",
       "      <td>8</td>\n",
       "      <td>0.499749</td>\n",
       "      <td>0.538463</td>\n",
       "      <td>0.783333</td>\n",
       "      <td>00:00</td>\n",
       "    </tr>\n",
       "    <tr>\n",
       "      <td>9</td>\n",
       "      <td>0.482783</td>\n",
       "      <td>0.539718</td>\n",
       "      <td>0.783333</td>\n",
       "      <td>00:00</td>\n",
       "    </tr>\n",
       "  </tbody>\n",
       "</table>"
      ],
      "text/plain": [
       "<IPython.core.display.HTML object>"
      ]
     },
     "metadata": {},
     "output_type": "display_data"
    },
    {
     "name": "stdout",
     "output_type": "stream",
     "text": [
      "Better model found at epoch 0 with accuracy value: 0.6166666746139526.\n",
      "Better model found at epoch 1 with accuracy value: 0.6333333253860474.\n",
      "Better model found at epoch 2 with accuracy value: 0.6499999761581421.\n",
      "Better model found at epoch 3 with accuracy value: 0.6666666865348816.\n",
      "Better model found at epoch 5 with accuracy value: 0.7166666388511658.\n",
      "Better model found at epoch 6 with accuracy value: 0.8166666626930237.\n"
     ]
    },
    {
     "data": {
      "text/html": [
       "<table border=\"1\" class=\"dataframe\">\n",
       "  <thead>\n",
       "    <tr style=\"text-align: left;\">\n",
       "      <th>epoch</th>\n",
       "      <th>train_loss</th>\n",
       "      <th>valid_loss</th>\n",
       "      <th>accuracy</th>\n",
       "      <th>time</th>\n",
       "    </tr>\n",
       "  </thead>\n",
       "  <tbody>\n",
       "    <tr>\n",
       "      <td>0</td>\n",
       "      <td>0.853688</td>\n",
       "      <td>0.697714</td>\n",
       "      <td>0.416667</td>\n",
       "      <td>00:00</td>\n",
       "    </tr>\n",
       "    <tr>\n",
       "      <td>1</td>\n",
       "      <td>0.812070</td>\n",
       "      <td>0.674725</td>\n",
       "      <td>0.600000</td>\n",
       "      <td>00:00</td>\n",
       "    </tr>\n",
       "    <tr>\n",
       "      <td>2</td>\n",
       "      <td>0.742729</td>\n",
       "      <td>0.641053</td>\n",
       "      <td>0.766667</td>\n",
       "      <td>00:00</td>\n",
       "    </tr>\n",
       "    <tr>\n",
       "      <td>3</td>\n",
       "      <td>0.683443</td>\n",
       "      <td>0.605483</td>\n",
       "      <td>0.750000</td>\n",
       "      <td>00:00</td>\n",
       "    </tr>\n",
       "    <tr>\n",
       "      <td>4</td>\n",
       "      <td>0.631401</td>\n",
       "      <td>0.567703</td>\n",
       "      <td>0.733333</td>\n",
       "      <td>00:00</td>\n",
       "    </tr>\n",
       "    <tr>\n",
       "      <td>5</td>\n",
       "      <td>0.593030</td>\n",
       "      <td>0.534794</td>\n",
       "      <td>0.733333</td>\n",
       "      <td>00:00</td>\n",
       "    </tr>\n",
       "    <tr>\n",
       "      <td>6</td>\n",
       "      <td>0.559211</td>\n",
       "      <td>0.512724</td>\n",
       "      <td>0.733333</td>\n",
       "      <td>00:00</td>\n",
       "    </tr>\n",
       "    <tr>\n",
       "      <td>7</td>\n",
       "      <td>0.529933</td>\n",
       "      <td>0.498870</td>\n",
       "      <td>0.750000</td>\n",
       "      <td>00:00</td>\n",
       "    </tr>\n",
       "    <tr>\n",
       "      <td>8</td>\n",
       "      <td>0.507793</td>\n",
       "      <td>0.493414</td>\n",
       "      <td>0.733333</td>\n",
       "      <td>00:00</td>\n",
       "    </tr>\n",
       "    <tr>\n",
       "      <td>9</td>\n",
       "      <td>0.487563</td>\n",
       "      <td>0.491487</td>\n",
       "      <td>0.733333</td>\n",
       "      <td>00:00</td>\n",
       "    </tr>\n",
       "  </tbody>\n",
       "</table>"
      ],
      "text/plain": [
       "<IPython.core.display.HTML object>"
      ]
     },
     "metadata": {},
     "output_type": "display_data"
    },
    {
     "name": "stdout",
     "output_type": "stream",
     "text": [
      "Better model found at epoch 0 with accuracy value: 0.4166666567325592.\n",
      "Better model found at epoch 1 with accuracy value: 0.6000000238418579.\n",
      "Better model found at epoch 2 with accuracy value: 0.7666666507720947.\n"
     ]
    }
   ],
   "source": [
    "#hide_output\n",
    "train_df = df[df['fold']!= 4].reset_index(drop=True)\n",
    "test_df = df[df['fold']== 4].reset_index(drop=True)\n",
    "\n",
    "for i in range(4):\n",
    "    dls, tabdf = get_tabpandas_dls(i, train_df, procs, cat_names, cont_names, y_names, 32)\n",
    "    emb_szs = get_emb_sz(tabdf)\n",
    "    learn = tabular_learner(dls, [100,50], \n",
    "                            metrics=accuracy, \n",
    "                            cbs=[SaveModelCallback(monitor='accuracy', \n",
    "                                                   fname=f'tab_3pt_meds_{i}')])\n",
    "    \n",
    "    learn.fit_one_cycle(10, 0.002)"
   ]
  },
  {
   "cell_type": "code",
   "execution_count": null,
   "metadata": {},
   "outputs": [],
   "source": [
    "#hide\n",
    "categorical_dims = {o:len(i) for o,i in dls.train.categorify.classes.items()}\n",
    "test_cats = dict(test_df[list(categorical_dims.keys())].nunique())\n",
    "test_cats = {k:v+1 for k, v in test_cats.items()}"
   ]
  },
  {
   "cell_type": "code",
   "execution_count": null,
   "metadata": {},
   "outputs": [
    {
     "name": "stdout",
     "output_type": "stream",
     "text": [
      "carvedilol\n",
      "valsartan\n",
      "metoprolol\n",
      "propranolol\n"
     ]
    }
   ],
   "source": [
    "#hide\n",
    "for k, v in categorical_dims.items():\n",
    "    if test_cats[k] > v:\n",
    "        print(f'{k}')"
   ]
  },
  {
   "cell_type": "code",
   "execution_count": null,
   "metadata": {},
   "outputs": [],
   "source": [
    "#hide\n",
    "test_df = test_df[test_df['metoprolol'] != 2]\n",
    "test_df = test_df[test_df['simvastatin'] != 2].reset_index(drop=True)"
   ]
  },
  {
   "cell_type": "code",
   "execution_count": null,
   "metadata": {},
   "outputs": [
    {
     "name": "stderr",
     "output_type": "stream",
     "text": [
      "/usr/local/lib/python3.7/dist-packages/fastai/learner.py:56: UserWarning: Saved filed doesn't contain an optimizer state.\n",
      "  elif with_opt: warn(\"Saved filed doesn't contain an optimizer state.\")\n"
     ]
    },
    {
     "data": {
      "text/html": [
       ""
      ],
      "text/plain": [
       "<IPython.core.display.HTML object>"
      ]
     },
     "metadata": {},
     "output_type": "display_data"
    },
    {
     "name": "stderr",
     "output_type": "stream",
     "text": [
      "/usr/local/lib/python3.7/dist-packages/fastai/learner.py:56: UserWarning: Saved filed doesn't contain an optimizer state.\n",
      "  elif with_opt: warn(\"Saved filed doesn't contain an optimizer state.\")\n"
     ]
    },
    {
     "data": {
      "text/html": [
       ""
      ],
      "text/plain": [
       "<IPython.core.display.HTML object>"
      ]
     },
     "metadata": {},
     "output_type": "display_data"
    },
    {
     "name": "stderr",
     "output_type": "stream",
     "text": [
      "/usr/local/lib/python3.7/dist-packages/fastai/learner.py:56: UserWarning: Saved filed doesn't contain an optimizer state.\n",
      "  elif with_opt: warn(\"Saved filed doesn't contain an optimizer state.\")\n"
     ]
    },
    {
     "data": {
      "text/html": [
       ""
      ],
      "text/plain": [
       "<IPython.core.display.HTML object>"
      ]
     },
     "metadata": {},
     "output_type": "display_data"
    },
    {
     "name": "stderr",
     "output_type": "stream",
     "text": [
      "/usr/local/lib/python3.7/dist-packages/fastai/learner.py:56: UserWarning: Saved filed doesn't contain an optimizer state.\n",
      "  elif with_opt: warn(\"Saved filed doesn't contain an optimizer state.\")\n"
     ]
    },
    {
     "data": {
      "text/html": [
       ""
      ],
      "text/plain": [
       "<IPython.core.display.HTML object>"
      ]
     },
     "metadata": {},
     "output_type": "display_data"
    }
   ],
   "source": [
    "#hide_output\n",
    "test_dl = dls.test_dl(test_df)\n",
    "\n",
    "preds = []\n",
    "for i in range(4):\n",
    "    dls, tabdf = get_tabpandas_dls(i, train_df, procs, cat_names, cont_names, y_names, 32)\n",
    "    emb_szs = get_emb_sz(tabdf)\n",
    "    learn = tabular_learner(dls, [100,50], \n",
    "                        metrics=accuracy, \n",
    "                        cbs=[SaveModelCallback(monitor='accuracy')])\n",
    "    \n",
    "    learn.load(f'tab_3pt_meds_{i}')\n",
    "    pred, y_true = learn.get_preds(dl=test_dl)\n",
    "    preds.append(pred)\n",
    "\n",
    "y_true = test_dl.y.values\n",
    "y_pred = np.array(torch.argmax(torch.stack(preds).mean(0),1))"
   ]
  },
  {
   "cell_type": "code",
   "execution_count": null,
   "metadata": {},
   "outputs": [
    {
     "name": "stdout",
     "output_type": "stream",
     "text": [
      "5-fold accuracy score: 0.67\n"
     ]
    }
   ],
   "source": [
    "#hide_input\n",
    "print(f'5-fold accuracy score: {accuracy_score(y_true, y_pred):.2f}')"
   ]
  },
  {
   "cell_type": "code",
   "execution_count": null,
   "metadata": {},
   "outputs": [
    {
     "data": {
      "text/plain": [
       "<matplotlib.axes._subplots.AxesSubplot at 0x7f15050e2b90>"
      ]
     },
     "execution_count": null,
     "metadata": {},
     "output_type": "execute_result"
    },
    {
     "data": {
      "image/png": "[encoded data removed]",
      "text/plain": [
       "<Figure size 432x288 with 2 Axes>"
      ]
     },
     "metadata": {
      "needs_background": "light"
     },
     "output_type": "display_data"
    }
   ],
   "source": [
    "#hide_input\n",
    "sns.heatmap(confusion_matrix(y_true, y_pred), annot=True, cmap='Blues')"
   ]
  },
  {
   "cell_type": "code",
   "execution_count": null,
   "metadata": {},
   "outputs": [],
   "source": []
  }
 ],
 "metadata": {
  "kernelspec": {
   "display_name": "Python 3",
   "name": "python3"
  }
 },
 "nbformat": 4,
 "nbformat_minor": 0
}
