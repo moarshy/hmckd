{
 "cells": [
  {
   "cell_type": "code",
   "execution_count": null,
   "metadata": {},
   "outputs": [],
   "source": [
    "# default_exp utils_tab"
   ]
  },
  {
   "cell_type": "code",
   "execution_count": null,
   "metadata": {},
   "outputs": [
    {
     "name": "stdout",
     "output_type": "stream",
     "text": [
      "Mounted at /content/drive\n"
     ]
    }
   ],
   "source": [
    "#hide\n",
    "#all_ignoretest\n",
    "from google.colab import drive\n",
    "drive.mount('/content/drive')"
   ]
  },
  {
   "cell_type": "code",
   "execution_count": null,
   "metadata": {},
   "outputs": [
    {
     "name": "stdout",
     "output_type": "stream",
     "text": [
      "\u001b[K     |████████████████████████████████| 186 kB 27.2 MB/s \n",
      "\u001b[K     |████████████████████████████████| 56 kB 4.5 MB/s \n",
      "\u001b[?25hCollecting einops\n",
      "  Downloading einops-0.3.2-py3-none-any.whl (25 kB)\n",
      "Installing collected packages: einops\n",
      "Successfully installed einops-0.3.2\n"
     ]
    }
   ],
   "source": [
    "#hide\n",
    "!pip install fastai -Uqq\n",
    "!pip install einops"
   ]
  },
  {
   "cell_type": "code",
   "execution_count": null,
   "metadata": {},
   "outputs": [
    {
     "name": "stdout",
     "output_type": "stream",
     "text": [
      "/content/drive/MyDrive/colab_notebooks/hmckd\n",
      "\u001b[K     |████████████████████████████████| 46 kB 3.4 MB/s \n",
      "\u001b[K     |████████████████████████████████| 61 kB 528 kB/s \n",
      "\u001b[K     |████████████████████████████████| 51 kB 296 kB/s \n",
      "\u001b[?25h  Building wheel for dtreeviz (setup.py) ... \u001b[?25l\u001b[?25hdone\n"
     ]
    }
   ],
   "source": [
    "#hide\n",
    "%cd '/content/drive/MyDrive/colab_notebooks/hmckd'\n",
    "!pip3 install -e . -q"
   ]
  },
  {
   "cell_type": "markdown",
   "metadata": {},
   "source": [
    "# Building Simple TabularModel\n",
    "> In this notebook, we will build different TabularModels to tackle the task"
   ]
  },
  {
   "cell_type": "code",
   "execution_count": null,
   "metadata": {},
   "outputs": [],
   "source": [
    "#hide\n",
    "from nbdev import * \n",
    "import seaborn as sns\n",
    "from fastai.tabular.all import *\n",
    "from sklearn.metrics import accuracy_score, confusion_matrix"
   ]
  },
  {
   "cell_type": "code",
   "execution_count": null,
   "metadata": {},
   "outputs": [],
   "source": [
    "#exporti\n",
    "from fastai.tabular.all import *\n",
    "from hmckd.utils import get_features, baseline_df, get_tabpandas_dls, med2como\n",
    "\n",
    "def timept_df(features:dict, timept=200, maxtimept=650):\n",
    "\n",
    "    'prepares datapoints for a given timepoint'\n",
    "  \n",
    "    d = None\n",
    "    for k,v in features.items():\n",
    "        df = v[(v['time']!=0)]\n",
    "        df = v[(v['time']<maxtimept)]\n",
    "        allpat = list(v.id.unique())\n",
    "        \n",
    "        pair = []\n",
    "        for pat in allpat:\n",
    "            pattime = df[df['id']==pat]['time'].values\n",
    "            pair.append((pat, min(pattime, key=lambda x:abs(x-timept))))\n",
    "\n",
    "        value = []\n",
    "        for pat, time in pair:\n",
    "            value.append((pat, df[(df['id']==pat)&(df['time']==time)]['value'].values[0]))\n",
    "\n",
    "        if d is None:\n",
    "          d = pd.DataFrame(value).rename(columns={0:'id', 1:f\"{k}_{timept}\"})\n",
    "        else:\n",
    "          d = d.merge(pd.DataFrame(value).rename(columns={0:'id', 1:f\"{k}_{timept}\"}), on='id')\n",
    "\n",
    "    return d\n",
    "\n",
    "\n",
    "def prepare_df_nsetpoints(features, train_df, maxtimept, timepoints:list):\n",
    "    \n",
    "    \"prepares a single dataframe for ntimepoint model based on given time points\"\n",
    "\n",
    "    bdf = baseline_df(features, train_df)\n",
    "    \n",
    "    for pt in timepoints: \n",
    "        bdf = bdf.merge(timept_df(features, pt), on='id')\n",
    "\n",
    "    cont_col = ['ldl', 'creatinine', 'glucose', 'sbp', 'dbp', 'hgb']\n",
    "    cont_cols = []\n",
    "    for pt in timepoints:\n",
    "        for col in cont_col:\n",
    "            cont_cols.append(f\"{col}_{pt}\")\n",
    "    for col in cont_col: cont_cols.append(col)\n",
    "    cont_cols.append('age')\n",
    "    return bdf, cont_cols\n",
    "\n",
    "\n",
    "def prepare_df_firstnpoints(features, train_df, n_points=6, maxtimept=650):\n",
    "    'prepares dataframe for first n-points model'\n",
    "    tups = []\n",
    "    feats = ['hgb', 'ldl', 'glucose', 'creatinine', 'sbp', 'dbp']\n",
    "    for i in range(300):\n",
    "        pts = [i]\n",
    "        for k in feats:\n",
    "            pat = features[k][features[k]['id'] == i]\n",
    "            pat = pat[pat['time'] <maxtimept]\n",
    "            pat = list(pat['value'].values)\n",
    "\n",
    "            for j in range(n_points):\n",
    "                if j < len(pat): pts.append(pat[j])\n",
    "                else: pts.append(np.NaN)\n",
    "\n",
    "        tups.append(pts)\n",
    "\n",
    "    cols = ['id']\n",
    "    for feat in feats:\n",
    "        for i in range(n_points):\n",
    "            cols.append(f\"{feat}_{i}\")\n",
    "\n",
    "    df = pd.DataFrame(tups, columns=cols)\n",
    "    df = train_df[['id', 'race', 'gender', 'age', 'fold', 'Stage_Progress']].merge(df, on='id')\n",
    "    \n",
    "    cont_cols = cols[1:]\n",
    "    cont_cols.append('age')\n",
    "\n",
    "    return df, cont_cols"
   ]
  },
  {
   "cell_type": "markdown",
   "metadata": {},
   "source": [
    "## n_setpoints TabularModel "
   ]
  },
  {
   "cell_type": "markdown",
   "metadata": {},
   "source": [
    "### 2_setpoints TabularModel"
   ]
  },
  {
   "cell_type": "code",
   "execution_count": null,
   "metadata": {},
   "outputs": [
    {
     "data": {
      "text/plain": [
       "Text(0.5, 1.0, 'Figure 1: Depicting lab measurement inputs for 2_setpoints TabularModel')"
      ]
     },
     "execution_count": null,
     "metadata": {},
     "output_type": "execute_result"
    },
    {
     "data": {
      "image/png": "[encoded data removed]",
      "text/plain": [
       "<Figure size 720x720 with 1 Axes>"
      ]
     },
     "metadata": {
      "needs_background": "light"
     },
     "output_type": "display_data"
    }
   ],
   "source": [
    "#hide_input\n",
    "plt.figure(figsize=(10,10))\n",
    "plt.scatter(range(1,10), [0 for e in range(1, 10)], marker='*', linewidths=3)\n",
    "plt.scatter(range(1,10), [200+random.randint(-50, 50) for e in range(1, 10)], marker='*', linewidths=3)\n",
    "plt.scatter(range(1,10), [400+random.randint(-50, 50) for e in range(1, 10)], marker='*', linewidths=3)\n",
    "\n",
    "plt.hlines(200, 0, 10)\n",
    "plt.hlines(400, 0, 10)\n",
    "plt.xlim(1,10)\n",
    "plt.ylim(-10,750)\n",
    "plt.title(\"Figure 1: Depicting lab measurement inputs for 2_setpoints TabularModel\")"
   ]
  },
  {
   "cell_type": "markdown",
   "metadata": {},
   "source": [
    "For our n_setpoints TabularModel, we will take lab meaurements data points from  baseline and `n` other given time points. Example a 2_setpoints model would consist of \n",
    "\n",
    "1. Baseline lab measurements\n",
    "2. lab measurement that is closes to 200 days from baseline \n",
    "3. lab measurement that is closes to 400 days from baseline\n",
    "4. also demographic features\n",
    "\n",
    "The second and third setpoint can be a hyperparameter.\n",
    "\n",
    "In setting up our problem as above, one of the potential issue we would face is that the same measurement could be used for both setpoint1 and setpoint2."
   ]
  },
  {
   "cell_type": "code",
   "execution_count": null,
   "metadata": {},
   "outputs": [
    {
     "data": {
      "text/plain": [
       "TabularModel(\n",
       "  (embeds): ModuleList(\n",
       "    (0): Embedding(6, 4)\n",
       "    (1): Embedding(3, 3)\n",
       "  )\n",
       "  (emb_drop): Dropout(p=0.0, inplace=False)\n",
       "  (bn_cont): BatchNorm1d(19, eps=1e-05, momentum=0.1, affine=True, track_running_stats=True)\n",
       "  (layers): Sequential(\n",
       "    (0): LinBnDrop(\n",
       "      (0): Linear(in_features=26, out_features=100, bias=False)\n",
       "      (1): ReLU(inplace=True)\n",
       "      (2): BatchNorm1d(100, eps=1e-05, momentum=0.1, affine=True, track_running_stats=True)\n",
       "    )\n",
       "    (1): LinBnDrop(\n",
       "      (0): Linear(in_features=100, out_features=50, bias=False)\n",
       "      (1): ReLU(inplace=True)\n",
       "      (2): BatchNorm1d(50, eps=1e-05, momentum=0.1, affine=True, track_running_stats=True)\n",
       "    )\n",
       "    (2): LinBnDrop(\n",
       "      (0): Linear(in_features=50, out_features=2, bias=True)\n",
       "    )\n",
       "  )\n",
       ")"
      ]
     },
     "execution_count": null,
     "metadata": {},
     "output_type": "execute_result"
    }
   ],
   "source": [
    "#hide_input\n",
    "df = pd.read_csv('data/train_df_5f.csv')\n",
    "features = get_features(\"data/dataScienceTask/\")\n",
    "tp1 = 200\n",
    "tp2 = 400\n",
    "df, cont_names = prepare_df_nsetpoints(features, df, 650, [tp1, tp2])\n",
    "procs = [Categorify, FillMissing, Normalize]\n",
    "cat_names = ['race', 'gender']\n",
    "y_names = 'Stage_Progress'\n",
    "dls, tabdf = get_tabpandas_dls(0, df, procs, cat_names, cont_names, y_names, 32)\n",
    "emb_szs = get_emb_sz(tabdf)\n",
    "cont_len = len(tabdf.cont_names)\n",
    "learn = tabular_learner(dls, [100,50])\n",
    "learn.model"
   ]
  },
  {
   "cell_type": "markdown",
   "metadata": {},
   "source": [
    "The above `TabularModel` is what we will use. \n",
    "\n",
    "> - The categorical features are put through an embedding layer (EL). \n",
    "> - The outputs from EL are but through  a dropout layer and a batchnorm layer before concatenating them with the continuous features\n",
    "> - The concatenated outputs are then put through two linear layers of size 100 and 50 respectively. The linear layers are followed by a non-linear layer and a batchnorm layer. \n",
    "> - The outputs are then put through a final linear layer with 2 outputs.\n",
    "> - Loss function of Choice : CrossEntropy"
   ]
  },
  {
   "cell_type": "code",
   "execution_count": null,
   "metadata": {},
   "outputs": [
    {
     "name": "stdout",
     "output_type": "stream",
     "text": [
      "Our continuous columns are\n",
      "['ldl_200', 'creatinine_200', 'glucose_200', 'sbp_200', 'dbp_200', 'hgb_200', 'ldl_400', 'creatinine_400', 'glucose_400', 'sbp_400', 'dbp_400', 'hgb_400', 'ldl', 'creatinine', 'glucose', 'sbp', 'dbp', 'hgb', 'age']\n"
     ]
    }
   ],
   "source": [
    "#hide_input\n",
    "print('Our continuous columns are')\n",
    "print(dls.cont_names)"
   ]
  },
  {
   "cell_type": "code",
   "execution_count": null,
   "metadata": {},
   "outputs": [
    {
     "name": "stdout",
     "output_type": "stream",
     "text": [
      "Our categorical columns are\n",
      "['race', 'gender']\n"
     ]
    }
   ],
   "source": [
    "#hide_input\n",
    "print('Our categorical columns are')\n",
    "print(dls.cat_names)"
   ]
  },
  {
   "cell_type": "code",
   "execution_count": null,
   "metadata": {},
   "outputs": [
    {
     "data": {
      "text/html": [
       "<table border=\"1\" class=\"dataframe\">\n",
       "  <thead>\n",
       "    <tr style=\"text-align: left;\">\n",
       "      <th>epoch</th>\n",
       "      <th>train_loss</th>\n",
       "      <th>valid_loss</th>\n",
       "      <th>accuracy</th>\n",
       "      <th>time</th>\n",
       "    </tr>\n",
       "  </thead>\n",
       "  <tbody>\n",
       "    <tr>\n",
       "      <td>0</td>\n",
       "      <td>0.718477</td>\n",
       "      <td>0.710031</td>\n",
       "      <td>0.366667</td>\n",
       "      <td>00:00</td>\n",
       "    </tr>\n",
       "    <tr>\n",
       "      <td>1</td>\n",
       "      <td>0.687852</td>\n",
       "      <td>0.730515</td>\n",
       "      <td>0.400000</td>\n",
       "      <td>00:00</td>\n",
       "    </tr>\n",
       "    <tr>\n",
       "      <td>2</td>\n",
       "      <td>0.642203</td>\n",
       "      <td>0.750065</td>\n",
       "      <td>0.483333</td>\n",
       "      <td>00:00</td>\n",
       "    </tr>\n",
       "    <tr>\n",
       "      <td>3</td>\n",
       "      <td>0.605039</td>\n",
       "      <td>0.763106</td>\n",
       "      <td>0.516667</td>\n",
       "      <td>00:00</td>\n",
       "    </tr>\n",
       "    <tr>\n",
       "      <td>4</td>\n",
       "      <td>0.560128</td>\n",
       "      <td>0.773388</td>\n",
       "      <td>0.533333</td>\n",
       "      <td>00:00</td>\n",
       "    </tr>\n",
       "    <tr>\n",
       "      <td>5</td>\n",
       "      <td>0.518442</td>\n",
       "      <td>0.793040</td>\n",
       "      <td>0.500000</td>\n",
       "      <td>00:00</td>\n",
       "    </tr>\n",
       "    <tr>\n",
       "      <td>6</td>\n",
       "      <td>0.489235</td>\n",
       "      <td>0.814409</td>\n",
       "      <td>0.500000</td>\n",
       "      <td>00:00</td>\n",
       "    </tr>\n",
       "    <tr>\n",
       "      <td>7</td>\n",
       "      <td>0.460608</td>\n",
       "      <td>0.836249</td>\n",
       "      <td>0.516667</td>\n",
       "      <td>00:00</td>\n",
       "    </tr>\n",
       "    <tr>\n",
       "      <td>8</td>\n",
       "      <td>0.445734</td>\n",
       "      <td>0.854443</td>\n",
       "      <td>0.516667</td>\n",
       "      <td>00:00</td>\n",
       "    </tr>\n",
       "    <tr>\n",
       "      <td>9</td>\n",
       "      <td>0.424949</td>\n",
       "      <td>0.868143</td>\n",
       "      <td>0.516667</td>\n",
       "      <td>00:00</td>\n",
       "    </tr>\n",
       "  </tbody>\n",
       "</table>"
      ],
      "text/plain": [
       "<IPython.core.display.HTML object>"
      ]
     },
     "metadata": {},
     "output_type": "display_data"
    },
    {
     "name": "stdout",
     "output_type": "stream",
     "text": [
      "Better model found at epoch 0 with accuracy value: 0.36666667461395264.\n",
      "Better model found at epoch 1 with accuracy value: 0.4000000059604645.\n",
      "Better model found at epoch 2 with accuracy value: 0.4833333194255829.\n",
      "Better model found at epoch 3 with accuracy value: 0.5166666507720947.\n",
      "Better model found at epoch 4 with accuracy value: 0.5333333611488342.\n"
     ]
    },
    {
     "data": {
      "text/html": [
       "<table border=\"1\" class=\"dataframe\">\n",
       "  <thead>\n",
       "    <tr style=\"text-align: left;\">\n",
       "      <th>epoch</th>\n",
       "      <th>train_loss</th>\n",
       "      <th>valid_loss</th>\n",
       "      <th>accuracy</th>\n",
       "      <th>time</th>\n",
       "    </tr>\n",
       "  </thead>\n",
       "  <tbody>\n",
       "    <tr>\n",
       "      <td>0</td>\n",
       "      <td>0.749911</td>\n",
       "      <td>0.657482</td>\n",
       "      <td>0.683333</td>\n",
       "      <td>00:00</td>\n",
       "    </tr>\n",
       "    <tr>\n",
       "      <td>1</td>\n",
       "      <td>0.717327</td>\n",
       "      <td>0.640769</td>\n",
       "      <td>0.716667</td>\n",
       "      <td>00:00</td>\n",
       "    </tr>\n",
       "    <tr>\n",
       "      <td>2</td>\n",
       "      <td>0.676107</td>\n",
       "      <td>0.620617</td>\n",
       "      <td>0.716667</td>\n",
       "      <td>00:00</td>\n",
       "    </tr>\n",
       "    <tr>\n",
       "      <td>3</td>\n",
       "      <td>0.627813</td>\n",
       "      <td>0.600944</td>\n",
       "      <td>0.733333</td>\n",
       "      <td>00:00</td>\n",
       "    </tr>\n",
       "    <tr>\n",
       "      <td>4</td>\n",
       "      <td>0.587713</td>\n",
       "      <td>0.597674</td>\n",
       "      <td>0.683333</td>\n",
       "      <td>00:00</td>\n",
       "    </tr>\n",
       "    <tr>\n",
       "      <td>5</td>\n",
       "      <td>0.555913</td>\n",
       "      <td>0.594487</td>\n",
       "      <td>0.683333</td>\n",
       "      <td>00:00</td>\n",
       "    </tr>\n",
       "    <tr>\n",
       "      <td>6</td>\n",
       "      <td>0.530423</td>\n",
       "      <td>0.600389</td>\n",
       "      <td>0.683333</td>\n",
       "      <td>00:00</td>\n",
       "    </tr>\n",
       "    <tr>\n",
       "      <td>7</td>\n",
       "      <td>0.501842</td>\n",
       "      <td>0.603965</td>\n",
       "      <td>0.666667</td>\n",
       "      <td>00:00</td>\n",
       "    </tr>\n",
       "    <tr>\n",
       "      <td>8</td>\n",
       "      <td>0.482703</td>\n",
       "      <td>0.606755</td>\n",
       "      <td>0.666667</td>\n",
       "      <td>00:00</td>\n",
       "    </tr>\n",
       "    <tr>\n",
       "      <td>9</td>\n",
       "      <td>0.465042</td>\n",
       "      <td>0.610079</td>\n",
       "      <td>0.650000</td>\n",
       "      <td>00:00</td>\n",
       "    </tr>\n",
       "  </tbody>\n",
       "</table>"
      ],
      "text/plain": [
       "<IPython.core.display.HTML object>"
      ]
     },
     "metadata": {},
     "output_type": "display_data"
    },
    {
     "name": "stdout",
     "output_type": "stream",
     "text": [
      "Better model found at epoch 0 with accuracy value: 0.6833333373069763.\n",
      "Better model found at epoch 1 with accuracy value: 0.7166666388511658.\n",
      "Better model found at epoch 3 with accuracy value: 0.7333333492279053.\n"
     ]
    },
    {
     "data": {
      "text/html": [
       "<table border=\"1\" class=\"dataframe\">\n",
       "  <thead>\n",
       "    <tr style=\"text-align: left;\">\n",
       "      <th>epoch</th>\n",
       "      <th>train_loss</th>\n",
       "      <th>valid_loss</th>\n",
       "      <th>accuracy</th>\n",
       "      <th>time</th>\n",
       "    </tr>\n",
       "  </thead>\n",
       "  <tbody>\n",
       "    <tr>\n",
       "      <td>0</td>\n",
       "      <td>0.741205</td>\n",
       "      <td>0.704969</td>\n",
       "      <td>0.433333</td>\n",
       "      <td>00:00</td>\n",
       "    </tr>\n",
       "    <tr>\n",
       "      <td>1</td>\n",
       "      <td>0.713360</td>\n",
       "      <td>0.713071</td>\n",
       "      <td>0.416667</td>\n",
       "      <td>00:00</td>\n",
       "    </tr>\n",
       "    <tr>\n",
       "      <td>2</td>\n",
       "      <td>0.672957</td>\n",
       "      <td>0.692898</td>\n",
       "      <td>0.483333</td>\n",
       "      <td>00:00</td>\n",
       "    </tr>\n",
       "    <tr>\n",
       "      <td>3</td>\n",
       "      <td>0.624082</td>\n",
       "      <td>0.670343</td>\n",
       "      <td>0.633333</td>\n",
       "      <td>00:00</td>\n",
       "    </tr>\n",
       "    <tr>\n",
       "      <td>4</td>\n",
       "      <td>0.592064</td>\n",
       "      <td>0.642749</td>\n",
       "      <td>0.616667</td>\n",
       "      <td>00:00</td>\n",
       "    </tr>\n",
       "    <tr>\n",
       "      <td>5</td>\n",
       "      <td>0.559537</td>\n",
       "      <td>0.633868</td>\n",
       "      <td>0.650000</td>\n",
       "      <td>00:00</td>\n",
       "    </tr>\n",
       "    <tr>\n",
       "      <td>6</td>\n",
       "      <td>0.530931</td>\n",
       "      <td>0.631703</td>\n",
       "      <td>0.650000</td>\n",
       "      <td>00:00</td>\n",
       "    </tr>\n",
       "    <tr>\n",
       "      <td>7</td>\n",
       "      <td>0.507658</td>\n",
       "      <td>0.639988</td>\n",
       "      <td>0.650000</td>\n",
       "      <td>00:00</td>\n",
       "    </tr>\n",
       "    <tr>\n",
       "      <td>8</td>\n",
       "      <td>0.483452</td>\n",
       "      <td>0.645217</td>\n",
       "      <td>0.633333</td>\n",
       "      <td>00:00</td>\n",
       "    </tr>\n",
       "    <tr>\n",
       "      <td>9</td>\n",
       "      <td>0.465410</td>\n",
       "      <td>0.645440</td>\n",
       "      <td>0.650000</td>\n",
       "      <td>00:00</td>\n",
       "    </tr>\n",
       "  </tbody>\n",
       "</table>"
      ],
      "text/plain": [
       "<IPython.core.display.HTML object>"
      ]
     },
     "metadata": {},
     "output_type": "display_data"
    },
    {
     "name": "stdout",
     "output_type": "stream",
     "text": [
      "Better model found at epoch 0 with accuracy value: 0.4333333373069763.\n",
      "Better model found at epoch 2 with accuracy value: 0.4833333194255829.\n",
      "Better model found at epoch 3 with accuracy value: 0.6333333253860474.\n",
      "Better model found at epoch 5 with accuracy value: 0.6499999761581421.\n"
     ]
    },
    {
     "data": {
      "text/html": [
       "<table border=\"1\" class=\"dataframe\">\n",
       "  <thead>\n",
       "    <tr style=\"text-align: left;\">\n",
       "      <th>epoch</th>\n",
       "      <th>train_loss</th>\n",
       "      <th>valid_loss</th>\n",
       "      <th>accuracy</th>\n",
       "      <th>time</th>\n",
       "    </tr>\n",
       "  </thead>\n",
       "  <tbody>\n",
       "    <tr>\n",
       "      <td>0</td>\n",
       "      <td>0.689264</td>\n",
       "      <td>0.676482</td>\n",
       "      <td>0.633333</td>\n",
       "      <td>00:00</td>\n",
       "    </tr>\n",
       "    <tr>\n",
       "      <td>1</td>\n",
       "      <td>0.675521</td>\n",
       "      <td>0.667349</td>\n",
       "      <td>0.700000</td>\n",
       "      <td>00:00</td>\n",
       "    </tr>\n",
       "    <tr>\n",
       "      <td>2</td>\n",
       "      <td>0.641526</td>\n",
       "      <td>0.639662</td>\n",
       "      <td>0.700000</td>\n",
       "      <td>00:00</td>\n",
       "    </tr>\n",
       "    <tr>\n",
       "      <td>3</td>\n",
       "      <td>0.604991</td>\n",
       "      <td>0.607459</td>\n",
       "      <td>0.700000</td>\n",
       "      <td>00:00</td>\n",
       "    </tr>\n",
       "    <tr>\n",
       "      <td>4</td>\n",
       "      <td>0.574793</td>\n",
       "      <td>0.576096</td>\n",
       "      <td>0.716667</td>\n",
       "      <td>00:00</td>\n",
       "    </tr>\n",
       "    <tr>\n",
       "      <td>5</td>\n",
       "      <td>0.549422</td>\n",
       "      <td>0.557096</td>\n",
       "      <td>0.766667</td>\n",
       "      <td>00:00</td>\n",
       "    </tr>\n",
       "    <tr>\n",
       "      <td>6</td>\n",
       "      <td>0.529153</td>\n",
       "      <td>0.548583</td>\n",
       "      <td>0.716667</td>\n",
       "      <td>00:00</td>\n",
       "    </tr>\n",
       "    <tr>\n",
       "      <td>7</td>\n",
       "      <td>0.506812</td>\n",
       "      <td>0.543129</td>\n",
       "      <td>0.716667</td>\n",
       "      <td>00:00</td>\n",
       "    </tr>\n",
       "    <tr>\n",
       "      <td>8</td>\n",
       "      <td>0.487558</td>\n",
       "      <td>0.541163</td>\n",
       "      <td>0.700000</td>\n",
       "      <td>00:00</td>\n",
       "    </tr>\n",
       "    <tr>\n",
       "      <td>9</td>\n",
       "      <td>0.470765</td>\n",
       "      <td>0.541460</td>\n",
       "      <td>0.683333</td>\n",
       "      <td>00:00</td>\n",
       "    </tr>\n",
       "  </tbody>\n",
       "</table>"
      ],
      "text/plain": [
       "<IPython.core.display.HTML object>"
      ]
     },
     "metadata": {},
     "output_type": "display_data"
    },
    {
     "name": "stdout",
     "output_type": "stream",
     "text": [
      "Better model found at epoch 0 with accuracy value: 0.6333333253860474.\n",
      "Better model found at epoch 1 with accuracy value: 0.699999988079071.\n",
      "Better model found at epoch 4 with accuracy value: 0.7166666388511658.\n",
      "Better model found at epoch 5 with accuracy value: 0.7666666507720947.\n"
     ]
    }
   ],
   "source": [
    "#hide_output\n",
    "train_df = df[df['fold']!= 4].reset_index(drop=True)\n",
    "test_df = df[df['fold']== 4].reset_index(drop=True)\n",
    "for i in range(4):\n",
    "    dls, tabdf = get_tabpandas_dls(i, train_df, procs, cat_names, cont_names, y_names, 32)\n",
    "    emb_szs = get_emb_sz(tabdf)\n",
    "    learn = tabular_learner(dls, [100,50], \n",
    "                            metrics=accuracy, \n",
    "                            cbs=[SaveModelCallback(monitor='accuracy', \n",
    "                                                   fname=f'tab_3pt_{i}')])\n",
    "    \n",
    "    learn.fit_one_cycle(10, 0.002)"
   ]
  },
  {
   "cell_type": "code",
   "execution_count": null,
   "metadata": {},
   "outputs": [
    {
     "name": "stderr",
     "output_type": "stream",
     "text": [
      "/usr/local/lib/python3.7/dist-packages/fastai/learner.py:56: UserWarning: Saved filed doesn't contain an optimizer state.\n",
      "  elif with_opt: warn(\"Saved filed doesn't contain an optimizer state.\")\n"
     ]
    },
    {
     "data": {
      "text/html": [
       ""
      ],
      "text/plain": [
       "<IPython.core.display.HTML object>"
      ]
     },
     "metadata": {},
     "output_type": "display_data"
    },
    {
     "name": "stderr",
     "output_type": "stream",
     "text": [
      "/usr/local/lib/python3.7/dist-packages/fastai/learner.py:56: UserWarning: Saved filed doesn't contain an optimizer state.\n",
      "  elif with_opt: warn(\"Saved filed doesn't contain an optimizer state.\")\n"
     ]
    },
    {
     "data": {
      "text/html": [
       ""
      ],
      "text/plain": [
       "<IPython.core.display.HTML object>"
      ]
     },
     "metadata": {},
     "output_type": "display_data"
    },
    {
     "name": "stderr",
     "output_type": "stream",
     "text": [
      "/usr/local/lib/python3.7/dist-packages/fastai/learner.py:56: UserWarning: Saved filed doesn't contain an optimizer state.\n",
      "  elif with_opt: warn(\"Saved filed doesn't contain an optimizer state.\")\n"
     ]
    },
    {
     "data": {
      "text/html": [
       ""
      ],
      "text/plain": [
       "<IPython.core.display.HTML object>"
      ]
     },
     "metadata": {},
     "output_type": "display_data"
    },
    {
     "name": "stderr",
     "output_type": "stream",
     "text": [
      "/usr/local/lib/python3.7/dist-packages/fastai/learner.py:56: UserWarning: Saved filed doesn't contain an optimizer state.\n",
      "  elif with_opt: warn(\"Saved filed doesn't contain an optimizer state.\")\n"
     ]
    },
    {
     "data": {
      "text/html": [
       ""
      ],
      "text/plain": [
       "<IPython.core.display.HTML object>"
      ]
     },
     "metadata": {},
     "output_type": "display_data"
    }
   ],
   "source": [
    "#hide_output\n",
    "test_dl = dls.test_dl(test_df)\n",
    "preds = []\n",
    "for i in range(4):\n",
    "    dls, tabdf = get_tabpandas_dls(i, train_df, procs, cat_names, cont_names, y_names, 32)\n",
    "    emb_szs = get_emb_sz(tabdf)\n",
    "    learn = tabular_learner(dls, [100,50], \n",
    "                        metrics=accuracy, \n",
    "                        cbs=[SaveModelCallback(monitor='accuracy')])\n",
    "    \n",
    "    learn.load(f'tab_3pt_{i}')\n",
    "    pred, y_pred, y_true = learn.get_preds(dl=test_dl, with_decoded=True)\n",
    "    preds.append(pred)\n",
    "  \n",
    "y_true = test_dl.y.values\n",
    "y_pred = np.array(torch.argmax(torch.stack(preds).mean(0),1))"
   ]
  },
  {
   "cell_type": "code",
   "execution_count": null,
   "metadata": {},
   "outputs": [
    {
     "name": "stdout",
     "output_type": "stream",
     "text": [
      "5-fold accuracy score: 0.67\n"
     ]
    }
   ],
   "source": [
    "#hide_input\n",
    "print(f'5-fold accuracy score: {accuracy_score(y_true, y_pred):.2f}')"
   ]
  },
  {
   "cell_type": "code",
   "execution_count": null,
   "metadata": {},
   "outputs": [
    {
     "data": {
      "text/plain": [
       "<matplotlib.axes._subplots.AxesSubplot at 0x7fb9dafc3ed0>"
      ]
     },
     "execution_count": null,
     "metadata": {},
     "output_type": "execute_result"
    },
    {
     "data": {
      "image/png": "[encoded data removed]",
      "text/plain": [
       "<Figure size 432x288 with 2 Axes>"
      ]
     },
     "metadata": {
      "needs_background": "light"
     },
     "output_type": "display_data"
    }
   ],
   "source": [
    "#hide_input\n",
    "sns.heatmap(confusion_matrix(y_true, y_pred), annot=True, cmap='Blues')"
   ]
  },
  {
   "cell_type": "markdown",
   "metadata": {},
   "source": [
    "Next, we will use weighted loss to account for class imbalance"
   ]
  },
  {
   "cell_type": "code",
   "execution_count": null,
   "metadata": {},
   "outputs": [
    {
     "data": {
      "text/html": [
       "<table border=\"1\" class=\"dataframe\">\n",
       "  <thead>\n",
       "    <tr style=\"text-align: left;\">\n",
       "      <th>epoch</th>\n",
       "      <th>train_loss</th>\n",
       "      <th>valid_loss</th>\n",
       "      <th>accuracy</th>\n",
       "      <th>time</th>\n",
       "    </tr>\n",
       "  </thead>\n",
       "  <tbody>\n",
       "    <tr>\n",
       "      <td>0</td>\n",
       "      <td>0.789993</td>\n",
       "      <td>0.693492</td>\n",
       "      <td>0.383333</td>\n",
       "      <td>00:00</td>\n",
       "    </tr>\n",
       "    <tr>\n",
       "      <td>1</td>\n",
       "      <td>0.741972</td>\n",
       "      <td>0.681497</td>\n",
       "      <td>0.466667</td>\n",
       "      <td>00:00</td>\n",
       "    </tr>\n",
       "    <tr>\n",
       "      <td>2</td>\n",
       "      <td>0.693554</td>\n",
       "      <td>0.669350</td>\n",
       "      <td>0.533333</td>\n",
       "      <td>00:00</td>\n",
       "    </tr>\n",
       "    <tr>\n",
       "      <td>3</td>\n",
       "      <td>0.638536</td>\n",
       "      <td>0.668826</td>\n",
       "      <td>0.533333</td>\n",
       "      <td>00:00</td>\n",
       "    </tr>\n",
       "    <tr>\n",
       "      <td>4</td>\n",
       "      <td>0.585376</td>\n",
       "      <td>0.669987</td>\n",
       "      <td>0.566667</td>\n",
       "      <td>00:00</td>\n",
       "    </tr>\n",
       "    <tr>\n",
       "      <td>5</td>\n",
       "      <td>0.544626</td>\n",
       "      <td>0.687367</td>\n",
       "      <td>0.516667</td>\n",
       "      <td>00:00</td>\n",
       "    </tr>\n",
       "    <tr>\n",
       "      <td>6</td>\n",
       "      <td>0.506236</td>\n",
       "      <td>0.712203</td>\n",
       "      <td>0.566667</td>\n",
       "      <td>00:00</td>\n",
       "    </tr>\n",
       "    <tr>\n",
       "      <td>7</td>\n",
       "      <td>0.476655</td>\n",
       "      <td>0.732161</td>\n",
       "      <td>0.566667</td>\n",
       "      <td>00:00</td>\n",
       "    </tr>\n",
       "    <tr>\n",
       "      <td>8</td>\n",
       "      <td>0.451773</td>\n",
       "      <td>0.746056</td>\n",
       "      <td>0.566667</td>\n",
       "      <td>00:00</td>\n",
       "    </tr>\n",
       "    <tr>\n",
       "      <td>9</td>\n",
       "      <td>0.436509</td>\n",
       "      <td>0.756901</td>\n",
       "      <td>0.566667</td>\n",
       "      <td>00:00</td>\n",
       "    </tr>\n",
       "  </tbody>\n",
       "</table>"
      ],
      "text/plain": [
       "<IPython.core.display.HTML object>"
      ]
     },
     "metadata": {},
     "output_type": "display_data"
    },
    {
     "name": "stdout",
     "output_type": "stream",
     "text": [
      "Better model found at epoch 0 with accuracy value: 0.38333332538604736.\n",
      "Better model found at epoch 1 with accuracy value: 0.46666666865348816.\n",
      "Better model found at epoch 2 with accuracy value: 0.5333333611488342.\n",
      "Better model found at epoch 4 with accuracy value: 0.5666666626930237.\n"
     ]
    },
    {
     "data": {
      "text/html": [
       "<table border=\"1\" class=\"dataframe\">\n",
       "  <thead>\n",
       "    <tr style=\"text-align: left;\">\n",
       "      <th>epoch</th>\n",
       "      <th>train_loss</th>\n",
       "      <th>valid_loss</th>\n",
       "      <th>accuracy</th>\n",
       "      <th>time</th>\n",
       "    </tr>\n",
       "  </thead>\n",
       "  <tbody>\n",
       "    <tr>\n",
       "      <td>0</td>\n",
       "      <td>0.781401</td>\n",
       "      <td>0.689090</td>\n",
       "      <td>0.700000</td>\n",
       "      <td>00:00</td>\n",
       "    </tr>\n",
       "    <tr>\n",
       "      <td>1</td>\n",
       "      <td>0.742963</td>\n",
       "      <td>0.680561</td>\n",
       "      <td>0.700000</td>\n",
       "      <td>00:00</td>\n",
       "    </tr>\n",
       "    <tr>\n",
       "      <td>2</td>\n",
       "      <td>0.686973</td>\n",
       "      <td>0.660423</td>\n",
       "      <td>0.650000</td>\n",
       "      <td>00:00</td>\n",
       "    </tr>\n",
       "    <tr>\n",
       "      <td>3</td>\n",
       "      <td>0.631851</td>\n",
       "      <td>0.648831</td>\n",
       "      <td>0.700000</td>\n",
       "      <td>00:00</td>\n",
       "    </tr>\n",
       "    <tr>\n",
       "      <td>4</td>\n",
       "      <td>0.591558</td>\n",
       "      <td>0.626859</td>\n",
       "      <td>0.700000</td>\n",
       "      <td>00:00</td>\n",
       "    </tr>\n",
       "    <tr>\n",
       "      <td>5</td>\n",
       "      <td>0.560714</td>\n",
       "      <td>0.613296</td>\n",
       "      <td>0.700000</td>\n",
       "      <td>00:00</td>\n",
       "    </tr>\n",
       "    <tr>\n",
       "      <td>6</td>\n",
       "      <td>0.526800</td>\n",
       "      <td>0.625612</td>\n",
       "      <td>0.700000</td>\n",
       "      <td>00:00</td>\n",
       "    </tr>\n",
       "    <tr>\n",
       "      <td>7</td>\n",
       "      <td>0.495362</td>\n",
       "      <td>0.635813</td>\n",
       "      <td>0.700000</td>\n",
       "      <td>00:00</td>\n",
       "    </tr>\n",
       "    <tr>\n",
       "      <td>8</td>\n",
       "      <td>0.475150</td>\n",
       "      <td>0.640670</td>\n",
       "      <td>0.700000</td>\n",
       "      <td>00:00</td>\n",
       "    </tr>\n",
       "    <tr>\n",
       "      <td>9</td>\n",
       "      <td>0.456464</td>\n",
       "      <td>0.643539</td>\n",
       "      <td>0.700000</td>\n",
       "      <td>00:00</td>\n",
       "    </tr>\n",
       "  </tbody>\n",
       "</table>"
      ],
      "text/plain": [
       "<IPython.core.display.HTML object>"
      ]
     },
     "metadata": {},
     "output_type": "display_data"
    },
    {
     "name": "stdout",
     "output_type": "stream",
     "text": [
      "Better model found at epoch 0 with accuracy value: 0.699999988079071.\n"
     ]
    },
    {
     "data": {
      "text/html": [
       "<table border=\"1\" class=\"dataframe\">\n",
       "  <thead>\n",
       "    <tr style=\"text-align: left;\">\n",
       "      <th>epoch</th>\n",
       "      <th>train_loss</th>\n",
       "      <th>valid_loss</th>\n",
       "      <th>accuracy</th>\n",
       "      <th>time</th>\n",
       "    </tr>\n",
       "  </thead>\n",
       "  <tbody>\n",
       "    <tr>\n",
       "      <td>0</td>\n",
       "      <td>0.777017</td>\n",
       "      <td>0.692287</td>\n",
       "      <td>0.500000</td>\n",
       "      <td>00:00</td>\n",
       "    </tr>\n",
       "    <tr>\n",
       "      <td>1</td>\n",
       "      <td>0.744965</td>\n",
       "      <td>0.678706</td>\n",
       "      <td>0.666667</td>\n",
       "      <td>00:00</td>\n",
       "    </tr>\n",
       "    <tr>\n",
       "      <td>2</td>\n",
       "      <td>0.684128</td>\n",
       "      <td>0.654689</td>\n",
       "      <td>0.700000</td>\n",
       "      <td>00:00</td>\n",
       "    </tr>\n",
       "    <tr>\n",
       "      <td>3</td>\n",
       "      <td>0.640298</td>\n",
       "      <td>0.643163</td>\n",
       "      <td>0.716667</td>\n",
       "      <td>00:00</td>\n",
       "    </tr>\n",
       "    <tr>\n",
       "      <td>4</td>\n",
       "      <td>0.603958</td>\n",
       "      <td>0.630938</td>\n",
       "      <td>0.733333</td>\n",
       "      <td>00:00</td>\n",
       "    </tr>\n",
       "    <tr>\n",
       "      <td>5</td>\n",
       "      <td>0.562562</td>\n",
       "      <td>0.617796</td>\n",
       "      <td>0.750000</td>\n",
       "      <td>00:00</td>\n",
       "    </tr>\n",
       "    <tr>\n",
       "      <td>6</td>\n",
       "      <td>0.540861</td>\n",
       "      <td>0.598740</td>\n",
       "      <td>0.750000</td>\n",
       "      <td>00:00</td>\n",
       "    </tr>\n",
       "    <tr>\n",
       "      <td>7</td>\n",
       "      <td>0.518373</td>\n",
       "      <td>0.594936</td>\n",
       "      <td>0.700000</td>\n",
       "      <td>00:00</td>\n",
       "    </tr>\n",
       "    <tr>\n",
       "      <td>8</td>\n",
       "      <td>0.495680</td>\n",
       "      <td>0.595210</td>\n",
       "      <td>0.683333</td>\n",
       "      <td>00:00</td>\n",
       "    </tr>\n",
       "    <tr>\n",
       "      <td>9</td>\n",
       "      <td>0.483762</td>\n",
       "      <td>0.591531</td>\n",
       "      <td>0.716667</td>\n",
       "      <td>00:00</td>\n",
       "    </tr>\n",
       "  </tbody>\n",
       "</table>"
      ],
      "text/plain": [
       "<IPython.core.display.HTML object>"
      ]
     },
     "metadata": {},
     "output_type": "display_data"
    },
    {
     "name": "stdout",
     "output_type": "stream",
     "text": [
      "Better model found at epoch 0 with accuracy value: 0.5.\n",
      "Better model found at epoch 1 with accuracy value: 0.6666666865348816.\n",
      "Better model found at epoch 2 with accuracy value: 0.699999988079071.\n",
      "Better model found at epoch 3 with accuracy value: 0.7166666388511658.\n",
      "Better model found at epoch 4 with accuracy value: 0.7333333492279053.\n",
      "Better model found at epoch 5 with accuracy value: 0.75.\n"
     ]
    },
    {
     "data": {
      "text/html": [
       "<table border=\"1\" class=\"dataframe\">\n",
       "  <thead>\n",
       "    <tr style=\"text-align: left;\">\n",
       "      <th>epoch</th>\n",
       "      <th>train_loss</th>\n",
       "      <th>valid_loss</th>\n",
       "      <th>accuracy</th>\n",
       "      <th>time</th>\n",
       "    </tr>\n",
       "  </thead>\n",
       "  <tbody>\n",
       "    <tr>\n",
       "      <td>0</td>\n",
       "      <td>0.684810</td>\n",
       "      <td>0.689409</td>\n",
       "      <td>0.466667</td>\n",
       "      <td>00:00</td>\n",
       "    </tr>\n",
       "    <tr>\n",
       "      <td>1</td>\n",
       "      <td>0.688664</td>\n",
       "      <td>0.676141</td>\n",
       "      <td>0.600000</td>\n",
       "      <td>00:00</td>\n",
       "    </tr>\n",
       "    <tr>\n",
       "      <td>2</td>\n",
       "      <td>0.662282</td>\n",
       "      <td>0.661410</td>\n",
       "      <td>0.616667</td>\n",
       "      <td>00:00</td>\n",
       "    </tr>\n",
       "    <tr>\n",
       "      <td>3</td>\n",
       "      <td>0.619755</td>\n",
       "      <td>0.642964</td>\n",
       "      <td>0.650000</td>\n",
       "      <td>00:00</td>\n",
       "    </tr>\n",
       "    <tr>\n",
       "      <td>4</td>\n",
       "      <td>0.588442</td>\n",
       "      <td>0.625397</td>\n",
       "      <td>0.666667</td>\n",
       "      <td>00:00</td>\n",
       "    </tr>\n",
       "    <tr>\n",
       "      <td>5</td>\n",
       "      <td>0.554821</td>\n",
       "      <td>0.607092</td>\n",
       "      <td>0.666667</td>\n",
       "      <td>00:00</td>\n",
       "    </tr>\n",
       "    <tr>\n",
       "      <td>6</td>\n",
       "      <td>0.531406</td>\n",
       "      <td>0.598944</td>\n",
       "      <td>0.650000</td>\n",
       "      <td>00:00</td>\n",
       "    </tr>\n",
       "    <tr>\n",
       "      <td>7</td>\n",
       "      <td>0.510968</td>\n",
       "      <td>0.598806</td>\n",
       "      <td>0.666667</td>\n",
       "      <td>00:00</td>\n",
       "    </tr>\n",
       "    <tr>\n",
       "      <td>8</td>\n",
       "      <td>0.493026</td>\n",
       "      <td>0.598042</td>\n",
       "      <td>0.666667</td>\n",
       "      <td>00:00</td>\n",
       "    </tr>\n",
       "    <tr>\n",
       "      <td>9</td>\n",
       "      <td>0.475814</td>\n",
       "      <td>0.600300</td>\n",
       "      <td>0.666667</td>\n",
       "      <td>00:00</td>\n",
       "    </tr>\n",
       "  </tbody>\n",
       "</table>"
      ],
      "text/plain": [
       "<IPython.core.display.HTML object>"
      ]
     },
     "metadata": {},
     "output_type": "display_data"
    },
    {
     "name": "stdout",
     "output_type": "stream",
     "text": [
      "Better model found at epoch 0 with accuracy value: 0.46666666865348816.\n",
      "Better model found at epoch 1 with accuracy value: 0.6000000238418579.\n",
      "Better model found at epoch 2 with accuracy value: 0.6166666746139526.\n",
      "Better model found at epoch 3 with accuracy value: 0.6499999761581421.\n",
      "Better model found at epoch 4 with accuracy value: 0.6666666865348816.\n"
     ]
    }
   ],
   "source": [
    "#hide_output\n",
    "for i in range(4):\n",
    "    dls, tabdf = get_tabpandas_dls(i, train_df, procs, cat_names, cont_names, y_names, 32)\n",
    "    emb_szs = get_emb_sz(tabdf)\n",
    "    learn = tabular_learner(dls, [100,50], \n",
    "                            metrics=accuracy, \n",
    "                            cbs=[SaveModelCallback(monitor='accuracy', \n",
    "                                                   fname=f'tab_3pt_wl_{i}')])\n",
    "    learn.loss_func = CrossEntropyLossFlat(weight=tensor([0.67, 1.33]))\n",
    "    \n",
    "    learn.fit_one_cycle(10, 0.002)"
   ]
  },
  {
   "cell_type": "code",
   "execution_count": null,
   "metadata": {},
   "outputs": [
    {
     "name": "stderr",
     "output_type": "stream",
     "text": [
      "/usr/local/lib/python3.7/dist-packages/fastai/learner.py:56: UserWarning: Saved filed doesn't contain an optimizer state.\n",
      "  elif with_opt: warn(\"Saved filed doesn't contain an optimizer state.\")\n"
     ]
    },
    {
     "data": {
      "text/html": [
       ""
      ],
      "text/plain": [
       "<IPython.core.display.HTML object>"
      ]
     },
     "metadata": {},
     "output_type": "display_data"
    },
    {
     "name": "stderr",
     "output_type": "stream",
     "text": [
      "/usr/local/lib/python3.7/dist-packages/fastai/learner.py:56: UserWarning: Saved filed doesn't contain an optimizer state.\n",
      "  elif with_opt: warn(\"Saved filed doesn't contain an optimizer state.\")\n"
     ]
    },
    {
     "data": {
      "text/html": [
       ""
      ],
      "text/plain": [
       "<IPython.core.display.HTML object>"
      ]
     },
     "metadata": {},
     "output_type": "display_data"
    },
    {
     "name": "stderr",
     "output_type": "stream",
     "text": [
      "/usr/local/lib/python3.7/dist-packages/fastai/learner.py:56: UserWarning: Saved filed doesn't contain an optimizer state.\n",
      "  elif with_opt: warn(\"Saved filed doesn't contain an optimizer state.\")\n"
     ]
    },
    {
     "data": {
      "text/html": [
       ""
      ],
      "text/plain": [
       "<IPython.core.display.HTML object>"
      ]
     },
     "metadata": {},
     "output_type": "display_data"
    },
    {
     "name": "stderr",
     "output_type": "stream",
     "text": [
      "/usr/local/lib/python3.7/dist-packages/fastai/learner.py:56: UserWarning: Saved filed doesn't contain an optimizer state.\n",
      "  elif with_opt: warn(\"Saved filed doesn't contain an optimizer state.\")\n"
     ]
    },
    {
     "data": {
      "text/html": [
       ""
      ],
      "text/plain": [
       "<IPython.core.display.HTML object>"
      ]
     },
     "metadata": {},
     "output_type": "display_data"
    }
   ],
   "source": [
    "#hide_output\n",
    "test_dl = dls.test_dl(test_df)\n",
    "preds = []\n",
    "for i in range(4):\n",
    "    dls, tabdf = get_tabpandas_dls(i, train_df, procs, cat_names, cont_names, y_names, 32)\n",
    "    emb_szs = get_emb_sz(tabdf)\n",
    "    learn = tabular_learner(dls, [100,50], \n",
    "                        metrics=accuracy, \n",
    "                        cbs=[SaveModelCallback(monitor='accuracy')])\n",
    "    \n",
    "    learn.load(f'tab_3pt_wl_{i}')\n",
    "    pred, y_pred, y_true = learn.get_preds(dl=test_dl, with_decoded=True)\n",
    "    preds.append(pred)\n",
    "  \n",
    "y_true = test_dl.y.values\n",
    "y_pred = np.array(torch.argmax(torch.stack(preds).mean(0),1))"
   ]
  },
  {
   "cell_type": "code",
   "execution_count": null,
   "metadata": {},
   "outputs": [
    {
     "name": "stdout",
     "output_type": "stream",
     "text": [
      "5-fold accuracy score: 0.63\n"
     ]
    }
   ],
   "source": [
    "#hide_input\n",
    "print(f'5-fold accuracy score: {accuracy_score(y_true, y_pred):.2f}')"
   ]
  },
  {
   "cell_type": "code",
   "execution_count": null,
   "metadata": {},
   "outputs": [
    {
     "data": {
      "text/plain": [
       "<matplotlib.axes._subplots.AxesSubplot at 0x7fb9d2701590>"
      ]
     },
     "execution_count": null,
     "metadata": {},
     "output_type": "execute_result"
    },
    {
     "data": {
      "image/png": "[encoded data removed]",
      "text/plain": [
       "<Figure size 432x288 with 2 Axes>"
      ]
     },
     "metadata": {
      "needs_background": "light"
     },
     "output_type": "display_data"
    }
   ],
   "source": [
    "#hide_input\n",
    "sns.heatmap(confusion_matrix(y_true, y_pred), annot=True, cmap='Blues')"
   ]
  },
  {
   "cell_type": "markdown",
   "metadata": {},
   "source": [
    "### 5_setpoints TabularModel"
   ]
  },
  {
   "cell_type": "code",
   "execution_count": null,
   "metadata": {},
   "outputs": [
    {
     "data": {
      "text/plain": [
       "Text(0.5, 1.0, 'Figure 2: Depicting lab measurement inputs for 5_setpoints TabularModel')"
      ]
     },
     "execution_count": null,
     "metadata": {},
     "output_type": "execute_result"
    },
    {
     "data": {
      "image/png": "[encoded data removed]",
      "text/plain": [
       "<Figure size 720x720 with 1 Axes>"
      ]
     },
     "metadata": {
      "needs_background": "light"
     },
     "output_type": "display_data"
    }
   ],
   "source": [
    "#hide_input\n",
    "plt.figure(figsize=(10,10))\n",
    "plt.scatter(range(1,10), [0 for e in range(1, 10)], marker='*', linewidths=3)\n",
    "plt.scatter(range(1,10), [100+random.randint(-50, 50) for e in range(1, 10)], marker='*', linewidths=3)\n",
    "plt.scatter(range(1,10), [200+random.randint(-50, 50) for e in range(1, 10)], marker='*', linewidths=3)\n",
    "plt.scatter(range(1,10), [300+random.randint(-50, 50) for e in range(1, 10)], marker='*', linewidths=3)\n",
    "plt.scatter(range(1,10), [400+random.randint(-50, 50) for e in range(1, 10)], marker='*', linewidths=3)\n",
    "plt.scatter(range(1,10), [500+random.randint(-50, 50) for e in range(1, 10)], marker='*', linewidths=3)\n",
    "\n",
    "plt.hlines(100, 0, 10)\n",
    "plt.hlines(200, 0, 10)\n",
    "plt.hlines(300, 0, 10)\n",
    "plt.hlines(400, 0, 10)\n",
    "plt.hlines(500, 0, 10)\n",
    "plt.xlim(1,10)\n",
    "plt.ylim(-10,750)\n",
    "plt.title(\"Figure 2: Depicting lab measurement inputs for 5_setpoints TabularModel\")"
   ]
  },
  {
   "cell_type": "markdown",
   "metadata": {},
   "source": [
    "In our 5-point model, we will take data from baseline and 5 other setpoints as shown in `Figure-2` above."
   ]
  },
  {
   "cell_type": "code",
   "execution_count": null,
   "metadata": {},
   "outputs": [],
   "source": [
    "#hide_input\n",
    "df = pd.read_csv('data/train_df_5f.csv')\n",
    "df, cont_names = prepare_df_nsetpoints(features, df, 650, [100,200,300,400,500])\n",
    "procs = [Categorify, FillMissing, Normalize]\n",
    "y_names = 'Stage_Progress'\n",
    "y_block = CategoryBlock()\n",
    "cat_names = ['race', 'gender']"
   ]
  },
  {
   "cell_type": "code",
   "execution_count": null,
   "metadata": {},
   "outputs": [
    {
     "data": {
      "text/html": [
       "<table border=\"1\" class=\"dataframe\">\n",
       "  <thead>\n",
       "    <tr style=\"text-align: left;\">\n",
       "      <th>epoch</th>\n",
       "      <th>train_loss</th>\n",
       "      <th>valid_loss</th>\n",
       "      <th>accuracy</th>\n",
       "      <th>time</th>\n",
       "    </tr>\n",
       "  </thead>\n",
       "  <tbody>\n",
       "    <tr>\n",
       "      <td>0</td>\n",
       "      <td>0.756816</td>\n",
       "      <td>0.673713</td>\n",
       "      <td>0.600000</td>\n",
       "      <td>00:00</td>\n",
       "    </tr>\n",
       "    <tr>\n",
       "      <td>1</td>\n",
       "      <td>0.710973</td>\n",
       "      <td>0.667775</td>\n",
       "      <td>0.583333</td>\n",
       "      <td>00:00</td>\n",
       "    </tr>\n",
       "    <tr>\n",
       "      <td>2</td>\n",
       "      <td>0.649815</td>\n",
       "      <td>0.659746</td>\n",
       "      <td>0.583333</td>\n",
       "      <td>00:00</td>\n",
       "    </tr>\n",
       "    <tr>\n",
       "      <td>3</td>\n",
       "      <td>0.586867</td>\n",
       "      <td>0.655228</td>\n",
       "      <td>0.616667</td>\n",
       "      <td>00:00</td>\n",
       "    </tr>\n",
       "    <tr>\n",
       "      <td>4</td>\n",
       "      <td>0.545080</td>\n",
       "      <td>0.642679</td>\n",
       "      <td>0.633333</td>\n",
       "      <td>00:00</td>\n",
       "    </tr>\n",
       "    <tr>\n",
       "      <td>5</td>\n",
       "      <td>0.511917</td>\n",
       "      <td>0.632204</td>\n",
       "      <td>0.633333</td>\n",
       "      <td>00:00</td>\n",
       "    </tr>\n",
       "    <tr>\n",
       "      <td>6</td>\n",
       "      <td>0.475435</td>\n",
       "      <td>0.647113</td>\n",
       "      <td>0.633333</td>\n",
       "      <td>00:00</td>\n",
       "    </tr>\n",
       "    <tr>\n",
       "      <td>7</td>\n",
       "      <td>0.447316</td>\n",
       "      <td>0.663530</td>\n",
       "      <td>0.616667</td>\n",
       "      <td>00:00</td>\n",
       "    </tr>\n",
       "    <tr>\n",
       "      <td>8</td>\n",
       "      <td>0.422523</td>\n",
       "      <td>0.673871</td>\n",
       "      <td>0.616667</td>\n",
       "      <td>00:00</td>\n",
       "    </tr>\n",
       "    <tr>\n",
       "      <td>9</td>\n",
       "      <td>0.404985</td>\n",
       "      <td>0.675134</td>\n",
       "      <td>0.616667</td>\n",
       "      <td>00:00</td>\n",
       "    </tr>\n",
       "  </tbody>\n",
       "</table>"
      ],
      "text/plain": [
       "<IPython.core.display.HTML object>"
      ]
     },
     "metadata": {},
     "output_type": "display_data"
    },
    {
     "name": "stdout",
     "output_type": "stream",
     "text": [
      "Better model found at epoch 0 with accuracy value: 0.6000000238418579.\n",
      "Better model found at epoch 3 with accuracy value: 0.6166666746139526.\n",
      "Better model found at epoch 4 with accuracy value: 0.6333333253860474.\n"
     ]
    },
    {
     "data": {
      "text/html": [
       "<table border=\"1\" class=\"dataframe\">\n",
       "  <thead>\n",
       "    <tr style=\"text-align: left;\">\n",
       "      <th>epoch</th>\n",
       "      <th>train_loss</th>\n",
       "      <th>valid_loss</th>\n",
       "      <th>accuracy</th>\n",
       "      <th>time</th>\n",
       "    </tr>\n",
       "  </thead>\n",
       "  <tbody>\n",
       "    <tr>\n",
       "      <td>0</td>\n",
       "      <td>0.805314</td>\n",
       "      <td>0.713967</td>\n",
       "      <td>0.350000</td>\n",
       "      <td>00:00</td>\n",
       "    </tr>\n",
       "    <tr>\n",
       "      <td>1</td>\n",
       "      <td>0.749776</td>\n",
       "      <td>0.732269</td>\n",
       "      <td>0.333333</td>\n",
       "      <td>00:00</td>\n",
       "    </tr>\n",
       "    <tr>\n",
       "      <td>2</td>\n",
       "      <td>0.692266</td>\n",
       "      <td>0.720794</td>\n",
       "      <td>0.450000</td>\n",
       "      <td>00:00</td>\n",
       "    </tr>\n",
       "    <tr>\n",
       "      <td>3</td>\n",
       "      <td>0.650090</td>\n",
       "      <td>0.702270</td>\n",
       "      <td>0.483333</td>\n",
       "      <td>00:00</td>\n",
       "    </tr>\n",
       "    <tr>\n",
       "      <td>4</td>\n",
       "      <td>0.602225</td>\n",
       "      <td>0.673157</td>\n",
       "      <td>0.583333</td>\n",
       "      <td>00:00</td>\n",
       "    </tr>\n",
       "    <tr>\n",
       "      <td>5</td>\n",
       "      <td>0.563493</td>\n",
       "      <td>0.664801</td>\n",
       "      <td>0.600000</td>\n",
       "      <td>00:00</td>\n",
       "    </tr>\n",
       "    <tr>\n",
       "      <td>6</td>\n",
       "      <td>0.529234</td>\n",
       "      <td>0.659346</td>\n",
       "      <td>0.650000</td>\n",
       "      <td>00:00</td>\n",
       "    </tr>\n",
       "    <tr>\n",
       "      <td>7</td>\n",
       "      <td>0.496093</td>\n",
       "      <td>0.660531</td>\n",
       "      <td>0.633333</td>\n",
       "      <td>00:00</td>\n",
       "    </tr>\n",
       "    <tr>\n",
       "      <td>8</td>\n",
       "      <td>0.470412</td>\n",
       "      <td>0.668093</td>\n",
       "      <td>0.616667</td>\n",
       "      <td>00:00</td>\n",
       "    </tr>\n",
       "    <tr>\n",
       "      <td>9</td>\n",
       "      <td>0.452106</td>\n",
       "      <td>0.670017</td>\n",
       "      <td>0.633333</td>\n",
       "      <td>00:00</td>\n",
       "    </tr>\n",
       "  </tbody>\n",
       "</table>"
      ],
      "text/plain": [
       "<IPython.core.display.HTML object>"
      ]
     },
     "metadata": {},
     "output_type": "display_data"
    },
    {
     "name": "stdout",
     "output_type": "stream",
     "text": [
      "Better model found at epoch 0 with accuracy value: 0.3499999940395355.\n",
      "Better model found at epoch 2 with accuracy value: 0.44999998807907104.\n",
      "Better model found at epoch 3 with accuracy value: 0.4833333194255829.\n",
      "Better model found at epoch 4 with accuracy value: 0.5833333134651184.\n",
      "Better model found at epoch 5 with accuracy value: 0.6000000238418579.\n",
      "Better model found at epoch 6 with accuracy value: 0.6499999761581421.\n"
     ]
    },
    {
     "data": {
      "text/html": [
       "<table border=\"1\" class=\"dataframe\">\n",
       "  <thead>\n",
       "    <tr style=\"text-align: left;\">\n",
       "      <th>epoch</th>\n",
       "      <th>train_loss</th>\n",
       "      <th>valid_loss</th>\n",
       "      <th>accuracy</th>\n",
       "      <th>time</th>\n",
       "    </tr>\n",
       "  </thead>\n",
       "  <tbody>\n",
       "    <tr>\n",
       "      <td>0</td>\n",
       "      <td>0.781548</td>\n",
       "      <td>0.693882</td>\n",
       "      <td>0.483333</td>\n",
       "      <td>00:00</td>\n",
       "    </tr>\n",
       "    <tr>\n",
       "      <td>1</td>\n",
       "      <td>0.728317</td>\n",
       "      <td>0.665355</td>\n",
       "      <td>0.683333</td>\n",
       "      <td>00:00</td>\n",
       "    </tr>\n",
       "    <tr>\n",
       "      <td>2</td>\n",
       "      <td>0.681570</td>\n",
       "      <td>0.621965</td>\n",
       "      <td>0.700000</td>\n",
       "      <td>00:00</td>\n",
       "    </tr>\n",
       "    <tr>\n",
       "      <td>3</td>\n",
       "      <td>0.637161</td>\n",
       "      <td>0.590195</td>\n",
       "      <td>0.700000</td>\n",
       "      <td>00:00</td>\n",
       "    </tr>\n",
       "    <tr>\n",
       "      <td>4</td>\n",
       "      <td>0.593567</td>\n",
       "      <td>0.577819</td>\n",
       "      <td>0.700000</td>\n",
       "      <td>00:00</td>\n",
       "    </tr>\n",
       "    <tr>\n",
       "      <td>5</td>\n",
       "      <td>0.550920</td>\n",
       "      <td>0.574315</td>\n",
       "      <td>0.683333</td>\n",
       "      <td>00:00</td>\n",
       "    </tr>\n",
       "    <tr>\n",
       "      <td>6</td>\n",
       "      <td>0.515449</td>\n",
       "      <td>0.556303</td>\n",
       "      <td>0.716667</td>\n",
       "      <td>00:00</td>\n",
       "    </tr>\n",
       "    <tr>\n",
       "      <td>7</td>\n",
       "      <td>0.484583</td>\n",
       "      <td>0.548807</td>\n",
       "      <td>0.700000</td>\n",
       "      <td>00:00</td>\n",
       "    </tr>\n",
       "    <tr>\n",
       "      <td>8</td>\n",
       "      <td>0.454802</td>\n",
       "      <td>0.544250</td>\n",
       "      <td>0.700000</td>\n",
       "      <td>00:00</td>\n",
       "    </tr>\n",
       "    <tr>\n",
       "      <td>9</td>\n",
       "      <td>0.433210</td>\n",
       "      <td>0.547256</td>\n",
       "      <td>0.700000</td>\n",
       "      <td>00:00</td>\n",
       "    </tr>\n",
       "  </tbody>\n",
       "</table>"
      ],
      "text/plain": [
       "<IPython.core.display.HTML object>"
      ]
     },
     "metadata": {},
     "output_type": "display_data"
    },
    {
     "name": "stdout",
     "output_type": "stream",
     "text": [
      "Better model found at epoch 0 with accuracy value: 0.4833333194255829.\n",
      "Better model found at epoch 1 with accuracy value: 0.6833333373069763.\n",
      "Better model found at epoch 2 with accuracy value: 0.699999988079071.\n",
      "Better model found at epoch 6 with accuracy value: 0.7166666388511658.\n"
     ]
    },
    {
     "data": {
      "text/html": [
       "<table border=\"1\" class=\"dataframe\">\n",
       "  <thead>\n",
       "    <tr style=\"text-align: left;\">\n",
       "      <th>epoch</th>\n",
       "      <th>train_loss</th>\n",
       "      <th>valid_loss</th>\n",
       "      <th>accuracy</th>\n",
       "      <th>time</th>\n",
       "    </tr>\n",
       "  </thead>\n",
       "  <tbody>\n",
       "    <tr>\n",
       "      <td>0</td>\n",
       "      <td>0.721945</td>\n",
       "      <td>0.678285</td>\n",
       "      <td>0.616667</td>\n",
       "      <td>00:00</td>\n",
       "    </tr>\n",
       "    <tr>\n",
       "      <td>1</td>\n",
       "      <td>0.703068</td>\n",
       "      <td>0.657017</td>\n",
       "      <td>0.683333</td>\n",
       "      <td>00:00</td>\n",
       "    </tr>\n",
       "    <tr>\n",
       "      <td>2</td>\n",
       "      <td>0.658583</td>\n",
       "      <td>0.633753</td>\n",
       "      <td>0.733333</td>\n",
       "      <td>00:00</td>\n",
       "    </tr>\n",
       "    <tr>\n",
       "      <td>3</td>\n",
       "      <td>0.618718</td>\n",
       "      <td>0.608384</td>\n",
       "      <td>0.733333</td>\n",
       "      <td>00:00</td>\n",
       "    </tr>\n",
       "    <tr>\n",
       "      <td>4</td>\n",
       "      <td>0.580657</td>\n",
       "      <td>0.567709</td>\n",
       "      <td>0.716667</td>\n",
       "      <td>00:00</td>\n",
       "    </tr>\n",
       "    <tr>\n",
       "      <td>5</td>\n",
       "      <td>0.548531</td>\n",
       "      <td>0.544413</td>\n",
       "      <td>0.733333</td>\n",
       "      <td>00:00</td>\n",
       "    </tr>\n",
       "    <tr>\n",
       "      <td>6</td>\n",
       "      <td>0.518972</td>\n",
       "      <td>0.536272</td>\n",
       "      <td>0.716667</td>\n",
       "      <td>00:00</td>\n",
       "    </tr>\n",
       "    <tr>\n",
       "      <td>7</td>\n",
       "      <td>0.492604</td>\n",
       "      <td>0.534979</td>\n",
       "      <td>0.733333</td>\n",
       "      <td>00:00</td>\n",
       "    </tr>\n",
       "    <tr>\n",
       "      <td>8</td>\n",
       "      <td>0.468862</td>\n",
       "      <td>0.540306</td>\n",
       "      <td>0.700000</td>\n",
       "      <td>00:00</td>\n",
       "    </tr>\n",
       "    <tr>\n",
       "      <td>9</td>\n",
       "      <td>0.447711</td>\n",
       "      <td>0.540509</td>\n",
       "      <td>0.716667</td>\n",
       "      <td>00:00</td>\n",
       "    </tr>\n",
       "  </tbody>\n",
       "</table>"
      ],
      "text/plain": [
       "<IPython.core.display.HTML object>"
      ]
     },
     "metadata": {},
     "output_type": "display_data"
    },
    {
     "name": "stdout",
     "output_type": "stream",
     "text": [
      "Better model found at epoch 0 with accuracy value: 0.6166666746139526.\n",
      "Better model found at epoch 1 with accuracy value: 0.6833333373069763.\n",
      "Better model found at epoch 2 with accuracy value: 0.7333333492279053.\n"
     ]
    }
   ],
   "source": [
    "#hide_output\n",
    "train_df = df[df['fold']!= 4].reset_index(drop=True)\n",
    "test_df = df[df['fold']== 4].reset_index(drop=True)\n",
    "\n",
    "for i in range(4):\n",
    "    dls, tabdf = get_tabpandas_dls(i, train_df, procs, cat_names, cont_names, y_names, 32)\n",
    "    emb_szs = get_emb_sz(tabdf)\n",
    "    learn = tabular_learner(dls, [100,50], \n",
    "                            metrics=accuracy, \n",
    "                            cbs=[SaveModelCallback(monitor='accuracy', \n",
    "                                                   fname=f'tab_6pt_{i}')])\n",
    "    \n",
    "    learn.fit_one_cycle(10, 0.002)"
   ]
  },
  {
   "cell_type": "code",
   "execution_count": null,
   "metadata": {},
   "outputs": [
    {
     "name": "stderr",
     "output_type": "stream",
     "text": [
      "/usr/local/lib/python3.7/dist-packages/fastai/learner.py:56: UserWarning: Saved filed doesn't contain an optimizer state.\n",
      "  elif with_opt: warn(\"Saved filed doesn't contain an optimizer state.\")\n"
     ]
    },
    {
     "data": {
      "text/html": [
       ""
      ],
      "text/plain": [
       "<IPython.core.display.HTML object>"
      ]
     },
     "metadata": {},
     "output_type": "display_data"
    },
    {
     "name": "stderr",
     "output_type": "stream",
     "text": [
      "/usr/local/lib/python3.7/dist-packages/fastai/learner.py:56: UserWarning: Saved filed doesn't contain an optimizer state.\n",
      "  elif with_opt: warn(\"Saved filed doesn't contain an optimizer state.\")\n"
     ]
    },
    {
     "data": {
      "text/html": [
       ""
      ],
      "text/plain": [
       "<IPython.core.display.HTML object>"
      ]
     },
     "metadata": {},
     "output_type": "display_data"
    },
    {
     "name": "stderr",
     "output_type": "stream",
     "text": [
      "/usr/local/lib/python3.7/dist-packages/fastai/learner.py:56: UserWarning: Saved filed doesn't contain an optimizer state.\n",
      "  elif with_opt: warn(\"Saved filed doesn't contain an optimizer state.\")\n"
     ]
    },
    {
     "data": {
      "text/html": [
       ""
      ],
      "text/plain": [
       "<IPython.core.display.HTML object>"
      ]
     },
     "metadata": {},
     "output_type": "display_data"
    },
    {
     "name": "stderr",
     "output_type": "stream",
     "text": [
      "/usr/local/lib/python3.7/dist-packages/fastai/learner.py:56: UserWarning: Saved filed doesn't contain an optimizer state.\n",
      "  elif with_opt: warn(\"Saved filed doesn't contain an optimizer state.\")\n"
     ]
    },
    {
     "data": {
      "text/html": [
       ""
      ],
      "text/plain": [
       "<IPython.core.display.HTML object>"
      ]
     },
     "metadata": {},
     "output_type": "display_data"
    }
   ],
   "source": [
    "#hide_output\n",
    "test_dl = dls.test_dl(test_df)\n",
    "preds = []\n",
    "for i in range(4):\n",
    "    dls, tabdf = get_tabpandas_dls(i, train_df, procs, cat_names, cont_names, y_names, 32)\n",
    "    emb_szs = get_emb_sz(tabdf)\n",
    "    learn = tabular_learner(dls, [100,50], \n",
    "                        metrics=accuracy, \n",
    "                        cbs=[SaveModelCallback(monitor='accuracy')])\n",
    "    \n",
    "    learn.load(f'tab_6pt_{i}')\n",
    "    pred, y_pred, y_true = learn.get_preds(dl=test_dl, with_decoded=True)\n",
    "    preds.append(pred)\n",
    "  \n",
    "y_true = test_dl.y.values\n",
    "y_pred = np.array(torch.argmax(torch.stack(preds).mean(0),1))"
   ]
  },
  {
   "cell_type": "code",
   "execution_count": null,
   "metadata": {},
   "outputs": [
    {
     "name": "stdout",
     "output_type": "stream",
     "text": [
      "5-fold accuracy score: 0.63\n"
     ]
    }
   ],
   "source": [
    "#hide_input\n",
    "print(f'5-fold accuracy score: {accuracy_score(y_true, y_pred):.2f}')"
   ]
  },
  {
   "cell_type": "code",
   "execution_count": null,
   "metadata": {},
   "outputs": [
    {
     "data": {
      "text/plain": [
       "<matplotlib.axes._subplots.AxesSubplot at 0x7fb9d24f2590>"
      ]
     },
     "execution_count": null,
     "metadata": {},
     "output_type": "execute_result"
    },
    {
     "data": {
      "image/png": "[encoded data removed]",
      "text/plain": [
       "<Figure size 432x288 with 2 Axes>"
      ]
     },
     "metadata": {
      "needs_background": "light"
     },
     "output_type": "display_data"
    }
   ],
   "source": [
    "#hide_input\n",
    "sns.heatmap(confusion_matrix(y_true, y_pred), annot=True, cmap='Blues')"
   ]
  },
  {
   "cell_type": "markdown",
   "metadata": {},
   "source": [
    "## first_n_points Model"
   ]
  },
  {
   "cell_type": "markdown",
   "metadata": {},
   "source": [
    "Next, we will build a model which takes the first n-points including baseline to use in our classification task\n",
    "> - if there are fewer than `n_points` for the patient's lab measurement, a `nan` value is used\n",
    "> - like before demographic features are also included "
   ]
  },
  {
   "cell_type": "code",
   "execution_count": null,
   "metadata": {},
   "outputs": [],
   "source": [
    "#hide_input\n",
    "df = pd.read_csv('data/train_df_5f.csv')\n",
    "df, cont_names = prepare_df_firstnpoints(features, df, 6)\n",
    "procs = [Categorify, FillMissing, Normalize]\n",
    "y_names = 'Stage_Progress'\n",
    "y_block = CategoryBlock()\n",
    "cat_names = ['race', 'gender']"
   ]
  },
  {
   "cell_type": "code",
   "execution_count": null,
   "metadata": {},
   "outputs": [
    {
     "data": {
      "text/html": [
       "<table border=\"1\" class=\"dataframe\">\n",
       "  <thead>\n",
       "    <tr style=\"text-align: left;\">\n",
       "      <th>epoch</th>\n",
       "      <th>train_loss</th>\n",
       "      <th>valid_loss</th>\n",
       "      <th>accuracy</th>\n",
       "      <th>time</th>\n",
       "    </tr>\n",
       "  </thead>\n",
       "  <tbody>\n",
       "    <tr>\n",
       "      <td>0</td>\n",
       "      <td>0.706918</td>\n",
       "      <td>0.687387</td>\n",
       "      <td>0.566667</td>\n",
       "      <td>00:00</td>\n",
       "    </tr>\n",
       "    <tr>\n",
       "      <td>1</td>\n",
       "      <td>0.691941</td>\n",
       "      <td>0.668254</td>\n",
       "      <td>0.683333</td>\n",
       "      <td>00:00</td>\n",
       "    </tr>\n",
       "    <tr>\n",
       "      <td>2</td>\n",
       "      <td>0.641835</td>\n",
       "      <td>0.653051</td>\n",
       "      <td>0.616667</td>\n",
       "      <td>00:00</td>\n",
       "    </tr>\n",
       "    <tr>\n",
       "      <td>3</td>\n",
       "      <td>0.583683</td>\n",
       "      <td>0.637391</td>\n",
       "      <td>0.616667</td>\n",
       "      <td>00:00</td>\n",
       "    </tr>\n",
       "    <tr>\n",
       "      <td>4</td>\n",
       "      <td>0.530949</td>\n",
       "      <td>0.633313</td>\n",
       "      <td>0.650000</td>\n",
       "      <td>00:00</td>\n",
       "    </tr>\n",
       "    <tr>\n",
       "      <td>5</td>\n",
       "      <td>0.483241</td>\n",
       "      <td>0.642517</td>\n",
       "      <td>0.650000</td>\n",
       "      <td>00:00</td>\n",
       "    </tr>\n",
       "    <tr>\n",
       "      <td>6</td>\n",
       "      <td>0.444027</td>\n",
       "      <td>0.666448</td>\n",
       "      <td>0.633333</td>\n",
       "      <td>00:00</td>\n",
       "    </tr>\n",
       "    <tr>\n",
       "      <td>7</td>\n",
       "      <td>0.411240</td>\n",
       "      <td>0.698511</td>\n",
       "      <td>0.616667</td>\n",
       "      <td>00:00</td>\n",
       "    </tr>\n",
       "    <tr>\n",
       "      <td>8</td>\n",
       "      <td>0.384327</td>\n",
       "      <td>0.722331</td>\n",
       "      <td>0.616667</td>\n",
       "      <td>00:00</td>\n",
       "    </tr>\n",
       "    <tr>\n",
       "      <td>9</td>\n",
       "      <td>0.361485</td>\n",
       "      <td>0.759221</td>\n",
       "      <td>0.616667</td>\n",
       "      <td>00:00</td>\n",
       "    </tr>\n",
       "  </tbody>\n",
       "</table>"
      ],
      "text/plain": [
       "<IPython.core.display.HTML object>"
      ]
     },
     "metadata": {},
     "output_type": "display_data"
    },
    {
     "name": "stdout",
     "output_type": "stream",
     "text": [
      "Better model found at epoch 0 with accuracy value: 0.5666666626930237.\n",
      "Better model found at epoch 1 with accuracy value: 0.6833333373069763.\n"
     ]
    },
    {
     "data": {
      "text/html": [
       "<table border=\"1\" class=\"dataframe\">\n",
       "  <thead>\n",
       "    <tr style=\"text-align: left;\">\n",
       "      <th>epoch</th>\n",
       "      <th>train_loss</th>\n",
       "      <th>valid_loss</th>\n",
       "      <th>accuracy</th>\n",
       "      <th>time</th>\n",
       "    </tr>\n",
       "  </thead>\n",
       "  <tbody>\n",
       "    <tr>\n",
       "      <td>0</td>\n",
       "      <td>0.775323</td>\n",
       "      <td>0.692524</td>\n",
       "      <td>0.516667</td>\n",
       "      <td>00:00</td>\n",
       "    </tr>\n",
       "    <tr>\n",
       "      <td>1</td>\n",
       "      <td>0.740965</td>\n",
       "      <td>0.673044</td>\n",
       "      <td>0.600000</td>\n",
       "      <td>00:00</td>\n",
       "    </tr>\n",
       "    <tr>\n",
       "      <td>2</td>\n",
       "      <td>0.665813</td>\n",
       "      <td>0.637992</td>\n",
       "      <td>0.683333</td>\n",
       "      <td>00:00</td>\n",
       "    </tr>\n",
       "    <tr>\n",
       "      <td>3</td>\n",
       "      <td>0.612048</td>\n",
       "      <td>0.606499</td>\n",
       "      <td>0.683333</td>\n",
       "      <td>00:00</td>\n",
       "    </tr>\n",
       "    <tr>\n",
       "      <td>4</td>\n",
       "      <td>0.559698</td>\n",
       "      <td>0.607984</td>\n",
       "      <td>0.716667</td>\n",
       "      <td>00:00</td>\n",
       "    </tr>\n",
       "    <tr>\n",
       "      <td>5</td>\n",
       "      <td>0.516146</td>\n",
       "      <td>0.625717</td>\n",
       "      <td>0.683333</td>\n",
       "      <td>00:00</td>\n",
       "    </tr>\n",
       "    <tr>\n",
       "      <td>6</td>\n",
       "      <td>0.477162</td>\n",
       "      <td>0.640896</td>\n",
       "      <td>0.650000</td>\n",
       "      <td>00:00</td>\n",
       "    </tr>\n",
       "    <tr>\n",
       "      <td>7</td>\n",
       "      <td>0.449874</td>\n",
       "      <td>0.638945</td>\n",
       "      <td>0.700000</td>\n",
       "      <td>00:00</td>\n",
       "    </tr>\n",
       "    <tr>\n",
       "      <td>8</td>\n",
       "      <td>0.418726</td>\n",
       "      <td>0.645971</td>\n",
       "      <td>0.716667</td>\n",
       "      <td>00:00</td>\n",
       "    </tr>\n",
       "    <tr>\n",
       "      <td>9</td>\n",
       "      <td>0.398971</td>\n",
       "      <td>0.658018</td>\n",
       "      <td>0.683333</td>\n",
       "      <td>00:00</td>\n",
       "    </tr>\n",
       "  </tbody>\n",
       "</table>"
      ],
      "text/plain": [
       "<IPython.core.display.HTML object>"
      ]
     },
     "metadata": {},
     "output_type": "display_data"
    },
    {
     "name": "stdout",
     "output_type": "stream",
     "text": [
      "Better model found at epoch 0 with accuracy value: 0.5166666507720947.\n",
      "Better model found at epoch 1 with accuracy value: 0.6000000238418579.\n",
      "Better model found at epoch 2 with accuracy value: 0.6833333373069763.\n",
      "Better model found at epoch 4 with accuracy value: 0.7166666388511658.\n"
     ]
    },
    {
     "data": {
      "text/html": [
       "<table border=\"1\" class=\"dataframe\">\n",
       "  <thead>\n",
       "    <tr style=\"text-align: left;\">\n",
       "      <th>epoch</th>\n",
       "      <th>train_loss</th>\n",
       "      <th>valid_loss</th>\n",
       "      <th>accuracy</th>\n",
       "      <th>time</th>\n",
       "    </tr>\n",
       "  </thead>\n",
       "  <tbody>\n",
       "    <tr>\n",
       "      <td>0</td>\n",
       "      <td>0.773870</td>\n",
       "      <td>0.718044</td>\n",
       "      <td>0.379310</td>\n",
       "      <td>00:00</td>\n",
       "    </tr>\n",
       "    <tr>\n",
       "      <td>1</td>\n",
       "      <td>0.734694</td>\n",
       "      <td>0.693569</td>\n",
       "      <td>0.603448</td>\n",
       "      <td>00:00</td>\n",
       "    </tr>\n",
       "    <tr>\n",
       "      <td>2</td>\n",
       "      <td>0.687487</td>\n",
       "      <td>0.668243</td>\n",
       "      <td>0.655172</td>\n",
       "      <td>00:00</td>\n",
       "    </tr>\n",
       "    <tr>\n",
       "      <td>3</td>\n",
       "      <td>0.615497</td>\n",
       "      <td>0.658522</td>\n",
       "      <td>0.637931</td>\n",
       "      <td>00:00</td>\n",
       "    </tr>\n",
       "    <tr>\n",
       "      <td>4</td>\n",
       "      <td>0.560308</td>\n",
       "      <td>0.652415</td>\n",
       "      <td>0.655172</td>\n",
       "      <td>00:00</td>\n",
       "    </tr>\n",
       "    <tr>\n",
       "      <td>5</td>\n",
       "      <td>0.507967</td>\n",
       "      <td>0.670209</td>\n",
       "      <td>0.655172</td>\n",
       "      <td>00:00</td>\n",
       "    </tr>\n",
       "    <tr>\n",
       "      <td>6</td>\n",
       "      <td>0.469880</td>\n",
       "      <td>0.689349</td>\n",
       "      <td>0.637931</td>\n",
       "      <td>00:00</td>\n",
       "    </tr>\n",
       "    <tr>\n",
       "      <td>7</td>\n",
       "      <td>0.432240</td>\n",
       "      <td>0.710474</td>\n",
       "      <td>0.655172</td>\n",
       "      <td>00:00</td>\n",
       "    </tr>\n",
       "    <tr>\n",
       "      <td>8</td>\n",
       "      <td>0.403148</td>\n",
       "      <td>0.729771</td>\n",
       "      <td>0.637931</td>\n",
       "      <td>00:00</td>\n",
       "    </tr>\n",
       "    <tr>\n",
       "      <td>9</td>\n",
       "      <td>0.380664</td>\n",
       "      <td>0.746720</td>\n",
       "      <td>0.620690</td>\n",
       "      <td>00:00</td>\n",
       "    </tr>\n",
       "  </tbody>\n",
       "</table>"
      ],
      "text/plain": [
       "<IPython.core.display.HTML object>"
      ]
     },
     "metadata": {},
     "output_type": "display_data"
    },
    {
     "name": "stdout",
     "output_type": "stream",
     "text": [
      "Better model found at epoch 0 with accuracy value: 0.37931033968925476.\n",
      "Better model found at epoch 1 with accuracy value: 0.6034482717514038.\n",
      "Better model found at epoch 2 with accuracy value: 0.6551724076271057.\n"
     ]
    },
    {
     "data": {
      "text/html": [
       "<table border=\"1\" class=\"dataframe\">\n",
       "  <thead>\n",
       "    <tr style=\"text-align: left;\">\n",
       "      <th>epoch</th>\n",
       "      <th>train_loss</th>\n",
       "      <th>valid_loss</th>\n",
       "      <th>accuracy</th>\n",
       "      <th>time</th>\n",
       "    </tr>\n",
       "  </thead>\n",
       "  <tbody>\n",
       "    <tr>\n",
       "      <td>0</td>\n",
       "      <td>0.767671</td>\n",
       "      <td>0.708796</td>\n",
       "      <td>0.355932</td>\n",
       "      <td>00:00</td>\n",
       "    </tr>\n",
       "    <tr>\n",
       "      <td>1</td>\n",
       "      <td>0.737298</td>\n",
       "      <td>0.694892</td>\n",
       "      <td>0.423729</td>\n",
       "      <td>00:00</td>\n",
       "    </tr>\n",
       "    <tr>\n",
       "      <td>2</td>\n",
       "      <td>0.689870</td>\n",
       "      <td>0.670495</td>\n",
       "      <td>0.610169</td>\n",
       "      <td>00:00</td>\n",
       "    </tr>\n",
       "    <tr>\n",
       "      <td>3</td>\n",
       "      <td>0.644124</td>\n",
       "      <td>0.643681</td>\n",
       "      <td>0.694915</td>\n",
       "      <td>00:00</td>\n",
       "    </tr>\n",
       "    <tr>\n",
       "      <td>4</td>\n",
       "      <td>0.599170</td>\n",
       "      <td>0.634342</td>\n",
       "      <td>0.661017</td>\n",
       "      <td>00:00</td>\n",
       "    </tr>\n",
       "    <tr>\n",
       "      <td>5</td>\n",
       "      <td>0.559803</td>\n",
       "      <td>0.627518</td>\n",
       "      <td>0.694915</td>\n",
       "      <td>00:00</td>\n",
       "    </tr>\n",
       "    <tr>\n",
       "      <td>6</td>\n",
       "      <td>0.525689</td>\n",
       "      <td>0.627842</td>\n",
       "      <td>0.694915</td>\n",
       "      <td>00:00</td>\n",
       "    </tr>\n",
       "    <tr>\n",
       "      <td>7</td>\n",
       "      <td>0.495587</td>\n",
       "      <td>0.637264</td>\n",
       "      <td>0.694915</td>\n",
       "      <td>00:00</td>\n",
       "    </tr>\n",
       "    <tr>\n",
       "      <td>8</td>\n",
       "      <td>0.471893</td>\n",
       "      <td>0.644536</td>\n",
       "      <td>0.694915</td>\n",
       "      <td>00:00</td>\n",
       "    </tr>\n",
       "    <tr>\n",
       "      <td>9</td>\n",
       "      <td>0.450551</td>\n",
       "      <td>0.648977</td>\n",
       "      <td>0.694915</td>\n",
       "      <td>00:00</td>\n",
       "    </tr>\n",
       "  </tbody>\n",
       "</table>"
      ],
      "text/plain": [
       "<IPython.core.display.HTML object>"
      ]
     },
     "metadata": {},
     "output_type": "display_data"
    },
    {
     "name": "stdout",
     "output_type": "stream",
     "text": [
      "Better model found at epoch 0 with accuracy value: 0.35593220591545105.\n",
      "Better model found at epoch 1 with accuracy value: 0.4237288236618042.\n",
      "Better model found at epoch 2 with accuracy value: 0.6101694703102112.\n",
      "Better model found at epoch 3 with accuracy value: 0.694915235042572.\n"
     ]
    }
   ],
   "source": [
    "#hide_output\n",
    "train_df = df[df['fold']!= 4].reset_index(drop=True)\n",
    "train_df = train_df[~train_df['id'].isin([281, 134, 7])].reset_index(drop=True)\n",
    "test_df = df[df['fold']== 4].reset_index(drop=True)\n",
    "\n",
    "for i in range(4):\n",
    "\n",
    "    dls, tabdf = get_tabpandas_dls(i, train_df, procs, cat_names, cont_names, y_names, 32)\n",
    "    emb_szs = get_emb_sz(tabdf)\n",
    "    learn = tabular_learner(dls, [100,50], \n",
    "                            metrics=accuracy, \n",
    "                            cbs=[SaveModelCallback(monitor='accuracy', \n",
    "                                                   fname=f'tab_fnpt_{i}')])\n",
    "    \n",
    "    learn.fit_one_cycle(10, 0.002)"
   ]
  },
  {
   "cell_type": "code",
   "execution_count": null,
   "metadata": {},
   "outputs": [
    {
     "name": "stderr",
     "output_type": "stream",
     "text": [
      "/usr/local/lib/python3.7/dist-packages/fastai/learner.py:56: UserWarning: Saved filed doesn't contain an optimizer state.\n",
      "  elif with_opt: warn(\"Saved filed doesn't contain an optimizer state.\")\n"
     ]
    },
    {
     "data": {
      "text/html": [
       ""
      ],
      "text/plain": [
       "<IPython.core.display.HTML object>"
      ]
     },
     "metadata": {},
     "output_type": "display_data"
    },
    {
     "name": "stderr",
     "output_type": "stream",
     "text": [
      "/usr/local/lib/python3.7/dist-packages/fastai/learner.py:56: UserWarning: Saved filed doesn't contain an optimizer state.\n",
      "  elif with_opt: warn(\"Saved filed doesn't contain an optimizer state.\")\n"
     ]
    },
    {
     "data": {
      "text/html": [
       ""
      ],
      "text/plain": [
       "<IPython.core.display.HTML object>"
      ]
     },
     "metadata": {},
     "output_type": "display_data"
    },
    {
     "name": "stderr",
     "output_type": "stream",
     "text": [
      "/usr/local/lib/python3.7/dist-packages/fastai/learner.py:56: UserWarning: Saved filed doesn't contain an optimizer state.\n",
      "  elif with_opt: warn(\"Saved filed doesn't contain an optimizer state.\")\n"
     ]
    },
    {
     "data": {
      "text/html": [
       ""
      ],
      "text/plain": [
       "<IPython.core.display.HTML object>"
      ]
     },
     "metadata": {},
     "output_type": "display_data"
    },
    {
     "name": "stderr",
     "output_type": "stream",
     "text": [
      "/usr/local/lib/python3.7/dist-packages/fastai/learner.py:56: UserWarning: Saved filed doesn't contain an optimizer state.\n",
      "  elif with_opt: warn(\"Saved filed doesn't contain an optimizer state.\")\n"
     ]
    },
    {
     "data": {
      "text/html": [
       ""
      ],
      "text/plain": [
       "<IPython.core.display.HTML object>"
      ]
     },
     "metadata": {},
     "output_type": "display_data"
    }
   ],
   "source": [
    "#hide_output\n",
    "test_df = test_df[~test_df['id'].isin([299,67,255])].reset_index(drop=True)\n",
    "test_dl = dls.test_dl(test_df)\n",
    "preds = []\n",
    "for i in range(4):\n",
    "    dls, tabdf = get_tabpandas_dls(i, train_df, procs, cat_names, cont_names, y_names, 32)\n",
    "    emb_szs = get_emb_sz(tabdf)\n",
    "    learn = tabular_learner(dls, [100,50], \n",
    "                        metrics=accuracy, \n",
    "                        cbs=[SaveModelCallback(monitor='accuracy')])\n",
    "    \n",
    "    learn.load(f'tab_fnpt_{i}')\n",
    "    pred, y_pred = learn.get_preds(dl=test_dl)\n",
    "    preds.append(pred)\n",
    "  \n",
    "y_true = test_dl.y.values\n",
    "y_pred = np.array(torch.argmax(torch.stack(preds).mean(0),1))"
   ]
  },
  {
   "cell_type": "code",
   "execution_count": null,
   "metadata": {},
   "outputs": [
    {
     "name": "stdout",
     "output_type": "stream",
     "text": [
      "5-fold accuracy score: 0.67\n"
     ]
    }
   ],
   "source": [
    "#hide_input\n",
    "print(f'5-fold accuracy score: {accuracy_score(y_true, y_pred):.2f}')"
   ]
  },
  {
   "cell_type": "code",
   "execution_count": null,
   "metadata": {},
   "outputs": [
    {
     "data": {
      "text/plain": [
       "<matplotlib.axes._subplots.AxesSubplot at 0x7fb9d242f790>"
      ]
     },
     "execution_count": null,
     "metadata": {},
     "output_type": "execute_result"
    },
    {
     "data": {
      "image/png": "[encoded data removed]",
      "text/plain": [
       "<Figure size 432x288 with 2 Axes>"
      ]
     },
     "metadata": {
      "needs_background": "light"
     },
     "output_type": "display_data"
    }
   ],
   "source": [
    "#hide_input\n",
    "sns.heatmap(confusion_matrix(y_true, y_pred), annot=True, cmap='Blues')"
   ]
  },
  {
   "cell_type": "code",
   "execution_count": null,
   "metadata": {},
   "outputs": [
    {
     "name": "stdout",
     "output_type": "stream",
     "text": [
      "Our continuous columns for the first_n_points model\n",
      "['hgb_0', 'hgb_1', 'hgb_2', 'hgb_3', 'hgb_4', 'hgb_5', 'ldl_0', 'ldl_1', 'ldl_2', 'ldl_3', 'ldl_4', 'ldl_5', 'glucose_0', 'glucose_1', 'glucose_2', 'glucose_3', 'glucose_4', 'glucose_5', 'creatinine_0', 'creatinine_1', 'creatinine_2', 'creatinine_3', 'creatinine_4', 'creatinine_5', 'sbp_0', 'sbp_1', 'sbp_2', 'sbp_3', 'sbp_4', 'sbp_5', 'dbp_0', 'dbp_1', 'dbp_2', 'dbp_3', 'dbp_4', 'dbp_5', 'age']\n"
     ]
    }
   ],
   "source": [
    "#hide_input\n",
    "print('Our continuous columns for the first_n_points model')\n",
    "print(dls.cont_names)"
   ]
  },
  {
   "cell_type": "markdown",
   "metadata": {},
   "source": [
    "## Does including medication data help?"
   ]
  },
  {
   "cell_type": "code",
   "execution_count": null,
   "metadata": {},
   "outputs": [],
   "source": [
    "#hide_input\n",
    "meds = pd.read_csv('data/dataScienceTask/T_meds.csv')\n",
    "meds = meds[meds['end_day'] < 650]\n",
    "meddf = pd.DataFrame(columns=med2como.keys())\n",
    "meddf['id'] = range(0,300)"
   ]
  },
  {
   "cell_type": "code",
   "execution_count": null,
   "metadata": {},
   "outputs": [],
   "source": [
    "#hide_input\n",
    "for i in range(300):\n",
    "    pat = meds[meds['id']==i]\n",
    "    med = pd.DataFrame(columns=list(med2como.keys()))\n",
    "    medstatus = {e:0 for e in pat['drug'].unique()}\n",
    "\n",
    "    for drug in pat['drug'].unique():\n",
    "        doses = pat[pat['drug']==drug]['daily_dosage'].values\n",
    "        \n",
    "        inidose = doses[0]\n",
    "        change = 1\n",
    "        \n",
    "        for dose in doses[1:]:\n",
    "            if dose>inidose:\n",
    "                change = 2\n",
    "\n",
    "        meddf.loc[i,drug] = change"
   ]
  },
  {
   "cell_type": "code",
   "execution_count": null,
   "metadata": {},
   "outputs": [
    {
     "data": {
      "text/html": [
       "<div>\n",
       "<style scoped>\n",
       "    .dataframe tbody tr th:only-of-type {\n",
       "        vertical-align: middle;\n",
       "    }\n",
       "\n",
       "    .dataframe tbody tr th {\n",
       "        vertical-align: top;\n",
       "    }\n",
       "\n",
       "    .dataframe thead th {\n",
       "        text-align: right;\n",
       "    }\n",
       "</style>\n",
       "<table border=\"1\" class=\"dataframe\">\n",
       "  <thead>\n",
       "    <tr style=\"text-align: right;\">\n",
       "      <th></th>\n",
       "      <th>atorvastatin</th>\n",
       "      <th>losartan</th>\n",
       "      <th>metformin</th>\n",
       "      <th>rosuvastatin</th>\n",
       "      <th>pravastatin</th>\n",
       "      <th>carvedilol</th>\n",
       "      <th>valsartan</th>\n",
       "      <th>metoprolol</th>\n",
       "      <th>simvastatin</th>\n",
       "      <th>bisoprolol</th>\n",
       "      <th>atenolol</th>\n",
       "      <th>lovastatin</th>\n",
       "      <th>olmesartan</th>\n",
       "      <th>irbesartan</th>\n",
       "      <th>canagliflozin</th>\n",
       "      <th>dapagliflozin</th>\n",
       "      <th>telmisartan</th>\n",
       "      <th>labetalol</th>\n",
       "      <th>nebivolol</th>\n",
       "      <th>pitavastatin</th>\n",
       "      <th>propranolol</th>\n",
       "      <th>id</th>\n",
       "    </tr>\n",
       "  </thead>\n",
       "  <tbody>\n",
       "    <tr>\n",
       "      <th>0</th>\n",
       "      <td>1</td>\n",
       "      <td>1</td>\n",
       "      <td>1</td>\n",
       "      <td>0</td>\n",
       "      <td>0</td>\n",
       "      <td>0</td>\n",
       "      <td>0</td>\n",
       "      <td>0</td>\n",
       "      <td>0</td>\n",
       "      <td>0</td>\n",
       "      <td>0</td>\n",
       "      <td>0</td>\n",
       "      <td>0</td>\n",
       "      <td>0</td>\n",
       "      <td>0</td>\n",
       "      <td>0</td>\n",
       "      <td>0</td>\n",
       "      <td>0</td>\n",
       "      <td>0</td>\n",
       "      <td>0</td>\n",
       "      <td>0</td>\n",
       "      <td>0</td>\n",
       "    </tr>\n",
       "    <tr>\n",
       "      <th>1</th>\n",
       "      <td>2</td>\n",
       "      <td>0</td>\n",
       "      <td>0</td>\n",
       "      <td>0</td>\n",
       "      <td>0</td>\n",
       "      <td>0</td>\n",
       "      <td>0</td>\n",
       "      <td>0</td>\n",
       "      <td>0</td>\n",
       "      <td>0</td>\n",
       "      <td>0</td>\n",
       "      <td>0</td>\n",
       "      <td>0</td>\n",
       "      <td>0</td>\n",
       "      <td>0</td>\n",
       "      <td>0</td>\n",
       "      <td>0</td>\n",
       "      <td>0</td>\n",
       "      <td>0</td>\n",
       "      <td>0</td>\n",
       "      <td>0</td>\n",
       "      <td>1</td>\n",
       "    </tr>\n",
       "    <tr>\n",
       "      <th>2</th>\n",
       "      <td>0</td>\n",
       "      <td>0</td>\n",
       "      <td>0</td>\n",
       "      <td>1</td>\n",
       "      <td>0</td>\n",
       "      <td>0</td>\n",
       "      <td>0</td>\n",
       "      <td>0</td>\n",
       "      <td>0</td>\n",
       "      <td>0</td>\n",
       "      <td>0</td>\n",
       "      <td>0</td>\n",
       "      <td>0</td>\n",
       "      <td>0</td>\n",
       "      <td>0</td>\n",
       "      <td>0</td>\n",
       "      <td>0</td>\n",
       "      <td>0</td>\n",
       "      <td>0</td>\n",
       "      <td>0</td>\n",
       "      <td>0</td>\n",
       "      <td>2</td>\n",
       "    </tr>\n",
       "    <tr>\n",
       "      <th>3</th>\n",
       "      <td>1</td>\n",
       "      <td>0</td>\n",
       "      <td>0</td>\n",
       "      <td>0</td>\n",
       "      <td>0</td>\n",
       "      <td>0</td>\n",
       "      <td>0</td>\n",
       "      <td>0</td>\n",
       "      <td>0</td>\n",
       "      <td>0</td>\n",
       "      <td>0</td>\n",
       "      <td>0</td>\n",
       "      <td>0</td>\n",
       "      <td>0</td>\n",
       "      <td>0</td>\n",
       "      <td>0</td>\n",
       "      <td>0</td>\n",
       "      <td>0</td>\n",
       "      <td>0</td>\n",
       "      <td>0</td>\n",
       "      <td>0</td>\n",
       "      <td>3</td>\n",
       "    </tr>\n",
       "    <tr>\n",
       "      <th>4</th>\n",
       "      <td>0</td>\n",
       "      <td>1</td>\n",
       "      <td>1</td>\n",
       "      <td>0</td>\n",
       "      <td>1</td>\n",
       "      <td>0</td>\n",
       "      <td>0</td>\n",
       "      <td>0</td>\n",
       "      <td>0</td>\n",
       "      <td>0</td>\n",
       "      <td>0</td>\n",
       "      <td>0</td>\n",
       "      <td>0</td>\n",
       "      <td>0</td>\n",
       "      <td>0</td>\n",
       "      <td>0</td>\n",
       "      <td>0</td>\n",
       "      <td>0</td>\n",
       "      <td>0</td>\n",
       "      <td>0</td>\n",
       "      <td>0</td>\n",
       "      <td>4</td>\n",
       "    </tr>\n",
       "  </tbody>\n",
       "</table>\n",
       "</div>"
      ],
      "text/plain": [
       "   atorvastatin  losartan  metformin  ...  pitavastatin  propranolol  id\n",
       "0             1         1          1  ...             0            0   0\n",
       "1             2         0          0  ...             0            0   1\n",
       "2             0         0          0  ...             0            0   2\n",
       "3             1         0          0  ...             0            0   3\n",
       "4             0         1          1  ...             0            0   4\n",
       "\n",
       "[5 rows x 22 columns]"
      ]
     },
     "execution_count": null,
     "metadata": {},
     "output_type": "execute_result"
    }
   ],
   "source": [
    "#hide_input\n",
    "meddf = meddf.fillna(0)\n",
    "med_cat_cols = list(meddf.columns[:-1])\n",
    "meddf.head(5)"
   ]
  },
  {
   "cell_type": "markdown",
   "metadata": {},
   "source": [
    "In the above, `0` means the patient is not on the medicine, `1` means the patient is on the medicine and dosage was not increased at any point during the study and `2` means the patient is on the medicine and the dosage was increased during the study period. "
   ]
  },
  {
   "cell_type": "code",
   "execution_count": null,
   "metadata": {},
   "outputs": [],
   "source": [
    "#hide_input\n",
    "df = pd.read_csv('data/train_df_5f.csv')\n",
    "features = get_features(\"data/dataScienceTask/\")\n",
    "tp1 = 200\n",
    "tp2 = 400\n",
    "df, cont_names = prepare_df_nsetpoints(features, df, 650, [tp1, tp2])\n",
    "df = df.merge(meddf, on='id')\n",
    "procs = [Categorify, FillMissing, Normalize]\n",
    "cat_names = ['race', 'gender']+med_cat_cols\n",
    "y_names = 'Stage_Progress'"
   ]
  },
  {
   "cell_type": "code",
   "execution_count": null,
   "metadata": {},
   "outputs": [
    {
     "data": {
      "text/html": [
       "<table border=\"1\" class=\"dataframe\">\n",
       "  <thead>\n",
       "    <tr style=\"text-align: left;\">\n",
       "      <th>epoch</th>\n",
       "      <th>train_loss</th>\n",
       "      <th>valid_loss</th>\n",
       "      <th>accuracy</th>\n",
       "      <th>time</th>\n",
       "    </tr>\n",
       "  </thead>\n",
       "  <tbody>\n",
       "    <tr>\n",
       "      <td>0</td>\n",
       "      <td>0.801896</td>\n",
       "      <td>0.690033</td>\n",
       "      <td>0.466667</td>\n",
       "      <td>00:00</td>\n",
       "    </tr>\n",
       "    <tr>\n",
       "      <td>1</td>\n",
       "      <td>0.731881</td>\n",
       "      <td>0.688646</td>\n",
       "      <td>0.500000</td>\n",
       "      <td>00:00</td>\n",
       "    </tr>\n",
       "    <tr>\n",
       "      <td>2</td>\n",
       "      <td>0.678778</td>\n",
       "      <td>0.684108</td>\n",
       "      <td>0.550000</td>\n",
       "      <td>00:00</td>\n",
       "    </tr>\n",
       "    <tr>\n",
       "      <td>3</td>\n",
       "      <td>0.625200</td>\n",
       "      <td>0.678884</td>\n",
       "      <td>0.566667</td>\n",
       "      <td>00:00</td>\n",
       "    </tr>\n",
       "    <tr>\n",
       "      <td>4</td>\n",
       "      <td>0.572312</td>\n",
       "      <td>0.666346</td>\n",
       "      <td>0.600000</td>\n",
       "      <td>00:00</td>\n",
       "    </tr>\n",
       "    <tr>\n",
       "      <td>5</td>\n",
       "      <td>0.531865</td>\n",
       "      <td>0.673493</td>\n",
       "      <td>0.600000</td>\n",
       "      <td>00:00</td>\n",
       "    </tr>\n",
       "    <tr>\n",
       "      <td>6</td>\n",
       "      <td>0.496429</td>\n",
       "      <td>0.693707</td>\n",
       "      <td>0.583333</td>\n",
       "      <td>00:00</td>\n",
       "    </tr>\n",
       "    <tr>\n",
       "      <td>7</td>\n",
       "      <td>0.463740</td>\n",
       "      <td>0.718514</td>\n",
       "      <td>0.600000</td>\n",
       "      <td>00:00</td>\n",
       "    </tr>\n",
       "    <tr>\n",
       "      <td>8</td>\n",
       "      <td>0.438092</td>\n",
       "      <td>0.737730</td>\n",
       "      <td>0.583333</td>\n",
       "      <td>00:00</td>\n",
       "    </tr>\n",
       "    <tr>\n",
       "      <td>9</td>\n",
       "      <td>0.416419</td>\n",
       "      <td>0.757675</td>\n",
       "      <td>0.583333</td>\n",
       "      <td>00:00</td>\n",
       "    </tr>\n",
       "  </tbody>\n",
       "</table>"
      ],
      "text/plain": [
       "<IPython.core.display.HTML object>"
      ]
     },
     "metadata": {},
     "output_type": "display_data"
    },
    {
     "name": "stdout",
     "output_type": "stream",
     "text": [
      "Better model found at epoch 0 with accuracy value: 0.46666666865348816.\n",
      "Better model found at epoch 1 with accuracy value: 0.5.\n",
      "Better model found at epoch 2 with accuracy value: 0.550000011920929.\n",
      "Better model found at epoch 3 with accuracy value: 0.5666666626930237.\n",
      "Better model found at epoch 4 with accuracy value: 0.6000000238418579.\n"
     ]
    },
    {
     "data": {
      "text/html": [
       "<table border=\"1\" class=\"dataframe\">\n",
       "  <thead>\n",
       "    <tr style=\"text-align: left;\">\n",
       "      <th>epoch</th>\n",
       "      <th>train_loss</th>\n",
       "      <th>valid_loss</th>\n",
       "      <th>accuracy</th>\n",
       "      <th>time</th>\n",
       "    </tr>\n",
       "  </thead>\n",
       "  <tbody>\n",
       "    <tr>\n",
       "      <td>0</td>\n",
       "      <td>0.763957</td>\n",
       "      <td>0.717676</td>\n",
       "      <td>0.333333</td>\n",
       "      <td>00:00</td>\n",
       "    </tr>\n",
       "    <tr>\n",
       "      <td>1</td>\n",
       "      <td>0.734553</td>\n",
       "      <td>0.712054</td>\n",
       "      <td>0.350000</td>\n",
       "      <td>00:00</td>\n",
       "    </tr>\n",
       "    <tr>\n",
       "      <td>2</td>\n",
       "      <td>0.689096</td>\n",
       "      <td>0.704060</td>\n",
       "      <td>0.466667</td>\n",
       "      <td>00:00</td>\n",
       "    </tr>\n",
       "    <tr>\n",
       "      <td>3</td>\n",
       "      <td>0.643511</td>\n",
       "      <td>0.692824</td>\n",
       "      <td>0.533333</td>\n",
       "      <td>00:00</td>\n",
       "    </tr>\n",
       "    <tr>\n",
       "      <td>4</td>\n",
       "      <td>0.599802</td>\n",
       "      <td>0.686056</td>\n",
       "      <td>0.633333</td>\n",
       "      <td>00:00</td>\n",
       "    </tr>\n",
       "    <tr>\n",
       "      <td>5</td>\n",
       "      <td>0.562466</td>\n",
       "      <td>0.688615</td>\n",
       "      <td>0.633333</td>\n",
       "      <td>00:00</td>\n",
       "    </tr>\n",
       "    <tr>\n",
       "      <td>6</td>\n",
       "      <td>0.523921</td>\n",
       "      <td>0.680019</td>\n",
       "      <td>0.650000</td>\n",
       "      <td>00:00</td>\n",
       "    </tr>\n",
       "    <tr>\n",
       "      <td>7</td>\n",
       "      <td>0.496582</td>\n",
       "      <td>0.678997</td>\n",
       "      <td>0.666667</td>\n",
       "      <td>00:00</td>\n",
       "    </tr>\n",
       "    <tr>\n",
       "      <td>8</td>\n",
       "      <td>0.474159</td>\n",
       "      <td>0.677413</td>\n",
       "      <td>0.666667</td>\n",
       "      <td>00:00</td>\n",
       "    </tr>\n",
       "    <tr>\n",
       "      <td>9</td>\n",
       "      <td>0.450366</td>\n",
       "      <td>0.680010</td>\n",
       "      <td>0.666667</td>\n",
       "      <td>00:00</td>\n",
       "    </tr>\n",
       "  </tbody>\n",
       "</table>"
      ],
      "text/plain": [
       "<IPython.core.display.HTML object>"
      ]
     },
     "metadata": {},
     "output_type": "display_data"
    },
    {
     "name": "stdout",
     "output_type": "stream",
     "text": [
      "Better model found at epoch 0 with accuracy value: 0.3333333432674408.\n",
      "Better model found at epoch 1 with accuracy value: 0.3499999940395355.\n",
      "Better model found at epoch 2 with accuracy value: 0.46666666865348816.\n",
      "Better model found at epoch 3 with accuracy value: 0.5333333611488342.\n",
      "Better model found at epoch 4 with accuracy value: 0.6333333253860474.\n",
      "Better model found at epoch 6 with accuracy value: 0.6499999761581421.\n",
      "Better model found at epoch 7 with accuracy value: 0.6666666865348816.\n"
     ]
    },
    {
     "data": {
      "text/html": [
       "<table border=\"1\" class=\"dataframe\">\n",
       "  <thead>\n",
       "    <tr style=\"text-align: left;\">\n",
       "      <th>epoch</th>\n",
       "      <th>train_loss</th>\n",
       "      <th>valid_loss</th>\n",
       "      <th>accuracy</th>\n",
       "      <th>time</th>\n",
       "    </tr>\n",
       "  </thead>\n",
       "  <tbody>\n",
       "    <tr>\n",
       "      <td>0</td>\n",
       "      <td>0.676341</td>\n",
       "      <td>0.673731</td>\n",
       "      <td>0.683333</td>\n",
       "      <td>00:00</td>\n",
       "    </tr>\n",
       "    <tr>\n",
       "      <td>1</td>\n",
       "      <td>0.653301</td>\n",
       "      <td>0.660553</td>\n",
       "      <td>0.650000</td>\n",
       "      <td>00:00</td>\n",
       "    </tr>\n",
       "    <tr>\n",
       "      <td>2</td>\n",
       "      <td>0.608243</td>\n",
       "      <td>0.643205</td>\n",
       "      <td>0.683333</td>\n",
       "      <td>00:00</td>\n",
       "    </tr>\n",
       "    <tr>\n",
       "      <td>3</td>\n",
       "      <td>0.564761</td>\n",
       "      <td>0.619064</td>\n",
       "      <td>0.666667</td>\n",
       "      <td>00:00</td>\n",
       "    </tr>\n",
       "    <tr>\n",
       "      <td>4</td>\n",
       "      <td>0.520082</td>\n",
       "      <td>0.594205</td>\n",
       "      <td>0.650000</td>\n",
       "      <td>00:00</td>\n",
       "    </tr>\n",
       "    <tr>\n",
       "      <td>5</td>\n",
       "      <td>0.482384</td>\n",
       "      <td>0.585713</td>\n",
       "      <td>0.683333</td>\n",
       "      <td>00:00</td>\n",
       "    </tr>\n",
       "    <tr>\n",
       "      <td>6</td>\n",
       "      <td>0.448378</td>\n",
       "      <td>0.587937</td>\n",
       "      <td>0.700000</td>\n",
       "      <td>00:00</td>\n",
       "    </tr>\n",
       "    <tr>\n",
       "      <td>7</td>\n",
       "      <td>0.421191</td>\n",
       "      <td>0.594586</td>\n",
       "      <td>0.700000</td>\n",
       "      <td>00:00</td>\n",
       "    </tr>\n",
       "    <tr>\n",
       "      <td>8</td>\n",
       "      <td>0.398334</td>\n",
       "      <td>0.603431</td>\n",
       "      <td>0.700000</td>\n",
       "      <td>00:00</td>\n",
       "    </tr>\n",
       "    <tr>\n",
       "      <td>9</td>\n",
       "      <td>0.376178</td>\n",
       "      <td>0.608630</td>\n",
       "      <td>0.700000</td>\n",
       "      <td>00:00</td>\n",
       "    </tr>\n",
       "  </tbody>\n",
       "</table>"
      ],
      "text/plain": [
       "<IPython.core.display.HTML object>"
      ]
     },
     "metadata": {},
     "output_type": "display_data"
    },
    {
     "name": "stdout",
     "output_type": "stream",
     "text": [
      "Better model found at epoch 0 with accuracy value: 0.6833333373069763.\n",
      "Better model found at epoch 6 with accuracy value: 0.699999988079071.\n"
     ]
    },
    {
     "data": {
      "text/html": [
       "<table border=\"1\" class=\"dataframe\">\n",
       "  <thead>\n",
       "    <tr style=\"text-align: left;\">\n",
       "      <th>epoch</th>\n",
       "      <th>train_loss</th>\n",
       "      <th>valid_loss</th>\n",
       "      <th>accuracy</th>\n",
       "      <th>time</th>\n",
       "    </tr>\n",
       "  </thead>\n",
       "  <tbody>\n",
       "    <tr>\n",
       "      <td>0</td>\n",
       "      <td>0.706744</td>\n",
       "      <td>0.658442</td>\n",
       "      <td>0.666667</td>\n",
       "      <td>00:00</td>\n",
       "    </tr>\n",
       "    <tr>\n",
       "      <td>1</td>\n",
       "      <td>0.677517</td>\n",
       "      <td>0.644199</td>\n",
       "      <td>0.666667</td>\n",
       "      <td>00:00</td>\n",
       "    </tr>\n",
       "    <tr>\n",
       "      <td>2</td>\n",
       "      <td>0.637261</td>\n",
       "      <td>0.621170</td>\n",
       "      <td>0.716667</td>\n",
       "      <td>00:00</td>\n",
       "    </tr>\n",
       "    <tr>\n",
       "      <td>3</td>\n",
       "      <td>0.599267</td>\n",
       "      <td>0.593996</td>\n",
       "      <td>0.700000</td>\n",
       "      <td>00:00</td>\n",
       "    </tr>\n",
       "    <tr>\n",
       "      <td>4</td>\n",
       "      <td>0.558868</td>\n",
       "      <td>0.569440</td>\n",
       "      <td>0.716667</td>\n",
       "      <td>00:00</td>\n",
       "    </tr>\n",
       "    <tr>\n",
       "      <td>5</td>\n",
       "      <td>0.526143</td>\n",
       "      <td>0.538298</td>\n",
       "      <td>0.766667</td>\n",
       "      <td>00:00</td>\n",
       "    </tr>\n",
       "    <tr>\n",
       "      <td>6</td>\n",
       "      <td>0.500703</td>\n",
       "      <td>0.526230</td>\n",
       "      <td>0.750000</td>\n",
       "      <td>00:00</td>\n",
       "    </tr>\n",
       "    <tr>\n",
       "      <td>7</td>\n",
       "      <td>0.471308</td>\n",
       "      <td>0.521505</td>\n",
       "      <td>0.750000</td>\n",
       "      <td>00:00</td>\n",
       "    </tr>\n",
       "    <tr>\n",
       "      <td>8</td>\n",
       "      <td>0.449645</td>\n",
       "      <td>0.520245</td>\n",
       "      <td>0.733333</td>\n",
       "      <td>00:00</td>\n",
       "    </tr>\n",
       "    <tr>\n",
       "      <td>9</td>\n",
       "      <td>0.429291</td>\n",
       "      <td>0.521447</td>\n",
       "      <td>0.750000</td>\n",
       "      <td>00:00</td>\n",
       "    </tr>\n",
       "  </tbody>\n",
       "</table>"
      ],
      "text/plain": [
       "<IPython.core.display.HTML object>"
      ]
     },
     "metadata": {},
     "output_type": "display_data"
    },
    {
     "name": "stdout",
     "output_type": "stream",
     "text": [
      "Better model found at epoch 0 with accuracy value: 0.6666666865348816.\n",
      "Better model found at epoch 2 with accuracy value: 0.7166666388511658.\n",
      "Better model found at epoch 5 with accuracy value: 0.7666666507720947.\n"
     ]
    }
   ],
   "source": [
    "#hide_output\n",
    "train_df = df[df['fold']!= 4].reset_index(drop=True)\n",
    "test_df = df[df['fold']== 4].reset_index(drop=True)\n",
    "\n",
    "for i in range(4):\n",
    "    dls, tabdf = get_tabpandas_dls(i, train_df, procs, cat_names, cont_names, y_names, 32)\n",
    "    emb_szs = get_emb_sz(tabdf)\n",
    "    learn = tabular_learner(dls, [100,50], \n",
    "                            metrics=accuracy, \n",
    "                            cbs=[SaveModelCallback(monitor='accuracy', \n",
    "                                                   fname=f'tab_3pt_meds_{i}')])\n",
    "    \n",
    "    learn.fit_one_cycle(10, 0.002)"
   ]
  },
  {
   "cell_type": "code",
   "execution_count": null,
   "metadata": {},
   "outputs": [],
   "source": [
    "#hide\n",
    "categorical_dims = {o:len(i) for o,i in dls.train.categorify.classes.items()}\n",
    "test_cats = dict(test_df[list(categorical_dims.keys())].nunique())\n",
    "test_cats = {k:v+1 for k, v in test_cats.items()}"
   ]
  },
  {
   "cell_type": "code",
   "execution_count": null,
   "metadata": {},
   "outputs": [
    {
     "name": "stdout",
     "output_type": "stream",
     "text": [
      "carvedilol\n",
      "valsartan\n",
      "metoprolol\n",
      "propranolol\n"
     ]
    }
   ],
   "source": [
    "#hide\n",
    "for k, v in categorical_dims.items():\n",
    "    if test_cats[k] > v:\n",
    "        print(f'{k}')"
   ]
  },
  {
   "cell_type": "code",
   "execution_count": null,
   "metadata": {},
   "outputs": [],
   "source": [
    "#hide\n",
    "test_df = test_df[test_df['metoprolol'] != 2]\n",
    "test_df = test_df[test_df['simvastatin'] != 2].reset_index(drop=True)"
   ]
  },
  {
   "cell_type": "code",
   "execution_count": null,
   "metadata": {},
   "outputs": [
    {
     "name": "stderr",
     "output_type": "stream",
     "text": [
      "/usr/local/lib/python3.7/dist-packages/fastai/learner.py:56: UserWarning: Saved filed doesn't contain an optimizer state.\n",
      "  elif with_opt: warn(\"Saved filed doesn't contain an optimizer state.\")\n"
     ]
    },
    {
     "data": {
      "text/html": [
       ""
      ],
      "text/plain": [
       "<IPython.core.display.HTML object>"
      ]
     },
     "metadata": {},
     "output_type": "display_data"
    },
    {
     "name": "stderr",
     "output_type": "stream",
     "text": [
      "/usr/local/lib/python3.7/dist-packages/fastai/learner.py:56: UserWarning: Saved filed doesn't contain an optimizer state.\n",
      "  elif with_opt: warn(\"Saved filed doesn't contain an optimizer state.\")\n"
     ]
    },
    {
     "data": {
      "text/html": [
       ""
      ],
      "text/plain": [
       "<IPython.core.display.HTML object>"
      ]
     },
     "metadata": {},
     "output_type": "display_data"
    },
    {
     "name": "stderr",
     "output_type": "stream",
     "text": [
      "/usr/local/lib/python3.7/dist-packages/fastai/learner.py:56: UserWarning: Saved filed doesn't contain an optimizer state.\n",
      "  elif with_opt: warn(\"Saved filed doesn't contain an optimizer state.\")\n"
     ]
    },
    {
     "data": {
      "text/html": [
       ""
      ],
      "text/plain": [
       "<IPython.core.display.HTML object>"
      ]
     },
     "metadata": {},
     "output_type": "display_data"
    },
    {
     "name": "stderr",
     "output_type": "stream",
     "text": [
      "/usr/local/lib/python3.7/dist-packages/fastai/learner.py:56: UserWarning: Saved filed doesn't contain an optimizer state.\n",
      "  elif with_opt: warn(\"Saved filed doesn't contain an optimizer state.\")\n"
     ]
    },
    {
     "data": {
      "text/html": [
       ""
      ],
      "text/plain": [
       "<IPython.core.display.HTML object>"
      ]
     },
     "metadata": {},
     "output_type": "display_data"
    }
   ],
   "source": [
    "#hide_output\n",
    "test_dl = dls.test_dl(test_df)\n",
    "\n",
    "preds = []\n",
    "for i in range(4):\n",
    "    dls, tabdf = get_tabpandas_dls(i, train_df, procs, cat_names, cont_names, y_names, 32)\n",
    "    emb_szs = get_emb_sz(tabdf)\n",
    "    learn = tabular_learner(dls, [100,50], \n",
    "                        metrics=accuracy, \n",
    "                        cbs=[SaveModelCallback(monitor='accuracy')])\n",
    "    \n",
    "    learn.load(f'tab_3pt_meds_{i}')\n",
    "    pred, y_true = learn.get_preds(dl=test_dl)\n",
    "    preds.append(pred)\n",
    "\n",
    "y_true = test_dl.y.values\n",
    "y_pred = np.array(torch.argmax(torch.stack(preds).mean(0),1))"
   ]
  },
  {
   "cell_type": "code",
   "execution_count": null,
   "metadata": {},
   "outputs": [
    {
     "name": "stdout",
     "output_type": "stream",
     "text": [
      "5-fold accuracy score: 0.71\n"
     ]
    }
   ],
   "source": [
    "#hide_input\n",
    "print(f'5-fold accuracy score: {accuracy_score(y_true, y_pred):.2f}')"
   ]
  },
  {
   "cell_type": "code",
   "execution_count": null,
   "metadata": {},
   "outputs": [
    {
     "data": {
      "text/plain": [
       "<matplotlib.axes._subplots.AxesSubplot at 0x7fb9db062b10>"
      ]
     },
     "execution_count": null,
     "metadata": {},
     "output_type": "execute_result"
    },
    {
     "data": {
      "image/png": "[encoded data removed]",
      "text/plain": [
       "<Figure size 432x288 with 2 Axes>"
      ]
     },
     "metadata": {
      "needs_background": "light"
     },
     "output_type": "display_data"
    }
   ],
   "source": [
    "#hide_input\n",
    "sns.heatmap(confusion_matrix(y_true, y_pred), annot=True, cmap='Blues')"
   ]
  },
  {
   "cell_type": "code",
   "execution_count": null,
   "metadata": {},
   "outputs": [],
   "source": []
  }
 ],
 "metadata": {
  "kernelspec": {
   "display_name": "Python 3",
   "name": "python3"
  }
 },
 "nbformat": 4,
 "nbformat_minor": 0
}
