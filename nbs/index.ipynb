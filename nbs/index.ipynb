{
 "cells": [
  {
   "cell_type": "markdown",
   "metadata": {},
   "source": [
    "# Project CKD\n",
    "> classifying progression of a patient's CKD staging"
   ]
  },
  {
   "cell_type": "markdown",
   "metadata": {},
   "source": [
    "**Problem Statement**\n",
    "\n",
    "For this task, you are given a set of longitudinal data (attached) of different lab measurements for patients diagnosed with chronic kidney disease (CKD). Furthermore, you are also given the information whether these patients progress in their CKD stage or not in the future. Using this dataset, you are required to come up with a solution to predict whether a patient will progress in CKD staging given the patient's past longitudinal information.\n",
    "\n",
    "The following CSV files are provided:\n",
    "\n",
    "1. T_demo.csv\n",
    ">`id`: patient id, `race`: patient’s race, `gender`: patient’s gender, `age`: patient’s age at baseline\n",
    "\n",
    "\n",
    "2. T_creatinine.csv\n",
    ">`id`: patient id, `value`: patient’s serum creatinine value at the corresponding time (in mg/dl), `time`: time of measurement (in days from baseline t=0)\n",
    "\n",
    "\n",
    "3. T_DBP.csv\n",
    ">`id`: patient id, `value`: patient’s diastolic blood pressure at the corresponding time (in mmHg), `time`: time of measurement (in days from baseline t=0)\n",
    "\n",
    "4. T_SBP.csv\n",
    ">`id`: patient id, `value`: patient’s systolic blood pressure at the corresponding time (in mmHg), `time`: time of measurement (in days from baseline t=0)\n",
    "\n",
    "5. T_HGB.csv\n",
    ">`id`: patient id, `value`: patient’s Hemoglobin level at the corresponding time (in g/dl), `time`: time of measurement (in days from baseline t=0)\n",
    "\n",
    "6. T_glucose.csv\n",
    ">`id`: patient id, `value`: patient’s glucose level at the corresponding time (in mmol/l), `time`: time of measurement (in days from baseline t=0)\n",
    "\n",
    "\n",
    "7. T_ldl.csv\n",
    ">`id`: patient id, `value`: patient’s low-density lipoprotein (LDL-c) level at the corresponding time (in mg/dl), `time`: time of measurement (in days from baseline t=0)\n",
    "\n",
    "8. T_meds.csv\n",
    ">`id`: patient id, `drug`: the name of the drug being prescribed `daily_dosage`: the dosage of the drug being prescribed (in mg) `start_day`: the starting time of the prescription (in days from baseline t=0) `end_day`: the end of the prescription (in days from baseline t=0)\n",
    "\n",
    "9. T_stage.csv\n",
    ">`id`: patient id, `Stage_Progress`: indicator of whether or not the patient progress in the CKD stage (True=progress)"
   ]
  },
  {
   "cell_type": "markdown",
   "metadata": {},
   "source": [
    "**Sequence of Notebooks**\n",
    "\n",
    "00_EDA and Setting Baseline\n",
    "> Attempts to understand the data and the task\n",
    "\n",
    "01_Tabular Model.\n",
    "> Uses to TabularModel to solve the given task\n",
    "\n",
    "02_SAINT TabularModel\n",
    "> Uses the SAINT architecture/framework to solve the given task\n",
    "\n",
    "03_Conclusion\n",
    "> Conclusion and future recommendations\n",
    "\n",
    "04_Graph NN\n",
    "> Attempts to define the problem as a graph problem"
   ]
  },
  {
   "cell_type": "code",
   "execution_count": null,
   "metadata": {},
   "outputs": [],
   "source": []
  }
 ],
 "metadata": {
  "kernelspec": {
   "display_name": "Python 3",
   "language": "python",
   "name": "python3"
  }
 },
 "nbformat": 4,
 "nbformat_minor": 0
}
