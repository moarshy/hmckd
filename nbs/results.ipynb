{
 "cells": [
  {
   "cell_type": "code",
   "execution_count": null,
   "metadata": {},
   "outputs": [
    {
     "name": "stdout",
     "output_type": "stream",
     "text": [
      "Mounted at /content/drive\n"
     ]
    }
   ],
   "source": [
    "#hide\n",
    "#all_ignoretest\n",
    "from google.colab import drive\n",
    "drive.mount('/content/drive')"
   ]
  },
  {
   "cell_type": "code",
   "execution_count": null,
   "metadata": {},
   "outputs": [
    {
     "name": "stdout",
     "output_type": "stream",
     "text": [
      "\u001b[K     |████████████████████████████████| 186 kB 4.9 MB/s \n",
      "\u001b[K     |████████████████████████████████| 56 kB 3.0 MB/s \n",
      "\u001b[?25hCollecting einops\n",
      "  Downloading einops-0.3.2-py3-none-any.whl (25 kB)\n",
      "Installing collected packages: einops\n",
      "Successfully installed einops-0.3.2\n"
     ]
    }
   ],
   "source": [
    "#hide\n",
    "!pip install fastai -Uqq\n",
    "!pip install einops"
   ]
  },
  {
   "cell_type": "code",
   "execution_count": null,
   "metadata": {},
   "outputs": [
    {
     "name": "stdout",
     "output_type": "stream",
     "text": [
      "/content/drive/MyDrive/colab_notebooks/hmckd\n",
      "\u001b[K     |████████████████████████████████| 46 kB 1.8 MB/s \n",
      "\u001b[K     |████████████████████████████████| 61 kB 339 kB/s \n",
      "\u001b[K     |████████████████████████████████| 51 kB 212 kB/s \n",
      "\u001b[?25h  Building wheel for dtreeviz (setup.py) ... \u001b[?25l\u001b[?25hdone\n"
     ]
    }
   ],
   "source": [
    "#hide\n",
    "%cd '/content/drive/MyDrive/colab_notebooks/hmckd'\n",
    "!pip3 install -e . -q"
   ]
  },
  {
   "cell_type": "code",
   "execution_count": null,
   "metadata": {},
   "outputs": [],
   "source": [
    "#hide\n",
    "from hmckd.utils import get_features, baseline_df, med2como, get_tabpandas_dls\n",
    "from hmckd.utils_tab import prepare_df_nsetpoints, prepare_df_firstnpoints\n",
    "from hmckd.saint import SAINT\n",
    "from hmckd.utils_saint import embed_data_mask, data_prep, get_saint_model, get_saint_nsp_dls, get_saint_fnp_dls, training_saint, test_saint"
   ]
  },
  {
   "cell_type": "code",
   "execution_count": null,
   "metadata": {},
   "outputs": [],
   "source": [
    "#hide\n",
    "from fastai.tabular.all import *\n",
    "import seaborn as sns\n",
    "from sklearn.metrics import accuracy_score, confusion_matrix, recall_score, precision_score"
   ]
  },
  {
   "cell_type": "markdown",
   "metadata": {},
   "source": [
    "# Results"
   ]
  },
  {
   "cell_type": "markdown",
   "metadata": {},
   "source": [
    "## n_setpoints Simple TabularModel"
   ]
  },
  {
   "cell_type": "markdown",
   "metadata": {},
   "source": [
    "### 2_setpoints"
   ]
  },
  {
   "cell_type": "code",
   "execution_count": null,
   "metadata": {},
   "outputs": [],
   "source": [
    "df = pd.read_csv('data/train_df_5f.csv')\n",
    "features = get_features(\"data/dataScienceTask/\")\n",
    "df, cont_names = prepare_df_nsetpoints(features, df, 650, [200, 400])\n",
    "procs = [Categorify, FillMissing, Normalize]\n",
    "cat_names = ['race', 'gender']\n",
    "y_names = 'Stage_Progress'"
   ]
  },
  {
   "cell_type": "code",
   "execution_count": null,
   "metadata": {},
   "outputs": [
    {
     "data": {
      "text/html": [
       "<table border=\"1\" class=\"dataframe\">\n",
       "  <thead>\n",
       "    <tr style=\"text-align: left;\">\n",
       "      <th>epoch</th>\n",
       "      <th>train_loss</th>\n",
       "      <th>valid_loss</th>\n",
       "      <th>accuracy</th>\n",
       "      <th>time</th>\n",
       "    </tr>\n",
       "  </thead>\n",
       "  <tbody>\n",
       "    <tr>\n",
       "      <td>0</td>\n",
       "      <td>0.747550</td>\n",
       "      <td>0.714788</td>\n",
       "      <td>0.400000</td>\n",
       "      <td>00:00</td>\n",
       "    </tr>\n",
       "    <tr>\n",
       "      <td>1</td>\n",
       "      <td>0.709544</td>\n",
       "      <td>0.709208</td>\n",
       "      <td>0.516667</td>\n",
       "      <td>00:00</td>\n",
       "    </tr>\n",
       "    <tr>\n",
       "      <td>2</td>\n",
       "      <td>0.666825</td>\n",
       "      <td>0.701765</td>\n",
       "      <td>0.566667</td>\n",
       "      <td>00:00</td>\n",
       "    </tr>\n",
       "    <tr>\n",
       "      <td>3</td>\n",
       "      <td>0.623010</td>\n",
       "      <td>0.716066</td>\n",
       "      <td>0.533333</td>\n",
       "      <td>00:00</td>\n",
       "    </tr>\n",
       "    <tr>\n",
       "      <td>4</td>\n",
       "      <td>0.580239</td>\n",
       "      <td>0.722279</td>\n",
       "      <td>0.566667</td>\n",
       "      <td>00:00</td>\n",
       "    </tr>\n",
       "    <tr>\n",
       "      <td>5</td>\n",
       "      <td>0.541681</td>\n",
       "      <td>0.744096</td>\n",
       "      <td>0.516667</td>\n",
       "      <td>00:00</td>\n",
       "    </tr>\n",
       "    <tr>\n",
       "      <td>6</td>\n",
       "      <td>0.510058</td>\n",
       "      <td>0.769161</td>\n",
       "      <td>0.566667</td>\n",
       "      <td>00:00</td>\n",
       "    </tr>\n",
       "    <tr>\n",
       "      <td>7</td>\n",
       "      <td>0.476030</td>\n",
       "      <td>0.771373</td>\n",
       "      <td>0.583333</td>\n",
       "      <td>00:00</td>\n",
       "    </tr>\n",
       "    <tr>\n",
       "      <td>8</td>\n",
       "      <td>0.455688</td>\n",
       "      <td>0.782164</td>\n",
       "      <td>0.583333</td>\n",
       "      <td>00:00</td>\n",
       "    </tr>\n",
       "    <tr>\n",
       "      <td>9</td>\n",
       "      <td>0.435709</td>\n",
       "      <td>0.791809</td>\n",
       "      <td>0.583333</td>\n",
       "      <td>00:00</td>\n",
       "    </tr>\n",
       "  </tbody>\n",
       "</table>"
      ],
      "text/plain": [
       "<IPython.core.display.HTML object>"
      ]
     },
     "metadata": {},
     "output_type": "display_data"
    },
    {
     "name": "stdout",
     "output_type": "stream",
     "text": [
      "Better model found at epoch 0 with accuracy value: 0.4000000059604645.\n",
      "Better model found at epoch 1 with accuracy value: 0.5166666507720947.\n",
      "Better model found at epoch 2 with accuracy value: 0.5666666626930237.\n",
      "Better model found at epoch 7 with accuracy value: 0.5833333134651184.\n"
     ]
    },
    {
     "data": {
      "text/html": [
       "<table border=\"1\" class=\"dataframe\">\n",
       "  <thead>\n",
       "    <tr style=\"text-align: left;\">\n",
       "      <th>epoch</th>\n",
       "      <th>train_loss</th>\n",
       "      <th>valid_loss</th>\n",
       "      <th>accuracy</th>\n",
       "      <th>time</th>\n",
       "    </tr>\n",
       "  </thead>\n",
       "  <tbody>\n",
       "    <tr>\n",
       "      <td>0</td>\n",
       "      <td>0.739152</td>\n",
       "      <td>0.694239</td>\n",
       "      <td>0.566667</td>\n",
       "      <td>00:00</td>\n",
       "    </tr>\n",
       "    <tr>\n",
       "      <td>1</td>\n",
       "      <td>0.711972</td>\n",
       "      <td>0.686321</td>\n",
       "      <td>0.600000</td>\n",
       "      <td>00:00</td>\n",
       "    </tr>\n",
       "    <tr>\n",
       "      <td>2</td>\n",
       "      <td>0.664657</td>\n",
       "      <td>0.668843</td>\n",
       "      <td>0.600000</td>\n",
       "      <td>00:00</td>\n",
       "    </tr>\n",
       "    <tr>\n",
       "      <td>3</td>\n",
       "      <td>0.625107</td>\n",
       "      <td>0.639484</td>\n",
       "      <td>0.633333</td>\n",
       "      <td>00:00</td>\n",
       "    </tr>\n",
       "    <tr>\n",
       "      <td>4</td>\n",
       "      <td>0.579946</td>\n",
       "      <td>0.615349</td>\n",
       "      <td>0.683333</td>\n",
       "      <td>00:00</td>\n",
       "    </tr>\n",
       "    <tr>\n",
       "      <td>5</td>\n",
       "      <td>0.545594</td>\n",
       "      <td>0.615231</td>\n",
       "      <td>0.683333</td>\n",
       "      <td>00:00</td>\n",
       "    </tr>\n",
       "    <tr>\n",
       "      <td>6</td>\n",
       "      <td>0.508233</td>\n",
       "      <td>0.632116</td>\n",
       "      <td>0.683333</td>\n",
       "      <td>00:00</td>\n",
       "    </tr>\n",
       "    <tr>\n",
       "      <td>7</td>\n",
       "      <td>0.480415</td>\n",
       "      <td>0.654237</td>\n",
       "      <td>0.666667</td>\n",
       "      <td>00:00</td>\n",
       "    </tr>\n",
       "    <tr>\n",
       "      <td>8</td>\n",
       "      <td>0.457540</td>\n",
       "      <td>0.661523</td>\n",
       "      <td>0.650000</td>\n",
       "      <td>00:00</td>\n",
       "    </tr>\n",
       "    <tr>\n",
       "      <td>9</td>\n",
       "      <td>0.440544</td>\n",
       "      <td>0.665012</td>\n",
       "      <td>0.650000</td>\n",
       "      <td>00:00</td>\n",
       "    </tr>\n",
       "  </tbody>\n",
       "</table>"
      ],
      "text/plain": [
       "<IPython.core.display.HTML object>"
      ]
     },
     "metadata": {},
     "output_type": "display_data"
    },
    {
     "name": "stdout",
     "output_type": "stream",
     "text": [
      "Better model found at epoch 0 with accuracy value: 0.5666666626930237.\n",
      "Better model found at epoch 1 with accuracy value: 0.6000000238418579.\n",
      "Better model found at epoch 3 with accuracy value: 0.6333333253860474.\n",
      "Better model found at epoch 4 with accuracy value: 0.6833333373069763.\n"
     ]
    },
    {
     "data": {
      "text/html": [
       "<table border=\"1\" class=\"dataframe\">\n",
       "  <thead>\n",
       "    <tr style=\"text-align: left;\">\n",
       "      <th>epoch</th>\n",
       "      <th>train_loss</th>\n",
       "      <th>valid_loss</th>\n",
       "      <th>accuracy</th>\n",
       "      <th>time</th>\n",
       "    </tr>\n",
       "  </thead>\n",
       "  <tbody>\n",
       "    <tr>\n",
       "      <td>0</td>\n",
       "      <td>0.782812</td>\n",
       "      <td>0.687415</td>\n",
       "      <td>0.566667</td>\n",
       "      <td>00:00</td>\n",
       "    </tr>\n",
       "    <tr>\n",
       "      <td>1</td>\n",
       "      <td>0.743307</td>\n",
       "      <td>0.680911</td>\n",
       "      <td>0.633333</td>\n",
       "      <td>00:00</td>\n",
       "    </tr>\n",
       "    <tr>\n",
       "      <td>2</td>\n",
       "      <td>0.685504</td>\n",
       "      <td>0.667255</td>\n",
       "      <td>0.650000</td>\n",
       "      <td>00:00</td>\n",
       "    </tr>\n",
       "    <tr>\n",
       "      <td>3</td>\n",
       "      <td>0.638364</td>\n",
       "      <td>0.646224</td>\n",
       "      <td>0.683333</td>\n",
       "      <td>00:00</td>\n",
       "    </tr>\n",
       "    <tr>\n",
       "      <td>4</td>\n",
       "      <td>0.605458</td>\n",
       "      <td>0.634673</td>\n",
       "      <td>0.650000</td>\n",
       "      <td>00:00</td>\n",
       "    </tr>\n",
       "    <tr>\n",
       "      <td>5</td>\n",
       "      <td>0.567605</td>\n",
       "      <td>0.625690</td>\n",
       "      <td>0.666667</td>\n",
       "      <td>00:00</td>\n",
       "    </tr>\n",
       "    <tr>\n",
       "      <td>6</td>\n",
       "      <td>0.536676</td>\n",
       "      <td>0.620353</td>\n",
       "      <td>0.650000</td>\n",
       "      <td>00:00</td>\n",
       "    </tr>\n",
       "    <tr>\n",
       "      <td>7</td>\n",
       "      <td>0.507411</td>\n",
       "      <td>0.620386</td>\n",
       "      <td>0.650000</td>\n",
       "      <td>00:00</td>\n",
       "    </tr>\n",
       "    <tr>\n",
       "      <td>8</td>\n",
       "      <td>0.482211</td>\n",
       "      <td>0.622034</td>\n",
       "      <td>0.650000</td>\n",
       "      <td>00:00</td>\n",
       "    </tr>\n",
       "    <tr>\n",
       "      <td>9</td>\n",
       "      <td>0.462892</td>\n",
       "      <td>0.623317</td>\n",
       "      <td>0.666667</td>\n",
       "      <td>00:00</td>\n",
       "    </tr>\n",
       "  </tbody>\n",
       "</table>"
      ],
      "text/plain": [
       "<IPython.core.display.HTML object>"
      ]
     },
     "metadata": {},
     "output_type": "display_data"
    },
    {
     "name": "stdout",
     "output_type": "stream",
     "text": [
      "Better model found at epoch 0 with accuracy value: 0.5666666626930237.\n",
      "Better model found at epoch 1 with accuracy value: 0.6333333253860474.\n",
      "Better model found at epoch 2 with accuracy value: 0.6499999761581421.\n",
      "Better model found at epoch 3 with accuracy value: 0.6833333373069763.\n"
     ]
    },
    {
     "data": {
      "text/html": [
       "<table border=\"1\" class=\"dataframe\">\n",
       "  <thead>\n",
       "    <tr style=\"text-align: left;\">\n",
       "      <th>epoch</th>\n",
       "      <th>train_loss</th>\n",
       "      <th>valid_loss</th>\n",
       "      <th>accuracy</th>\n",
       "      <th>time</th>\n",
       "    </tr>\n",
       "  </thead>\n",
       "  <tbody>\n",
       "    <tr>\n",
       "      <td>0</td>\n",
       "      <td>0.747531</td>\n",
       "      <td>0.677041</td>\n",
       "      <td>0.633333</td>\n",
       "      <td>00:00</td>\n",
       "    </tr>\n",
       "    <tr>\n",
       "      <td>1</td>\n",
       "      <td>0.709847</td>\n",
       "      <td>0.663640</td>\n",
       "      <td>0.650000</td>\n",
       "      <td>00:00</td>\n",
       "    </tr>\n",
       "    <tr>\n",
       "      <td>2</td>\n",
       "      <td>0.671800</td>\n",
       "      <td>0.635704</td>\n",
       "      <td>0.683333</td>\n",
       "      <td>00:00</td>\n",
       "    </tr>\n",
       "    <tr>\n",
       "      <td>3</td>\n",
       "      <td>0.635915</td>\n",
       "      <td>0.606086</td>\n",
       "      <td>0.750000</td>\n",
       "      <td>00:00</td>\n",
       "    </tr>\n",
       "    <tr>\n",
       "      <td>4</td>\n",
       "      <td>0.597000</td>\n",
       "      <td>0.577386</td>\n",
       "      <td>0.700000</td>\n",
       "      <td>00:00</td>\n",
       "    </tr>\n",
       "    <tr>\n",
       "      <td>5</td>\n",
       "      <td>0.560284</td>\n",
       "      <td>0.559770</td>\n",
       "      <td>0.666667</td>\n",
       "      <td>00:00</td>\n",
       "    </tr>\n",
       "    <tr>\n",
       "      <td>6</td>\n",
       "      <td>0.528468</td>\n",
       "      <td>0.548638</td>\n",
       "      <td>0.700000</td>\n",
       "      <td>00:00</td>\n",
       "    </tr>\n",
       "    <tr>\n",
       "      <td>7</td>\n",
       "      <td>0.505250</td>\n",
       "      <td>0.548250</td>\n",
       "      <td>0.700000</td>\n",
       "      <td>00:00</td>\n",
       "    </tr>\n",
       "    <tr>\n",
       "      <td>8</td>\n",
       "      <td>0.480936</td>\n",
       "      <td>0.547034</td>\n",
       "      <td>0.700000</td>\n",
       "      <td>00:00</td>\n",
       "    </tr>\n",
       "    <tr>\n",
       "      <td>9</td>\n",
       "      <td>0.462246</td>\n",
       "      <td>0.544934</td>\n",
       "      <td>0.683333</td>\n",
       "      <td>00:00</td>\n",
       "    </tr>\n",
       "  </tbody>\n",
       "</table>"
      ],
      "text/plain": [
       "<IPython.core.display.HTML object>"
      ]
     },
     "metadata": {},
     "output_type": "display_data"
    },
    {
     "name": "stdout",
     "output_type": "stream",
     "text": [
      "Better model found at epoch 0 with accuracy value: 0.6333333253860474.\n",
      "Better model found at epoch 1 with accuracy value: 0.6499999761581421.\n",
      "Better model found at epoch 2 with accuracy value: 0.6833333373069763.\n",
      "Better model found at epoch 3 with accuracy value: 0.75.\n"
     ]
    }
   ],
   "source": [
    "train_df = df[df['fold']!= 4].reset_index(drop=True)\n",
    "test_df = df[df['fold']== 4].reset_index(drop=True)\n",
    "for i in range(4):\n",
    "    dls, tabdf = get_tabpandas_dls(i, train_df, procs, cat_names, cont_names, y_names, 32)\n",
    "    emb_szs = get_emb_sz(tabdf)\n",
    "    learn = tabular_learner(dls, [100,50], \n",
    "                            metrics=accuracy, \n",
    "                            cbs=[SaveModelCallback(monitor='accuracy', \n",
    "                                                   fname=f'tab_2pt_{i}')])\n",
    "    learn.fit_one_cycle(10, 0.002)"
   ]
  },
  {
   "cell_type": "code",
   "execution_count": null,
   "metadata": {},
   "outputs": [
    {
     "name": "stderr",
     "output_type": "stream",
     "text": [
      "/usr/local/lib/python3.7/dist-packages/fastai/learner.py:56: UserWarning: Saved filed doesn't contain an optimizer state.\n",
      "  elif with_opt: warn(\"Saved filed doesn't contain an optimizer state.\")\n"
     ]
    },
    {
     "data": {
      "text/html": [
       ""
      ],
      "text/plain": [
       "<IPython.core.display.HTML object>"
      ]
     },
     "metadata": {},
     "output_type": "display_data"
    },
    {
     "name": "stderr",
     "output_type": "stream",
     "text": [
      "/usr/local/lib/python3.7/dist-packages/fastai/learner.py:56: UserWarning: Saved filed doesn't contain an optimizer state.\n",
      "  elif with_opt: warn(\"Saved filed doesn't contain an optimizer state.\")\n"
     ]
    },
    {
     "data": {
      "text/html": [
       ""
      ],
      "text/plain": [
       "<IPython.core.display.HTML object>"
      ]
     },
     "metadata": {},
     "output_type": "display_data"
    },
    {
     "name": "stderr",
     "output_type": "stream",
     "text": [
      "/usr/local/lib/python3.7/dist-packages/fastai/learner.py:56: UserWarning: Saved filed doesn't contain an optimizer state.\n",
      "  elif with_opt: warn(\"Saved filed doesn't contain an optimizer state.\")\n"
     ]
    },
    {
     "data": {
      "text/html": [
       ""
      ],
      "text/plain": [
       "<IPython.core.display.HTML object>"
      ]
     },
     "metadata": {},
     "output_type": "display_data"
    },
    {
     "name": "stderr",
     "output_type": "stream",
     "text": [
      "/usr/local/lib/python3.7/dist-packages/fastai/learner.py:56: UserWarning: Saved filed doesn't contain an optimizer state.\n",
      "  elif with_opt: warn(\"Saved filed doesn't contain an optimizer state.\")\n"
     ]
    },
    {
     "data": {
      "text/html": [
       ""
      ],
      "text/plain": [
       "<IPython.core.display.HTML object>"
      ]
     },
     "metadata": {},
     "output_type": "display_data"
    }
   ],
   "source": [
    "#hide_output\n",
    "test_dl = dls.test_dl(test_df)\n",
    "preds = []\n",
    "for i in range(4):\n",
    "    dls, tabdf = get_tabpandas_dls(i, train_df, procs, cat_names, cont_names, y_names, 32)\n",
    "    emb_szs = get_emb_sz(tabdf)\n",
    "    learn = tabular_learner(dls, [100,50], \n",
    "                        metrics=accuracy, \n",
    "                        cbs=[SaveModelCallback(monitor='accuracy')])\n",
    "    \n",
    "    learn.load(f'tab_2pt_{i}')\n",
    "    pred, y_pred, y_true = learn.get_preds(dl=test_dl, with_decoded=True)\n",
    "    preds.append(pred)\n",
    "  \n",
    "y_true = test_dl.y.values\n",
    "y_pred = np.array(torch.argmax(torch.stack(preds).mean(0),1))"
   ]
  },
  {
   "cell_type": "code",
   "execution_count": null,
   "metadata": {},
   "outputs": [
    {
     "name": "stdout",
     "output_type": "stream",
     "text": [
      "5-fold accuracy score: 0.67\n",
      "5-fold recall score: 0.60\n",
      "5-fold precision score: 0.50\n"
     ]
    }
   ],
   "source": [
    "#hide\n",
    "print(f'5-fold accuracy score: {accuracy_score(y_true, y_pred):.2f}')\n",
    "print(f'5-fold recall score: {recall_score(y_true, y_pred):.2f}')\n",
    "print(f'5-fold precision score: {precision_score(y_true, y_pred):.2f}')"
   ]
  },
  {
   "cell_type": "code",
   "execution_count": null,
   "metadata": {},
   "outputs": [
    {
     "data": {
      "text/plain": [
       "<matplotlib.axes._subplots.AxesSubplot at 0x7f111cd4dc50>"
      ]
     },
     "execution_count": null,
     "metadata": {},
     "output_type": "execute_result"
    },
    {
     "data": {
      "image/png": "[encoded data removed]",
      "text/plain": [
       "<Figure size 432x288 with 2 Axes>"
      ]
     },
     "metadata": {
      "needs_background": "light"
     },
     "output_type": "display_data"
    }
   ],
   "source": [
    "#hide_input\n",
    "sns.heatmap(confusion_matrix(y_true, y_pred), annot=True, cmap='Blues')"
   ]
  },
  {
   "cell_type": "markdown",
   "metadata": {},
   "source": [
    "### 5_setpoints "
   ]
  },
  {
   "cell_type": "code",
   "execution_count": null,
   "metadata": {},
   "outputs": [],
   "source": [
    "df = pd.read_csv('data/train_df_5f.csv')\n",
    "features = get_features(\"data/dataScienceTask/\")\n",
    "df, cont_names = prepare_df_nsetpoints(features, df, 650, [100, 200, 300, 400, 500])\n",
    "procs = [Categorify, FillMissing, Normalize]\n",
    "cat_names = ['race', 'gender']\n",
    "y_names = 'Stage_Progress'"
   ]
  },
  {
   "cell_type": "code",
   "execution_count": null,
   "metadata": {},
   "outputs": [
    {
     "data": {
      "text/html": [
       "<table border=\"1\" class=\"dataframe\">\n",
       "  <thead>\n",
       "    <tr style=\"text-align: left;\">\n",
       "      <th>epoch</th>\n",
       "      <th>train_loss</th>\n",
       "      <th>valid_loss</th>\n",
       "      <th>accuracy</th>\n",
       "      <th>time</th>\n",
       "    </tr>\n",
       "  </thead>\n",
       "  <tbody>\n",
       "    <tr>\n",
       "      <td>0</td>\n",
       "      <td>0.734093</td>\n",
       "      <td>0.701319</td>\n",
       "      <td>0.516667</td>\n",
       "      <td>00:00</td>\n",
       "    </tr>\n",
       "    <tr>\n",
       "      <td>1</td>\n",
       "      <td>0.693535</td>\n",
       "      <td>0.691603</td>\n",
       "      <td>0.583333</td>\n",
       "      <td>00:00</td>\n",
       "    </tr>\n",
       "    <tr>\n",
       "      <td>2</td>\n",
       "      <td>0.656751</td>\n",
       "      <td>0.678942</td>\n",
       "      <td>0.566667</td>\n",
       "      <td>00:00</td>\n",
       "    </tr>\n",
       "    <tr>\n",
       "      <td>3</td>\n",
       "      <td>0.604457</td>\n",
       "      <td>0.669885</td>\n",
       "      <td>0.616667</td>\n",
       "      <td>00:00</td>\n",
       "    </tr>\n",
       "    <tr>\n",
       "      <td>4</td>\n",
       "      <td>0.557995</td>\n",
       "      <td>0.664688</td>\n",
       "      <td>0.600000</td>\n",
       "      <td>00:00</td>\n",
       "    </tr>\n",
       "    <tr>\n",
       "      <td>5</td>\n",
       "      <td>0.512392</td>\n",
       "      <td>0.675647</td>\n",
       "      <td>0.600000</td>\n",
       "      <td>00:00</td>\n",
       "    </tr>\n",
       "    <tr>\n",
       "      <td>6</td>\n",
       "      <td>0.481570</td>\n",
       "      <td>0.698680</td>\n",
       "      <td>0.616667</td>\n",
       "      <td>00:00</td>\n",
       "    </tr>\n",
       "    <tr>\n",
       "      <td>7</td>\n",
       "      <td>0.448379</td>\n",
       "      <td>0.710650</td>\n",
       "      <td>0.633333</td>\n",
       "      <td>00:00</td>\n",
       "    </tr>\n",
       "    <tr>\n",
       "      <td>8</td>\n",
       "      <td>0.419806</td>\n",
       "      <td>0.723157</td>\n",
       "      <td>0.633333</td>\n",
       "      <td>00:00</td>\n",
       "    </tr>\n",
       "    <tr>\n",
       "      <td>9</td>\n",
       "      <td>0.395438</td>\n",
       "      <td>0.726171</td>\n",
       "      <td>0.633333</td>\n",
       "      <td>00:00</td>\n",
       "    </tr>\n",
       "  </tbody>\n",
       "</table>"
      ],
      "text/plain": [
       "<IPython.core.display.HTML object>"
      ]
     },
     "metadata": {},
     "output_type": "display_data"
    },
    {
     "name": "stdout",
     "output_type": "stream",
     "text": [
      "Better model found at epoch 0 with accuracy value: 0.5166666507720947.\n",
      "Better model found at epoch 1 with accuracy value: 0.5833333134651184.\n",
      "Better model found at epoch 3 with accuracy value: 0.6166666746139526.\n",
      "Better model found at epoch 7 with accuracy value: 0.6333333253860474.\n"
     ]
    },
    {
     "data": {
      "text/html": [
       "<table border=\"1\" class=\"dataframe\">\n",
       "  <thead>\n",
       "    <tr style=\"text-align: left;\">\n",
       "      <th>epoch</th>\n",
       "      <th>train_loss</th>\n",
       "      <th>valid_loss</th>\n",
       "      <th>accuracy</th>\n",
       "      <th>time</th>\n",
       "    </tr>\n",
       "  </thead>\n",
       "  <tbody>\n",
       "    <tr>\n",
       "      <td>0</td>\n",
       "      <td>0.709021</td>\n",
       "      <td>0.721731</td>\n",
       "      <td>0.366667</td>\n",
       "      <td>00:00</td>\n",
       "    </tr>\n",
       "    <tr>\n",
       "      <td>1</td>\n",
       "      <td>0.682048</td>\n",
       "      <td>0.713925</td>\n",
       "      <td>0.450000</td>\n",
       "      <td>00:00</td>\n",
       "    </tr>\n",
       "    <tr>\n",
       "      <td>2</td>\n",
       "      <td>0.637861</td>\n",
       "      <td>0.688651</td>\n",
       "      <td>0.583333</td>\n",
       "      <td>00:00</td>\n",
       "    </tr>\n",
       "    <tr>\n",
       "      <td>3</td>\n",
       "      <td>0.592292</td>\n",
       "      <td>0.669536</td>\n",
       "      <td>0.566667</td>\n",
       "      <td>00:00</td>\n",
       "    </tr>\n",
       "    <tr>\n",
       "      <td>4</td>\n",
       "      <td>0.551353</td>\n",
       "      <td>0.643320</td>\n",
       "      <td>0.600000</td>\n",
       "      <td>00:00</td>\n",
       "    </tr>\n",
       "    <tr>\n",
       "      <td>5</td>\n",
       "      <td>0.512723</td>\n",
       "      <td>0.625718</td>\n",
       "      <td>0.633333</td>\n",
       "      <td>00:00</td>\n",
       "    </tr>\n",
       "    <tr>\n",
       "      <td>6</td>\n",
       "      <td>0.489434</td>\n",
       "      <td>0.630450</td>\n",
       "      <td>0.650000</td>\n",
       "      <td>00:00</td>\n",
       "    </tr>\n",
       "    <tr>\n",
       "      <td>7</td>\n",
       "      <td>0.460211</td>\n",
       "      <td>0.630020</td>\n",
       "      <td>0.650000</td>\n",
       "      <td>00:00</td>\n",
       "    </tr>\n",
       "    <tr>\n",
       "      <td>8</td>\n",
       "      <td>0.439064</td>\n",
       "      <td>0.633547</td>\n",
       "      <td>0.650000</td>\n",
       "      <td>00:00</td>\n",
       "    </tr>\n",
       "    <tr>\n",
       "      <td>9</td>\n",
       "      <td>0.418921</td>\n",
       "      <td>0.633073</td>\n",
       "      <td>0.650000</td>\n",
       "      <td>00:00</td>\n",
       "    </tr>\n",
       "  </tbody>\n",
       "</table>"
      ],
      "text/plain": [
       "<IPython.core.display.HTML object>"
      ]
     },
     "metadata": {},
     "output_type": "display_data"
    },
    {
     "name": "stdout",
     "output_type": "stream",
     "text": [
      "Better model found at epoch 0 with accuracy value: 0.36666667461395264.\n",
      "Better model found at epoch 1 with accuracy value: 0.44999998807907104.\n",
      "Better model found at epoch 2 with accuracy value: 0.5833333134651184.\n",
      "Better model found at epoch 4 with accuracy value: 0.6000000238418579.\n",
      "Better model found at epoch 5 with accuracy value: 0.6333333253860474.\n",
      "Better model found at epoch 6 with accuracy value: 0.6499999761581421.\n"
     ]
    },
    {
     "data": {
      "text/html": [
       "<table border=\"1\" class=\"dataframe\">\n",
       "  <thead>\n",
       "    <tr style=\"text-align: left;\">\n",
       "      <th>epoch</th>\n",
       "      <th>train_loss</th>\n",
       "      <th>valid_loss</th>\n",
       "      <th>accuracy</th>\n",
       "      <th>time</th>\n",
       "    </tr>\n",
       "  </thead>\n",
       "  <tbody>\n",
       "    <tr>\n",
       "      <td>0</td>\n",
       "      <td>0.755642</td>\n",
       "      <td>0.695978</td>\n",
       "      <td>0.450000</td>\n",
       "      <td>00:00</td>\n",
       "    </tr>\n",
       "    <tr>\n",
       "      <td>1</td>\n",
       "      <td>0.723608</td>\n",
       "      <td>0.665013</td>\n",
       "      <td>0.650000</td>\n",
       "      <td>00:00</td>\n",
       "    </tr>\n",
       "    <tr>\n",
       "      <td>2</td>\n",
       "      <td>0.689019</td>\n",
       "      <td>0.639343</td>\n",
       "      <td>0.700000</td>\n",
       "      <td>00:00</td>\n",
       "    </tr>\n",
       "    <tr>\n",
       "      <td>3</td>\n",
       "      <td>0.641374</td>\n",
       "      <td>0.616474</td>\n",
       "      <td>0.716667</td>\n",
       "      <td>00:00</td>\n",
       "    </tr>\n",
       "    <tr>\n",
       "      <td>4</td>\n",
       "      <td>0.592136</td>\n",
       "      <td>0.587979</td>\n",
       "      <td>0.716667</td>\n",
       "      <td>00:00</td>\n",
       "    </tr>\n",
       "    <tr>\n",
       "      <td>5</td>\n",
       "      <td>0.554617</td>\n",
       "      <td>0.582173</td>\n",
       "      <td>0.716667</td>\n",
       "      <td>00:00</td>\n",
       "    </tr>\n",
       "    <tr>\n",
       "      <td>6</td>\n",
       "      <td>0.516356</td>\n",
       "      <td>0.583183</td>\n",
       "      <td>0.700000</td>\n",
       "      <td>00:00</td>\n",
       "    </tr>\n",
       "    <tr>\n",
       "      <td>7</td>\n",
       "      <td>0.487062</td>\n",
       "      <td>0.585371</td>\n",
       "      <td>0.716667</td>\n",
       "      <td>00:00</td>\n",
       "    </tr>\n",
       "    <tr>\n",
       "      <td>8</td>\n",
       "      <td>0.463400</td>\n",
       "      <td>0.586449</td>\n",
       "      <td>0.716667</td>\n",
       "      <td>00:00</td>\n",
       "    </tr>\n",
       "    <tr>\n",
       "      <td>9</td>\n",
       "      <td>0.439412</td>\n",
       "      <td>0.586771</td>\n",
       "      <td>0.716667</td>\n",
       "      <td>00:00</td>\n",
       "    </tr>\n",
       "  </tbody>\n",
       "</table>"
      ],
      "text/plain": [
       "<IPython.core.display.HTML object>"
      ]
     },
     "metadata": {},
     "output_type": "display_data"
    },
    {
     "name": "stdout",
     "output_type": "stream",
     "text": [
      "Better model found at epoch 0 with accuracy value: 0.44999998807907104.\n",
      "Better model found at epoch 1 with accuracy value: 0.6499999761581421.\n",
      "Better model found at epoch 2 with accuracy value: 0.699999988079071.\n",
      "Better model found at epoch 3 with accuracy value: 0.7166666388511658.\n"
     ]
    },
    {
     "data": {
      "text/html": [
       "<table border=\"1\" class=\"dataframe\">\n",
       "  <thead>\n",
       "    <tr style=\"text-align: left;\">\n",
       "      <th>epoch</th>\n",
       "      <th>train_loss</th>\n",
       "      <th>valid_loss</th>\n",
       "      <th>accuracy</th>\n",
       "      <th>time</th>\n",
       "    </tr>\n",
       "  </thead>\n",
       "  <tbody>\n",
       "    <tr>\n",
       "      <td>0</td>\n",
       "      <td>0.724143</td>\n",
       "      <td>0.684002</td>\n",
       "      <td>0.550000</td>\n",
       "      <td>00:00</td>\n",
       "    </tr>\n",
       "    <tr>\n",
       "      <td>1</td>\n",
       "      <td>0.711992</td>\n",
       "      <td>0.675274</td>\n",
       "      <td>0.616667</td>\n",
       "      <td>00:00</td>\n",
       "    </tr>\n",
       "    <tr>\n",
       "      <td>2</td>\n",
       "      <td>0.676385</td>\n",
       "      <td>0.645588</td>\n",
       "      <td>0.700000</td>\n",
       "      <td>00:00</td>\n",
       "    </tr>\n",
       "    <tr>\n",
       "      <td>3</td>\n",
       "      <td>0.635377</td>\n",
       "      <td>0.627443</td>\n",
       "      <td>0.733333</td>\n",
       "      <td>00:00</td>\n",
       "    </tr>\n",
       "    <tr>\n",
       "      <td>4</td>\n",
       "      <td>0.603159</td>\n",
       "      <td>0.592913</td>\n",
       "      <td>0.766667</td>\n",
       "      <td>00:00</td>\n",
       "    </tr>\n",
       "    <tr>\n",
       "      <td>5</td>\n",
       "      <td>0.565073</td>\n",
       "      <td>0.558632</td>\n",
       "      <td>0.750000</td>\n",
       "      <td>00:00</td>\n",
       "    </tr>\n",
       "    <tr>\n",
       "      <td>6</td>\n",
       "      <td>0.530480</td>\n",
       "      <td>0.539280</td>\n",
       "      <td>0.716667</td>\n",
       "      <td>00:00</td>\n",
       "    </tr>\n",
       "    <tr>\n",
       "      <td>7</td>\n",
       "      <td>0.503805</td>\n",
       "      <td>0.524698</td>\n",
       "      <td>0.716667</td>\n",
       "      <td>00:00</td>\n",
       "    </tr>\n",
       "    <tr>\n",
       "      <td>8</td>\n",
       "      <td>0.478318</td>\n",
       "      <td>0.519707</td>\n",
       "      <td>0.716667</td>\n",
       "      <td>00:00</td>\n",
       "    </tr>\n",
       "    <tr>\n",
       "      <td>9</td>\n",
       "      <td>0.456589</td>\n",
       "      <td>0.516327</td>\n",
       "      <td>0.716667</td>\n",
       "      <td>00:00</td>\n",
       "    </tr>\n",
       "  </tbody>\n",
       "</table>"
      ],
      "text/plain": [
       "<IPython.core.display.HTML object>"
      ]
     },
     "metadata": {},
     "output_type": "display_data"
    },
    {
     "name": "stdout",
     "output_type": "stream",
     "text": [
      "Better model found at epoch 0 with accuracy value: 0.550000011920929.\n",
      "Better model found at epoch 1 with accuracy value: 0.6166666746139526.\n",
      "Better model found at epoch 2 with accuracy value: 0.699999988079071.\n",
      "Better model found at epoch 3 with accuracy value: 0.7333333492279053.\n",
      "Better model found at epoch 4 with accuracy value: 0.7666666507720947.\n"
     ]
    }
   ],
   "source": [
    "train_df = df[df['fold']!= 4].reset_index(drop=True)\n",
    "test_df = df[df['fold']== 4].reset_index(drop=True)\n",
    "for i in range(4):\n",
    "    dls, tabdf = get_tabpandas_dls(i, train_df, procs, cat_names, cont_names, y_names, 32)\n",
    "    emb_szs = get_emb_sz(tabdf)\n",
    "    learn = tabular_learner(dls, [100,50], \n",
    "                            metrics=accuracy, \n",
    "                            cbs=[SaveModelCallback(monitor='accuracy', \n",
    "                                                   fname=f'tab_5pt_{i}')])\n",
    "    learn.fit_one_cycle(10, 0.002)"
   ]
  },
  {
   "cell_type": "code",
   "execution_count": null,
   "metadata": {},
   "outputs": [
    {
     "name": "stderr",
     "output_type": "stream",
     "text": [
      "/usr/local/lib/python3.7/dist-packages/fastai/learner.py:56: UserWarning: Saved filed doesn't contain an optimizer state.\n",
      "  elif with_opt: warn(\"Saved filed doesn't contain an optimizer state.\")\n"
     ]
    },
    {
     "data": {
      "text/html": [
       ""
      ],
      "text/plain": [
       "<IPython.core.display.HTML object>"
      ]
     },
     "metadata": {},
     "output_type": "display_data"
    },
    {
     "name": "stderr",
     "output_type": "stream",
     "text": [
      "/usr/local/lib/python3.7/dist-packages/fastai/learner.py:56: UserWarning: Saved filed doesn't contain an optimizer state.\n",
      "  elif with_opt: warn(\"Saved filed doesn't contain an optimizer state.\")\n"
     ]
    },
    {
     "data": {
      "text/html": [
       ""
      ],
      "text/plain": [
       "<IPython.core.display.HTML object>"
      ]
     },
     "metadata": {},
     "output_type": "display_data"
    },
    {
     "name": "stderr",
     "output_type": "stream",
     "text": [
      "/usr/local/lib/python3.7/dist-packages/fastai/learner.py:56: UserWarning: Saved filed doesn't contain an optimizer state.\n",
      "  elif with_opt: warn(\"Saved filed doesn't contain an optimizer state.\")\n"
     ]
    },
    {
     "data": {
      "text/html": [
       ""
      ],
      "text/plain": [
       "<IPython.core.display.HTML object>"
      ]
     },
     "metadata": {},
     "output_type": "display_data"
    },
    {
     "name": "stderr",
     "output_type": "stream",
     "text": [
      "/usr/local/lib/python3.7/dist-packages/fastai/learner.py:56: UserWarning: Saved filed doesn't contain an optimizer state.\n",
      "  elif with_opt: warn(\"Saved filed doesn't contain an optimizer state.\")\n"
     ]
    },
    {
     "data": {
      "text/html": [
       ""
      ],
      "text/plain": [
       "<IPython.core.display.HTML object>"
      ]
     },
     "metadata": {},
     "output_type": "display_data"
    }
   ],
   "source": [
    "#hide_output\n",
    "test_dl = dls.test_dl(test_df)\n",
    "preds = []\n",
    "for i in range(4):\n",
    "    dls, tabdf = get_tabpandas_dls(i, train_df, procs, cat_names, cont_names, y_names, 32)\n",
    "    emb_szs = get_emb_sz(tabdf)\n",
    "    learn = tabular_learner(dls, [100,50], \n",
    "                        metrics=accuracy, \n",
    "                        cbs=[SaveModelCallback(monitor='accuracy')])\n",
    "    \n",
    "    learn.load(f'tab_5pt_{i}')\n",
    "    pred, y_pred, y_true = learn.get_preds(dl=test_dl, with_decoded=True)\n",
    "    preds.append(pred)\n",
    "  \n",
    "y_true = test_dl.y.values\n",
    "y_pred = np.array(torch.argmax(torch.stack(preds).mean(0),1))"
   ]
  },
  {
   "cell_type": "code",
   "execution_count": null,
   "metadata": {},
   "outputs": [
    {
     "name": "stdout",
     "output_type": "stream",
     "text": [
      "5-fold accuracy score: 0.67\n",
      "5-fold recall score: 0.60\n",
      "5-fold precision score: 0.50\n"
     ]
    }
   ],
   "source": [
    "#hide\n",
    "print(f'5-fold accuracy score: {accuracy_score(y_true, y_pred):.2f}')\n",
    "print(f'5-fold recall score: {recall_score(y_true, y_pred):.2f}')\n",
    "print(f'5-fold precision score: {precision_score(y_true, y_pred):.2f}')"
   ]
  },
  {
   "cell_type": "code",
   "execution_count": null,
   "metadata": {},
   "outputs": [
    {
     "data": {
      "text/plain": [
       "<matplotlib.axes._subplots.AxesSubplot at 0x7f111d6fe190>"
      ]
     },
     "execution_count": null,
     "metadata": {},
     "output_type": "execute_result"
    },
    {
     "data": {
      "image/png": "[encoded data removed]",
      "text/plain": [
       "<Figure size 432x288 with 2 Axes>"
      ]
     },
     "metadata": {
      "needs_background": "light"
     },
     "output_type": "display_data"
    }
   ],
   "source": [
    "#hide_input\n",
    "sns.heatmap(confusion_matrix(y_true, y_pred), annot=True, cmap='Blues')"
   ]
  },
  {
   "cell_type": "markdown",
   "metadata": {},
   "source": [
    "### 2_setpoints + meds"
   ]
  },
  {
   "cell_type": "code",
   "execution_count": null,
   "metadata": {},
   "outputs": [],
   "source": [
    "meds = pd.read_csv('data/dataScienceTask/T_meds.csv')\n",
    "meds = meds[meds['end_day'] < 650]\n",
    "meddf = pd.DataFrame(columns=med2como.keys())\n",
    "meddf['id'] = range(0,300)\n",
    "\n",
    "\n",
    "for i in range(300):\n",
    "    pat = meds[meds['id']==i]\n",
    "    med = pd.DataFrame(columns=list(med2como.keys()))\n",
    "    medstatus = {e:0 for e in pat['drug'].unique()}\n",
    "\n",
    "    for drug in pat['drug'].unique():\n",
    "        doses = pat[pat['drug']==drug]['daily_dosage'].values\n",
    "        \n",
    "        inidose = doses[0]\n",
    "        change = 1\n",
    "        \n",
    "        for dose in doses[1:]:\n",
    "            if dose>inidose:\n",
    "                change = 2\n",
    "\n",
    "        meddf.loc[i,drug] = change\n",
    "\n",
    "meddf = meddf.fillna(0)\n",
    "med_cat_cols = list(meddf.columns[:-1])"
   ]
  },
  {
   "cell_type": "code",
   "execution_count": null,
   "metadata": {},
   "outputs": [],
   "source": [
    "df = pd.read_csv('data/train_df_5f.csv')\n",
    "features = get_features(\"data/dataScienceTask/\")\n",
    "df, cont_names = prepare_df_nsetpoints(features, df, 650, [200, 400])\n",
    "df = df.merge(meddf, on='id')\n",
    "procs = [Categorify, FillMissing, Normalize]\n",
    "cat_names = ['race', 'gender']+med_cat_cols\n",
    "y_names = 'Stage_Progress'"
   ]
  },
  {
   "cell_type": "code",
   "execution_count": null,
   "metadata": {},
   "outputs": [
    {
     "data": {
      "text/html": [
       "<table border=\"1\" class=\"dataframe\">\n",
       "  <thead>\n",
       "    <tr style=\"text-align: left;\">\n",
       "      <th>epoch</th>\n",
       "      <th>train_loss</th>\n",
       "      <th>valid_loss</th>\n",
       "      <th>accuracy</th>\n",
       "      <th>time</th>\n",
       "    </tr>\n",
       "  </thead>\n",
       "  <tbody>\n",
       "    <tr>\n",
       "      <td>0</td>\n",
       "      <td>0.836637</td>\n",
       "      <td>0.688406</td>\n",
       "      <td>0.550000</td>\n",
       "      <td>00:00</td>\n",
       "    </tr>\n",
       "    <tr>\n",
       "      <td>1</td>\n",
       "      <td>0.780200</td>\n",
       "      <td>0.682879</td>\n",
       "      <td>0.600000</td>\n",
       "      <td>00:00</td>\n",
       "    </tr>\n",
       "    <tr>\n",
       "      <td>2</td>\n",
       "      <td>0.703823</td>\n",
       "      <td>0.679355</td>\n",
       "      <td>0.600000</td>\n",
       "      <td>00:00</td>\n",
       "    </tr>\n",
       "    <tr>\n",
       "      <td>3</td>\n",
       "      <td>0.638623</td>\n",
       "      <td>0.669107</td>\n",
       "      <td>0.650000</td>\n",
       "      <td>00:00</td>\n",
       "    </tr>\n",
       "    <tr>\n",
       "      <td>4</td>\n",
       "      <td>0.583983</td>\n",
       "      <td>0.672785</td>\n",
       "      <td>0.600000</td>\n",
       "      <td>00:00</td>\n",
       "    </tr>\n",
       "    <tr>\n",
       "      <td>5</td>\n",
       "      <td>0.539938</td>\n",
       "      <td>0.694231</td>\n",
       "      <td>0.600000</td>\n",
       "      <td>00:00</td>\n",
       "    </tr>\n",
       "    <tr>\n",
       "      <td>6</td>\n",
       "      <td>0.497825</td>\n",
       "      <td>0.730227</td>\n",
       "      <td>0.566667</td>\n",
       "      <td>00:00</td>\n",
       "    </tr>\n",
       "    <tr>\n",
       "      <td>7</td>\n",
       "      <td>0.470302</td>\n",
       "      <td>0.766223</td>\n",
       "      <td>0.550000</td>\n",
       "      <td>00:00</td>\n",
       "    </tr>\n",
       "    <tr>\n",
       "      <td>8</td>\n",
       "      <td>0.444426</td>\n",
       "      <td>0.798887</td>\n",
       "      <td>0.533333</td>\n",
       "      <td>00:00</td>\n",
       "    </tr>\n",
       "    <tr>\n",
       "      <td>9</td>\n",
       "      <td>0.423818</td>\n",
       "      <td>0.833840</td>\n",
       "      <td>0.500000</td>\n",
       "      <td>00:00</td>\n",
       "    </tr>\n",
       "  </tbody>\n",
       "</table>"
      ],
      "text/plain": [
       "<IPython.core.display.HTML object>"
      ]
     },
     "metadata": {},
     "output_type": "display_data"
    },
    {
     "name": "stdout",
     "output_type": "stream",
     "text": [
      "Better model found at epoch 0 with accuracy value: 0.550000011920929.\n",
      "Better model found at epoch 1 with accuracy value: 0.6000000238418579.\n",
      "Better model found at epoch 3 with accuracy value: 0.6499999761581421.\n"
     ]
    },
    {
     "data": {
      "text/html": [
       "<table border=\"1\" class=\"dataframe\">\n",
       "  <thead>\n",
       "    <tr style=\"text-align: left;\">\n",
       "      <th>epoch</th>\n",
       "      <th>train_loss</th>\n",
       "      <th>valid_loss</th>\n",
       "      <th>accuracy</th>\n",
       "      <th>time</th>\n",
       "    </tr>\n",
       "  </thead>\n",
       "  <tbody>\n",
       "    <tr>\n",
       "      <td>0</td>\n",
       "      <td>0.762206</td>\n",
       "      <td>0.697271</td>\n",
       "      <td>0.416667</td>\n",
       "      <td>00:00</td>\n",
       "    </tr>\n",
       "    <tr>\n",
       "      <td>1</td>\n",
       "      <td>0.733112</td>\n",
       "      <td>0.678370</td>\n",
       "      <td>0.633333</td>\n",
       "      <td>00:00</td>\n",
       "    </tr>\n",
       "    <tr>\n",
       "      <td>2</td>\n",
       "      <td>0.685360</td>\n",
       "      <td>0.653049</td>\n",
       "      <td>0.716667</td>\n",
       "      <td>00:00</td>\n",
       "    </tr>\n",
       "    <tr>\n",
       "      <td>3</td>\n",
       "      <td>0.631665</td>\n",
       "      <td>0.631837</td>\n",
       "      <td>0.666667</td>\n",
       "      <td>00:00</td>\n",
       "    </tr>\n",
       "    <tr>\n",
       "      <td>4</td>\n",
       "      <td>0.585238</td>\n",
       "      <td>0.620233</td>\n",
       "      <td>0.683333</td>\n",
       "      <td>00:00</td>\n",
       "    </tr>\n",
       "    <tr>\n",
       "      <td>5</td>\n",
       "      <td>0.543744</td>\n",
       "      <td>0.595209</td>\n",
       "      <td>0.700000</td>\n",
       "      <td>00:00</td>\n",
       "    </tr>\n",
       "    <tr>\n",
       "      <td>6</td>\n",
       "      <td>0.510743</td>\n",
       "      <td>0.585011</td>\n",
       "      <td>0.700000</td>\n",
       "      <td>00:00</td>\n",
       "    </tr>\n",
       "    <tr>\n",
       "      <td>7</td>\n",
       "      <td>0.485080</td>\n",
       "      <td>0.580889</td>\n",
       "      <td>0.750000</td>\n",
       "      <td>00:00</td>\n",
       "    </tr>\n",
       "    <tr>\n",
       "      <td>8</td>\n",
       "      <td>0.460022</td>\n",
       "      <td>0.583897</td>\n",
       "      <td>0.766667</td>\n",
       "      <td>00:00</td>\n",
       "    </tr>\n",
       "    <tr>\n",
       "      <td>9</td>\n",
       "      <td>0.437888</td>\n",
       "      <td>0.583890</td>\n",
       "      <td>0.766667</td>\n",
       "      <td>00:00</td>\n",
       "    </tr>\n",
       "  </tbody>\n",
       "</table>"
      ],
      "text/plain": [
       "<IPython.core.display.HTML object>"
      ]
     },
     "metadata": {},
     "output_type": "display_data"
    },
    {
     "name": "stdout",
     "output_type": "stream",
     "text": [
      "Better model found at epoch 0 with accuracy value: 0.4166666567325592.\n",
      "Better model found at epoch 1 with accuracy value: 0.6333333253860474.\n",
      "Better model found at epoch 2 with accuracy value: 0.7166666388511658.\n",
      "Better model found at epoch 7 with accuracy value: 0.75.\n",
      "Better model found at epoch 8 with accuracy value: 0.7666666507720947.\n"
     ]
    },
    {
     "data": {
      "text/html": [
       "<table border=\"1\" class=\"dataframe\">\n",
       "  <thead>\n",
       "    <tr style=\"text-align: left;\">\n",
       "      <th>epoch</th>\n",
       "      <th>train_loss</th>\n",
       "      <th>valid_loss</th>\n",
       "      <th>accuracy</th>\n",
       "      <th>time</th>\n",
       "    </tr>\n",
       "  </thead>\n",
       "  <tbody>\n",
       "    <tr>\n",
       "      <td>0</td>\n",
       "      <td>0.761626</td>\n",
       "      <td>0.696275</td>\n",
       "      <td>0.400000</td>\n",
       "      <td>00:00</td>\n",
       "    </tr>\n",
       "    <tr>\n",
       "      <td>1</td>\n",
       "      <td>0.733266</td>\n",
       "      <td>0.689908</td>\n",
       "      <td>0.466667</td>\n",
       "      <td>00:00</td>\n",
       "    </tr>\n",
       "    <tr>\n",
       "      <td>2</td>\n",
       "      <td>0.687989</td>\n",
       "      <td>0.676797</td>\n",
       "      <td>0.600000</td>\n",
       "      <td>00:00</td>\n",
       "    </tr>\n",
       "    <tr>\n",
       "      <td>3</td>\n",
       "      <td>0.635839</td>\n",
       "      <td>0.647427</td>\n",
       "      <td>0.650000</td>\n",
       "      <td>00:00</td>\n",
       "    </tr>\n",
       "    <tr>\n",
       "      <td>4</td>\n",
       "      <td>0.597914</td>\n",
       "      <td>0.620706</td>\n",
       "      <td>0.650000</td>\n",
       "      <td>00:00</td>\n",
       "    </tr>\n",
       "    <tr>\n",
       "      <td>5</td>\n",
       "      <td>0.556993</td>\n",
       "      <td>0.612330</td>\n",
       "      <td>0.650000</td>\n",
       "      <td>00:00</td>\n",
       "    </tr>\n",
       "    <tr>\n",
       "      <td>6</td>\n",
       "      <td>0.520897</td>\n",
       "      <td>0.599200</td>\n",
       "      <td>0.666667</td>\n",
       "      <td>00:00</td>\n",
       "    </tr>\n",
       "    <tr>\n",
       "      <td>7</td>\n",
       "      <td>0.492349</td>\n",
       "      <td>0.595695</td>\n",
       "      <td>0.666667</td>\n",
       "      <td>00:00</td>\n",
       "    </tr>\n",
       "    <tr>\n",
       "      <td>8</td>\n",
       "      <td>0.465626</td>\n",
       "      <td>0.594747</td>\n",
       "      <td>0.666667</td>\n",
       "      <td>00:00</td>\n",
       "    </tr>\n",
       "    <tr>\n",
       "      <td>9</td>\n",
       "      <td>0.449983</td>\n",
       "      <td>0.594243</td>\n",
       "      <td>0.650000</td>\n",
       "      <td>00:00</td>\n",
       "    </tr>\n",
       "  </tbody>\n",
       "</table>"
      ],
      "text/plain": [
       "<IPython.core.display.HTML object>"
      ]
     },
     "metadata": {},
     "output_type": "display_data"
    },
    {
     "name": "stdout",
     "output_type": "stream",
     "text": [
      "Better model found at epoch 0 with accuracy value: 0.4000000059604645.\n",
      "Better model found at epoch 1 with accuracy value: 0.46666666865348816.\n",
      "Better model found at epoch 2 with accuracy value: 0.6000000238418579.\n",
      "Better model found at epoch 3 with accuracy value: 0.6499999761581421.\n",
      "Better model found at epoch 6 with accuracy value: 0.6666666865348816.\n"
     ]
    },
    {
     "data": {
      "text/html": [
       "<table border=\"1\" class=\"dataframe\">\n",
       "  <thead>\n",
       "    <tr style=\"text-align: left;\">\n",
       "      <th>epoch</th>\n",
       "      <th>train_loss</th>\n",
       "      <th>valid_loss</th>\n",
       "      <th>accuracy</th>\n",
       "      <th>time</th>\n",
       "    </tr>\n",
       "  </thead>\n",
       "  <tbody>\n",
       "    <tr>\n",
       "      <td>0</td>\n",
       "      <td>0.712583</td>\n",
       "      <td>0.662071</td>\n",
       "      <td>0.683333</td>\n",
       "      <td>00:00</td>\n",
       "    </tr>\n",
       "    <tr>\n",
       "      <td>1</td>\n",
       "      <td>0.691967</td>\n",
       "      <td>0.638084</td>\n",
       "      <td>0.683333</td>\n",
       "      <td>00:00</td>\n",
       "    </tr>\n",
       "    <tr>\n",
       "      <td>2</td>\n",
       "      <td>0.651807</td>\n",
       "      <td>0.610147</td>\n",
       "      <td>0.683333</td>\n",
       "      <td>00:00</td>\n",
       "    </tr>\n",
       "    <tr>\n",
       "      <td>3</td>\n",
       "      <td>0.615114</td>\n",
       "      <td>0.578436</td>\n",
       "      <td>0.700000</td>\n",
       "      <td>00:00</td>\n",
       "    </tr>\n",
       "    <tr>\n",
       "      <td>4</td>\n",
       "      <td>0.584635</td>\n",
       "      <td>0.560814</td>\n",
       "      <td>0.750000</td>\n",
       "      <td>00:00</td>\n",
       "    </tr>\n",
       "    <tr>\n",
       "      <td>5</td>\n",
       "      <td>0.548110</td>\n",
       "      <td>0.541522</td>\n",
       "      <td>0.750000</td>\n",
       "      <td>00:00</td>\n",
       "    </tr>\n",
       "    <tr>\n",
       "      <td>6</td>\n",
       "      <td>0.514144</td>\n",
       "      <td>0.525199</td>\n",
       "      <td>0.766667</td>\n",
       "      <td>00:00</td>\n",
       "    </tr>\n",
       "    <tr>\n",
       "      <td>7</td>\n",
       "      <td>0.486105</td>\n",
       "      <td>0.522102</td>\n",
       "      <td>0.750000</td>\n",
       "      <td>00:00</td>\n",
       "    </tr>\n",
       "    <tr>\n",
       "      <td>8</td>\n",
       "      <td>0.465389</td>\n",
       "      <td>0.525101</td>\n",
       "      <td>0.716667</td>\n",
       "      <td>00:00</td>\n",
       "    </tr>\n",
       "    <tr>\n",
       "      <td>9</td>\n",
       "      <td>0.446178</td>\n",
       "      <td>0.528400</td>\n",
       "      <td>0.700000</td>\n",
       "      <td>00:00</td>\n",
       "    </tr>\n",
       "  </tbody>\n",
       "</table>"
      ],
      "text/plain": [
       "<IPython.core.display.HTML object>"
      ]
     },
     "metadata": {},
     "output_type": "display_data"
    },
    {
     "name": "stdout",
     "output_type": "stream",
     "text": [
      "Better model found at epoch 0 with accuracy value: 0.6833333373069763.\n",
      "Better model found at epoch 3 with accuracy value: 0.699999988079071.\n",
      "Better model found at epoch 4 with accuracy value: 0.75.\n",
      "Better model found at epoch 6 with accuracy value: 0.7666666507720947.\n"
     ]
    }
   ],
   "source": [
    "train_df = df[df['fold']!= 4].reset_index(drop=True)\n",
    "test_df = df[df['fold']== 4].reset_index(drop=True)\n",
    "\n",
    "for i in range(4):\n",
    "    dls, tabdf = get_tabpandas_dls(i, train_df, procs, cat_names, cont_names, y_names, 32)\n",
    "    emb_szs = get_emb_sz(tabdf)\n",
    "    learn = tabular_learner(dls, [100,50], \n",
    "                            metrics=accuracy, \n",
    "                            cbs=[SaveModelCallback(monitor='accuracy', \n",
    "                                                   fname=f'tab_2pt_meds_{i}')])\n",
    "    \n",
    "    learn.fit_one_cycle(10, 0.002)"
   ]
  },
  {
   "cell_type": "code",
   "execution_count": null,
   "metadata": {},
   "outputs": [
    {
     "name": "stdout",
     "output_type": "stream",
     "text": [
      "carvedilol\n",
      "valsartan\n",
      "metoprolol\n",
      "propranolol\n"
     ]
    }
   ],
   "source": [
    "categorical_dims = {o:len(i) for o,i in dls.train.categorify.classes.items()}\n",
    "test_cats = dict(test_df[list(categorical_dims.keys())].nunique())\n",
    "test_cats = {k:v+1 for k, v in test_cats.items()}\n",
    "\n",
    "for k, v in categorical_dims.items():\n",
    "    if test_cats[k] > v:\n",
    "        print(f'{k}')\n",
    "\n",
    "\n",
    "test_df = test_df[test_df['metoprolol'] != 2]\n",
    "test_df = test_df[test_df['simvastatin'] != 2].reset_index(drop=True)"
   ]
  },
  {
   "cell_type": "code",
   "execution_count": null,
   "metadata": {},
   "outputs": [
    {
     "name": "stderr",
     "output_type": "stream",
     "text": [
      "/usr/local/lib/python3.7/dist-packages/fastai/learner.py:56: UserWarning: Saved filed doesn't contain an optimizer state.\n",
      "  elif with_opt: warn(\"Saved filed doesn't contain an optimizer state.\")\n"
     ]
    },
    {
     "data": {
      "text/html": [
       ""
      ],
      "text/plain": [
       "<IPython.core.display.HTML object>"
      ]
     },
     "metadata": {},
     "output_type": "display_data"
    },
    {
     "name": "stderr",
     "output_type": "stream",
     "text": [
      "/usr/local/lib/python3.7/dist-packages/fastai/learner.py:56: UserWarning: Saved filed doesn't contain an optimizer state.\n",
      "  elif with_opt: warn(\"Saved filed doesn't contain an optimizer state.\")\n"
     ]
    },
    {
     "data": {
      "text/html": [
       ""
      ],
      "text/plain": [
       "<IPython.core.display.HTML object>"
      ]
     },
     "metadata": {},
     "output_type": "display_data"
    },
    {
     "name": "stderr",
     "output_type": "stream",
     "text": [
      "/usr/local/lib/python3.7/dist-packages/fastai/learner.py:56: UserWarning: Saved filed doesn't contain an optimizer state.\n",
      "  elif with_opt: warn(\"Saved filed doesn't contain an optimizer state.\")\n"
     ]
    },
    {
     "data": {
      "text/html": [
       ""
      ],
      "text/plain": [
       "<IPython.core.display.HTML object>"
      ]
     },
     "metadata": {},
     "output_type": "display_data"
    },
    {
     "name": "stderr",
     "output_type": "stream",
     "text": [
      "/usr/local/lib/python3.7/dist-packages/fastai/learner.py:56: UserWarning: Saved filed doesn't contain an optimizer state.\n",
      "  elif with_opt: warn(\"Saved filed doesn't contain an optimizer state.\")\n"
     ]
    },
    {
     "data": {
      "text/html": [
       ""
      ],
      "text/plain": [
       "<IPython.core.display.HTML object>"
      ]
     },
     "metadata": {},
     "output_type": "display_data"
    }
   ],
   "source": [
    "test_dl = dls.test_dl(test_df)\n",
    "\n",
    "preds = []\n",
    "for i in range(4):\n",
    "    dls, tabdf = get_tabpandas_dls(i, train_df, procs, cat_names, cont_names, y_names, 32)\n",
    "    emb_szs = get_emb_sz(tabdf)\n",
    "    learn = tabular_learner(dls, [100,50], \n",
    "                        metrics=accuracy, \n",
    "                        cbs=[SaveModelCallback(monitor='accuracy')])\n",
    "    \n",
    "    learn.load(f'tab_2pt_meds_{i}')\n",
    "    pred, y_true = learn.get_preds(dl=test_dl)\n",
    "    preds.append(pred)\n",
    "\n",
    "y_true = test_dl.y.values\n",
    "y_pred = np.array(torch.argmax(torch.stack(preds).mean(0),1))"
   ]
  },
  {
   "cell_type": "code",
   "execution_count": null,
   "metadata": {},
   "outputs": [
    {
     "name": "stdout",
     "output_type": "stream",
     "text": [
      "5-fold accuracy score: 0.69\n",
      "5-fold recall score: 0.58\n",
      "5-fold precision score: 0.52\n"
     ]
    }
   ],
   "source": [
    "#hide\n",
    "print(f'5-fold accuracy score: {accuracy_score(y_true, y_pred):.2f}')\n",
    "print(f'5-fold recall score: {recall_score(y_true, y_pred):.2f}')\n",
    "print(f'5-fold precision score: {precision_score(y_true, y_pred):.2f}')"
   ]
  },
  {
   "cell_type": "code",
   "execution_count": null,
   "metadata": {},
   "outputs": [
    {
     "data": {
      "text/plain": [
       "<matplotlib.axes._subplots.AxesSubplot at 0x7f1113d97910>"
      ]
     },
     "execution_count": null,
     "metadata": {},
     "output_type": "execute_result"
    },
    {
     "data": {
      "image/png": "[encoded data removed]",
      "text/plain": [
       "<Figure size 432x288 with 2 Axes>"
      ]
     },
     "metadata": {
      "needs_background": "light"
     },
     "output_type": "display_data"
    }
   ],
   "source": [
    "#hide_input\n",
    "sns.heatmap(confusion_matrix(y_true, y_pred), annot=True, cmap='Blues')"
   ]
  },
  {
   "cell_type": "markdown",
   "metadata": {},
   "source": [
    "## first_n_points Simple TabularModel"
   ]
  },
  {
   "cell_type": "markdown",
   "metadata": {},
   "source": [
    "### first_3_points"
   ]
  },
  {
   "cell_type": "code",
   "execution_count": null,
   "metadata": {},
   "outputs": [],
   "source": [
    "#hide_input\n",
    "df = pd.read_csv('data/train_df_5f.csv')\n",
    "df, cont_names = prepare_df_firstnpoints(features, df, 3)\n",
    "procs = [Categorify, FillMissing, Normalize]\n",
    "y_names = 'Stage_Progress'\n",
    "y_block = CategoryBlock()\n",
    "cat_names = ['race', 'gender']"
   ]
  },
  {
   "cell_type": "code",
   "execution_count": null,
   "metadata": {},
   "outputs": [
    {
     "data": {
      "text/html": [
       "<table border=\"1\" class=\"dataframe\">\n",
       "  <thead>\n",
       "    <tr style=\"text-align: left;\">\n",
       "      <th>epoch</th>\n",
       "      <th>train_loss</th>\n",
       "      <th>valid_loss</th>\n",
       "      <th>accuracy</th>\n",
       "      <th>time</th>\n",
       "    </tr>\n",
       "  </thead>\n",
       "  <tbody>\n",
       "    <tr>\n",
       "      <td>0</td>\n",
       "      <td>0.799527</td>\n",
       "      <td>0.678449</td>\n",
       "      <td>0.600000</td>\n",
       "      <td>00:00</td>\n",
       "    </tr>\n",
       "    <tr>\n",
       "      <td>1</td>\n",
       "      <td>0.753005</td>\n",
       "      <td>0.670097</td>\n",
       "      <td>0.683333</td>\n",
       "      <td>00:00</td>\n",
       "    </tr>\n",
       "    <tr>\n",
       "      <td>2</td>\n",
       "      <td>0.694727</td>\n",
       "      <td>0.660523</td>\n",
       "      <td>0.616667</td>\n",
       "      <td>00:00</td>\n",
       "    </tr>\n",
       "    <tr>\n",
       "      <td>3</td>\n",
       "      <td>0.646097</td>\n",
       "      <td>0.659384</td>\n",
       "      <td>0.616667</td>\n",
       "      <td>00:00</td>\n",
       "    </tr>\n",
       "    <tr>\n",
       "      <td>4</td>\n",
       "      <td>0.598614</td>\n",
       "      <td>0.673812</td>\n",
       "      <td>0.616667</td>\n",
       "      <td>00:00</td>\n",
       "    </tr>\n",
       "    <tr>\n",
       "      <td>5</td>\n",
       "      <td>0.554539</td>\n",
       "      <td>0.672291</td>\n",
       "      <td>0.650000</td>\n",
       "      <td>00:00</td>\n",
       "    </tr>\n",
       "    <tr>\n",
       "      <td>6</td>\n",
       "      <td>0.523567</td>\n",
       "      <td>0.686068</td>\n",
       "      <td>0.666667</td>\n",
       "      <td>00:00</td>\n",
       "    </tr>\n",
       "    <tr>\n",
       "      <td>7</td>\n",
       "      <td>0.492348</td>\n",
       "      <td>0.698469</td>\n",
       "      <td>0.666667</td>\n",
       "      <td>00:00</td>\n",
       "    </tr>\n",
       "    <tr>\n",
       "      <td>8</td>\n",
       "      <td>0.465790</td>\n",
       "      <td>0.710015</td>\n",
       "      <td>0.650000</td>\n",
       "      <td>00:00</td>\n",
       "    </tr>\n",
       "    <tr>\n",
       "      <td>9</td>\n",
       "      <td>0.444890</td>\n",
       "      <td>0.719894</td>\n",
       "      <td>0.650000</td>\n",
       "      <td>00:00</td>\n",
       "    </tr>\n",
       "  </tbody>\n",
       "</table>"
      ],
      "text/plain": [
       "<IPython.core.display.HTML object>"
      ]
     },
     "metadata": {},
     "output_type": "display_data"
    },
    {
     "name": "stdout",
     "output_type": "stream",
     "text": [
      "Better model found at epoch 0 with accuracy value: 0.6000000238418579.\n",
      "Better model found at epoch 1 with accuracy value: 0.6833333373069763.\n"
     ]
    },
    {
     "data": {
      "text/html": [
       "<table border=\"1\" class=\"dataframe\">\n",
       "  <thead>\n",
       "    <tr style=\"text-align: left;\">\n",
       "      <th>epoch</th>\n",
       "      <th>train_loss</th>\n",
       "      <th>valid_loss</th>\n",
       "      <th>accuracy</th>\n",
       "      <th>time</th>\n",
       "    </tr>\n",
       "  </thead>\n",
       "  <tbody>\n",
       "    <tr>\n",
       "      <td>0</td>\n",
       "      <td>0.712988</td>\n",
       "      <td>0.684085</td>\n",
       "      <td>0.566667</td>\n",
       "      <td>00:00</td>\n",
       "    </tr>\n",
       "    <tr>\n",
       "      <td>1</td>\n",
       "      <td>0.692329</td>\n",
       "      <td>0.670732</td>\n",
       "      <td>0.600000</td>\n",
       "      <td>00:00</td>\n",
       "    </tr>\n",
       "    <tr>\n",
       "      <td>2</td>\n",
       "      <td>0.654097</td>\n",
       "      <td>0.658222</td>\n",
       "      <td>0.583333</td>\n",
       "      <td>00:00</td>\n",
       "    </tr>\n",
       "    <tr>\n",
       "      <td>3</td>\n",
       "      <td>0.612403</td>\n",
       "      <td>0.650504</td>\n",
       "      <td>0.616667</td>\n",
       "      <td>00:00</td>\n",
       "    </tr>\n",
       "    <tr>\n",
       "      <td>4</td>\n",
       "      <td>0.574236</td>\n",
       "      <td>0.648404</td>\n",
       "      <td>0.633333</td>\n",
       "      <td>00:00</td>\n",
       "    </tr>\n",
       "    <tr>\n",
       "      <td>5</td>\n",
       "      <td>0.543639</td>\n",
       "      <td>0.654051</td>\n",
       "      <td>0.583333</td>\n",
       "      <td>00:00</td>\n",
       "    </tr>\n",
       "    <tr>\n",
       "      <td>6</td>\n",
       "      <td>0.515169</td>\n",
       "      <td>0.679656</td>\n",
       "      <td>0.650000</td>\n",
       "      <td>00:00</td>\n",
       "    </tr>\n",
       "    <tr>\n",
       "      <td>7</td>\n",
       "      <td>0.487601</td>\n",
       "      <td>0.693905</td>\n",
       "      <td>0.633333</td>\n",
       "      <td>00:00</td>\n",
       "    </tr>\n",
       "    <tr>\n",
       "      <td>8</td>\n",
       "      <td>0.466032</td>\n",
       "      <td>0.702533</td>\n",
       "      <td>0.616667</td>\n",
       "      <td>00:00</td>\n",
       "    </tr>\n",
       "    <tr>\n",
       "      <td>9</td>\n",
       "      <td>0.449617</td>\n",
       "      <td>0.723805</td>\n",
       "      <td>0.583333</td>\n",
       "      <td>00:00</td>\n",
       "    </tr>\n",
       "  </tbody>\n",
       "</table>"
      ],
      "text/plain": [
       "<IPython.core.display.HTML object>"
      ]
     },
     "metadata": {},
     "output_type": "display_data"
    },
    {
     "name": "stdout",
     "output_type": "stream",
     "text": [
      "Better model found at epoch 0 with accuracy value: 0.5666666626930237.\n",
      "Better model found at epoch 1 with accuracy value: 0.6000000238418579.\n",
      "Better model found at epoch 3 with accuracy value: 0.6166666746139526.\n",
      "Better model found at epoch 4 with accuracy value: 0.6333333253860474.\n",
      "Better model found at epoch 6 with accuracy value: 0.6499999761581421.\n"
     ]
    },
    {
     "data": {
      "text/html": [
       "<table border=\"1\" class=\"dataframe\">\n",
       "  <thead>\n",
       "    <tr style=\"text-align: left;\">\n",
       "      <th>epoch</th>\n",
       "      <th>train_loss</th>\n",
       "      <th>valid_loss</th>\n",
       "      <th>accuracy</th>\n",
       "      <th>time</th>\n",
       "    </tr>\n",
       "  </thead>\n",
       "  <tbody>\n",
       "    <tr>\n",
       "      <td>0</td>\n",
       "      <td>0.715797</td>\n",
       "      <td>0.703486</td>\n",
       "      <td>0.379310</td>\n",
       "      <td>00:00</td>\n",
       "    </tr>\n",
       "    <tr>\n",
       "      <td>1</td>\n",
       "      <td>0.687102</td>\n",
       "      <td>0.696782</td>\n",
       "      <td>0.448276</td>\n",
       "      <td>00:00</td>\n",
       "    </tr>\n",
       "    <tr>\n",
       "      <td>2</td>\n",
       "      <td>0.646838</td>\n",
       "      <td>0.668237</td>\n",
       "      <td>0.568965</td>\n",
       "      <td>00:00</td>\n",
       "    </tr>\n",
       "    <tr>\n",
       "      <td>3</td>\n",
       "      <td>0.619293</td>\n",
       "      <td>0.638569</td>\n",
       "      <td>0.655172</td>\n",
       "      <td>00:00</td>\n",
       "    </tr>\n",
       "    <tr>\n",
       "      <td>4</td>\n",
       "      <td>0.584387</td>\n",
       "      <td>0.617148</td>\n",
       "      <td>0.741379</td>\n",
       "      <td>00:00</td>\n",
       "    </tr>\n",
       "    <tr>\n",
       "      <td>5</td>\n",
       "      <td>0.551499</td>\n",
       "      <td>0.607426</td>\n",
       "      <td>0.775862</td>\n",
       "      <td>00:00</td>\n",
       "    </tr>\n",
       "    <tr>\n",
       "      <td>6</td>\n",
       "      <td>0.522622</td>\n",
       "      <td>0.602295</td>\n",
       "      <td>0.775862</td>\n",
       "      <td>00:00</td>\n",
       "    </tr>\n",
       "    <tr>\n",
       "      <td>7</td>\n",
       "      <td>0.496884</td>\n",
       "      <td>0.600274</td>\n",
       "      <td>0.775862</td>\n",
       "      <td>00:00</td>\n",
       "    </tr>\n",
       "    <tr>\n",
       "      <td>8</td>\n",
       "      <td>0.477877</td>\n",
       "      <td>0.601200</td>\n",
       "      <td>0.758621</td>\n",
       "      <td>00:00</td>\n",
       "    </tr>\n",
       "    <tr>\n",
       "      <td>9</td>\n",
       "      <td>0.461103</td>\n",
       "      <td>0.599395</td>\n",
       "      <td>0.758621</td>\n",
       "      <td>00:00</td>\n",
       "    </tr>\n",
       "  </tbody>\n",
       "</table>"
      ],
      "text/plain": [
       "<IPython.core.display.HTML object>"
      ]
     },
     "metadata": {},
     "output_type": "display_data"
    },
    {
     "name": "stdout",
     "output_type": "stream",
     "text": [
      "Better model found at epoch 0 with accuracy value: 0.37931033968925476.\n",
      "Better model found at epoch 1 with accuracy value: 0.4482758641242981.\n",
      "Better model found at epoch 2 with accuracy value: 0.568965494632721.\n",
      "Better model found at epoch 3 with accuracy value: 0.6551724076271057.\n",
      "Better model found at epoch 4 with accuracy value: 0.7413793206214905.\n",
      "Better model found at epoch 5 with accuracy value: 0.7758620977401733.\n"
     ]
    },
    {
     "data": {
      "text/html": [
       "<table border=\"1\" class=\"dataframe\">\n",
       "  <thead>\n",
       "    <tr style=\"text-align: left;\">\n",
       "      <th>epoch</th>\n",
       "      <th>train_loss</th>\n",
       "      <th>valid_loss</th>\n",
       "      <th>accuracy</th>\n",
       "      <th>time</th>\n",
       "    </tr>\n",
       "  </thead>\n",
       "  <tbody>\n",
       "    <tr>\n",
       "      <td>0</td>\n",
       "      <td>0.762238</td>\n",
       "      <td>0.705182</td>\n",
       "      <td>0.355932</td>\n",
       "      <td>00:00</td>\n",
       "    </tr>\n",
       "    <tr>\n",
       "      <td>1</td>\n",
       "      <td>0.736939</td>\n",
       "      <td>0.690811</td>\n",
       "      <td>0.525424</td>\n",
       "      <td>00:00</td>\n",
       "    </tr>\n",
       "    <tr>\n",
       "      <td>2</td>\n",
       "      <td>0.696411</td>\n",
       "      <td>0.667374</td>\n",
       "      <td>0.661017</td>\n",
       "      <td>00:00</td>\n",
       "    </tr>\n",
       "    <tr>\n",
       "      <td>3</td>\n",
       "      <td>0.653121</td>\n",
       "      <td>0.648033</td>\n",
       "      <td>0.694915</td>\n",
       "      <td>00:00</td>\n",
       "    </tr>\n",
       "    <tr>\n",
       "      <td>4</td>\n",
       "      <td>0.610328</td>\n",
       "      <td>0.637537</td>\n",
       "      <td>0.762712</td>\n",
       "      <td>00:00</td>\n",
       "    </tr>\n",
       "    <tr>\n",
       "      <td>5</td>\n",
       "      <td>0.570266</td>\n",
       "      <td>0.629615</td>\n",
       "      <td>0.728814</td>\n",
       "      <td>00:00</td>\n",
       "    </tr>\n",
       "    <tr>\n",
       "      <td>6</td>\n",
       "      <td>0.539284</td>\n",
       "      <td>0.605640</td>\n",
       "      <td>0.762712</td>\n",
       "      <td>00:00</td>\n",
       "    </tr>\n",
       "    <tr>\n",
       "      <td>7</td>\n",
       "      <td>0.514233</td>\n",
       "      <td>0.592310</td>\n",
       "      <td>0.779661</td>\n",
       "      <td>00:00</td>\n",
       "    </tr>\n",
       "    <tr>\n",
       "      <td>8</td>\n",
       "      <td>0.495072</td>\n",
       "      <td>0.592834</td>\n",
       "      <td>0.728814</td>\n",
       "      <td>00:00</td>\n",
       "    </tr>\n",
       "    <tr>\n",
       "      <td>9</td>\n",
       "      <td>0.482800</td>\n",
       "      <td>0.589783</td>\n",
       "      <td>0.745763</td>\n",
       "      <td>00:00</td>\n",
       "    </tr>\n",
       "  </tbody>\n",
       "</table>"
      ],
      "text/plain": [
       "<IPython.core.display.HTML object>"
      ]
     },
     "metadata": {},
     "output_type": "display_data"
    },
    {
     "name": "stdout",
     "output_type": "stream",
     "text": [
      "Better model found at epoch 0 with accuracy value: 0.35593220591545105.\n",
      "Better model found at epoch 1 with accuracy value: 0.5254237055778503.\n",
      "Better model found at epoch 2 with accuracy value: 0.6610169410705566.\n",
      "Better model found at epoch 3 with accuracy value: 0.694915235042572.\n",
      "Better model found at epoch 4 with accuracy value: 0.7627118825912476.\n",
      "Better model found at epoch 7 with accuracy value: 0.7796609997749329.\n"
     ]
    }
   ],
   "source": [
    "#hide_output\n",
    "train_df = df[df['fold']!= 4].reset_index(drop=True)\n",
    "train_df = train_df[~train_df['id'].isin([281, 134, 7])].reset_index(drop=True)\n",
    "test_df = df[df['fold']== 4].reset_index(drop=True)\n",
    "\n",
    "for i in range(4):\n",
    "\n",
    "    dls, tabdf = get_tabpandas_dls(i, train_df, procs, cat_names, cont_names, y_names, 32)\n",
    "    emb_szs = get_emb_sz(tabdf)\n",
    "    learn = tabular_learner(dls, [100,50], \n",
    "                            metrics=accuracy, \n",
    "                            cbs=[SaveModelCallback(monitor='accuracy', \n",
    "                                                   fname=f'tab_f3pt_{i}')])\n",
    "    \n",
    "    learn.fit_one_cycle(10, 0.002)"
   ]
  },
  {
   "cell_type": "code",
   "execution_count": null,
   "metadata": {},
   "outputs": [
    {
     "name": "stderr",
     "output_type": "stream",
     "text": [
      "/usr/local/lib/python3.7/dist-packages/fastai/learner.py:56: UserWarning: Saved filed doesn't contain an optimizer state.\n",
      "  elif with_opt: warn(\"Saved filed doesn't contain an optimizer state.\")\n"
     ]
    },
    {
     "data": {
      "text/html": [
       ""
      ],
      "text/plain": [
       "<IPython.core.display.HTML object>"
      ]
     },
     "metadata": {},
     "output_type": "display_data"
    },
    {
     "name": "stderr",
     "output_type": "stream",
     "text": [
      "/usr/local/lib/python3.7/dist-packages/fastai/learner.py:56: UserWarning: Saved filed doesn't contain an optimizer state.\n",
      "  elif with_opt: warn(\"Saved filed doesn't contain an optimizer state.\")\n"
     ]
    },
    {
     "data": {
      "text/html": [
       ""
      ],
      "text/plain": [
       "<IPython.core.display.HTML object>"
      ]
     },
     "metadata": {},
     "output_type": "display_data"
    },
    {
     "name": "stderr",
     "output_type": "stream",
     "text": [
      "/usr/local/lib/python3.7/dist-packages/fastai/learner.py:56: UserWarning: Saved filed doesn't contain an optimizer state.\n",
      "  elif with_opt: warn(\"Saved filed doesn't contain an optimizer state.\")\n"
     ]
    },
    {
     "data": {
      "text/html": [
       ""
      ],
      "text/plain": [
       "<IPython.core.display.HTML object>"
      ]
     },
     "metadata": {},
     "output_type": "display_data"
    },
    {
     "name": "stderr",
     "output_type": "stream",
     "text": [
      "/usr/local/lib/python3.7/dist-packages/fastai/learner.py:56: UserWarning: Saved filed doesn't contain an optimizer state.\n",
      "  elif with_opt: warn(\"Saved filed doesn't contain an optimizer state.\")\n"
     ]
    },
    {
     "data": {
      "text/html": [
       ""
      ],
      "text/plain": [
       "<IPython.core.display.HTML object>"
      ]
     },
     "metadata": {},
     "output_type": "display_data"
    }
   ],
   "source": [
    "#hide_output\n",
    "test_df = test_df[~test_df['id'].isin([299,67,255])].reset_index(drop=True)\n",
    "test_dl = dls.test_dl(test_df)\n",
    "preds = []\n",
    "for i in range(4):\n",
    "    dls, tabdf = get_tabpandas_dls(i, train_df, procs, cat_names, cont_names, y_names, 32)\n",
    "    emb_szs = get_emb_sz(tabdf)\n",
    "    learn = tabular_learner(dls, [100,50], \n",
    "                        metrics=accuracy, \n",
    "                        cbs=[SaveModelCallback(monitor='accuracy')])\n",
    "    \n",
    "    learn.load(f'tab_f3pt_{i}')\n",
    "    pred, y_pred = learn.get_preds(dl=test_dl)\n",
    "    preds.append(pred)\n",
    "  \n",
    "y_true = test_dl.y.values\n",
    "y_pred = np.array(torch.argmax(torch.stack(preds).mean(0),1))"
   ]
  },
  {
   "cell_type": "code",
   "execution_count": null,
   "metadata": {},
   "outputs": [
    {
     "name": "stdout",
     "output_type": "stream",
     "text": [
      "5-fold accuracy score: 0.67\n",
      "5-fold recall score: 0.60\n",
      "5-fold precision score: 0.52\n"
     ]
    }
   ],
   "source": [
    "#hide\n",
    "print(f'5-fold accuracy score: {accuracy_score(y_true, y_pred):.2f}')\n",
    "print(f'5-fold recall score: {recall_score(y_true, y_pred):.2f}')\n",
    "print(f'5-fold precision score: {precision_score(y_true, y_pred):.2f}')"
   ]
  },
  {
   "cell_type": "code",
   "execution_count": null,
   "metadata": {},
   "outputs": [
    {
     "data": {
      "text/plain": [
       "<matplotlib.axes._subplots.AxesSubplot at 0x7f1113d10490>"
      ]
     },
     "execution_count": null,
     "metadata": {},
     "output_type": "execute_result"
    },
    {
     "data": {
      "image/png": "[encoded data removed]",
      "text/plain": [
       "<Figure size 432x288 with 2 Axes>"
      ]
     },
     "metadata": {
      "needs_background": "light"
     },
     "output_type": "display_data"
    }
   ],
   "source": [
    "#hide_input\n",
    "sns.heatmap(confusion_matrix(y_true, y_pred), annot=True, cmap='Blues')"
   ]
  },
  {
   "cell_type": "markdown",
   "metadata": {},
   "source": [
    "### first_6_points"
   ]
  },
  {
   "cell_type": "code",
   "execution_count": null,
   "metadata": {},
   "outputs": [],
   "source": [
    "#hide_input\n",
    "df = pd.read_csv('data/train_df_5f.csv')\n",
    "df, cont_names = prepare_df_firstnpoints(features, df, 6)\n",
    "procs = [Categorify, FillMissing, Normalize]\n",
    "y_names = 'Stage_Progress'\n",
    "y_block = CategoryBlock()\n",
    "cat_names = ['race', 'gender']"
   ]
  },
  {
   "cell_type": "code",
   "execution_count": null,
   "metadata": {},
   "outputs": [
    {
     "data": {
      "text/html": [
       "<table border=\"1\" class=\"dataframe\">\n",
       "  <thead>\n",
       "    <tr style=\"text-align: left;\">\n",
       "      <th>epoch</th>\n",
       "      <th>train_loss</th>\n",
       "      <th>valid_loss</th>\n",
       "      <th>accuracy</th>\n",
       "      <th>time</th>\n",
       "    </tr>\n",
       "  </thead>\n",
       "  <tbody>\n",
       "    <tr>\n",
       "      <td>0</td>\n",
       "      <td>0.800181</td>\n",
       "      <td>0.731743</td>\n",
       "      <td>0.350000</td>\n",
       "      <td>00:00</td>\n",
       "    </tr>\n",
       "    <tr>\n",
       "      <td>1</td>\n",
       "      <td>0.762941</td>\n",
       "      <td>0.731005</td>\n",
       "      <td>0.316667</td>\n",
       "      <td>00:00</td>\n",
       "    </tr>\n",
       "    <tr>\n",
       "      <td>2</td>\n",
       "      <td>0.711578</td>\n",
       "      <td>0.715033</td>\n",
       "      <td>0.416667</td>\n",
       "      <td>00:00</td>\n",
       "    </tr>\n",
       "    <tr>\n",
       "      <td>3</td>\n",
       "      <td>0.656832</td>\n",
       "      <td>0.706105</td>\n",
       "      <td>0.516667</td>\n",
       "      <td>00:00</td>\n",
       "    </tr>\n",
       "    <tr>\n",
       "      <td>4</td>\n",
       "      <td>0.609056</td>\n",
       "      <td>0.708092</td>\n",
       "      <td>0.550000</td>\n",
       "      <td>00:00</td>\n",
       "    </tr>\n",
       "    <tr>\n",
       "      <td>5</td>\n",
       "      <td>0.560499</td>\n",
       "      <td>0.719421</td>\n",
       "      <td>0.533333</td>\n",
       "      <td>00:00</td>\n",
       "    </tr>\n",
       "    <tr>\n",
       "      <td>6</td>\n",
       "      <td>0.517478</td>\n",
       "      <td>0.719296</td>\n",
       "      <td>0.533333</td>\n",
       "      <td>00:00</td>\n",
       "    </tr>\n",
       "    <tr>\n",
       "      <td>7</td>\n",
       "      <td>0.481709</td>\n",
       "      <td>0.728763</td>\n",
       "      <td>0.533333</td>\n",
       "      <td>00:00</td>\n",
       "    </tr>\n",
       "    <tr>\n",
       "      <td>8</td>\n",
       "      <td>0.453953</td>\n",
       "      <td>0.743219</td>\n",
       "      <td>0.566667</td>\n",
       "      <td>00:00</td>\n",
       "    </tr>\n",
       "    <tr>\n",
       "      <td>9</td>\n",
       "      <td>0.432735</td>\n",
       "      <td>0.748583</td>\n",
       "      <td>0.583333</td>\n",
       "      <td>00:00</td>\n",
       "    </tr>\n",
       "  </tbody>\n",
       "</table>"
      ],
      "text/plain": [
       "<IPython.core.display.HTML object>"
      ]
     },
     "metadata": {},
     "output_type": "display_data"
    },
    {
     "name": "stdout",
     "output_type": "stream",
     "text": [
      "Better model found at epoch 0 with accuracy value: 0.3499999940395355.\n",
      "Better model found at epoch 2 with accuracy value: 0.4166666567325592.\n",
      "Better model found at epoch 3 with accuracy value: 0.5166666507720947.\n",
      "Better model found at epoch 4 with accuracy value: 0.550000011920929.\n",
      "Better model found at epoch 8 with accuracy value: 0.5666666626930237.\n",
      "Better model found at epoch 9 with accuracy value: 0.5833333134651184.\n"
     ]
    },
    {
     "data": {
      "text/html": [
       "<table border=\"1\" class=\"dataframe\">\n",
       "  <thead>\n",
       "    <tr style=\"text-align: left;\">\n",
       "      <th>epoch</th>\n",
       "      <th>train_loss</th>\n",
       "      <th>valid_loss</th>\n",
       "      <th>accuracy</th>\n",
       "      <th>time</th>\n",
       "    </tr>\n",
       "  </thead>\n",
       "  <tbody>\n",
       "    <tr>\n",
       "      <td>0</td>\n",
       "      <td>0.835077</td>\n",
       "      <td>0.679900</td>\n",
       "      <td>0.633333</td>\n",
       "      <td>00:00</td>\n",
       "    </tr>\n",
       "    <tr>\n",
       "      <td>1</td>\n",
       "      <td>0.799832</td>\n",
       "      <td>0.672533</td>\n",
       "      <td>0.650000</td>\n",
       "      <td>00:00</td>\n",
       "    </tr>\n",
       "    <tr>\n",
       "      <td>2</td>\n",
       "      <td>0.707241</td>\n",
       "      <td>0.647872</td>\n",
       "      <td>0.600000</td>\n",
       "      <td>00:00</td>\n",
       "    </tr>\n",
       "    <tr>\n",
       "      <td>3</td>\n",
       "      <td>0.644682</td>\n",
       "      <td>0.621047</td>\n",
       "      <td>0.666667</td>\n",
       "      <td>00:00</td>\n",
       "    </tr>\n",
       "    <tr>\n",
       "      <td>4</td>\n",
       "      <td>0.584885</td>\n",
       "      <td>0.604277</td>\n",
       "      <td>0.616667</td>\n",
       "      <td>00:00</td>\n",
       "    </tr>\n",
       "    <tr>\n",
       "      <td>5</td>\n",
       "      <td>0.531761</td>\n",
       "      <td>0.596196</td>\n",
       "      <td>0.633333</td>\n",
       "      <td>00:00</td>\n",
       "    </tr>\n",
       "    <tr>\n",
       "      <td>6</td>\n",
       "      <td>0.482264</td>\n",
       "      <td>0.593356</td>\n",
       "      <td>0.633333</td>\n",
       "      <td>00:00</td>\n",
       "    </tr>\n",
       "    <tr>\n",
       "      <td>7</td>\n",
       "      <td>0.446504</td>\n",
       "      <td>0.596587</td>\n",
       "      <td>0.633333</td>\n",
       "      <td>00:00</td>\n",
       "    </tr>\n",
       "    <tr>\n",
       "      <td>8</td>\n",
       "      <td>0.414941</td>\n",
       "      <td>0.600079</td>\n",
       "      <td>0.650000</td>\n",
       "      <td>00:00</td>\n",
       "    </tr>\n",
       "    <tr>\n",
       "      <td>9</td>\n",
       "      <td>0.392908</td>\n",
       "      <td>0.603455</td>\n",
       "      <td>0.650000</td>\n",
       "      <td>00:00</td>\n",
       "    </tr>\n",
       "  </tbody>\n",
       "</table>"
      ],
      "text/plain": [
       "<IPython.core.display.HTML object>"
      ]
     },
     "metadata": {},
     "output_type": "display_data"
    },
    {
     "name": "stdout",
     "output_type": "stream",
     "text": [
      "Better model found at epoch 0 with accuracy value: 0.6333333253860474.\n",
      "Better model found at epoch 1 with accuracy value: 0.6499999761581421.\n",
      "Better model found at epoch 3 with accuracy value: 0.6666666865348816.\n"
     ]
    },
    {
     "data": {
      "text/html": [
       "<table border=\"1\" class=\"dataframe\">\n",
       "  <thead>\n",
       "    <tr style=\"text-align: left;\">\n",
       "      <th>epoch</th>\n",
       "      <th>train_loss</th>\n",
       "      <th>valid_loss</th>\n",
       "      <th>accuracy</th>\n",
       "      <th>time</th>\n",
       "    </tr>\n",
       "  </thead>\n",
       "  <tbody>\n",
       "    <tr>\n",
       "      <td>0</td>\n",
       "      <td>0.860087</td>\n",
       "      <td>0.743917</td>\n",
       "      <td>0.362069</td>\n",
       "      <td>00:00</td>\n",
       "    </tr>\n",
       "    <tr>\n",
       "      <td>1</td>\n",
       "      <td>0.809780</td>\n",
       "      <td>0.731798</td>\n",
       "      <td>0.379310</td>\n",
       "      <td>00:00</td>\n",
       "    </tr>\n",
       "    <tr>\n",
       "      <td>2</td>\n",
       "      <td>0.736865</td>\n",
       "      <td>0.715646</td>\n",
       "      <td>0.431034</td>\n",
       "      <td>00:00</td>\n",
       "    </tr>\n",
       "    <tr>\n",
       "      <td>3</td>\n",
       "      <td>0.684323</td>\n",
       "      <td>0.708742</td>\n",
       "      <td>0.500000</td>\n",
       "      <td>00:00</td>\n",
       "    </tr>\n",
       "    <tr>\n",
       "      <td>4</td>\n",
       "      <td>0.633930</td>\n",
       "      <td>0.711799</td>\n",
       "      <td>0.465517</td>\n",
       "      <td>00:00</td>\n",
       "    </tr>\n",
       "    <tr>\n",
       "      <td>5</td>\n",
       "      <td>0.587750</td>\n",
       "      <td>0.727423</td>\n",
       "      <td>0.551724</td>\n",
       "      <td>00:00</td>\n",
       "    </tr>\n",
       "    <tr>\n",
       "      <td>6</td>\n",
       "      <td>0.550107</td>\n",
       "      <td>0.753373</td>\n",
       "      <td>0.551724</td>\n",
       "      <td>00:00</td>\n",
       "    </tr>\n",
       "    <tr>\n",
       "      <td>7</td>\n",
       "      <td>0.513212</td>\n",
       "      <td>0.768812</td>\n",
       "      <td>0.603448</td>\n",
       "      <td>00:00</td>\n",
       "    </tr>\n",
       "    <tr>\n",
       "      <td>8</td>\n",
       "      <td>0.482986</td>\n",
       "      <td>0.784396</td>\n",
       "      <td>0.586207</td>\n",
       "      <td>00:00</td>\n",
       "    </tr>\n",
       "    <tr>\n",
       "      <td>9</td>\n",
       "      <td>0.459318</td>\n",
       "      <td>0.795660</td>\n",
       "      <td>0.603448</td>\n",
       "      <td>00:00</td>\n",
       "    </tr>\n",
       "  </tbody>\n",
       "</table>"
      ],
      "text/plain": [
       "<IPython.core.display.HTML object>"
      ]
     },
     "metadata": {},
     "output_type": "display_data"
    },
    {
     "name": "stdout",
     "output_type": "stream",
     "text": [
      "Better model found at epoch 0 with accuracy value: 0.36206895112991333.\n",
      "Better model found at epoch 1 with accuracy value: 0.37931033968925476.\n",
      "Better model found at epoch 2 with accuracy value: 0.43103447556495667.\n",
      "Better model found at epoch 3 with accuracy value: 0.5.\n",
      "Better model found at epoch 5 with accuracy value: 0.5517241358757019.\n",
      "Better model found at epoch 7 with accuracy value: 0.6034482717514038.\n"
     ]
    },
    {
     "data": {
      "text/html": [
       "<table border=\"1\" class=\"dataframe\">\n",
       "  <thead>\n",
       "    <tr style=\"text-align: left;\">\n",
       "      <th>epoch</th>\n",
       "      <th>train_loss</th>\n",
       "      <th>valid_loss</th>\n",
       "      <th>accuracy</th>\n",
       "      <th>time</th>\n",
       "    </tr>\n",
       "  </thead>\n",
       "  <tbody>\n",
       "    <tr>\n",
       "      <td>0</td>\n",
       "      <td>0.746690</td>\n",
       "      <td>0.683848</td>\n",
       "      <td>0.593220</td>\n",
       "      <td>00:00</td>\n",
       "    </tr>\n",
       "    <tr>\n",
       "      <td>1</td>\n",
       "      <td>0.707852</td>\n",
       "      <td>0.669770</td>\n",
       "      <td>0.661017</td>\n",
       "      <td>00:00</td>\n",
       "    </tr>\n",
       "    <tr>\n",
       "      <td>2</td>\n",
       "      <td>0.654105</td>\n",
       "      <td>0.650138</td>\n",
       "      <td>0.694915</td>\n",
       "      <td>00:00</td>\n",
       "    </tr>\n",
       "    <tr>\n",
       "      <td>3</td>\n",
       "      <td>0.611790</td>\n",
       "      <td>0.621318</td>\n",
       "      <td>0.694915</td>\n",
       "      <td>00:00</td>\n",
       "    </tr>\n",
       "    <tr>\n",
       "      <td>4</td>\n",
       "      <td>0.557589</td>\n",
       "      <td>0.605700</td>\n",
       "      <td>0.677966</td>\n",
       "      <td>00:00</td>\n",
       "    </tr>\n",
       "    <tr>\n",
       "      <td>5</td>\n",
       "      <td>0.521189</td>\n",
       "      <td>0.593695</td>\n",
       "      <td>0.711864</td>\n",
       "      <td>00:00</td>\n",
       "    </tr>\n",
       "    <tr>\n",
       "      <td>6</td>\n",
       "      <td>0.489786</td>\n",
       "      <td>0.600109</td>\n",
       "      <td>0.694915</td>\n",
       "      <td>00:00</td>\n",
       "    </tr>\n",
       "    <tr>\n",
       "      <td>7</td>\n",
       "      <td>0.461010</td>\n",
       "      <td>0.611685</td>\n",
       "      <td>0.677966</td>\n",
       "      <td>00:00</td>\n",
       "    </tr>\n",
       "    <tr>\n",
       "      <td>8</td>\n",
       "      <td>0.437203</td>\n",
       "      <td>0.626042</td>\n",
       "      <td>0.677966</td>\n",
       "      <td>00:00</td>\n",
       "    </tr>\n",
       "    <tr>\n",
       "      <td>9</td>\n",
       "      <td>0.413879</td>\n",
       "      <td>0.629963</td>\n",
       "      <td>0.677966</td>\n",
       "      <td>00:00</td>\n",
       "    </tr>\n",
       "  </tbody>\n",
       "</table>"
      ],
      "text/plain": [
       "<IPython.core.display.HTML object>"
      ]
     },
     "metadata": {},
     "output_type": "display_data"
    },
    {
     "name": "stdout",
     "output_type": "stream",
     "text": [
      "Better model found at epoch 0 with accuracy value: 0.5932203531265259.\n",
      "Better model found at epoch 1 with accuracy value: 0.6610169410705566.\n",
      "Better model found at epoch 2 with accuracy value: 0.694915235042572.\n",
      "Better model found at epoch 5 with accuracy value: 0.7118644118309021.\n"
     ]
    }
   ],
   "source": [
    "#hide_output\n",
    "train_df = df[df['fold']!= 4].reset_index(drop=True)\n",
    "train_df = train_df[~train_df['id'].isin([281, 134, 7])].reset_index(drop=True)\n",
    "test_df = df[df['fold']== 4].reset_index(drop=True)\n",
    "\n",
    "for i in range(4):\n",
    "\n",
    "    dls, tabdf = get_tabpandas_dls(i, train_df, procs, cat_names, cont_names, y_names, 32)\n",
    "    emb_szs = get_emb_sz(tabdf)\n",
    "    learn = tabular_learner(dls, [100,50], \n",
    "                            metrics=accuracy, \n",
    "                            cbs=[SaveModelCallback(monitor='accuracy', \n",
    "                                                   fname=f'tab_f6pt_{i}')])\n",
    "    \n",
    "    learn.fit_one_cycle(10, 0.002)"
   ]
  },
  {
   "cell_type": "code",
   "execution_count": null,
   "metadata": {},
   "outputs": [
    {
     "name": "stderr",
     "output_type": "stream",
     "text": [
      "/usr/local/lib/python3.7/dist-packages/fastai/learner.py:56: UserWarning: Saved filed doesn't contain an optimizer state.\n",
      "  elif with_opt: warn(\"Saved filed doesn't contain an optimizer state.\")\n"
     ]
    },
    {
     "data": {
      "text/html": [
       ""
      ],
      "text/plain": [
       "<IPython.core.display.HTML object>"
      ]
     },
     "metadata": {},
     "output_type": "display_data"
    },
    {
     "name": "stderr",
     "output_type": "stream",
     "text": [
      "/usr/local/lib/python3.7/dist-packages/fastai/learner.py:56: UserWarning: Saved filed doesn't contain an optimizer state.\n",
      "  elif with_opt: warn(\"Saved filed doesn't contain an optimizer state.\")\n"
     ]
    },
    {
     "data": {
      "text/html": [
       ""
      ],
      "text/plain": [
       "<IPython.core.display.HTML object>"
      ]
     },
     "metadata": {},
     "output_type": "display_data"
    },
    {
     "name": "stderr",
     "output_type": "stream",
     "text": [
      "/usr/local/lib/python3.7/dist-packages/fastai/learner.py:56: UserWarning: Saved filed doesn't contain an optimizer state.\n",
      "  elif with_opt: warn(\"Saved filed doesn't contain an optimizer state.\")\n"
     ]
    },
    {
     "data": {
      "text/html": [
       ""
      ],
      "text/plain": [
       "<IPython.core.display.HTML object>"
      ]
     },
     "metadata": {},
     "output_type": "display_data"
    },
    {
     "name": "stderr",
     "output_type": "stream",
     "text": [
      "/usr/local/lib/python3.7/dist-packages/fastai/learner.py:56: UserWarning: Saved filed doesn't contain an optimizer state.\n",
      "  elif with_opt: warn(\"Saved filed doesn't contain an optimizer state.\")\n"
     ]
    },
    {
     "data": {
      "text/html": [
       ""
      ],
      "text/plain": [
       "<IPython.core.display.HTML object>"
      ]
     },
     "metadata": {},
     "output_type": "display_data"
    }
   ],
   "source": [
    "#hide_output\n",
    "test_df = test_df[~test_df['id'].isin([299,67,255])].reset_index(drop=True)\n",
    "test_dl = dls.test_dl(test_df)\n",
    "preds = []\n",
    "for i in range(4):\n",
    "    dls, tabdf = get_tabpandas_dls(i, train_df, procs, cat_names, cont_names, y_names, 32)\n",
    "    emb_szs = get_emb_sz(tabdf)\n",
    "    learn = tabular_learner(dls, [100,50], \n",
    "                        metrics=accuracy, \n",
    "                        cbs=[SaveModelCallback(monitor='accuracy')])\n",
    "    \n",
    "    learn.load(f'tab_f6pt_{i}')\n",
    "    pred, y_pred = learn.get_preds(dl=test_dl)\n",
    "    preds.append(pred)\n",
    "  \n",
    "y_true = test_dl.y.values\n",
    "y_pred = np.array(torch.argmax(torch.stack(preds).mean(0),1))"
   ]
  },
  {
   "cell_type": "code",
   "execution_count": null,
   "metadata": {},
   "outputs": [
    {
     "name": "stdout",
     "output_type": "stream",
     "text": [
      "5-fold accuracy score: 0.72\n",
      "5-fold recall score: 0.60\n",
      "5-fold precision score: 0.60\n"
     ]
    }
   ],
   "source": [
    "#hide\n",
    "print(f'5-fold accuracy score: {accuracy_score(y_true, y_pred):.2f}')\n",
    "print(f'5-fold recall score: {recall_score(y_true, y_pred):.2f}')\n",
    "print(f'5-fold precision score: {precision_score(y_true, y_pred):.2f}')"
   ]
  },
  {
   "cell_type": "code",
   "execution_count": null,
   "metadata": {},
   "outputs": [
    {
     "data": {
      "text/plain": [
       "<matplotlib.axes._subplots.AxesSubplot at 0x7f111395b3d0>"
      ]
     },
     "execution_count": null,
     "metadata": {},
     "output_type": "execute_result"
    },
    {
     "data": {
      "image/png": "[encoded data removed]",
      "text/plain": [
       "<Figure size 432x288 with 2 Axes>"
      ]
     },
     "metadata": {
      "needs_background": "light"
     },
     "output_type": "display_data"
    }
   ],
   "source": [
    "#hide_input\n",
    "sns.heatmap(confusion_matrix(y_true, y_pred), annot=True, cmap='Blues')"
   ]
  },
  {
   "cell_type": "markdown",
   "metadata": {},
   "source": [
    "### first_3_points + meds"
   ]
  },
  {
   "cell_type": "code",
   "execution_count": null,
   "metadata": {},
   "outputs": [],
   "source": [
    "#hide_input\n",
    "df = pd.read_csv('data/train_df_5f.csv')\n",
    "df, cont_names = prepare_df_firstnpoints(features, df, 3)\n",
    "df = df.merge(meddf, on='id')\n",
    "procs = [Categorify, FillMissing, Normalize]\n",
    "cat_names = ['race', 'gender']+med_cat_cols\n",
    "y_names = 'Stage_Progress'"
   ]
  },
  {
   "cell_type": "code",
   "execution_count": null,
   "metadata": {},
   "outputs": [
    {
     "data": {
      "text/html": [
       "<table border=\"1\" class=\"dataframe\">\n",
       "  <thead>\n",
       "    <tr style=\"text-align: left;\">\n",
       "      <th>epoch</th>\n",
       "      <th>train_loss</th>\n",
       "      <th>valid_loss</th>\n",
       "      <th>accuracy</th>\n",
       "      <th>time</th>\n",
       "    </tr>\n",
       "  </thead>\n",
       "  <tbody>\n",
       "    <tr>\n",
       "      <td>0</td>\n",
       "      <td>0.802659</td>\n",
       "      <td>0.705207</td>\n",
       "      <td>0.350000</td>\n",
       "      <td>00:00</td>\n",
       "    </tr>\n",
       "    <tr>\n",
       "      <td>1</td>\n",
       "      <td>0.732809</td>\n",
       "      <td>0.678640</td>\n",
       "      <td>0.633333</td>\n",
       "      <td>00:00</td>\n",
       "    </tr>\n",
       "    <tr>\n",
       "      <td>2</td>\n",
       "      <td>0.666690</td>\n",
       "      <td>0.653209</td>\n",
       "      <td>0.633333</td>\n",
       "      <td>00:00</td>\n",
       "    </tr>\n",
       "    <tr>\n",
       "      <td>3</td>\n",
       "      <td>0.621132</td>\n",
       "      <td>0.631511</td>\n",
       "      <td>0.650000</td>\n",
       "      <td>00:00</td>\n",
       "    </tr>\n",
       "    <tr>\n",
       "      <td>4</td>\n",
       "      <td>0.576368</td>\n",
       "      <td>0.629162</td>\n",
       "      <td>0.633333</td>\n",
       "      <td>00:00</td>\n",
       "    </tr>\n",
       "    <tr>\n",
       "      <td>5</td>\n",
       "      <td>0.530402</td>\n",
       "      <td>0.654023</td>\n",
       "      <td>0.683333</td>\n",
       "      <td>00:00</td>\n",
       "    </tr>\n",
       "    <tr>\n",
       "      <td>6</td>\n",
       "      <td>0.489014</td>\n",
       "      <td>0.689165</td>\n",
       "      <td>0.666667</td>\n",
       "      <td>00:00</td>\n",
       "    </tr>\n",
       "    <tr>\n",
       "      <td>7</td>\n",
       "      <td>0.456687</td>\n",
       "      <td>0.729620</td>\n",
       "      <td>0.650000</td>\n",
       "      <td>00:00</td>\n",
       "    </tr>\n",
       "    <tr>\n",
       "      <td>8</td>\n",
       "      <td>0.431954</td>\n",
       "      <td>0.768298</td>\n",
       "      <td>0.650000</td>\n",
       "      <td>00:00</td>\n",
       "    </tr>\n",
       "    <tr>\n",
       "      <td>9</td>\n",
       "      <td>0.411478</td>\n",
       "      <td>0.794553</td>\n",
       "      <td>0.633333</td>\n",
       "      <td>00:00</td>\n",
       "    </tr>\n",
       "  </tbody>\n",
       "</table>"
      ],
      "text/plain": [
       "<IPython.core.display.HTML object>"
      ]
     },
     "metadata": {},
     "output_type": "display_data"
    },
    {
     "name": "stdout",
     "output_type": "stream",
     "text": [
      "Better model found at epoch 0 with accuracy value: 0.3499999940395355.\n",
      "Better model found at epoch 1 with accuracy value: 0.6333333253860474.\n",
      "Better model found at epoch 3 with accuracy value: 0.6499999761581421.\n",
      "Better model found at epoch 5 with accuracy value: 0.6833333373069763.\n"
     ]
    },
    {
     "data": {
      "text/html": [
       "<table border=\"1\" class=\"dataframe\">\n",
       "  <thead>\n",
       "    <tr style=\"text-align: left;\">\n",
       "      <th>epoch</th>\n",
       "      <th>train_loss</th>\n",
       "      <th>valid_loss</th>\n",
       "      <th>accuracy</th>\n",
       "      <th>time</th>\n",
       "    </tr>\n",
       "  </thead>\n",
       "  <tbody>\n",
       "    <tr>\n",
       "      <td>0</td>\n",
       "      <td>0.774525</td>\n",
       "      <td>0.687897</td>\n",
       "      <td>0.616667</td>\n",
       "      <td>00:00</td>\n",
       "    </tr>\n",
       "    <tr>\n",
       "      <td>1</td>\n",
       "      <td>0.726357</td>\n",
       "      <td>0.681635</td>\n",
       "      <td>0.616667</td>\n",
       "      <td>00:00</td>\n",
       "    </tr>\n",
       "    <tr>\n",
       "      <td>2</td>\n",
       "      <td>0.671012</td>\n",
       "      <td>0.679649</td>\n",
       "      <td>0.600000</td>\n",
       "      <td>00:00</td>\n",
       "    </tr>\n",
       "    <tr>\n",
       "      <td>3</td>\n",
       "      <td>0.622365</td>\n",
       "      <td>0.670478</td>\n",
       "      <td>0.616667</td>\n",
       "      <td>00:00</td>\n",
       "    </tr>\n",
       "    <tr>\n",
       "      <td>4</td>\n",
       "      <td>0.575996</td>\n",
       "      <td>0.675335</td>\n",
       "      <td>0.650000</td>\n",
       "      <td>00:00</td>\n",
       "    </tr>\n",
       "    <tr>\n",
       "      <td>5</td>\n",
       "      <td>0.537529</td>\n",
       "      <td>0.677036</td>\n",
       "      <td>0.616667</td>\n",
       "      <td>00:00</td>\n",
       "    </tr>\n",
       "    <tr>\n",
       "      <td>6</td>\n",
       "      <td>0.499127</td>\n",
       "      <td>0.675717</td>\n",
       "      <td>0.600000</td>\n",
       "      <td>00:00</td>\n",
       "    </tr>\n",
       "    <tr>\n",
       "      <td>7</td>\n",
       "      <td>0.472567</td>\n",
       "      <td>0.691442</td>\n",
       "      <td>0.566667</td>\n",
       "      <td>00:00</td>\n",
       "    </tr>\n",
       "    <tr>\n",
       "      <td>8</td>\n",
       "      <td>0.446714</td>\n",
       "      <td>0.711872</td>\n",
       "      <td>0.550000</td>\n",
       "      <td>00:00</td>\n",
       "    </tr>\n",
       "    <tr>\n",
       "      <td>9</td>\n",
       "      <td>0.426537</td>\n",
       "      <td>0.719210</td>\n",
       "      <td>0.550000</td>\n",
       "      <td>00:00</td>\n",
       "    </tr>\n",
       "  </tbody>\n",
       "</table>"
      ],
      "text/plain": [
       "<IPython.core.display.HTML object>"
      ]
     },
     "metadata": {},
     "output_type": "display_data"
    },
    {
     "name": "stdout",
     "output_type": "stream",
     "text": [
      "Better model found at epoch 0 with accuracy value: 0.6166666746139526.\n",
      "Better model found at epoch 4 with accuracy value: 0.6499999761581421.\n"
     ]
    },
    {
     "data": {
      "text/html": [
       "<table border=\"1\" class=\"dataframe\">\n",
       "  <thead>\n",
       "    <tr style=\"text-align: left;\">\n",
       "      <th>epoch</th>\n",
       "      <th>train_loss</th>\n",
       "      <th>valid_loss</th>\n",
       "      <th>accuracy</th>\n",
       "      <th>time</th>\n",
       "    </tr>\n",
       "  </thead>\n",
       "  <tbody>\n",
       "    <tr>\n",
       "      <td>0</td>\n",
       "      <td>0.886840</td>\n",
       "      <td>0.724567</td>\n",
       "      <td>0.327586</td>\n",
       "      <td>00:00</td>\n",
       "    </tr>\n",
       "    <tr>\n",
       "      <td>1</td>\n",
       "      <td>0.850111</td>\n",
       "      <td>0.713989</td>\n",
       "      <td>0.293103</td>\n",
       "      <td>00:00</td>\n",
       "    </tr>\n",
       "    <tr>\n",
       "      <td>2</td>\n",
       "      <td>0.781294</td>\n",
       "      <td>0.691180</td>\n",
       "      <td>0.551724</td>\n",
       "      <td>00:00</td>\n",
       "    </tr>\n",
       "    <tr>\n",
       "      <td>3</td>\n",
       "      <td>0.721465</td>\n",
       "      <td>0.664047</td>\n",
       "      <td>0.672414</td>\n",
       "      <td>00:00</td>\n",
       "    </tr>\n",
       "    <tr>\n",
       "      <td>4</td>\n",
       "      <td>0.669679</td>\n",
       "      <td>0.633008</td>\n",
       "      <td>0.724138</td>\n",
       "      <td>00:00</td>\n",
       "    </tr>\n",
       "    <tr>\n",
       "      <td>5</td>\n",
       "      <td>0.625492</td>\n",
       "      <td>0.612915</td>\n",
       "      <td>0.741379</td>\n",
       "      <td>00:00</td>\n",
       "    </tr>\n",
       "    <tr>\n",
       "      <td>6</td>\n",
       "      <td>0.586114</td>\n",
       "      <td>0.597176</td>\n",
       "      <td>0.758621</td>\n",
       "      <td>00:00</td>\n",
       "    </tr>\n",
       "    <tr>\n",
       "      <td>7</td>\n",
       "      <td>0.552280</td>\n",
       "      <td>0.587111</td>\n",
       "      <td>0.775862</td>\n",
       "      <td>00:00</td>\n",
       "    </tr>\n",
       "    <tr>\n",
       "      <td>8</td>\n",
       "      <td>0.525600</td>\n",
       "      <td>0.581598</td>\n",
       "      <td>0.775862</td>\n",
       "      <td>00:00</td>\n",
       "    </tr>\n",
       "    <tr>\n",
       "      <td>9</td>\n",
       "      <td>0.501930</td>\n",
       "      <td>0.576065</td>\n",
       "      <td>0.775862</td>\n",
       "      <td>00:00</td>\n",
       "    </tr>\n",
       "  </tbody>\n",
       "</table>"
      ],
      "text/plain": [
       "<IPython.core.display.HTML object>"
      ]
     },
     "metadata": {},
     "output_type": "display_data"
    },
    {
     "name": "stdout",
     "output_type": "stream",
     "text": [
      "Better model found at epoch 0 with accuracy value: 0.32758620381355286.\n",
      "Better model found at epoch 2 with accuracy value: 0.5517241358757019.\n",
      "Better model found at epoch 3 with accuracy value: 0.6724137663841248.\n",
      "Better model found at epoch 4 with accuracy value: 0.7241379022598267.\n",
      "Better model found at epoch 5 with accuracy value: 0.7413793206214905.\n",
      "Better model found at epoch 6 with accuracy value: 0.7586206793785095.\n",
      "Better model found at epoch 7 with accuracy value: 0.7758620977401733.\n"
     ]
    },
    {
     "data": {
      "text/html": [
       "<table border=\"1\" class=\"dataframe\">\n",
       "  <thead>\n",
       "    <tr style=\"text-align: left;\">\n",
       "      <th>epoch</th>\n",
       "      <th>train_loss</th>\n",
       "      <th>valid_loss</th>\n",
       "      <th>accuracy</th>\n",
       "      <th>time</th>\n",
       "    </tr>\n",
       "  </thead>\n",
       "  <tbody>\n",
       "    <tr>\n",
       "      <td>0</td>\n",
       "      <td>0.691772</td>\n",
       "      <td>0.673605</td>\n",
       "      <td>0.661017</td>\n",
       "      <td>00:00</td>\n",
       "    </tr>\n",
       "    <tr>\n",
       "      <td>1</td>\n",
       "      <td>0.672560</td>\n",
       "      <td>0.663970</td>\n",
       "      <td>0.644068</td>\n",
       "      <td>00:00</td>\n",
       "    </tr>\n",
       "    <tr>\n",
       "      <td>2</td>\n",
       "      <td>0.645115</td>\n",
       "      <td>0.644664</td>\n",
       "      <td>0.627119</td>\n",
       "      <td>00:00</td>\n",
       "    </tr>\n",
       "    <tr>\n",
       "      <td>3</td>\n",
       "      <td>0.606003</td>\n",
       "      <td>0.634567</td>\n",
       "      <td>0.677966</td>\n",
       "      <td>00:00</td>\n",
       "    </tr>\n",
       "    <tr>\n",
       "      <td>4</td>\n",
       "      <td>0.578103</td>\n",
       "      <td>0.617501</td>\n",
       "      <td>0.677966</td>\n",
       "      <td>00:00</td>\n",
       "    </tr>\n",
       "    <tr>\n",
       "      <td>5</td>\n",
       "      <td>0.539713</td>\n",
       "      <td>0.598838</td>\n",
       "      <td>0.711864</td>\n",
       "      <td>00:00</td>\n",
       "    </tr>\n",
       "    <tr>\n",
       "      <td>6</td>\n",
       "      <td>0.512794</td>\n",
       "      <td>0.596975</td>\n",
       "      <td>0.728814</td>\n",
       "      <td>00:00</td>\n",
       "    </tr>\n",
       "    <tr>\n",
       "      <td>7</td>\n",
       "      <td>0.487732</td>\n",
       "      <td>0.602292</td>\n",
       "      <td>0.745763</td>\n",
       "      <td>00:00</td>\n",
       "    </tr>\n",
       "    <tr>\n",
       "      <td>8</td>\n",
       "      <td>0.471275</td>\n",
       "      <td>0.609925</td>\n",
       "      <td>0.745763</td>\n",
       "      <td>00:00</td>\n",
       "    </tr>\n",
       "    <tr>\n",
       "      <td>9</td>\n",
       "      <td>0.456656</td>\n",
       "      <td>0.612596</td>\n",
       "      <td>0.745763</td>\n",
       "      <td>00:00</td>\n",
       "    </tr>\n",
       "  </tbody>\n",
       "</table>"
      ],
      "text/plain": [
       "<IPython.core.display.HTML object>"
      ]
     },
     "metadata": {},
     "output_type": "display_data"
    },
    {
     "name": "stdout",
     "output_type": "stream",
     "text": [
      "Better model found at epoch 0 with accuracy value: 0.6610169410705566.\n",
      "Better model found at epoch 3 with accuracy value: 0.6779661178588867.\n",
      "Better model found at epoch 5 with accuracy value: 0.7118644118309021.\n",
      "Better model found at epoch 6 with accuracy value: 0.7288135886192322.\n",
      "Better model found at epoch 7 with accuracy value: 0.7457627058029175.\n"
     ]
    }
   ],
   "source": [
    "#hide_output\n",
    "train_df = df[df['fold']!= 4].reset_index(drop=True)\n",
    "train_df = train_df[~train_df['id'].isin([281, 134, 7])].reset_index(drop=True)\n",
    "test_df = df[df['fold']== 4].reset_index(drop=True)\n",
    "\n",
    "for i in range(4):\n",
    "\n",
    "    dls, tabdf = get_tabpandas_dls(i, train_df, procs, cat_names, cont_names, y_names, 32)\n",
    "    emb_szs = get_emb_sz(tabdf)\n",
    "    learn = tabular_learner(dls, [100,50], \n",
    "                            metrics=accuracy, \n",
    "                            cbs=[SaveModelCallback(monitor='accuracy', \n",
    "                                                   fname=f'tab_f3pt_meds_{i}')])\n",
    "    \n",
    "    learn.fit_one_cycle(10, 0.002)"
   ]
  },
  {
   "cell_type": "code",
   "execution_count": null,
   "metadata": {},
   "outputs": [],
   "source": [
    "test_df = test_df[test_df['metoprolol'] != 2]\n",
    "test_df = test_df[test_df['simvastatin'] != 2].reset_index(drop=True)"
   ]
  },
  {
   "cell_type": "code",
   "execution_count": null,
   "metadata": {},
   "outputs": [
    {
     "name": "stderr",
     "output_type": "stream",
     "text": [
      "/usr/local/lib/python3.7/dist-packages/fastai/learner.py:56: UserWarning: Saved filed doesn't contain an optimizer state.\n",
      "  elif with_opt: warn(\"Saved filed doesn't contain an optimizer state.\")\n"
     ]
    },
    {
     "data": {
      "text/html": [
       ""
      ],
      "text/plain": [
       "<IPython.core.display.HTML object>"
      ]
     },
     "metadata": {},
     "output_type": "display_data"
    },
    {
     "name": "stderr",
     "output_type": "stream",
     "text": [
      "/usr/local/lib/python3.7/dist-packages/fastai/learner.py:56: UserWarning: Saved filed doesn't contain an optimizer state.\n",
      "  elif with_opt: warn(\"Saved filed doesn't contain an optimizer state.\")\n"
     ]
    },
    {
     "data": {
      "text/html": [
       ""
      ],
      "text/plain": [
       "<IPython.core.display.HTML object>"
      ]
     },
     "metadata": {},
     "output_type": "display_data"
    },
    {
     "name": "stderr",
     "output_type": "stream",
     "text": [
      "/usr/local/lib/python3.7/dist-packages/fastai/learner.py:56: UserWarning: Saved filed doesn't contain an optimizer state.\n",
      "  elif with_opt: warn(\"Saved filed doesn't contain an optimizer state.\")\n"
     ]
    },
    {
     "data": {
      "text/html": [
       ""
      ],
      "text/plain": [
       "<IPython.core.display.HTML object>"
      ]
     },
     "metadata": {},
     "output_type": "display_data"
    },
    {
     "name": "stderr",
     "output_type": "stream",
     "text": [
      "/usr/local/lib/python3.7/dist-packages/fastai/learner.py:56: UserWarning: Saved filed doesn't contain an optimizer state.\n",
      "  elif with_opt: warn(\"Saved filed doesn't contain an optimizer state.\")\n"
     ]
    },
    {
     "data": {
      "text/html": [
       ""
      ],
      "text/plain": [
       "<IPython.core.display.HTML object>"
      ]
     },
     "metadata": {},
     "output_type": "display_data"
    }
   ],
   "source": [
    "#hide_output\n",
    "test_df = test_df[~test_df['id'].isin([299,67,255])].reset_index(drop=True)\n",
    "test_dl = dls.test_dl(test_df)\n",
    "preds = []\n",
    "for i in range(4):\n",
    "    dls, tabdf = get_tabpandas_dls(i, train_df, procs, cat_names, cont_names, y_names, 32)\n",
    "    emb_szs = get_emb_sz(tabdf)\n",
    "    learn = tabular_learner(dls, [100,50], \n",
    "                        metrics=accuracy, \n",
    "                        cbs=[SaveModelCallback(monitor='accuracy')])\n",
    "    \n",
    "    learn.load(f'tab_f3pt_meds_{i}')\n",
    "    pred, y_pred = learn.get_preds(dl=test_dl)\n",
    "    preds.append(pred)\n",
    "  \n",
    "y_true = test_dl.y.values\n",
    "y_pred = np.array(torch.argmax(torch.stack(preds).mean(0),1))"
   ]
  },
  {
   "cell_type": "code",
   "execution_count": null,
   "metadata": {},
   "outputs": [
    {
     "name": "stdout",
     "output_type": "stream",
     "text": [
      "5-fold accuracy score: 0.69\n",
      "5-fold recall score: 0.53\n",
      "5-fold precision score: 0.56\n"
     ]
    }
   ],
   "source": [
    "#hide\n",
    "print(f'5-fold accuracy score: {accuracy_score(y_true, y_pred):.2f}')\n",
    "print(f'5-fold recall score: {recall_score(y_true, y_pred):.2f}')\n",
    "print(f'5-fold precision score: {precision_score(y_true, y_pred):.2f}')"
   ]
  },
  {
   "cell_type": "code",
   "execution_count": null,
   "metadata": {},
   "outputs": [
    {
     "data": {
      "text/plain": [
       "<matplotlib.axes._subplots.AxesSubplot at 0x7f111379cc90>"
      ]
     },
     "execution_count": null,
     "metadata": {},
     "output_type": "execute_result"
    },
    {
     "data": {
      "image/png": "[encoded data removed]",
      "text/plain": [
       "<Figure size 432x288 with 2 Axes>"
      ]
     },
     "metadata": {
      "needs_background": "light"
     },
     "output_type": "display_data"
    }
   ],
   "source": [
    "#hide_input\n",
    "sns.heatmap(confusion_matrix(y_true, y_pred), annot=True, cmap='Blues')"
   ]
  },
  {
   "cell_type": "markdown",
   "metadata": {},
   "source": [
    "## n_setpoints SAINT TabularModel"
   ]
  },
  {
   "cell_type": "markdown",
   "metadata": {},
   "source": [
    "### 2_setpoints "
   ]
  },
  {
   "cell_type": "code",
   "execution_count": null,
   "metadata": {},
   "outputs": [],
   "source": [
    "config = {'cont_embeddings':'MLP',\n",
    "          'embedding_size':32,\n",
    "          'transformer_depth':1,\n",
    "          'attention_heads':8,\n",
    "          'attention_dropout':0.1,\n",
    "          'ff_dropout':0.8,\n",
    "          'attentiontype':'colrow',\n",
    "          'lr':0.0001,\n",
    "          'pretrain_epochs':30,\n",
    "          'epochs':15,\n",
    "          'batchsize':256,\n",
    "          'pt_tasks':['contrastive','denoising'],\n",
    "          'pt_aug':['mixup', 'cutmix',],\n",
    "          'pt_aug_lam':0.1,\n",
    "          'mixup_lam':0.3,\n",
    "          'train_mask_prob':0,\n",
    "          'mask_prob':0,\n",
    "          'pt_projhead_style':'diff',\n",
    "          'nce_temp':0.7,\n",
    "          'lam0':0.5,\n",
    "          'lam1':10,\n",
    "          'lam2':1,\n",
    "          'lam3':10,\n",
    "          'final_mlp_style':'sep'}\n",
    "\n",
    "mask_params = {'mask_prob':config['train_mask_prob'],\n",
    "               'avail_train_y': 0,\n",
    "               'test_mask':config['train_mask_prob']}\n",
    "\n",
    "pt_mask_params = {'mask_prob':0,\n",
    "                  'avail_train_y':0,\n",
    "                  'test_mask':0}"
   ]
  },
  {
   "cell_type": "code",
   "execution_count": null,
   "metadata": {},
   "outputs": [
    {
     "name": "stdout",
     "output_type": "stream",
     "text": [
      "____________________Fold: 0_______________________\n",
      "Found new best model with accuracy of 66.66667175292969 : Epoch 0\n",
      "Epoch: 0, Train Loss: 0.6470, Valid Loss: 0.6362, Valid Acc: 66.67\n",
      "Epoch: 1, Train Loss: 0.6309, Valid Loss: 0.6248, Valid Acc: 66.67\n",
      "Epoch: 2, Train Loss: 0.6166, Valid Loss: 0.6232, Valid Acc: 66.67\n",
      "Epoch: 3, Train Loss: 0.5966, Valid Loss: 0.6182, Valid Acc: 66.67\n",
      "Epoch: 4, Train Loss: 0.5669, Valid Loss: 0.6199, Valid Acc: 66.67\n",
      "Epoch: 5, Train Loss: 0.5730, Valid Loss: 0.6260, Valid Acc: 63.33\n",
      "Epoch: 6, Train Loss: 0.5500, Valid Loss: 0.6381, Valid Acc: 65.00\n",
      "Epoch: 7, Train Loss: 0.5492, Valid Loss: 0.6445, Valid Acc: 63.33\n",
      "Epoch: 8, Train Loss: 0.5141, Valid Loss: 0.6632, Valid Acc: 56.67\n",
      "Epoch: 9, Train Loss: 0.4994, Valid Loss: 0.6600, Valid Acc: 66.67\n",
      "Epoch: 10, Train Loss: 0.4736, Valid Loss: 0.6639, Valid Acc: 63.33\n",
      "Epoch: 11, Train Loss: 0.4260, Valid Loss: 0.6698, Valid Acc: 61.67\n",
      "Epoch: 12, Train Loss: 0.4102, Valid Loss: 0.6844, Valid Acc: 65.00\n",
      "Epoch: 13, Train Loss: 0.4044, Valid Loss: 0.7013, Valid Acc: 65.00\n",
      "Epoch: 14, Train Loss: 0.3660, Valid Loss: 0.7509, Valid Acc: 61.67\n",
      "____________________Fold: 1_______________________\n",
      "Found new best model with accuracy of 66.66667175292969 : Epoch 0\n",
      "Epoch: 0, Train Loss: 0.6391, Valid Loss: 0.6355, Valid Acc: 66.67\n",
      "Epoch: 1, Train Loss: 0.6428, Valid Loss: 0.6394, Valid Acc: 66.67\n",
      "Epoch: 2, Train Loss: 0.6268, Valid Loss: 0.6301, Valid Acc: 66.67\n",
      "Epoch: 3, Train Loss: 0.6100, Valid Loss: 0.6164, Valid Acc: 66.67\n",
      "Epoch: 4, Train Loss: 0.5939, Valid Loss: 0.6119, Valid Acc: 66.67\n",
      "Epoch: 5, Train Loss: 0.6013, Valid Loss: 0.6067, Valid Acc: 65.00\n",
      "Epoch: 6, Train Loss: 0.5895, Valid Loss: 0.6026, Valid Acc: 66.67\n",
      "Epoch: 7, Train Loss: 0.5691, Valid Loss: 0.6065, Valid Acc: 66.67\n",
      "Found new best model with accuracy of 68.33333587646484 : Epoch 8\n",
      "Epoch: 8, Train Loss: 0.5648, Valid Loss: 0.6114, Valid Acc: 68.33\n",
      "Epoch: 9, Train Loss: 0.5345, Valid Loss: 0.5976, Valid Acc: 65.00\n",
      "Epoch: 10, Train Loss: 0.5586, Valid Loss: 0.6099, Valid Acc: 68.33\n",
      "Epoch: 11, Train Loss: 0.5713, Valid Loss: 0.6378, Valid Acc: 60.00\n",
      "Epoch: 12, Train Loss: 0.4934, Valid Loss: 0.6145, Valid Acc: 66.67\n",
      "Epoch: 13, Train Loss: 0.5030, Valid Loss: 0.6048, Valid Acc: 65.00\n",
      "Found new best model with accuracy of 70.0 : Epoch 14\n",
      "Epoch: 14, Train Loss: 0.4985, Valid Loss: 0.6077, Valid Acc: 70.00\n",
      "____________________Fold: 2_______________________\n",
      "Found new best model with accuracy of 66.66667175292969 : Epoch 0\n",
      "Epoch: 0, Train Loss: 0.6834, Valid Loss: 0.6332, Valid Acc: 66.67\n",
      "Epoch: 1, Train Loss: 0.6579, Valid Loss: 0.6583, Valid Acc: 66.67\n",
      "Epoch: 2, Train Loss: 0.6565, Valid Loss: 0.6200, Valid Acc: 66.67\n",
      "Epoch: 3, Train Loss: 0.6113, Valid Loss: 0.6175, Valid Acc: 66.67\n",
      "Epoch: 4, Train Loss: 0.6075, Valid Loss: 0.6130, Valid Acc: 66.67\n",
      "Epoch: 5, Train Loss: 0.5873, Valid Loss: 0.6200, Valid Acc: 66.67\n",
      "Found new best model with accuracy of 68.33333587646484 : Epoch 6\n",
      "Epoch: 6, Train Loss: 0.5647, Valid Loss: 0.6129, Valid Acc: 68.33\n",
      "Epoch: 7, Train Loss: 0.5871, Valid Loss: 0.5976, Valid Acc: 68.33\n",
      "Epoch: 8, Train Loss: 0.5714, Valid Loss: 0.6051, Valid Acc: 68.33\n",
      "Epoch: 9, Train Loss: 0.5406, Valid Loss: 0.6152, Valid Acc: 68.33\n",
      "Epoch: 10, Train Loss: 0.5302, Valid Loss: 0.6149, Valid Acc: 68.33\n",
      "Found new best model with accuracy of 71.66666412353516 : Epoch 11\n",
      "Epoch: 11, Train Loss: 0.5084, Valid Loss: 0.5888, Valid Acc: 71.67\n",
      "Epoch: 12, Train Loss: 0.4994, Valid Loss: 0.6061, Valid Acc: 70.00\n",
      "Epoch: 13, Train Loss: 0.4992, Valid Loss: 0.5777, Valid Acc: 71.67\n",
      "Epoch: 14, Train Loss: 0.4893, Valid Loss: 0.5801, Valid Acc: 71.67\n",
      "____________________Fold: 3_______________________\n",
      "Found new best model with accuracy of 66.66667175292969 : Epoch 0\n",
      "Epoch: 0, Train Loss: 0.6624, Valid Loss: 0.6317, Valid Acc: 66.67\n",
      "Epoch: 1, Train Loss: 0.6406, Valid Loss: 0.6205, Valid Acc: 66.67\n",
      "Epoch: 2, Train Loss: 0.6305, Valid Loss: 0.6153, Valid Acc: 66.67\n",
      "Epoch: 3, Train Loss: 0.6004, Valid Loss: 0.6035, Valid Acc: 66.67\n",
      "Epoch: 4, Train Loss: 0.6157, Valid Loss: 0.5991, Valid Acc: 66.67\n",
      "Epoch: 5, Train Loss: 0.6013, Valid Loss: 0.5885, Valid Acc: 66.67\n",
      "Found new best model with accuracy of 78.33333587646484 : Epoch 6\n",
      "Epoch: 6, Train Loss: 0.6045, Valid Loss: 0.5883, Valid Acc: 78.33\n",
      "Epoch: 7, Train Loss: 0.5859, Valid Loss: 0.5746, Valid Acc: 68.33\n",
      "Epoch: 8, Train Loss: 0.5787, Valid Loss: 0.5643, Valid Acc: 78.33\n",
      "Epoch: 9, Train Loss: 0.5762, Valid Loss: 0.5583, Valid Acc: 76.67\n",
      "Epoch: 10, Train Loss: 0.5550, Valid Loss: 0.5555, Valid Acc: 78.33\n",
      "Epoch: 11, Train Loss: 0.5359, Valid Loss: 0.5487, Valid Acc: 76.67\n",
      "Epoch: 12, Train Loss: 0.5133, Valid Loss: 0.5464, Valid Acc: 76.67\n",
      "Epoch: 13, Train Loss: 0.5110, Valid Loss: 0.5333, Valid Acc: 71.67\n",
      "Epoch: 14, Train Loss: 0.5242, Valid Loss: 0.5469, Valid Acc: 75.00\n"
     ]
    }
   ],
   "source": [
    "#hide_output\n",
    "df = pd.read_csv('data/train_df_5f.csv')\n",
    "\n",
    "train_df = df[df['fold'] != 4].reset_index(drop=True)\n",
    "test_df = df[df['fold'] == 4].reset_index(drop=True)\n",
    "device = 'cpu'\n",
    "y_dim = 2\n",
    "\n",
    "for i in range(4):\n",
    "    print(f'____________________Fold: {i}_______________________')\n",
    "    dls, test_dl, tabdf, cat_dims, num_continuous, continuous_mean_std, y_dim = get_saint_nsp_dls(i, train_df, test_df, 200, 400, 650, 32)\n",
    "    model = get_saint_model(config, cat_dims, num_continuous, continuous_mean_std, y_dim)\n",
    "    output_fn =f'models/saint_2pt_{i}.pth'\n",
    "    training_saint(dls, model, config, cat_dims, output_fn, 'nspt')"
   ]
  },
  {
   "cell_type": "code",
   "execution_count": null,
   "metadata": {},
   "outputs": [],
   "source": [
    "#hide_output\n",
    "y_preds = []\n",
    "for i in range(4):\n",
    "    dls, test_dl, tabdf, cat_dims, num_continuous, continuous_mean_std, y_dim = get_saint_nsp_dls(i, train_df, test_df, 200, 400, 650, 32)\n",
    "    model = get_saint_model(config, cat_dims, num_continuous, continuous_mean_std, y_dim)\n",
    "    model.load_state_dict(torch.load(f'models/saint_2pt_{i}.pth'))\n",
    "\n",
    "    y_true, y_pred = test_saint(test_dl, model, 'nspt')\n",
    "    y_preds.append(y_pred)"
   ]
  },
  {
   "cell_type": "code",
   "execution_count": null,
   "metadata": {},
   "outputs": [
    {
     "name": "stdout",
     "output_type": "stream",
     "text": [
      "5-fold accuracy score: 0.68\n",
      "5-fold recall score: 0.25\n",
      "5-fold precision score: 0.56\n"
     ]
    }
   ],
   "source": [
    "#hide\n",
    "y_pred = torch.argmax(torch.stack(y_preds).mean(0), 1)\n",
    "print(f'5-fold accuracy score: {accuracy_score(y_true, y_pred):.2f}')\n",
    "print(f'5-fold recall score: {recall_score(y_true, y_pred):.2f}')\n",
    "print(f'5-fold precision score: {precision_score(y_true, y_pred):.2f}')"
   ]
  },
  {
   "cell_type": "code",
   "execution_count": null,
   "metadata": {},
   "outputs": [
    {
     "data": {
      "text/plain": [
       "<matplotlib.axes._subplots.AxesSubplot at 0x7f1113b8df90>"
      ]
     },
     "execution_count": null,
     "metadata": {},
     "output_type": "execute_result"
    },
    {
     "data": {
      "image/png": "[encoded data removed]",
      "text/plain": [
       "<Figure size 432x288 with 2 Axes>"
      ]
     },
     "metadata": {
      "needs_background": "light"
     },
     "output_type": "display_data"
    }
   ],
   "source": [
    "#hide_input\n",
    "sns.heatmap(confusion_matrix(y_true, y_pred), annot=True, cmap='Blues')"
   ]
  },
  {
   "cell_type": "markdown",
   "metadata": {},
   "source": [
    "### first_3_points"
   ]
  },
  {
   "cell_type": "code",
   "execution_count": null,
   "metadata": {},
   "outputs": [
    {
     "name": "stdout",
     "output_type": "stream",
     "text": [
      "____________________Fold: 0_______________________\n",
      "Found new best model with accuracy of 66.66667175292969 : Epoch 0\n",
      "Epoch: 0, Train Loss: 0.6734, Valid Loss: 0.6402, Valid Acc: 66.67\n",
      "Epoch: 1, Train Loss: 0.6476, Valid Loss: 0.6289, Valid Acc: 66.67\n",
      "Epoch: 2, Train Loss: 0.6209, Valid Loss: 0.6322, Valid Acc: 66.67\n",
      "Epoch: 3, Train Loss: 0.6149, Valid Loss: 0.6240, Valid Acc: 66.67\n",
      "Epoch: 4, Train Loss: 0.5753, Valid Loss: 0.6275, Valid Acc: 66.67\n",
      "Epoch: 5, Train Loss: 0.5676, Valid Loss: 0.6245, Valid Acc: 66.67\n",
      "Epoch: 6, Train Loss: 0.5730, Valid Loss: 0.6393, Valid Acc: 61.67\n",
      "Epoch: 7, Train Loss: 0.5606, Valid Loss: 0.6337, Valid Acc: 61.67\n",
      "Epoch: 8, Train Loss: 0.4914, Valid Loss: 0.6458, Valid Acc: 60.00\n",
      "Epoch: 9, Train Loss: 0.5059, Valid Loss: 0.6499, Valid Acc: 63.33\n",
      "Epoch: 10, Train Loss: 0.5228, Valid Loss: 0.6735, Valid Acc: 58.33\n",
      "Epoch: 11, Train Loss: 0.4791, Valid Loss: 0.6584, Valid Acc: 63.33\n",
      "Epoch: 12, Train Loss: 0.4628, Valid Loss: 0.6691, Valid Acc: 63.33\n",
      "Epoch: 13, Train Loss: 0.4397, Valid Loss: 0.6867, Valid Acc: 65.00\n",
      "Epoch: 14, Train Loss: 0.4633, Valid Loss: 0.7043, Valid Acc: 66.67\n",
      "____________________Fold: 1_______________________\n",
      "Found new best model with accuracy of 66.66667175292969 : Epoch 0\n",
      "Epoch: 0, Train Loss: 0.6749, Valid Loss: 0.6242, Valid Acc: 66.67\n",
      "Epoch: 1, Train Loss: 0.6770, Valid Loss: 0.6485, Valid Acc: 66.67\n",
      "Epoch: 2, Train Loss: 0.6178, Valid Loss: 0.6145, Valid Acc: 66.67\n",
      "Epoch: 3, Train Loss: 0.6174, Valid Loss: 0.6143, Valid Acc: 66.67\n",
      "Epoch: 4, Train Loss: 0.6068, Valid Loss: 0.6017, Valid Acc: 66.67\n",
      "Epoch: 5, Train Loss: 0.5927, Valid Loss: 0.5938, Valid Acc: 66.67\n",
      "Epoch: 6, Train Loss: 0.5542, Valid Loss: 0.5904, Valid Acc: 66.67\n",
      "Epoch: 7, Train Loss: 0.5913, Valid Loss: 0.5832, Valid Acc: 65.00\n",
      "Found new best model with accuracy of 68.33333587646484 : Epoch 8\n",
      "Epoch: 8, Train Loss: 0.5568, Valid Loss: 0.5915, Valid Acc: 68.33\n",
      "Epoch: 9, Train Loss: 0.5653, Valid Loss: 0.5832, Valid Acc: 66.67\n",
      "Found new best model with accuracy of 70.0 : Epoch 10\n",
      "Epoch: 10, Train Loss: 0.5171, Valid Loss: 0.5823, Valid Acc: 70.00\n",
      "Found new best model with accuracy of 71.66666412353516 : Epoch 11\n",
      "Epoch: 11, Train Loss: 0.5286, Valid Loss: 0.5800, Valid Acc: 71.67\n",
      "Epoch: 12, Train Loss: 0.4808, Valid Loss: 0.5810, Valid Acc: 66.67\n",
      "Epoch: 13, Train Loss: 0.4910, Valid Loss: 0.5823, Valid Acc: 71.67\n",
      "Epoch: 14, Train Loss: 0.5007, Valid Loss: 0.5882, Valid Acc: 66.67\n",
      "____________________Fold: 2_______________________\n",
      "Found new best model with accuracy of 66.66667175292969 : Epoch 0\n",
      "Epoch: 0, Train Loss: 0.6479, Valid Loss: 0.6315, Valid Acc: 66.67\n",
      "Epoch: 1, Train Loss: 0.6221, Valid Loss: 0.6241, Valid Acc: 66.67\n",
      "Epoch: 2, Train Loss: 0.6072, Valid Loss: 0.6206, Valid Acc: 66.67\n",
      "Epoch: 3, Train Loss: 0.5856, Valid Loss: 0.6163, Valid Acc: 66.67\n",
      "Found new best model with accuracy of 68.33333587646484 : Epoch 4\n",
      "Epoch: 4, Train Loss: 0.6033, Valid Loss: 0.6064, Valid Acc: 68.33\n",
      "Epoch: 5, Train Loss: 0.5849, Valid Loss: 0.6053, Valid Acc: 68.33\n",
      "Epoch: 6, Train Loss: 0.5603, Valid Loss: 0.6105, Valid Acc: 68.33\n",
      "Found new best model with accuracy of 70.0 : Epoch 7\n",
      "Epoch: 7, Train Loss: 0.5801, Valid Loss: 0.5821, Valid Acc: 70.00\n",
      "Epoch: 8, Train Loss: 0.5358, Valid Loss: 0.5857, Valid Acc: 70.00\n",
      "Epoch: 9, Train Loss: 0.5256, Valid Loss: 0.5927, Valid Acc: 70.00\n",
      "Epoch: 10, Train Loss: 0.5233, Valid Loss: 0.5637, Valid Acc: 70.00\n",
      "Epoch: 11, Train Loss: 0.5307, Valid Loss: 0.5802, Valid Acc: 70.00\n",
      "Found new best model with accuracy of 71.66666412353516 : Epoch 12\n",
      "Epoch: 12, Train Loss: 0.4978, Valid Loss: 0.5388, Valid Acc: 71.67\n",
      "Epoch: 13, Train Loss: 0.5053, Valid Loss: 0.5366, Valid Acc: 71.67\n",
      "Epoch: 14, Train Loss: 0.5123, Valid Loss: 0.5498, Valid Acc: 71.67\n",
      "____________________Fold: 3_______________________\n",
      "Found new best model with accuracy of 66.66667175292969 : Epoch 0\n",
      "Epoch: 0, Train Loss: 0.6423, Valid Loss: 0.6234, Valid Acc: 66.67\n",
      "Epoch: 1, Train Loss: 0.6281, Valid Loss: 0.6154, Valid Acc: 66.67\n",
      "Epoch: 2, Train Loss: 0.6378, Valid Loss: 0.6054, Valid Acc: 66.67\n",
      "Epoch: 3, Train Loss: 0.6242, Valid Loss: 0.6006, Valid Acc: 66.67\n",
      "Epoch: 4, Train Loss: 0.5984, Valid Loss: 0.5890, Valid Acc: 66.67\n",
      "Epoch: 5, Train Loss: 0.5950, Valid Loss: 0.5796, Valid Acc: 66.67\n",
      "Found new best model with accuracy of 71.66666412353516 : Epoch 6\n",
      "Epoch: 6, Train Loss: 0.6000, Valid Loss: 0.5706, Valid Acc: 71.67\n",
      "Found new best model with accuracy of 75.0 : Epoch 7\n",
      "Epoch: 7, Train Loss: 0.5853, Valid Loss: 0.5601, Valid Acc: 75.00\n",
      "Epoch: 8, Train Loss: 0.5846, Valid Loss: 0.5725, Valid Acc: 68.33\n",
      "Epoch: 9, Train Loss: 0.5512, Valid Loss: 0.5634, Valid Acc: 73.33\n",
      "Found new best model with accuracy of 78.33333587646484 : Epoch 10\n",
      "Epoch: 10, Train Loss: 0.5586, Valid Loss: 0.5609, Valid Acc: 78.33\n",
      "Epoch: 11, Train Loss: 0.5485, Valid Loss: 0.5664, Valid Acc: 78.33\n",
      "Epoch: 12, Train Loss: 0.5379, Valid Loss: 0.5553, Valid Acc: 71.67\n",
      "Epoch: 13, Train Loss: 0.5439, Valid Loss: 0.5728, Valid Acc: 76.67\n",
      "Epoch: 14, Train Loss: 0.4937, Valid Loss: 0.5573, Valid Acc: 71.67\n"
     ]
    }
   ],
   "source": [
    "#hide_output\n",
    "df = pd.read_csv('data/train_df_5f.csv')\n",
    "\n",
    "train_df = df[df['fold'] != 4].reset_index(drop=True)\n",
    "test_df = df[df['fold'] == 4].reset_index(drop=True)\n",
    "device = 'cpu'\n",
    "y_dim = 2\n",
    "\n",
    "for i in range(4):\n",
    "    print(f'____________________Fold: {i}_______________________')\n",
    "    dls, test_dl, tabdf, cat_dims, num_continuous, continuous_mean_std, y_dim = get_saint_nsp_dls(i, train_df, test_df, 200, 400, 650, 32)\n",
    "    model = get_saint_model(config, cat_dims, num_continuous, continuous_mean_std, y_dim)\n",
    "    output_fn =f'models/saint_f3pt_{i}.pth'\n",
    "    training_saint(dls, model, config, cat_dims, output_fn, 'fnpt')"
   ]
  },
  {
   "cell_type": "code",
   "execution_count": null,
   "metadata": {},
   "outputs": [],
   "source": [
    "#hide_output\n",
    "y_preds = []\n",
    "for i in range(4):\n",
    "    dls, test_dl, tabdf, cat_dims, num_continuous, continuous_mean_std, y_dim = get_saint_nsp_dls(i, train_df, test_df, 200, 400, 650, 32)\n",
    "    model = get_saint_model(config, cat_dims, num_continuous, continuous_mean_std, y_dim)\n",
    "    model.load_state_dict(torch.load(f'models/saint_f3pt_{i}.pth'))\n",
    "\n",
    "    y_true, y_pred = test_saint(test_dl, model, 'fnpt')\n",
    "    y_preds.append(y_pred)"
   ]
  },
  {
   "cell_type": "code",
   "execution_count": null,
   "metadata": {},
   "outputs": [
    {
     "name": "stdout",
     "output_type": "stream",
     "text": [
      "5-fold accuracy score: 0.68\n",
      "5-fold recall score: 0.30\n",
      "5-fold precision score: 0.55\n"
     ]
    }
   ],
   "source": [
    "#hide\n",
    "y_pred = torch.argmax(torch.stack(y_preds).mean(0), 1)\n",
    "print(f'5-fold accuracy score: {accuracy_score(y_true, y_pred):.2f}')\n",
    "print(f'5-fold recall score: {recall_score(y_true, y_pred):.2f}')\n",
    "print(f'5-fold precision score: {precision_score(y_true, y_pred):.2f}')"
   ]
  },
  {
   "cell_type": "code",
   "execution_count": null,
   "metadata": {},
   "outputs": [
    {
     "data": {
      "text/plain": [
       "<matplotlib.axes._subplots.AxesSubplot at 0x7f111ce2fd10>"
      ]
     },
     "execution_count": null,
     "metadata": {},
     "output_type": "execute_result"
    },
    {
     "data": {
      "image/png": "[encoded data removed]",
      "text/plain": [
       "<Figure size 432x288 with 2 Axes>"
      ]
     },
     "metadata": {
      "needs_background": "light"
     },
     "output_type": "display_data"
    }
   ],
   "source": [
    "#hide_input\n",
    "sns.heatmap(confusion_matrix(y_true, y_pred), annot=True, cmap='Blues')"
   ]
  }
 ],
 "metadata": {
  "kernelspec": {
   "display_name": "Python 3",
   "name": "python3"
  }
 },
 "nbformat": 4,
 "nbformat_minor": 0
}
